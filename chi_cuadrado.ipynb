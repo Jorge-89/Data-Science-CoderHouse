{
 "cells": [
  {
   "cell_type": "code",
   "execution_count": 8,
   "id": "11c90a5b",
   "metadata": {},
   "outputs": [
    {
     "data": {
      "text/html": [
       "<div>\n",
       "<style scoped>\n",
       "    .dataframe tbody tr th:only-of-type {\n",
       "        vertical-align: middle;\n",
       "    }\n",
       "\n",
       "    .dataframe tbody tr th {\n",
       "        vertical-align: top;\n",
       "    }\n",
       "\n",
       "    .dataframe thead th {\n",
       "        text-align: right;\n",
       "    }\n",
       "</style>\n",
       "<table border=\"1\" class=\"dataframe\">\n",
       "  <thead>\n",
       "    <tr style=\"text-align: right;\">\n",
       "      <th></th>\n",
       "      <th>Género</th>\n",
       "      <th>Grupo de Edad</th>\n",
       "      <th>Región</th>\n",
       "    </tr>\n",
       "  </thead>\n",
       "  <tbody>\n",
       "    <tr>\n",
       "      <th>0</th>\n",
       "      <td>Hombre</td>\n",
       "      <td>Joven</td>\n",
       "      <td>Norte</td>\n",
       "    </tr>\n",
       "    <tr>\n",
       "      <th>1</th>\n",
       "      <td>Mujer</td>\n",
       "      <td>Joven</td>\n",
       "      <td>Sur</td>\n",
       "    </tr>\n",
       "    <tr>\n",
       "      <th>2</th>\n",
       "      <td>Mujer</td>\n",
       "      <td>Adulto</td>\n",
       "      <td>Norte</td>\n",
       "    </tr>\n",
       "    <tr>\n",
       "      <th>3</th>\n",
       "      <td>Hombre</td>\n",
       "      <td>Adulto</td>\n",
       "      <td>Sur</td>\n",
       "    </tr>\n",
       "    <tr>\n",
       "      <th>4</th>\n",
       "      <td>Hombre</td>\n",
       "      <td>Adulto</td>\n",
       "      <td>Norte</td>\n",
       "    </tr>\n",
       "    <tr>\n",
       "      <th>5</th>\n",
       "      <td>Hombre</td>\n",
       "      <td>Adulto</td>\n",
       "      <td>Norte</td>\n",
       "    </tr>\n",
       "  </tbody>\n",
       "</table>\n",
       "</div>"
      ],
      "text/plain": [
       "   Género Grupo de Edad Región\n",
       "0  Hombre         Joven  Norte\n",
       "1   Mujer         Joven    Sur\n",
       "2   Mujer        Adulto  Norte\n",
       "3  Hombre        Adulto    Sur\n",
       "4  Hombre        Adulto  Norte\n",
       "5  Hombre        Adulto  Norte"
      ]
     },
     "execution_count": 8,
     "metadata": {},
     "output_type": "execute_result"
    }
   ],
   "source": [
    "import pandas as pd\n",
    "from scipy.stats import chi2_contingency\n",
    "\n",
    "# Crear un dataframe de ejemplo\n",
    "data = pd.DataFrame({\n",
    "    'Género': ['Hombre', 'Mujer', 'Mujer', 'Hombre', 'Hombre', 'Hombre'],\n",
    "    'Grupo de Edad': ['Joven', 'Joven', 'Adulto', 'Adulto', 'Adulto', 'Adulto'],\n",
    "    'Región': ['Norte', 'Sur', 'Norte', 'Sur', 'Norte', 'Norte']\n",
    "})\n",
    "\n",
    "\n",
    "\n",
    "data"
   ]
  },
  {
   "cell_type": "markdown",
   "id": "08f7b136",
   "metadata": {},
   "source": [
    "H0: No hay relación en las variables.\n",
    "hipotesis nula"
   ]
  },
  {
   "cell_type": "code",
   "execution_count": 13,
   "id": "3faa7145",
   "metadata": {},
   "outputs": [
    {
     "data": {
      "text/html": [
       "<div>\n",
       "<style scoped>\n",
       "    .dataframe tbody tr th:only-of-type {\n",
       "        vertical-align: middle;\n",
       "    }\n",
       "\n",
       "    .dataframe tbody tr th {\n",
       "        vertical-align: top;\n",
       "    }\n",
       "\n",
       "    .dataframe thead tr th {\n",
       "        text-align: left;\n",
       "    }\n",
       "\n",
       "    .dataframe thead tr:last-of-type th {\n",
       "        text-align: right;\n",
       "    }\n",
       "</style>\n",
       "<table border=\"1\" class=\"dataframe\">\n",
       "  <thead>\n",
       "    <tr>\n",
       "      <th>Grupo de Edad</th>\n",
       "      <th colspan=\"2\" halign=\"left\">Adulto</th>\n",
       "      <th colspan=\"2\" halign=\"left\">Joven</th>\n",
       "      <th>All</th>\n",
       "    </tr>\n",
       "    <tr>\n",
       "      <th>Región</th>\n",
       "      <th>Norte</th>\n",
       "      <th>Sur</th>\n",
       "      <th>Norte</th>\n",
       "      <th>Sur</th>\n",
       "      <th></th>\n",
       "    </tr>\n",
       "    <tr>\n",
       "      <th>Género</th>\n",
       "      <th></th>\n",
       "      <th></th>\n",
       "      <th></th>\n",
       "      <th></th>\n",
       "      <th></th>\n",
       "    </tr>\n",
       "  </thead>\n",
       "  <tbody>\n",
       "    <tr>\n",
       "      <th>Hombre</th>\n",
       "      <td>2</td>\n",
       "      <td>1</td>\n",
       "      <td>1</td>\n",
       "      <td>0</td>\n",
       "      <td>4</td>\n",
       "    </tr>\n",
       "    <tr>\n",
       "      <th>Mujer</th>\n",
       "      <td>1</td>\n",
       "      <td>0</td>\n",
       "      <td>0</td>\n",
       "      <td>1</td>\n",
       "      <td>2</td>\n",
       "    </tr>\n",
       "    <tr>\n",
       "      <th>All</th>\n",
       "      <td>3</td>\n",
       "      <td>1</td>\n",
       "      <td>1</td>\n",
       "      <td>1</td>\n",
       "      <td>6</td>\n",
       "    </tr>\n",
       "  </tbody>\n",
       "</table>\n",
       "</div>"
      ],
      "text/plain": [
       "Grupo de Edad Adulto     Joven     All\n",
       "Región         Norte Sur Norte Sur    \n",
       "Género                                \n",
       "Hombre             2   1     1   0   4\n",
       "Mujer              1   0     0   1   2\n",
       "All                3   1     1   1   6"
      ]
     },
     "execution_count": 13,
     "metadata": {},
     "output_type": "execute_result"
    }
   ],
   "source": [
    "# Crear una tabla de contingencia\n",
    "tabla_contingencia_observados = pd.crosstab(data['Género'], [data['Grupo de Edad'], data['Región']], margins=True)\n",
    "tabla_contingencia_observados"
   ]
  },
  {
   "cell_type": "code",
   "execution_count": 14,
   "id": "7d3a1398",
   "metadata": {},
   "outputs": [
    {
     "data": {
      "text/plain": [
       "(3.0000000000000004,\n",
       " 0.3916251762710888,\n",
       " 3,\n",
       " array([[2.        , 0.66666667, 0.66666667, 0.66666667],\n",
       "        [1.        , 0.33333333, 0.33333333, 0.33333333]]))"
      ]
     },
     "execution_count": 14,
     "metadata": {},
     "output_type": "execute_result"
    }
   ],
   "source": [
    "test=chi2_contingency(tabla_contingencia)\n",
    "test\n",
    "\n",
    "# primer elemento es el estadistico la diferencia de los elementos al cuadrado\n",
    "\n",
    "# el segundo es el p-value\n",
    "\n",
    "# luego una tabla de los valores esperados"
   ]
  },
  {
   "cell_type": "code",
   "execution_count": 37,
   "id": "f4962c9a",
   "metadata": {},
   "outputs": [
    {
     "data": {
      "text/html": [
       "<div>\n",
       "<style scoped>\n",
       "    .dataframe tbody tr th:only-of-type {\n",
       "        vertical-align: middle;\n",
       "    }\n",
       "\n",
       "    .dataframe tbody tr th {\n",
       "        vertical-align: top;\n",
       "    }\n",
       "\n",
       "    .dataframe thead th {\n",
       "        text-align: right;\n",
       "    }\n",
       "</style>\n",
       "<table border=\"1\" class=\"dataframe\">\n",
       "  <thead>\n",
       "    <tr style=\"text-align: right;\">\n",
       "      <th></th>\n",
       "      <th>0</th>\n",
       "      <th>1</th>\n",
       "      <th>2</th>\n",
       "      <th>3</th>\n",
       "    </tr>\n",
       "  </thead>\n",
       "  <tbody>\n",
       "    <tr>\n",
       "      <th>0</th>\n",
       "      <td>2.0</td>\n",
       "      <td>0.666667</td>\n",
       "      <td>0.666667</td>\n",
       "      <td>0.666667</td>\n",
       "    </tr>\n",
       "    <tr>\n",
       "      <th>1</th>\n",
       "      <td>1.0</td>\n",
       "      <td>0.333333</td>\n",
       "      <td>0.333333</td>\n",
       "      <td>0.333333</td>\n",
       "    </tr>\n",
       "  </tbody>\n",
       "</table>\n",
       "</div>"
      ],
      "text/plain": [
       "     0         1         2         3\n",
       "0  2.0  0.666667  0.666667  0.666667\n",
       "1  1.0  0.333333  0.333333  0.333333"
      ]
     },
     "execution_count": 37,
     "metadata": {},
     "output_type": "execute_result"
    }
   ],
   "source": [
    "esperados= pd.DataFrame(test[3])\n",
    "esperados\n",
    "\n",
    "# valores teoricos esperados sino hubiera relación "
   ]
  },
  {
   "cell_type": "code",
   "execution_count": 32,
   "id": "2e500d25",
   "metadata": {},
   "outputs": [
    {
     "data": {
      "text/html": [
       "<div>\n",
       "<style scoped>\n",
       "    .dataframe tbody tr th:only-of-type {\n",
       "        vertical-align: middle;\n",
       "    }\n",
       "\n",
       "    .dataframe tbody tr th {\n",
       "        vertical-align: top;\n",
       "    }\n",
       "\n",
       "    .dataframe thead tr th {\n",
       "        text-align: left;\n",
       "    }\n",
       "\n",
       "    .dataframe thead tr:last-of-type th {\n",
       "        text-align: right;\n",
       "    }\n",
       "</style>\n",
       "<table border=\"1\" class=\"dataframe\">\n",
       "  <thead>\n",
       "    <tr>\n",
       "      <th>Grupo de Edad</th>\n",
       "      <th colspan=\"2\" halign=\"left\">Adulto</th>\n",
       "      <th colspan=\"2\" halign=\"left\">Joven</th>\n",
       "      <th>All</th>\n",
       "    </tr>\n",
       "    <tr>\n",
       "      <th>Región</th>\n",
       "      <th>Norte</th>\n",
       "      <th>Sur</th>\n",
       "      <th>Norte</th>\n",
       "      <th>Sur</th>\n",
       "      <th></th>\n",
       "    </tr>\n",
       "    <tr>\n",
       "      <th>Género</th>\n",
       "      <th></th>\n",
       "      <th></th>\n",
       "      <th></th>\n",
       "      <th></th>\n",
       "      <th></th>\n",
       "    </tr>\n",
       "  </thead>\n",
       "  <tbody>\n",
       "    <tr>\n",
       "      <th>Hombre</th>\n",
       "      <td>33.3</td>\n",
       "      <td>16.7</td>\n",
       "      <td>16.7</td>\n",
       "      <td>0.0</td>\n",
       "      <td>66.7</td>\n",
       "    </tr>\n",
       "    <tr>\n",
       "      <th>Mujer</th>\n",
       "      <td>16.7</td>\n",
       "      <td>0.0</td>\n",
       "      <td>0.0</td>\n",
       "      <td>16.7</td>\n",
       "      <td>33.3</td>\n",
       "    </tr>\n",
       "    <tr>\n",
       "      <th>All</th>\n",
       "      <td>50.0</td>\n",
       "      <td>16.7</td>\n",
       "      <td>16.7</td>\n",
       "      <td>16.7</td>\n",
       "      <td>100.0</td>\n",
       "    </tr>\n",
       "  </tbody>\n",
       "</table>\n",
       "</div>"
      ],
      "text/plain": [
       "Grupo de Edad Adulto       Joven          All\n",
       "Región         Norte   Sur Norte   Sur       \n",
       "Género                                       \n",
       "Hombre          33.3  16.7  16.7   0.0   66.7\n",
       "Mujer           16.7   0.0   0.0  16.7   33.3\n",
       "All             50.0  16.7  16.7  16.7  100.0"
      ]
     },
     "execution_count": 32,
     "metadata": {},
     "output_type": "execute_result"
    }
   ],
   "source": [
    "# Transformar los datos en porcentaje\n",
    "Obser_relativos = tabla_contingencia_observados.apply(lambda x: round((x / len(data)) * 100,1), axis=1)\n",
    "\n",
    "# Imprimir los datos en porcentaje\n",
    "Obser_relativos "
   ]
  },
  {
   "cell_type": "code",
   "execution_count": 28,
   "id": "90fea87b",
   "metadata": {},
   "outputs": [
    {
     "data": {
      "text/html": [
       "<div>\n",
       "<style scoped>\n",
       "    .dataframe tbody tr th:only-of-type {\n",
       "        vertical-align: middle;\n",
       "    }\n",
       "\n",
       "    .dataframe tbody tr th {\n",
       "        vertical-align: top;\n",
       "    }\n",
       "\n",
       "    .dataframe thead tr th {\n",
       "        text-align: left;\n",
       "    }\n",
       "\n",
       "    .dataframe thead tr:last-of-type th {\n",
       "        text-align: right;\n",
       "    }\n",
       "</style>\n",
       "<table border=\"1\" class=\"dataframe\">\n",
       "  <thead>\n",
       "    <tr>\n",
       "      <th>Grupo de Edad</th>\n",
       "      <th colspan=\"2\" halign=\"left\">Adulto</th>\n",
       "      <th colspan=\"2\" halign=\"left\">Joven</th>\n",
       "      <th>All</th>\n",
       "    </tr>\n",
       "    <tr>\n",
       "      <th>Región</th>\n",
       "      <th>Norte</th>\n",
       "      <th>Sur</th>\n",
       "      <th>Norte</th>\n",
       "      <th>Sur</th>\n",
       "      <th></th>\n",
       "    </tr>\n",
       "    <tr>\n",
       "      <th>Género</th>\n",
       "      <th></th>\n",
       "      <th></th>\n",
       "      <th></th>\n",
       "      <th></th>\n",
       "      <th></th>\n",
       "    </tr>\n",
       "  </thead>\n",
       "  <tbody>\n",
       "    <tr>\n",
       "      <th>Hombre</th>\n",
       "      <td>33.3</td>\n",
       "      <td>16.7</td>\n",
       "      <td>16.7</td>\n",
       "      <td>0.0</td>\n",
       "      <td>66.7</td>\n",
       "    </tr>\n",
       "    <tr>\n",
       "      <th>Mujer</th>\n",
       "      <td>16.7</td>\n",
       "      <td>0.0</td>\n",
       "      <td>0.0</td>\n",
       "      <td>16.7</td>\n",
       "      <td>33.3</td>\n",
       "    </tr>\n",
       "    <tr>\n",
       "      <th>All</th>\n",
       "      <td>50.0</td>\n",
       "      <td>16.7</td>\n",
       "      <td>16.7</td>\n",
       "      <td>16.7</td>\n",
       "      <td>100.0</td>\n",
       "    </tr>\n",
       "  </tbody>\n",
       "</table>\n",
       "</div>"
      ],
      "text/plain": [
       "Grupo de Edad Adulto       Joven          All\n",
       "Región         Norte   Sur Norte   Sur       \n",
       "Género                                       \n",
       "Hombre          33.3  16.7  16.7   0.0   66.7\n",
       "Mujer           16.7   0.0   0.0  16.7   33.3\n",
       "All             50.0  16.7  16.7  16.7  100.0"
      ]
     },
     "execution_count": 28,
     "metadata": {},
     "output_type": "execute_result"
    }
   ],
   "source": [
    "def porcentaje(x):\n",
    "    return round(100*(x/len(data)),1)\n",
    "\n",
    "Obser_relativos2= tabla_contingencia_observados.apply(porcentaje)\n",
    "Obser_relativos2"
   ]
  },
  {
   "cell_type": "code",
   "execution_count": 39,
   "id": "418bdd36",
   "metadata": {},
   "outputs": [
    {
     "data": {
      "text/html": [
       "<div>\n",
       "<style scoped>\n",
       "    .dataframe tbody tr th:only-of-type {\n",
       "        vertical-align: middle;\n",
       "    }\n",
       "\n",
       "    .dataframe tbody tr th {\n",
       "        vertical-align: top;\n",
       "    }\n",
       "\n",
       "    .dataframe thead th {\n",
       "        text-align: right;\n",
       "    }\n",
       "</style>\n",
       "<table border=\"1\" class=\"dataframe\">\n",
       "  <thead>\n",
       "    <tr style=\"text-align: right;\">\n",
       "      <th></th>\n",
       "      <th>0</th>\n",
       "      <th>1</th>\n",
       "      <th>2</th>\n",
       "      <th>3</th>\n",
       "    </tr>\n",
       "  </thead>\n",
       "  <tbody>\n",
       "    <tr>\n",
       "      <th>0</th>\n",
       "      <td>33.3</td>\n",
       "      <td>11.1</td>\n",
       "      <td>11.1</td>\n",
       "      <td>11.1</td>\n",
       "    </tr>\n",
       "    <tr>\n",
       "      <th>1</th>\n",
       "      <td>16.7</td>\n",
       "      <td>5.6</td>\n",
       "      <td>5.6</td>\n",
       "      <td>5.6</td>\n",
       "    </tr>\n",
       "  </tbody>\n",
       "</table>\n",
       "</div>"
      ],
      "text/plain": [
       "      0     1     2     3\n",
       "0  33.3  11.1  11.1  11.1\n",
       "1  16.7   5.6   5.6   5.6"
      ]
     },
     "execution_count": 39,
     "metadata": {},
     "output_type": "execute_result"
    }
   ],
   "source": [
    "# Transformar los datos en porcentaje\n",
    "esperados_relativos = esperados.apply(lambda x: round((x / len(data)) * 100,1), axis=1)\n",
    "\n",
    "# Imprimir los datos en porcentaje\n",
    "esperados_relativos "
   ]
  },
  {
   "cell_type": "code",
   "execution_count": null,
   "id": "b85ae823",
   "metadata": {},
   "outputs": [],
   "source": [
    "# el test nos ayuda a saber si por ejemplo 16.6 es suficientemente más grande que 11.11, nosotros no sabemos si es much o poco\n",
    "# el test nos ofrece realizar comparaciones punto a punto y luego contsrarlas con una distribución chi cuadrada"
   ]
  },
  {
   "cell_type": "code",
   "execution_count": 27,
   "id": "3bfaa9fc",
   "metadata": {},
   "outputs": [
    {
     "name": "stdout",
     "output_type": "stream",
     "text": [
      "Estadístico de chi-cuadrado: 3.0000000000000004\n",
      "Valor p: 0.3916251762710888\n",
      "Grados de libertad: 3\n",
      "Frecuencias esperadas:\n",
      " [[2.         0.66666667 0.66666667 0.66666667]\n",
      " [1.         0.33333333 0.33333333 0.33333333]]\n"
     ]
    }
   ],
   "source": [
    "# Realizar la prueba de chi-cuadrado\n",
    "chi2, p_valor, grados_libertad, esperados = chi2_contingency(tabla_contingencia)\n",
    "\n",
    "# Imprimir los resultados\n",
    "print(\"Estadístico de chi-cuadrado:\", chi2)\n",
    "print(\"Valor p:\", p_valor)\n",
    "print(\"Grados de libertad:\", grados_libertad)\n",
    "print(\"Frecuencias esperadas:\\n\", esperados)"
   ]
  },
  {
   "cell_type": "markdown",
   "id": "9b76f2e4",
   "metadata": {},
   "source": [
    "El p-value es una medida utilizada en estadística para cuantificar la evidencia en contra de la hipótesis nula. Representa la probabilidad de obtener un resultado igual o más extremo que el observado, asumiendo que la hipótesis nula es verdadera"
   ]
  },
  {
   "cell_type": "markdown",
   "id": "8f031033",
   "metadata": {},
   "source": [
    "Si el valor p es menor a 0.05, generalmente se considera que hay diferencias significativas en los datos. En otras palabras, si el valor p obtenido en una prueba estadística es menor a 0.05, se concluye que hay evidencia estadística significativa para rechazar la hipótesis nula y afirmar que existe una asociación o relación en los datos"
   ]
  },
  {
   "cell_type": "code",
   "execution_count": null,
   "id": "76a669c1",
   "metadata": {},
   "outputs": [],
   "source": []
  }
 ],
 "metadata": {
  "kernelspec": {
   "display_name": "Python 3 (ipykernel)",
   "language": "python",
   "name": "python3"
  },
  "language_info": {
   "codemirror_mode": {
    "name": "ipython",
    "version": 3
   },
   "file_extension": ".py",
   "mimetype": "text/x-python",
   "name": "python",
   "nbconvert_exporter": "python",
   "pygments_lexer": "ipython3",
   "version": "3.9.12"
  }
 },
 "nbformat": 4,
 "nbformat_minor": 5
}
