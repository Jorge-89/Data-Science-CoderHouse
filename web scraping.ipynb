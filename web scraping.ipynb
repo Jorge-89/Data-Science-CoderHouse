{
  "nbformat": 4,
  "nbformat_minor": 0,
  "metadata": {
    "colab": {
      "name": "Untitled64.ipynb",
      "provenance": [],
      "mount_file_id": "17yraRyffecfn6Uyw05nCrv0C3iv83df-",
      "authorship_tag": "ABX9TyOko14FW+6HuQD58Xw/BRpv",
      "include_colab_link": true
    },
    "kernelspec": {
      "name": "python3",
      "display_name": "Python 3"
    },
    "language_info": {
      "name": "python"
    }
  },
  "cells": [
    {
      "cell_type": "markdown",
      "metadata": {
        "id": "view-in-github",
        "colab_type": "text"
      },
      "source": [
        "<a href=\"https://colab.research.google.com/github/Jorge-89/Data-Science-CoderHouse/blob/main/web%20scraping.ipynb\" target=\"_parent\"><img src=\"https://colab.research.google.com/assets/colab-badge.svg\" alt=\"Open In Colab\"/></a>"
      ]
    },
    {
      "cell_type": "code",
      "execution_count": null,
      "metadata": {
        "id": "Nl0mD_1iquYE"
      },
      "outputs": [],
      "source": [
        "import time\n",
        "import csv\n",
        "import pandas as pd  \n",
        "from urllib.request import urlopen as uReq\n",
        "from bs4 import BeautifulSoup as soup\n",
        "\n",
        "def ejecutaScript():\n",
        "\n",
        "\n",
        "\n",
        "    quotes_page='https://agromet.eeaoc.gob.ar/datos_online.php'\n",
        "    uClient= uReq(quotes_page)\n",
        "    page_html= uClient.read()\n",
        "    uClient.close()\n",
        "    page_soup= soup(page_html, \"html.parser\")\n",
        "    enlaces = page_soup.find_all('td')\n",
        "\n",
        "\n",
        "    \n",
        "    lista=[]\n",
        "\n",
        "    for i in enlaces:\n",
        "        lista.append(i.text)\n",
        "    lista=lista[10:]\n",
        "\n",
        "\n",
        "    lista2=[]\n",
        "\n",
        "    contador=0\n",
        "\n",
        "    for i in range(36):\n",
        "        contador=contador+9\n",
        "        lista3=lista[contador:contador+9]\n",
        "        lista2.append(lista3)\n",
        "\n",
        "\n",
        "    datos= ['Estación','Temp. (°C)','Hum. Relat. (%)', 'Lluvia 24 hs (mm)', 'Presión (hPa)', 'Viento Med.(km/h)','Direcc. Viento', 'Ráfaga (km/h)', 'Fecha y hora']\n",
        "    zipped=[]\n",
        "    for i in lista2:\n",
        "        zipped.append(list(zip(datos,i)))\n",
        "\n",
        "\n",
        "\n",
        "\n",
        "\n",
        "    df=pd.DataFrame({'zipped':zipped})\n",
        "\n",
        "\n",
        "    \n",
        "    df.to_csv('/content/file2.txt',  mode='a', index=0)\n",
        "    #Aquí agregas en contenido de tu script o ejecutas el script dentro de un archivo .py.\n",
        "\n",
        "    time.sleep(1200)\n",
        "\n",
        "while True:\n",
        "    ejecutaScript()"
      ]
    },
    {
      "cell_type": "code",
      "source": [
        "import pandas as pd\n",
        "## CARGA DEL DATASET DE DATOS en google Drive\n",
        "from google.colab import drive\n",
        "drive.mount('/content/drive')\n",
        "DATASET_PATH = '/content/drive/MyDrive/Colab Notebooks/data/reviews_sentiment.gsheet'\n"
      ],
      "metadata": {
        "colab": {
          "base_uri": "https://localhost:8080/"
        },
        "id": "BJM_RqJXu8_o",
        "outputId": "aa14dbf0-daae-44f1-b496-40f38373e2aa"
      },
      "execution_count": 30,
      "outputs": [
        {
          "output_type": "stream",
          "name": "stdout",
          "text": [
            "Drive already mounted at /content/drive; to attempt to forcibly remount, call drive.mount(\"/content/drive\", force_remount=True).\n"
          ]
        }
      ]
    }
  ]
}