{
  "nbformat": 4,
  "nbformat_minor": 0,
  "metadata": {
    "colab": {
      "provenance": [],
      "authorship_tag": "ABX9TyOUHu4fJogJPqz+gTqNlUHb",
      "include_colab_link": true
    },
    "kernelspec": {
      "name": "python3",
      "display_name": "Python 3"
    },
    "language_info": {
      "name": "python"
    }
  },
  "cells": [
    {
      "cell_type": "markdown",
      "metadata": {
        "id": "view-in-github",
        "colab_type": "text"
      },
      "source": [
        "<a href=\"https://colab.research.google.com/github/Jorge-89/Data-Science-CoderHouse/blob/main/ejercicios%20python.ipynb\" target=\"_parent\"><img src=\"https://colab.research.google.com/assets/colab-badge.svg\" alt=\"Open In Colab\"/></a>"
      ]
    },
    {
      "cell_type": "markdown",
      "source": [
        "1) Indicar si una palabra es un [Palíndromo](https://es.wikipedia.org/wiki/Pal%C3%ADndromo) use las herramientas más básicas para resolverlo"
      ],
      "metadata": {
        "id": "bLQndyfrGcZD"
      }
    },
    {
      "cell_type": "code",
      "execution_count": null,
      "metadata": {
        "colab": {
          "base_uri": "https://localhost:8080/"
        },
        "id": "YTEWAd7OEhVu",
        "outputId": "0adcb418-ef66-40d7-99d4-8ca2366e7cdd"
      },
      "outputs": [
        {
          "name": "stdout",
          "output_type": "stream",
          "text": [
            "Inserte el string: oso\n"
          ]
        },
        {
          "output_type": "execute_result",
          "data": {
            "text/plain": [
              "True"
            ]
          },
          "metadata": {},
          "execution_count": 20
        }
      ],
      "source": [
        "s=str(input(\"Inserte el string: \"))\n",
        "lista=[]\n",
        "cont=0\n",
        "for i in s:\n",
        "    cont+=1\n",
        "    lista.append(s[-cont])\n",
        "''.join(lista)==s"
      ]
    },
    {
      "cell_type": "code",
      "source": [
        "#forma alternativa\n",
        "s=str(input(\"Inserte el string: \"))\n",
        "string=\"\"\n",
        "cont=0\n",
        "for i in s:\n",
        "    cont+=1\n",
        "    string+=(s[-cont])\n",
        "string==s"
      ],
      "metadata": {
        "id": "T5EMO6XUIcub"
      },
      "execution_count": null,
      "outputs": []
    },
    {
      "cell_type": "markdown",
      "source": [
        "2) Indicar si una FRASE o palabra es un [Palíndromo](https://es.wikipedia.org/wiki/Pal%C3%ADndromo) use las herramientas más básicas para resolverlo"
      ],
      "metadata": {
        "id": "jfL7J5lMI--4"
      }
    },
    {
      "cell_type": "code",
      "source": [
        "#forma alternativa\n",
        "s=\"amor a roma\"\n",
        "string=\"\"\n",
        "cont=0\n",
        "for i in s:\n",
        "    if s!=\" \":\n",
        "        cont+=1\n",
        "        string+=(s[-cont])\n",
        "    else:\n",
        "        cont+=1\n",
        "        string+=\" \"+(s[-cont])\n",
        "\n",
        "string==s"
      ],
      "metadata": {
        "colab": {
          "base_uri": "https://localhost:8080/"
        },
        "id": "QafbP8ebIxVj",
        "outputId": "046d4187-0ee6-4a99-e52f-ea19d5839413"
      },
      "execution_count": null,
      "outputs": [
        {
          "output_type": "execute_result",
          "data": {
            "text/plain": [
              "True"
            ]
          },
          "metadata": {},
          "execution_count": 37
        }
      ]
    },
    {
      "cell_type": "markdown",
      "source": [
        "3) Dividir 2 números sin usar el símbolo de división ni multiplicación. Revisar en google sobre divisiones a través de Restas Sucesivas"
      ],
      "metadata": {
        "id": "84NcFEQ7Khfy"
      }
    },
    {
      "cell_type": "code",
      "source": [
        "dividendo=int(input(\"Ingrese el dividendo: \"))\n",
        "divisor=int(input(\"Ingrese el divisor: \"))\n",
        "\n",
        "\n",
        "cont=0\n",
        "while dividendo >0:\n",
        "    cont+=1\n",
        "    dividendo-=divisor\n",
        "cont"
      ],
      "metadata": {
        "colab": {
          "base_uri": "https://localhost:8080/"
        },
        "id": "-0G1LgB1Kw8x",
        "outputId": "fdec0c98-b66f-4561-facb-d4ac0935dc40"
      },
      "execution_count": null,
      "outputs": [
        {
          "name": "stdout",
          "output_type": "stream",
          "text": [
            "Ingrese el dividendo: 80\n",
            "Ingrese el divisor: 2\n"
          ]
        },
        {
          "output_type": "execute_result",
          "data": {
            "text/plain": [
              "40"
            ]
          },
          "metadata": {},
          "execution_count": 43
        }
      ]
    },
    {
      "cell_type": "markdown",
      "source": [
        "4) Escriba una función que tome como parámetro de entrada una lista y devuelva el número mayor y menor en la misma, solo puede usar if y ciclos for o while."
      ],
      "metadata": {
        "id": "3dRfcblBOaLd"
      }
    },
    {
      "cell_type": "code",
      "source": [
        "lista=[4,1,5,80,9]\n",
        "\n",
        "cont=0\n",
        "menor=lista[0]\n",
        "mayor=lista[0]\n",
        "\n",
        "while cont<len(lista):\n",
        "\n",
        "    if lista[cont]<lista[cont+1]:\n",
        "        menor=lista[cont]\n",
        "    cont+=1\n",
        "menor\n"
      ],
      "metadata": {
        "colab": {
          "base_uri": "https://localhost:8080/"
        },
        "id": "XZRfsGn8OZA-",
        "outputId": "31000f1c-7654-49bd-b4b2-9fc31081aca9"
      },
      "execution_count": null,
      "outputs": [
        {
          "output_type": "execute_result",
          "data": {
            "text/plain": [
              "5"
            ]
          },
          "metadata": {},
          "execution_count": 50
        }
      ]
    },
    {
      "cell_type": "markdown",
      "source": [
        "5) Realizar una función para encontrar el menor y el mayor valor en una lista, solo puede usar if y ciclos for o while."
      ],
      "metadata": {
        "id": "B797NnvFV_hd"
      }
    },
    {
      "cell_type": "code",
      "source": [
        "def menor_mayor(lista):\n",
        "    menor = float('inf')\n",
        "    mayor = float('-inf')\n",
        "\n",
        "    for elemento in lista:\n",
        "        if elemento < menor:\n",
        "            menor = elemento\n",
        "\n",
        "        if elemento > mayor:\n",
        "            mayor = elemento\n",
        "\n",
        "    return menor, mayor\n",
        "\n",
        "resultado = menor_mayor([20, -8, 100, 45, 800])\n",
        "print(f\"El menor valor de la lista es: {resultado[0]}\")\n",
        "print(f\"El mayor valor de la lista es: {resultado[1]}\")\n",
        "\n",
        "\n"
      ],
      "metadata": {
        "colab": {
          "base_uri": "https://localhost:8080/"
        },
        "id": "5YOBFO5FQ9o6",
        "outputId": "2542ecc5-1e7a-4ee6-b787-080308bbf116"
      },
      "execution_count": 1,
      "outputs": [
        {
          "output_type": "stream",
          "name": "stdout",
          "text": [
            "El menor valor de la lista es: -8\n",
            "El mayor valor de la lista es: 800\n"
          ]
        }
      ]
    },
    {
      "cell_type": "code",
      "source": [
        "# solucion alternativa\n",
        "def menor_mayor(lista):\n",
        "    menor=lista[0]\n",
        "    mayor=lista[0]\n",
        "\n",
        "    for i in range(len(lista)):\n",
        "        if menor>lista[i]:\n",
        "            menor=lista[i]\n",
        "\n",
        "        elif mayor <lista[i]:\n",
        "            mayor= lista[i]\n",
        "\n",
        "    print(f\"el menor valor de la lista es: {menor}\")\n",
        "    print(f\"el mayor valor de la lista es: {mayor}\")\n",
        "\n",
        "menor_mayor([20,-8,100,45,800])\n",
        ""
      ],
      "metadata": {
        "id": "GUGM_LC_YGkI",
        "outputId": "9cc3dd6c-53f5-47be-f1e0-c0e1e18fb6d1",
        "colab": {
          "base_uri": "https://localhost:8080/"
        }
      },
      "execution_count": 2,
      "outputs": [
        {
          "output_type": "stream",
          "name": "stdout",
          "text": [
            "el menor valor de la lista es: -8\n",
            "el mayor valor de la lista es: 800\n"
          ]
        }
      ]
    }
  ]
}