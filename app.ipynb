{
  "nbformat": 4,
  "nbformat_minor": 0,
  "metadata": {
    "colab": {
      "name": "Untitled48.ipynb",
      "provenance": [],
      "authorship_tag": "ABX9TyPxcriMxZChAydMbz5Ip1Vh",
      "include_colab_link": true
    },
    "kernelspec": {
      "name": "python3",
      "display_name": "Python 3"
    },
    "language_info": {
      "name": "python"
    }
  },
  "cells": [
    {
      "cell_type": "markdown",
      "metadata": {
        "id": "view-in-github",
        "colab_type": "text"
      },
      "source": [
        "<a href=\"https://colab.research.google.com/github/Jorge-89/Data-Science-CoderHouse/blob/main/app.ipynb\" target=\"_parent\"><img src=\"https://colab.research.google.com/assets/colab-badge.svg\" alt=\"Open In Colab\"/></a>"
      ]
    },
    {
      "cell_type": "code",
      "execution_count": 1,
      "metadata": {
        "colab": {
          "base_uri": "https://localhost:8080/"
        },
        "id": "YgoIk2tFrreZ",
        "outputId": "c5259c77-edca-4db4-b9b0-d993d657f9f2"
      },
      "outputs": [
        {
          "output_type": "stream",
          "name": "stdout",
          "text": [
            " * Serving Flask app \"__main__\" (lazy loading)\n",
            " * Environment: production\n",
            "\u001b[31m   WARNING: This is a development server. Do not use it in a production deployment.\u001b[0m\n",
            "\u001b[2m   Use a production WSGI server instead.\u001b[0m\n",
            " * Debug mode: off\n"
          ]
        },
        {
          "output_type": "stream",
          "name": "stderr",
          "text": [
            " * Running on http://127.0.0.1:5000/ (Press CTRL+C to quit)\n"
          ]
        }
      ],
      "source": [
        "import numpy as np\n",
        "from flask import Flask, request, jsonify, render_template\n",
        "import pickle\n",
        "\n",
        "app = Flask(__name__)\n",
        "model = pickle.load(open('C:/Users\\jorge\\Downloads/modeloLineal (2).pkl', 'rb'))\n",
        "\n",
        "@app.route('/')\n",
        "def home():\n",
        "    return \"anda bien =)\"\n",
        "\n",
        "\n",
        "\n",
        "\n",
        "@app.route('/predict_api',methods=['POST'])\n",
        "def predict_api():\n",
        "    '''\n",
        "    For direct API calls trought request\n",
        "    '''\n",
        "    data = request.get_json(force=True)\n",
        "    prediction = model.predict([np.array(list(data.values()))])\n",
        "\n",
        "    output = prediction[0]\n",
        "    return jsonify(output)\n",
        "\n",
        "if __name__ == \"__main__\":\n",
        "\n",
        "    try:\n",
        "        app.run()\n",
        "    except:\n",
        "        print(\"Server temporalmente fuera de servicio. Conctactar al adminsitrador\")"
      ]
    },
    {
      "cell_type": "code",
      "source": [
        ""
      ],
      "metadata": {
        "id": "4iy5irxXslyj"
      },
      "execution_count": null,
      "outputs": []
    }
  ]
}