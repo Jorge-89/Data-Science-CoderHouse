{
  "nbformat": 4,
  "nbformat_minor": 0,
  "metadata": {
    "colab": {
      "name": "Untitled42.ipynb",
      "provenance": [],
      "toc_visible": true,
      "authorship_tag": "ABX9TyMGcRWCM2j3w8UC2oZBc930",
      "include_colab_link": true
    },
    "kernelspec": {
      "name": "python3",
      "display_name": "Python 3"
    },
    "language_info": {
      "name": "python"
    }
  },
  "cells": [
    {
      "cell_type": "markdown",
      "metadata": {
        "id": "view-in-github",
        "colab_type": "text"
      },
      "source": [
        "<a href=\"https://colab.research.google.com/github/Jorge-89/Data-Science-CoderHouse/blob/main/AED%20y%20Regresi%C3%B3n%20Lineal.ipynb\" target=\"_parent\"><img src=\"https://colab.research.google.com/assets/colab-badge.svg\" alt=\"Open In Colab\"/></a>"
      ]
    },
    {
      "cell_type": "markdown",
      "source": [
        "# Análisis Exploratorio de Datos"
      ],
      "metadata": {
        "id": "GnmWuxMRK9Lc"
      }
    },
    {
      "cell_type": "markdown",
      "source": [
        "Uno de los primeros pasos a la hora de realizar un proyecto que involucre el análisis de datos es explorar y visualizar los datos. El objetivo principal es obtener información sobre el contenido de los datos, ayudar a enmarcar las preguntas que haremos y detectar posibles vías para avanzar en las respuestas a estas preguntas."
      ],
      "metadata": {
        "id": "qv8F0CviLJlJ"
      }
    },
    {
      "cell_type": "code",
      "source": [
        "#se importan las librerias necesarias\n",
        "import pandas as pd\n",
        "import numpy as np\n",
        "import sklearn as sk\n",
        "import seaborn as sns\n",
        "import matplotlib.pyplot as plt"
      ],
      "metadata": {
        "id": "Tt6VawRRLQ1L"
      },
      "execution_count": 26,
      "outputs": []
    },
    {
      "cell_type": "code",
      "source": [
        "#se importa el set de datos\n",
        "url = 'https://raw.githubusercontent.com/Jorge-89/Data-Science-CoderHouse/main/base_datos_estaciones_met_V3.csv'\n",
        "df = pd.read_csv(url, sep=\";\")"
      ],
      "metadata": {
        "id": "pwcWtsGpLoa7"
      },
      "execution_count": 2,
      "outputs": []
    },
    {
      "cell_type": "code",
      "source": [
        "#se visualiza las primeras 5 filas\n",
        "df.head()"
      ],
      "metadata": {
        "colab": {
          "base_uri": "https://localhost:8080/",
          "height": 340
        },
        "id": "1oa_Na_fMmAq",
        "outputId": "075eb7be-d3a5-468a-8313-c5f3daf9c9da"
      },
      "execution_count": 3,
      "outputs": [
        {
          "output_type": "execute_result",
          "data": {
            "text/html": [
              "\n",
              "  <div id=\"df-0e94c4b6-5109-4703-b062-c46c1368e60f\">\n",
              "    <div class=\"colab-df-container\">\n",
              "      <div>\n",
              "<style scoped>\n",
              "    .dataframe tbody tr th:only-of-type {\n",
              "        vertical-align: middle;\n",
              "    }\n",
              "\n",
              "    .dataframe tbody tr th {\n",
              "        vertical-align: top;\n",
              "    }\n",
              "\n",
              "    .dataframe thead th {\n",
              "        text-align: right;\n",
              "    }\n",
              "</style>\n",
              "<table border=\"1\" class=\"dataframe\">\n",
              "  <thead>\n",
              "    <tr style=\"text-align: right;\">\n",
              "      <th></th>\n",
              "      <th>fecha_completa</th>\n",
              "      <th>Fecha</th>\n",
              "      <th>Hora</th>\n",
              "      <th>Temp_Alicia AgriculturaCba</th>\n",
              "      <th>Humedad_Alicia AgriculturaCba</th>\n",
              "      <th>PP_Alicia AgriculturaCba</th>\n",
              "      <th>Temp_Las Varas AgriculturaCba</th>\n",
              "      <th>Humedad_Las Varas AgriculturaCba</th>\n",
              "      <th>PP_Las Varas AgriculturaCba</th>\n",
              "      <th>Temp_San Miguel - Establecimiento Don Luis</th>\n",
              "      <th>Humedad_San Miguel - Establecimiento Don Luis</th>\n",
              "      <th>PP_San Miguel - Establecimiento Don Luis</th>\n",
              "      <th>Temp_San Miguel - Listello</th>\n",
              "      <th>Humedad_San Miguel - Listello</th>\n",
              "      <th>PP_San Miguel - Listello</th>\n",
              "      <th>Temp_ San Miguel - Las Varillas</th>\n",
              "      <th>Humedad_ San Miguel - Las Varillas</th>\n",
              "      <th>PP_ San Miguel - Las Varillas</th>\n",
              "    </tr>\n",
              "  </thead>\n",
              "  <tbody>\n",
              "    <tr>\n",
              "      <th>0</th>\n",
              "      <td>1/1/2021 0:00</td>\n",
              "      <td>1/1/2021</td>\n",
              "      <td>0:00</td>\n",
              "      <td>16.8</td>\n",
              "      <td>77.8</td>\n",
              "      <td>0.0</td>\n",
              "      <td>17.0</td>\n",
              "      <td>77.8</td>\n",
              "      <td>0.0</td>\n",
              "      <td>15.6</td>\n",
              "      <td>83.3</td>\n",
              "      <td>0.0</td>\n",
              "      <td>15.6</td>\n",
              "      <td>85.4</td>\n",
              "      <td>0.0</td>\n",
              "      <td>15.3</td>\n",
              "      <td>87.2</td>\n",
              "      <td>0.0</td>\n",
              "    </tr>\n",
              "    <tr>\n",
              "      <th>1</th>\n",
              "      <td>1/1/2021 0:10</td>\n",
              "      <td>1/1/2021</td>\n",
              "      <td>0:10</td>\n",
              "      <td>16.7</td>\n",
              "      <td>80.0</td>\n",
              "      <td>0.0</td>\n",
              "      <td>16.8</td>\n",
              "      <td>80.4</td>\n",
              "      <td>0.0</td>\n",
              "      <td>15.7</td>\n",
              "      <td>84.6</td>\n",
              "      <td>0.0</td>\n",
              "      <td>15.5</td>\n",
              "      <td>86.6</td>\n",
              "      <td>0.0</td>\n",
              "      <td>15.2</td>\n",
              "      <td>86.7</td>\n",
              "      <td>0.0</td>\n",
              "    </tr>\n",
              "    <tr>\n",
              "      <th>2</th>\n",
              "      <td>1/1/2021 0:20</td>\n",
              "      <td>1/1/2021</td>\n",
              "      <td>0:20</td>\n",
              "      <td>16.5</td>\n",
              "      <td>81.7</td>\n",
              "      <td>0.0</td>\n",
              "      <td>16.5</td>\n",
              "      <td>81.8</td>\n",
              "      <td>0.0</td>\n",
              "      <td>15.7</td>\n",
              "      <td>84.4</td>\n",
              "      <td>0.0</td>\n",
              "      <td>15.2</td>\n",
              "      <td>87.4</td>\n",
              "      <td>0.0</td>\n",
              "      <td>15.1</td>\n",
              "      <td>86.9</td>\n",
              "      <td>0.0</td>\n",
              "    </tr>\n",
              "    <tr>\n",
              "      <th>3</th>\n",
              "      <td>1/1/2021 0:30</td>\n",
              "      <td>1/1/2021</td>\n",
              "      <td>0:30</td>\n",
              "      <td>16.2</td>\n",
              "      <td>83.0</td>\n",
              "      <td>0.0</td>\n",
              "      <td>16.4</td>\n",
              "      <td>80.7</td>\n",
              "      <td>0.0</td>\n",
              "      <td>15.5</td>\n",
              "      <td>84.4</td>\n",
              "      <td>0.0</td>\n",
              "      <td>15.0</td>\n",
              "      <td>88.5</td>\n",
              "      <td>0.0</td>\n",
              "      <td>15.0</td>\n",
              "      <td>87.5</td>\n",
              "      <td>0.0</td>\n",
              "    </tr>\n",
              "    <tr>\n",
              "      <th>4</th>\n",
              "      <td>1/1/2021 0:40</td>\n",
              "      <td>1/1/2021</td>\n",
              "      <td>0:40</td>\n",
              "      <td>16.1</td>\n",
              "      <td>82.9</td>\n",
              "      <td>0.0</td>\n",
              "      <td>16.3</td>\n",
              "      <td>81.3</td>\n",
              "      <td>0.0</td>\n",
              "      <td>15.2</td>\n",
              "      <td>85.3</td>\n",
              "      <td>0.0</td>\n",
              "      <td>14.9</td>\n",
              "      <td>87.9</td>\n",
              "      <td>0.0</td>\n",
              "      <td>14.8</td>\n",
              "      <td>87.9</td>\n",
              "      <td>0.0</td>\n",
              "    </tr>\n",
              "  </tbody>\n",
              "</table>\n",
              "</div>\n",
              "      <button class=\"colab-df-convert\" onclick=\"convertToInteractive('df-0e94c4b6-5109-4703-b062-c46c1368e60f')\"\n",
              "              title=\"Convert this dataframe to an interactive table.\"\n",
              "              style=\"display:none;\">\n",
              "        \n",
              "  <svg xmlns=\"http://www.w3.org/2000/svg\" height=\"24px\"viewBox=\"0 0 24 24\"\n",
              "       width=\"24px\">\n",
              "    <path d=\"M0 0h24v24H0V0z\" fill=\"none\"/>\n",
              "    <path d=\"M18.56 5.44l.94 2.06.94-2.06 2.06-.94-2.06-.94-.94-2.06-.94 2.06-2.06.94zm-11 1L8.5 8.5l.94-2.06 2.06-.94-2.06-.94L8.5 2.5l-.94 2.06-2.06.94zm10 10l.94 2.06.94-2.06 2.06-.94-2.06-.94-.94-2.06-.94 2.06-2.06.94z\"/><path d=\"M17.41 7.96l-1.37-1.37c-.4-.4-.92-.59-1.43-.59-.52 0-1.04.2-1.43.59L10.3 9.45l-7.72 7.72c-.78.78-.78 2.05 0 2.83L4 21.41c.39.39.9.59 1.41.59.51 0 1.02-.2 1.41-.59l7.78-7.78 2.81-2.81c.8-.78.8-2.07 0-2.86zM5.41 20L4 18.59l7.72-7.72 1.47 1.35L5.41 20z\"/>\n",
              "  </svg>\n",
              "      </button>\n",
              "      \n",
              "  <style>\n",
              "    .colab-df-container {\n",
              "      display:flex;\n",
              "      flex-wrap:wrap;\n",
              "      gap: 12px;\n",
              "    }\n",
              "\n",
              "    .colab-df-convert {\n",
              "      background-color: #E8F0FE;\n",
              "      border: none;\n",
              "      border-radius: 50%;\n",
              "      cursor: pointer;\n",
              "      display: none;\n",
              "      fill: #1967D2;\n",
              "      height: 32px;\n",
              "      padding: 0 0 0 0;\n",
              "      width: 32px;\n",
              "    }\n",
              "\n",
              "    .colab-df-convert:hover {\n",
              "      background-color: #E2EBFA;\n",
              "      box-shadow: 0px 1px 2px rgba(60, 64, 67, 0.3), 0px 1px 3px 1px rgba(60, 64, 67, 0.15);\n",
              "      fill: #174EA6;\n",
              "    }\n",
              "\n",
              "    [theme=dark] .colab-df-convert {\n",
              "      background-color: #3B4455;\n",
              "      fill: #D2E3FC;\n",
              "    }\n",
              "\n",
              "    [theme=dark] .colab-df-convert:hover {\n",
              "      background-color: #434B5C;\n",
              "      box-shadow: 0px 1px 3px 1px rgba(0, 0, 0, 0.15);\n",
              "      filter: drop-shadow(0px 1px 2px rgba(0, 0, 0, 0.3));\n",
              "      fill: #FFFFFF;\n",
              "    }\n",
              "  </style>\n",
              "\n",
              "      <script>\n",
              "        const buttonEl =\n",
              "          document.querySelector('#df-0e94c4b6-5109-4703-b062-c46c1368e60f button.colab-df-convert');\n",
              "        buttonEl.style.display =\n",
              "          google.colab.kernel.accessAllowed ? 'block' : 'none';\n",
              "\n",
              "        async function convertToInteractive(key) {\n",
              "          const element = document.querySelector('#df-0e94c4b6-5109-4703-b062-c46c1368e60f');\n",
              "          const dataTable =\n",
              "            await google.colab.kernel.invokeFunction('convertToInteractive',\n",
              "                                                     [key], {});\n",
              "          if (!dataTable) return;\n",
              "\n",
              "          const docLinkHtml = 'Like what you see? Visit the ' +\n",
              "            '<a target=\"_blank\" href=https://colab.research.google.com/notebooks/data_table.ipynb>data table notebook</a>'\n",
              "            + ' to learn more about interactive tables.';\n",
              "          element.innerHTML = '';\n",
              "          dataTable['output_type'] = 'display_data';\n",
              "          await google.colab.output.renderOutput(dataTable, element);\n",
              "          const docLink = document.createElement('div');\n",
              "          docLink.innerHTML = docLinkHtml;\n",
              "          element.appendChild(docLink);\n",
              "        }\n",
              "      </script>\n",
              "    </div>\n",
              "  </div>\n",
              "  "
            ],
            "text/plain": [
              "  fecha_completa  ... PP_ San Miguel - Las Varillas\n",
              "0  1/1/2021 0:00  ...                           0.0\n",
              "1  1/1/2021 0:10  ...                           0.0\n",
              "2  1/1/2021 0:20  ...                           0.0\n",
              "3  1/1/2021 0:30  ...                           0.0\n",
              "4  1/1/2021 0:40  ...                           0.0\n",
              "\n",
              "[5 rows x 18 columns]"
            ]
          },
          "metadata": {},
          "execution_count": 3
        }
      ]
    },
    {
      "cell_type": "code",
      "source": [
        "#observamos como cada columna tiene 12960 datos sin  faltantes.\n",
        "df.info()"
      ],
      "metadata": {
        "colab": {
          "base_uri": "https://localhost:8080/"
        },
        "id": "WEbReKM0MjxT",
        "outputId": "f51681d9-16ca-4753-a678-b0f6a3499d92"
      },
      "execution_count": 4,
      "outputs": [
        {
          "output_type": "stream",
          "name": "stdout",
          "text": [
            "<class 'pandas.core.frame.DataFrame'>\n",
            "RangeIndex: 12960 entries, 0 to 12959\n",
            "Data columns (total 18 columns):\n",
            " #   Column                                         Non-Null Count  Dtype  \n",
            "---  ------                                         --------------  -----  \n",
            " 0   fecha_completa                                 12960 non-null  object \n",
            " 1   Fecha                                          12960 non-null  object \n",
            " 2   Hora                                           12960 non-null  object \n",
            " 3   Temp_Alicia AgriculturaCba                     12960 non-null  float64\n",
            " 4   Humedad_Alicia AgriculturaCba                  12960 non-null  float64\n",
            " 5   PP_Alicia AgriculturaCba                       12960 non-null  float64\n",
            " 6   Temp_Las Varas AgriculturaCba                  12960 non-null  float64\n",
            " 7   Humedad_Las Varas AgriculturaCba               12960 non-null  float64\n",
            " 8   PP_Las Varas AgriculturaCba                    12960 non-null  float64\n",
            " 9   Temp_San Miguel - Establecimiento Don Luis     12960 non-null  float64\n",
            " 10  Humedad_San Miguel - Establecimiento Don Luis  12960 non-null  float64\n",
            " 11  PP_San Miguel - Establecimiento Don Luis       12960 non-null  float64\n",
            " 12  Temp_San Miguel - Listello                     12960 non-null  float64\n",
            " 13  Humedad_San Miguel - Listello                  12960 non-null  float64\n",
            " 14  PP_San Miguel - Listello                       12960 non-null  float64\n",
            " 15  Temp_ San Miguel - Las Varillas                12960 non-null  float64\n",
            " 16  Humedad_ San Miguel - Las Varillas             12960 non-null  float64\n",
            " 17  PP_ San Miguel - Las Varillas                  12960 non-null  float64\n",
            "dtypes: float64(15), object(3)\n",
            "memory usage: 1.8+ MB\n"
          ]
        }
      ]
    },
    {
      "cell_type": "code",
      "source": [
        "df.columns\n",
        "\n",
        "#se muestra una lista con todos los nombres de las columnas"
      ],
      "metadata": {
        "colab": {
          "base_uri": "https://localhost:8080/"
        },
        "id": "dNya7Be3qA39",
        "outputId": "8b4ba187-eb9b-4835-fb77-57e73a2e5c96"
      },
      "execution_count": 5,
      "outputs": [
        {
          "output_type": "execute_result",
          "data": {
            "text/plain": [
              "Index(['fecha_completa', 'Fecha', 'Hora', 'Temp_Alicia AgriculturaCba',\n",
              "       'Humedad_Alicia AgriculturaCba', 'PP_Alicia AgriculturaCba',\n",
              "       'Temp_Las Varas AgriculturaCba', 'Humedad_Las Varas AgriculturaCba',\n",
              "       'PP_Las Varas AgriculturaCba',\n",
              "       'Temp_San Miguel - Establecimiento Don Luis',\n",
              "       'Humedad_San Miguel - Establecimiento Don Luis',\n",
              "       'PP_San Miguel - Establecimiento Don Luis',\n",
              "       'Temp_San Miguel - Listello', 'Humedad_San Miguel - Listello',\n",
              "       'PP_San Miguel - Listello', 'Temp_ San Miguel - Las Varillas',\n",
              "       'Humedad_ San Miguel - Las Varillas', 'PP_ San Miguel - Las Varillas'],\n",
              "      dtype='object')"
            ]
          },
          "metadata": {},
          "execution_count": 5
        }
      ]
    },
    {
      "cell_type": "code",
      "source": [
        "df.describe()\n",
        "#muestra los estadísticos básicos \n",
        "\n",
        "# Se comprueba que no hay en la base de datos, valores fisicamente imposibles:\n",
        "# Humedad relativa mayor al 100% o menor al 0%\n",
        "# Precipitación negativa\n",
        "# Valores de temperaturas menores a 0° que seria imposible para la epoca analizada o valores máximos que superen los 45°C "
      ],
      "metadata": {
        "colab": {
          "base_uri": "https://localhost:8080/",
          "height": 416
        },
        "id": "SbEzFhSnqGw0",
        "outputId": "3ba9be1c-d8b9-497c-f4dd-c756850bb1b1"
      },
      "execution_count": 6,
      "outputs": [
        {
          "output_type": "execute_result",
          "data": {
            "text/html": [
              "\n",
              "  <div id=\"df-36bf0de1-1d91-41e0-a257-434eef879adf\">\n",
              "    <div class=\"colab-df-container\">\n",
              "      <div>\n",
              "<style scoped>\n",
              "    .dataframe tbody tr th:only-of-type {\n",
              "        vertical-align: middle;\n",
              "    }\n",
              "\n",
              "    .dataframe tbody tr th {\n",
              "        vertical-align: top;\n",
              "    }\n",
              "\n",
              "    .dataframe thead th {\n",
              "        text-align: right;\n",
              "    }\n",
              "</style>\n",
              "<table border=\"1\" class=\"dataframe\">\n",
              "  <thead>\n",
              "    <tr style=\"text-align: right;\">\n",
              "      <th></th>\n",
              "      <th>Temp_Alicia AgriculturaCba</th>\n",
              "      <th>Humedad_Alicia AgriculturaCba</th>\n",
              "      <th>PP_Alicia AgriculturaCba</th>\n",
              "      <th>Temp_Las Varas AgriculturaCba</th>\n",
              "      <th>Humedad_Las Varas AgriculturaCba</th>\n",
              "      <th>PP_Las Varas AgriculturaCba</th>\n",
              "      <th>Temp_San Miguel - Establecimiento Don Luis</th>\n",
              "      <th>Humedad_San Miguel - Establecimiento Don Luis</th>\n",
              "      <th>PP_San Miguel - Establecimiento Don Luis</th>\n",
              "      <th>Temp_San Miguel - Listello</th>\n",
              "      <th>Humedad_San Miguel - Listello</th>\n",
              "      <th>PP_San Miguel - Listello</th>\n",
              "      <th>Temp_ San Miguel - Las Varillas</th>\n",
              "      <th>Humedad_ San Miguel - Las Varillas</th>\n",
              "      <th>PP_ San Miguel - Las Varillas</th>\n",
              "    </tr>\n",
              "  </thead>\n",
              "  <tbody>\n",
              "    <tr>\n",
              "      <th>count</th>\n",
              "      <td>12960.000000</td>\n",
              "      <td>12960.000000</td>\n",
              "      <td>12960.00000</td>\n",
              "      <td>12960.000000</td>\n",
              "      <td>12960.000000</td>\n",
              "      <td>12960.000000</td>\n",
              "      <td>12960.000000</td>\n",
              "      <td>12960.000000</td>\n",
              "      <td>12960.000000</td>\n",
              "      <td>12960.000000</td>\n",
              "      <td>12960.000000</td>\n",
              "      <td>12960.000000</td>\n",
              "      <td>12960.000000</td>\n",
              "      <td>12960.000000</td>\n",
              "      <td>12960.000000</td>\n",
              "    </tr>\n",
              "    <tr>\n",
              "      <th>mean</th>\n",
              "      <td>22.227585</td>\n",
              "      <td>72.410764</td>\n",
              "      <td>0.01929</td>\n",
              "      <td>22.179522</td>\n",
              "      <td>72.188804</td>\n",
              "      <td>0.018812</td>\n",
              "      <td>21.288519</td>\n",
              "      <td>74.960463</td>\n",
              "      <td>0.028164</td>\n",
              "      <td>21.464213</td>\n",
              "      <td>74.708287</td>\n",
              "      <td>0.006512</td>\n",
              "      <td>21.711065</td>\n",
              "      <td>73.923634</td>\n",
              "      <td>0.015386</td>\n",
              "    </tr>\n",
              "    <tr>\n",
              "      <th>std</th>\n",
              "      <td>5.827893</td>\n",
              "      <td>21.586566</td>\n",
              "      <td>0.21620</td>\n",
              "      <td>5.814185</td>\n",
              "      <td>20.072673</td>\n",
              "      <td>0.193260</td>\n",
              "      <td>5.932179</td>\n",
              "      <td>20.639414</td>\n",
              "      <td>0.330379</td>\n",
              "      <td>6.130940</td>\n",
              "      <td>21.712248</td>\n",
              "      <td>0.053873</td>\n",
              "      <td>6.148653</td>\n",
              "      <td>21.907371</td>\n",
              "      <td>0.160468</td>\n",
              "    </tr>\n",
              "    <tr>\n",
              "      <th>min</th>\n",
              "      <td>9.300000</td>\n",
              "      <td>13.500000</td>\n",
              "      <td>0.00000</td>\n",
              "      <td>9.600000</td>\n",
              "      <td>14.600000</td>\n",
              "      <td>0.000000</td>\n",
              "      <td>8.700000</td>\n",
              "      <td>12.400000</td>\n",
              "      <td>0.000000</td>\n",
              "      <td>8.600000</td>\n",
              "      <td>12.700000</td>\n",
              "      <td>0.000000</td>\n",
              "      <td>7.900000</td>\n",
              "      <td>13.100000</td>\n",
              "      <td>0.000000</td>\n",
              "    </tr>\n",
              "    <tr>\n",
              "      <th>25%</th>\n",
              "      <td>17.900000</td>\n",
              "      <td>54.300000</td>\n",
              "      <td>0.00000</td>\n",
              "      <td>17.800000</td>\n",
              "      <td>55.800000</td>\n",
              "      <td>0.000000</td>\n",
              "      <td>16.800000</td>\n",
              "      <td>58.800000</td>\n",
              "      <td>0.000000</td>\n",
              "      <td>16.900000</td>\n",
              "      <td>56.375000</td>\n",
              "      <td>0.000000</td>\n",
              "      <td>17.200000</td>\n",
              "      <td>54.600000</td>\n",
              "      <td>0.000000</td>\n",
              "    </tr>\n",
              "    <tr>\n",
              "      <th>50%</th>\n",
              "      <td>21.300000</td>\n",
              "      <td>77.000000</td>\n",
              "      <td>0.00000</td>\n",
              "      <td>21.100000</td>\n",
              "      <td>77.500000</td>\n",
              "      <td>0.000000</td>\n",
              "      <td>20.300000</td>\n",
              "      <td>81.500000</td>\n",
              "      <td>0.000000</td>\n",
              "      <td>20.400000</td>\n",
              "      <td>81.800000</td>\n",
              "      <td>0.000000</td>\n",
              "      <td>20.700000</td>\n",
              "      <td>80.500000</td>\n",
              "      <td>0.000000</td>\n",
              "    </tr>\n",
              "    <tr>\n",
              "      <th>75%</th>\n",
              "      <td>26.600000</td>\n",
              "      <td>91.800000</td>\n",
              "      <td>0.00000</td>\n",
              "      <td>26.700000</td>\n",
              "      <td>89.800000</td>\n",
              "      <td>0.000000</td>\n",
              "      <td>26.000000</td>\n",
              "      <td>92.725000</td>\n",
              "      <td>0.000000</td>\n",
              "      <td>26.000000</td>\n",
              "      <td>94.100000</td>\n",
              "      <td>0.000000</td>\n",
              "      <td>26.500000</td>\n",
              "      <td>93.700000</td>\n",
              "      <td>0.000000</td>\n",
              "    </tr>\n",
              "    <tr>\n",
              "      <th>max</th>\n",
              "      <td>36.800000</td>\n",
              "      <td>100.000000</td>\n",
              "      <td>8.80000</td>\n",
              "      <td>36.500000</td>\n",
              "      <td>100.000000</td>\n",
              "      <td>7.200000</td>\n",
              "      <td>36.200000</td>\n",
              "      <td>100.000000</td>\n",
              "      <td>12.600000</td>\n",
              "      <td>37.300000</td>\n",
              "      <td>100.000000</td>\n",
              "      <td>1.600000</td>\n",
              "      <td>36.900000</td>\n",
              "      <td>100.000000</td>\n",
              "      <td>5.600000</td>\n",
              "    </tr>\n",
              "  </tbody>\n",
              "</table>\n",
              "</div>\n",
              "      <button class=\"colab-df-convert\" onclick=\"convertToInteractive('df-36bf0de1-1d91-41e0-a257-434eef879adf')\"\n",
              "              title=\"Convert this dataframe to an interactive table.\"\n",
              "              style=\"display:none;\">\n",
              "        \n",
              "  <svg xmlns=\"http://www.w3.org/2000/svg\" height=\"24px\"viewBox=\"0 0 24 24\"\n",
              "       width=\"24px\">\n",
              "    <path d=\"M0 0h24v24H0V0z\" fill=\"none\"/>\n",
              "    <path d=\"M18.56 5.44l.94 2.06.94-2.06 2.06-.94-2.06-.94-.94-2.06-.94 2.06-2.06.94zm-11 1L8.5 8.5l.94-2.06 2.06-.94-2.06-.94L8.5 2.5l-.94 2.06-2.06.94zm10 10l.94 2.06.94-2.06 2.06-.94-2.06-.94-.94-2.06-.94 2.06-2.06.94z\"/><path d=\"M17.41 7.96l-1.37-1.37c-.4-.4-.92-.59-1.43-.59-.52 0-1.04.2-1.43.59L10.3 9.45l-7.72 7.72c-.78.78-.78 2.05 0 2.83L4 21.41c.39.39.9.59 1.41.59.51 0 1.02-.2 1.41-.59l7.78-7.78 2.81-2.81c.8-.78.8-2.07 0-2.86zM5.41 20L4 18.59l7.72-7.72 1.47 1.35L5.41 20z\"/>\n",
              "  </svg>\n",
              "      </button>\n",
              "      \n",
              "  <style>\n",
              "    .colab-df-container {\n",
              "      display:flex;\n",
              "      flex-wrap:wrap;\n",
              "      gap: 12px;\n",
              "    }\n",
              "\n",
              "    .colab-df-convert {\n",
              "      background-color: #E8F0FE;\n",
              "      border: none;\n",
              "      border-radius: 50%;\n",
              "      cursor: pointer;\n",
              "      display: none;\n",
              "      fill: #1967D2;\n",
              "      height: 32px;\n",
              "      padding: 0 0 0 0;\n",
              "      width: 32px;\n",
              "    }\n",
              "\n",
              "    .colab-df-convert:hover {\n",
              "      background-color: #E2EBFA;\n",
              "      box-shadow: 0px 1px 2px rgba(60, 64, 67, 0.3), 0px 1px 3px 1px rgba(60, 64, 67, 0.15);\n",
              "      fill: #174EA6;\n",
              "    }\n",
              "\n",
              "    [theme=dark] .colab-df-convert {\n",
              "      background-color: #3B4455;\n",
              "      fill: #D2E3FC;\n",
              "    }\n",
              "\n",
              "    [theme=dark] .colab-df-convert:hover {\n",
              "      background-color: #434B5C;\n",
              "      box-shadow: 0px 1px 3px 1px rgba(0, 0, 0, 0.15);\n",
              "      filter: drop-shadow(0px 1px 2px rgba(0, 0, 0, 0.3));\n",
              "      fill: #FFFFFF;\n",
              "    }\n",
              "  </style>\n",
              "\n",
              "      <script>\n",
              "        const buttonEl =\n",
              "          document.querySelector('#df-36bf0de1-1d91-41e0-a257-434eef879adf button.colab-df-convert');\n",
              "        buttonEl.style.display =\n",
              "          google.colab.kernel.accessAllowed ? 'block' : 'none';\n",
              "\n",
              "        async function convertToInteractive(key) {\n",
              "          const element = document.querySelector('#df-36bf0de1-1d91-41e0-a257-434eef879adf');\n",
              "          const dataTable =\n",
              "            await google.colab.kernel.invokeFunction('convertToInteractive',\n",
              "                                                     [key], {});\n",
              "          if (!dataTable) return;\n",
              "\n",
              "          const docLinkHtml = 'Like what you see? Visit the ' +\n",
              "            '<a target=\"_blank\" href=https://colab.research.google.com/notebooks/data_table.ipynb>data table notebook</a>'\n",
              "            + ' to learn more about interactive tables.';\n",
              "          element.innerHTML = '';\n",
              "          dataTable['output_type'] = 'display_data';\n",
              "          await google.colab.output.renderOutput(dataTable, element);\n",
              "          const docLink = document.createElement('div');\n",
              "          docLink.innerHTML = docLinkHtml;\n",
              "          element.appendChild(docLink);\n",
              "        }\n",
              "      </script>\n",
              "    </div>\n",
              "  </div>\n",
              "  "
            ],
            "text/plain": [
              "       Temp_Alicia AgriculturaCba  ...  PP_ San Miguel - Las Varillas\n",
              "count                12960.000000  ...                   12960.000000\n",
              "mean                    22.227585  ...                       0.015386\n",
              "std                      5.827893  ...                       0.160468\n",
              "min                      9.300000  ...                       0.000000\n",
              "25%                     17.900000  ...                       0.000000\n",
              "50%                     21.300000  ...                       0.000000\n",
              "75%                     26.600000  ...                       0.000000\n",
              "max                     36.800000  ...                       5.600000\n",
              "\n",
              "[8 rows x 15 columns]"
            ]
          },
          "metadata": {},
          "execution_count": 6
        }
      ]
    },
    {
      "cell_type": "code",
      "source": [
        "variables= df.columns\n",
        "#histograma de las temperaturas en las distintas estaciones\n",
        "for i in range(3,18,3):\n",
        "    plt.hist(df[variables[i]],color='#F2AB6D', rwidth=0.85,)\n",
        "    plt.title('Histograma de temperaturas')\n",
        "    plt.xlabel(variables[i])\n",
        "    plt.ylabel('Frecuencia')\n",
        "    plt.show() #dibujamos el histograma\n",
        "\n",
        "# A simple vista se observa que la temperatura tiene una distribución muy similar a la normal."
      ],
      "metadata": {
        "colab": {
          "base_uri": "https://localhost:8080/",
          "height": 1000
        },
        "id": "k2JB9ZOHqXoy",
        "outputId": "bdae815d-7ab6-4d0b-9b3a-1d29f30c003e"
      },
      "execution_count": 7,
      "outputs": [
        {
          "output_type": "display_data",
          "data": {
            "image/png": "[encoded data removed]",
            "text/plain": [
              "<Figure size 432x288 with 1 Axes>"
            ]
          },
          "metadata": {
            "needs_background": "light"
          }
        },
        {
          "output_type": "display_data",
          "data": {
            "image/png": "[encoded data removed]",
            "text/plain": [
              "<Figure size 432x288 with 1 Axes>"
            ]
          },
          "metadata": {
            "needs_background": "light"
          }
        },
        {
          "output_type": "display_data",
          "data": {
            "image/png": "[encoded data removed]",
            "text/plain": [
              "<Figure size 432x288 with 1 Axes>"
            ]
          },
          "metadata": {
            "needs_background": "light"
          }
        },
        {
          "output_type": "display_data",
          "data": {
            "image/png": "[encoded data removed]",
            "text/plain": [
              "<Figure size 432x288 with 1 Axes>"
            ]
          },
          "metadata": {
            "needs_background": "light"
          }
        },
        {
          "output_type": "display_data",
          "data": {
            "image/png": "[encoded data removed]",
            "text/plain": [
              "<Figure size 432x288 with 1 Axes>"
            ]
          },
          "metadata": {
            "needs_background": "light"
          }
        }
      ]
    },
    {
      "cell_type": "code",
      "source": [
        "# Box-Plots, no se aprecia en los datos ningun valor extremo, al menos con este procedimiento en la variable temperatura para las distintas estaciones.\n",
        "\n",
        "ax = sns.boxplot(data=df[[variables[3], variables[6], variables[9],variables[12], variables[15]]], orient=\"h\", palette=\"Set2\")"
      ],
      "metadata": {
        "colab": {
          "base_uri": "https://localhost:8080/",
          "height": 265
        },
        "id": "_s5td4Zuspda",
        "outputId": "49140326-d274-4d50-dd71-1b0c237ce2f2"
      },
      "execution_count": 8,
      "outputs": [
        {
          "output_type": "display_data",
          "data": {
            "image/png": "[encoded data removed]",
            "text/plain": [
              "<Figure size 432x288 with 1 Axes>"
            ]
          },
          "metadata": {
            "needs_background": "light"
          }
        }
      ]
    },
    {
      "cell_type": "markdown",
      "source": [
        "# Regresión Lineal"
      ],
      "metadata": {
        "id": "UA-neWFV-VlK"
      }
    },
    {
      "cell_type": "code",
      "source": [
        "# importo librerias necesarias\n",
        "import pandas as pd\n",
        "import numpy as np\n",
        "from sklearn.metrics import mean_squared_error as mse\n",
        "from sklearn.preprocessing  import PolynomialFeatures\n",
        "from sklearn.linear_model import LinearRegression\n",
        "from sklearn.preprocessing import StandardScaler\n",
        "from sklearn.model_selection import train_test_split\n",
        "from sklearn.pipeline import Pipeline\n",
        "from sklearn.preprocessing import StandardScaler\n"
      ],
      "metadata": {
        "id": "VNNlgjaDtCP5"
      },
      "execution_count": 9,
      "outputs": []
    },
    {
      "cell_type": "code",
      "source": [
        "x= df[[ 'Temp_Las Varas AgriculturaCba', 'Humedad_Las Varas AgriculturaCba',\n",
        "        'Temp_San Miguel - Establecimiento Don Luis', 'Humedad_San Miguel - Establecimiento Don Luis',\n",
        "       'Temp_San Miguel - Listello', 'Humedad_San Miguel - Listello',\n",
        "       'Temp_ San Miguel - Las Varillas', 'Humedad_ San Miguel - Las Varillas']]\n",
        "y= df[\"Temp_Alicia AgriculturaCba\"]"
      ],
      "metadata": {
        "id": "UgYJGqxez7qo"
      },
      "execution_count": 10,
      "outputs": []
    },
    {
      "cell_type": "code",
      "source": [
        "#Separo los datos de \"train\" en entrenamiento y prueba \"test\" para probar los algoritmos\n",
        "x_train, x_test, y_train, y_test = train_test_split(x, y, test_size=0.2, random_state=42)"
      ],
      "metadata": {
        "id": "VMUiGNLH0BRV"
      },
      "execution_count": 11,
      "outputs": []
    },
    {
      "cell_type": "code",
      "source": [
        "#Defino el algoritmo a utilizar\n",
        "lr = LinearRegression()\n",
        "\n",
        "\n",
        "#Entreno el modelo\n",
        "lr.fit(x_train, y_train)\n",
        "\n",
        "\n"
      ],
      "metadata": {
        "colab": {
          "base_uri": "https://localhost:8080/"
        },
        "id": "SdFH7ta0zHKE",
        "outputId": "6f470d70-f2c7-40f1-975a-5c990bb17cdf"
      },
      "execution_count": 12,
      "outputs": [
        {
          "output_type": "execute_result",
          "data": {
            "text/plain": [
              "LinearRegression()"
            ]
          },
          "metadata": {},
          "execution_count": 12
        }
      ]
    },
    {
      "cell_type": "code",
      "source": [
        "y_pred_lineal_train = lr.predict(x_train)\n",
        "print('Precisión del modelo usando el (MSE):')\n",
        "score_train = mse(y_train,y_pred_lineal_train)\n",
        "\n",
        "print (score_train)"
      ],
      "metadata": {
        "colab": {
          "base_uri": "https://localhost:8080/"
        },
        "id": "AptrGNEwokhc",
        "outputId": "5d70bc72-ac69-40cf-a416-60a5562508cc"
      },
      "execution_count": 13,
      "outputs": [
        {
          "output_type": "stream",
          "name": "stdout",
          "text": [
            "Precisión del modelo usando el (MSE):\n",
            "0.6251280521513793\n"
          ]
        }
      ]
    },
    {
      "cell_type": "code",
      "source": [
        "#Realizo una predicción\n",
        "y_pred_lineal_testeo = lr.predict(x_test)\n",
        "y_pred_lineal_testeo"
      ],
      "metadata": {
        "colab": {
          "base_uri": "https://localhost:8080/"
        },
        "id": "H8xUCNKB1ncr",
        "outputId": "63788106-e47d-420a-e8b1-ae7db192c549"
      },
      "execution_count": 14,
      "outputs": [
        {
          "output_type": "execute_result",
          "data": {
            "text/plain": [
              "array([27.89609183, 30.52593271, 19.94795126, ..., 24.20684952,\n",
              "       15.62503972, 22.51753457])"
            ]
          },
          "metadata": {},
          "execution_count": 14
        }
      ]
    },
    {
      "cell_type": "code",
      "source": [
        "\n",
        "print('Precisión del modelo usando el (MSE):')\n",
        "score_testeo = mse(y_test,y_pred_lineal_testeo)\n",
        "\n",
        "print (score_testeo)"
      ],
      "metadata": {
        "colab": {
          "base_uri": "https://localhost:8080/"
        },
        "id": "VH-ykeJvo5RX",
        "outputId": "4b76ea54-f069-4f83-e555-92bcb7945870"
      },
      "execution_count": 15,
      "outputs": [
        {
          "output_type": "stream",
          "name": "stdout",
          "text": [
            "Precisión del modelo usando el (MSE):\n",
            "0.6779307335532956\n"
          ]
        }
      ]
    },
    {
      "cell_type": "code",
      "source": [
        "print('DATOS DEL MODELO REGRESIÓN LINEAL SIMPLE')\n",
        "print()\n",
        "print('Valor de los coeficientes de cada variale regresora usada en el modelo:')\n",
        "print(lr.coef_)\n",
        "print()\n",
        "print('Valor de la intersección:')\n",
        "print(lr.intercept_)\n"
      ],
      "metadata": {
        "colab": {
          "base_uri": "https://localhost:8080/"
        },
        "id": "A8NaHVu3mq8d",
        "outputId": "b3b4322b-2435-4209-ceb9-c6571636d5df"
      },
      "execution_count": 16,
      "outputs": [
        {
          "output_type": "stream",
          "name": "stdout",
          "text": [
            "DATOS DEL MODELO REGRESIÓN LINEAL SIMPLE\n",
            "\n",
            "Valor de los coeficientes de cada variale regresora usada en el modelo:\n",
            "[ 0.35626866  0.01451763  0.11463117 -0.02017878  0.12672709  0.01855433\n",
            "  0.35065603 -0.01862197]\n",
            "\n",
            "Valor de la intersección:\n",
            "2.0056630571544893\n"
          ]
        }
      ]
    },
    {
      "cell_type": "code",
      "source": [
        "#ahora le agregamos grados al polinomio y estandarizamos las features\n",
        "modelo = Pipeline([('scaler', StandardScaler()),('features', PolynomialFeatures()),\n",
        "                    ('regression', LinearRegression()),\n",
        "                    ])\n"
      ],
      "metadata": {
        "id": "rAR6RpmO1usN"
      },
      "execution_count": 17,
      "outputs": []
    },
    {
      "cell_type": "code",
      "source": [
        "modelo.fit(x_train,y_train)"
      ],
      "metadata": {
        "colab": {
          "base_uri": "https://localhost:8080/"
        },
        "id": "9MaHbIrQ3cEQ",
        "outputId": "bd3fe351-0a68-43e4-860f-4ce4d3264af3"
      },
      "execution_count": 18,
      "outputs": [
        {
          "output_type": "execute_result",
          "data": {
            "text/plain": [
              "Pipeline(steps=[('scaler', StandardScaler()),\n",
              "                ('features', PolynomialFeatures()),\n",
              "                ('regression', LinearRegression())])"
            ]
          },
          "metadata": {},
          "execution_count": 18
        }
      ]
    },
    {
      "cell_type": "code",
      "source": [
        "y_pred_polinomica_train = modelo.predict(x_train)\n",
        "print('Precisión del modelo usando el (MSE):')\n",
        "score_train = mse(y_train,y_pred_polinomica_train)\n",
        "\n",
        "print (score_train)"
      ],
      "metadata": {
        "colab": {
          "base_uri": "https://localhost:8080/"
        },
        "id": "UpSDFUxopTMR",
        "outputId": "0e125428-b199-4d1e-b82f-abea11cd1937"
      },
      "execution_count": 19,
      "outputs": [
        {
          "output_type": "stream",
          "name": "stdout",
          "text": [
            "Precisión del modelo usando el (MSE):\n",
            "0.5643044020113102\n"
          ]
        }
      ]
    },
    {
      "cell_type": "code",
      "source": [
        "#Realizo una predicción\n",
        "y_pred_polinomica_testeo = modelo.predict(x_test)\n",
        "y_pred_polinomica_testeo\n",
        "print('Precisión del modelo usando el (MSE):')\n",
        "score_testeo = mse(y_test,y_pred_polinomica_testeo)\n",
        "\n",
        "print (score_testeo)"
      ],
      "metadata": {
        "colab": {
          "base_uri": "https://localhost:8080/"
        },
        "id": "P7q2qtik3kXg",
        "outputId": "6f7c22cb-2f68-4774-d1d7-995237a22c20"
      },
      "execution_count": 20,
      "outputs": [
        {
          "output_type": "stream",
          "name": "stdout",
          "text": [
            "Precisión del modelo usando el (MSE):\n",
            "0.5994452990033148\n"
          ]
        }
      ]
    },
    {
      "cell_type": "markdown",
      "source": [
        "# Regresión Lasso"
      ],
      "metadata": {
        "id": "ozSFHG02qcxA"
      }
    },
    {
      "cell_type": "markdown",
      "source": [
        "Una regresión regularizada diferente que se usa a menudo es la regresión LASSO, que naturalmente selecciona las variables más relevantes y produce modelos más parsimoniosos.\n",
        "\n",
        "LASSO usa la norma , que es simplemente la suma de los valores absolutos de los parámetros del modelo.\n",
        "![Captura.JPG](data:image/jpeg;base64,/9j/4AAQSkZJRgABAQEAYABgAAD/4RDcRXhpZgAATU0AKgAAAAgABAE7AAIAAAAGAAAISodpAAQAAAABAAAIUJydAAEAAAAMAAAQyOocAAcAAAgMAAAAPgAAAAAc6gAAAAgAAAAAAAAAAAAAAAAAAAAAAAAAAAAAAAAAAAAAAAAAAAAAAAAAAAAAAAAAAAAAAAAAAAAAAAAAAAAAAAAAAAAAAAAAAAAAAAAAAAAAAAAAAAAAAAAAAAAAAAAAAAAAAAAAAAAAAAAAAAAAAAAAAAAAAAAAAAAAAAAAAAAAAAAAAAAAAAAAAAAAAAAAAAAAAAAAAAAAAAAAAAAAAAAAAAAAAAAAAAAAAAAAAAAAAAAAAAAAAAAAAAAAAAAAAAAAAAAAAAAAAAAAAAAAAAAAAAAAAAAAAAAAAAAAAAAAAAAAAAAAAAAAAAAAAAAAAAAAAAAAAAAAAAAAAAAAAAAAAAAAAAAAAAAAAAAAAAAAAAAAAAAAAAAAAAAAAAAAAAAAAAAAAAAAAAAAAAAAAAAAAAAAAAAAAAAAAAAAAAAAAAAAAAAAAAAAAAAAAAAAAAAAAAAAAAAAAAAAAAAAAAAAAAAAAAAAAAAAAAAAAAAAAAAAAAAAAAAAAAAAAAAAAAAAAAAAAAAAAAAAAAAAAAAAAAAAAAAAAAAAAAAAAAAAAAAAAAAAAAAAAAAAAAAAAAAAAAAAAAAAAAAAAAAAAAAAAAAAAAAAAAAAAAAAAAAAAAAAAAAAAAAAAAAAAAAAAAAAAAAAAAAAAAAAAAAAAAAAAAAAAAAAAAAAAAAAAAAAAAAAAAAAAAAAAAAAAAAAAAAAAAAAAAAAAAAAAAAAAAAAAAAAAAAAAAAAAAAAAAAAAAAAAAAAAAAAAAAAAAAAAAAAAAAAAAAAAAAAAAAAAAAAAAAAAAAAAAAAAAAAAAAAAAAAAAAAAAAAAAAAAAAAAAAAAAAAAAAAAAAAAAAAAAAAAAAAAAAAAAAAAAAAAAAAAAAAAAAAAAAAAAAAAAAAAAAAAAAAAAAAAAAAAAAAAAAAAAAAAAAAAAAAAAAAAAAAAAAAAAAAAAAAAAAAAAAAAAAAAAAAAAAAAAAAAAAAAAAAAAAAAAAAAAAAAAAAAAAAAAAAAAAAAAAAAAAAAAAAAAAAAAAAAAAAAAAAAAAAAAAAAAAAAAAAAAAAAAAAAAAAAAAAAAAAAAAAAAAAAAAAAAAAAAAAAAAAAAAAAAAAAAAAAAAAAAAAAAAAAAAAAAAAAAAAAAAAAAAAAAAAAAAAAAAAAAAAAAAAAAAAAAAAAAAAAAAAAAAAAAAAAAAAAAAAAAAAAAAAAAAAAAAAAAAAAAAAAAAAAAAAAAAAAAAAAAAAAAAAAAAAAAAAAAAAAAAAAAAAAAAAAAAAAAAAAAAAAAAAAAAAAAAAAAAAAAAAAAAAAAAAAAAAAAAAAAAAAAAAAAAAAAAAAAAAAAAAAAAAAAAAAAAAAAAAAAAAAAAAAAAAAAAAAAAAAAAAAAAAAAAAAAAAAAAAAAAAAAAAAAAAAAAAAAAAAAAAAAAAAAAAAAAAAAAAAAAAAAAAAAAAAAAAAAAAAAAAAAAAAAAAAAAAAAAAAAAAAAAAAAAAAAAAAAAAAAAAAAAAAAAAAAAAAAAAAAAAAAAAAAAAAAAAAAAAAAAAAAAAAAAAAAAAAAAAAAAAAAAAAAAAAAAAAAAAAAAAAAAAAAAAAAAAAAAAAAAAAAAAAAAAAAAAAAAAAAAAAAAAAAAAAAAAAAAAAAAAAAAAAAAAAAAAAAAAAAAAAAAAAAAAAAAAAAAAAAAAAAAAAAAAAAAAAAAAAAAAAAAAAAAAAAAAAAAAAAAAAAAAAAAAAAAAAAAAAAAAAAAAAAAAAAAAAAAAAAAAAAAAAAAAAAAAAAAAAAAAAAAAAAAAAAAAAAAAAAAAAAAAAAAAAAAAAAAAAAAAAAAAAAAAAAAAAAAAAAAAAAAAAAAAAAAAAAAAAAAAAAAAAAAAAAAAAAAAAAAAAAAAAAAAAAAAAAAAAAAAAAAAAAAAAAAAAAAAAAAAAAAAAAAAAAAAAAAAAAAAAAAAAAAAAAAAAAAAAAAAAAAAAAAAAAAAAAAAAAAAAAAAAAAAAAAAAAAAAAAAAAAAAAAAAAAAAAAAAAAAAAAAAAAAAAAAAAAAAAAAAAAAAAAAAAAAAAAAAAAAAAAAAAAAAAAAAAAAAAAAAAAAAAAAAAAAAAAAAAAAAAAAAAAAAAAAAAAAAAAAAAAAAAAAAAAAAAAAAAAAAAAAAAAAAAAAAAAAAAAAAAAAAAAAAAAAAAAAAAAAAAAAAAAAAAAAAAAAAAAAAAAAAAAAAAAAAAAAAAAAAAAAAAAAAAAAAAAAAAAAAAAAAAAAAAAAAAAAAAAAAAAAAAAAAAAAAAAAAAAAAAAAAAAAAAAAAAAAAAAAAAAAAAAAAAAAAAAAAAAAAAAAAAAAAAAAAAAAAAAAAAAAAAAAAAAAAAAAAAAAAAAAAAAAAAAAAAAAAAAAAAAAAAAAAAAAAAAAAAAAAAAAAAAAAAAAAAAAAAAAAAAAAAAAAAAAAAAAAAAAAAAAAAAAAAAAAAAAAAAAAAAAAAAAAAAAAAAAAAAAAAAAAAAAAAAAAAAAAAAAAAAAAAAAAAAAAAAAAAAAAAAAAAAAAAAAAAAAAAAAAAAAAAAAAAAAAAAAAAAAAAAAAAAAAAAAAAAAAAAAAAAAAAAAAAAAAAAAAAAAAAAAAAAAAAAAAAAAAAAAAAAAAAAAAAAAAAAAAAAAAAAAAAAAAAAAAAAAAAAAAAAAAAAAAAAAAAAAAAAAAAAAAAAAAAAAAAAAAAAAAAAAAAAAAAAAAAAAAAAAAAAAAAAAAAAAAAAAAAAAAAAAAGpvcmdlAAAFkAMAAgAAABQAABCekAQAAgAAABQAABCykpEAAgAAAAMwMwAAkpIAAgAAAAMwMwAA6hwABwAACAwAAAiSAAAAABzqAAAACAAAAAAAAAAAAAAAAAAAAAAAAAAAAAAAAAAAAAAAAAAAAAAAAAAAAAAAAAAAAAAAAAAAAAAAAAAAAAAAAAAAAAAAAAAAAAAAAAAAAAAAAAAAAAAAAAAAAAAAAAAAAAAAAAAAAAAAAAAAAAAAAAAAAAAAAAAAAAAAAAAAAAAAAAAAAAAAAAAAAAAAAAAAAAAAAAAAAAAAAAAAAAAAAAAAAAAAAAAAAAAAAAAAAAAAAAAAAAAAAAAAAAAAAAAAAAAAAAAAAAAAAAAAAAAAAAAAAAAAAAAAAAAAAAAAAAAAAAAAAAAAAAAAAAAAAAAAAAAAAAAAAAAAAAAAAAAAAAAAAAAAAAAAAAAAAAAAAAAAAAAAAAAAAAAAAAAAAAAAAAAAAAAAAAAAAAAAAAAAAAAAAAAAAAAAAAAAAAAAAAAAAAAAAAAAAAAAAAAAAAAAAAAAAAAAAAAAAAAAAAAAAAAAAAAAAAAAAAAAAAAAAAAAAAAAAAAAAAAAAAAAAAAAAAAAAAAAAAAAAAAAAAAAAAAAAAAAAAAAAAAAAAAAAAAAAAAAAAAAAAAAAAAAAAAAAAAAAAAAAAAAAAAAAAAAAAAAAAAAAAAAAAAAAAAAAAAAAAAAAAAAAAAAAAAAAAAAAAAAAAAAAAAAAAAAAAAAAAAAAAAAAAAAAAAAAAAAAAAAAAAAAAAAAAAAAAAAAAAAAAAAAAAAAAAAAAAAAAAAAAAAAAAAAAAAAAAAAAAAAAAAAAAAAAAAAAAAAAAAAAAAAAAAAAAAAAAAAAAAAAAAAAAAAAAAAAAAAAAAAAAAAAAAAAAAAAAAAAAAAAAAAAAAAAAAAAAAAAAAAAAAAAAAAAAAAAAAAAAAAAAAAAAAAAAAAAAAAAAAAAAAAAAAAAAAAAAAAAAAAAAAAAAAAAAAAAAAAAAAAAAAAAAAAAAAAAAAAAAAAAAAAAAAAAAAAAAAAAAAAAAAAAAAAAAAAAAAAAAAAAAAAAAAAAAAAAAAAAAAAAAAAAAAAAAAAAAAAAAAAAAAAAAAAAAAAAAAAAAAAAAAAAAAAAAAAAAAAAAAAAAAAAAAAAAAAAAAAAAAAAAAAAAAAAAAAAAAAAAAAAAAAAAAAAAAAAAAAAAAAAAAAAAAAAAAAAAAAAAAAAAAAAAAAAAAAAAAAAAAAAAAAAAAAAAAAAAAAAAAAAAAAAAAAAAAAAAAAAAAAAAAAAAAAAAAAAAAAAAAAAAAAAAAAAAAAAAAAAAAAAAAAAAAAAAAAAAAAAAAAAAAAAAAAAAAAAAAAAAAAAAAAAAAAAAAAAAAAAAAAAAAAAAAAAAAAAAAAAAAAAAAAAAAAAAAAAAAAAAAAAAAAAAAAAAAAAAAAAAAAAAAAAAAAAAAAAAAAAAAAAAAAAAAAAAAAAAAAAAAAAAAAAAAAAAAAAAAAAAAAAAAAAAAAAAAAAAAAAAAAAAAAAAAAAAAAAAAAAAAAAAAAAAAAAAAAAAAAAAAAAAAAAAAAAAAAAAAAAAAAAAAAAAAAAAAAAAAAAAAAAAAAAAAAAAAAAAAAAAAAAAAAAAAAAAAAAAAAAAAAAAAAAAAAAAAAAAAAAAAAAAAAAAAAAAAAAAAAAAAAAAAAAAAAAAAAAAAAAAAAAAAAAAAAAAAAAAAAAAAAAAAAAAAAAAAAAAAAAAAAAAAAAAAAAAAAAAAAAAAAAAAAAAAAAAAAAAAAAAAAAAAAAAAAAAAAAAAAAAAAAAAAAAAAAAAAAAAAAAAAAAAAAAAAAAAAAAAAAAAAAAAAAAAAAAAAAAAAAAAAAAAAAAAAAAAAAAAAAAAAAAAAAAAAAAAAAAAAAAAAAAAAAAAAAAAAAAAAAAAAAAAAAAAAAAAAAAAAAAAAAAAAAAAAAAAAAAAAAAAAAAAAAAAAAAAAAAAAAAAAAAAAAAAAAAAAAAAAAAAAAAAAAAAAAAAAAAAAAAAAAAAAAAAAAAAAAAAAAAAAAAAAAAAAAAAAAAAAAAAAAAAAAAAAAAAAAAAAAAAAAAAAAAAAAAAAAAAAAAAAAAAAAAAAAAAAAAAAAAAAAAAAAAAAAAAAAAAAAAAAAAAAAAAAAAAAAAAAAAAAAAAAAAAAAAAAAAAAAAAAAAAAAAAAAAAAAAAAAAAAAAAAAAAAAAAAAAAAAAAAAAAAAAAAAAAAAAAAAAAAAAAAAAAAAAAAAAAAAAAAAAAAAAAAAAAAAAAAAAAAAAAAAAAAAAAAAAAAAAAAAAAAAAAAAAAAAAAAAAAAAAAAAAAAAAAAAAAAAAAAAAAAAAAAAAAAAAAAAAAAAAAAAAAAAAAAAAAAAAAAAAAAAAAAAAAAAAAAAAAAAAAAAAAAAAAAAAAAAAAAAAAAAAAAAAAAAAAAAAAAAAAAAAAAAAAAAAAAAAAAAAAAAAAAAAAAAAAAAAAAAAAAAAAAAAAAAAAAAAAAAAAAAAAAAAAAAAAAAAAAAAAAAAAAAAAAAAAAAAAAAAAAAAAAAAAAAAAAAAAAAAAAAAAAAAAAAAAAAAAAAAAAAAAAAAAAAAAAAAAAAAAAAAAAAAAAAAAAAAAAAAAAAAAAAAAAAAAAAAAAAAAAAAAAAAAAAAAAAAAAAAAAAAAAAAAAAAAAAAAAAAAAAAAAAAAAAAAAAAAAAAAAAAAAAAAAAAAAAAAAAAAAAAAAAAAAAAAAAAAAAAAAAAAAAAAAAAAAAAAAAAAAAAAAAAAAAAAAAAAAAAAAAAAAAAAAAAAAAAAAAAAAAAAAAAAAAAAAAAAMjAyMjowMToxNCAxMDoxODoxOQAyMDIyOjAxOjE0IDEwOjE4OjE5AAAAagBvAHIAZwBlAAAA/+ELGGh0dHA6Ly9ucy5hZG9iZS5jb20veGFwLzEuMC8APD94cGFja2V0IGJlZ2luPSfvu78nIGlkPSdXNU0wTXBDZWhpSHpyZVN6TlRjemtjOWQnPz4NCjx4OnhtcG1ldGEgeG1sbnM6eD0iYWRvYmU6bnM6bWV0YS8iPjxyZGY6UkRGIHhtbG5zOnJkZj0iaHR0cDovL3d3dy53My5vcmcvMTk5OS8wMi8yMi1yZGYtc3ludGF4LW5zIyI+PHJkZjpEZXNjcmlwdGlvbiByZGY6YWJvdXQ9InV1aWQ6ZmFmNWJkZDUtYmEzZC0xMWRhLWFkMzEtZDMzZDc1MTgyZjFiIiB4bWxuczpkYz0iaHR0cDovL3B1cmwub3JnL2RjL2VsZW1lbnRzLzEuMS8iLz48cmRmOkRlc2NyaXB0aW9uIHJkZjphYm91dD0idXVpZDpmYWY1YmRkNS1iYTNkLTExZGEtYWQzMS1kMzNkNzUxODJmMWIiIHhtbG5zOnhtcD0iaHR0cDovL25zLmFkb2JlLmNvbS94YXAvMS4wLyI+PHhtcDpDcmVhdGVEYXRlPjIwMjItMDEtMTRUMTA6MTg6MTkuMDMyPC94bXA6Q3JlYXRlRGF0ZT48L3JkZjpEZXNjcmlwdGlvbj48cmRmOkRlc2NyaXB0aW9uIHJkZjphYm91dD0idXVpZDpmYWY1YmRkNS1iYTNkLTExZGEtYWQzMS1kMzNkNzUxODJmMWIiIHhtbG5zOmRjPSJodHRwOi8vcHVybC5vcmcvZGMvZWxlbWVudHMvMS4xLyI+PGRjOmNyZWF0b3I+PHJkZjpTZXEgeG1sbnM6cmRmPSJodHRwOi8vd3d3LnczLm9yZy8xOTk5LzAyLzIyLXJkZi1zeW50YXgtbnMjIj48cmRmOmxpPmpvcmdlPC9yZGY6bGk+PC9yZGY6U2VxPg0KCQkJPC9kYzpjcmVhdG9yPjwvcmRmOkRlc2NyaXB0aW9uPjwvcmRmOlJERj48L3g6eG1wbWV0YT4NCiAgICAgICAgICAgICAgICAgICAgICAgICAgICAgICAgICAgICAgICAgICAgICAgICAgICAgICAgICAgICAgICAgICAgICAgICAgICAgICAgICAgICAgICAgICAgICAgICAgICAKICAgICAgICAgICAgICAgICAgICAgICAgICAgICAgICAgICAgICAgICAgICAgICAgICAgICAgICAgICAgICAgICAgICAgICAgICAgICAgICAgICAgICAgICAgICAgICAgICAgIAogICAgICAgICAgICAgICAgICAgICAgICAgICAgICAgICAgICAgICAgICAgICAgICAgICAgICAgICAgICAgICAgICAgICAgICAgICAgICAgICAgICAgICAgICAgICAgICAgICAgCiAgICAgICAgICAgICAgICAgICAgICAgICAgICAgICAgICAgICAgICAgICAgICAgICAgICAgICAgICAgICAgICAgICAgICAgICAgICAgICAgICAgICAgICAgICAgICAgICAgICAKICAgICAgICAgICAgICAgICAgICAgICAgICAgICAgICAgICAgICAgICAgICAgICAgICAgICAgICAgICAgICAgICAgICAgICAgICAgICAgICAgICAgICAgICAgICAgICAgICAgIAogICAgICAgICAgICAgICAgICAgICAgICAgICAgICAgICAgICAgICAgICAgICAgICAgICAgICAgICAgICAgICAgICAgICAgICAgICAgICAgICAgICAgICAgICAgICAgICAgICAgCiAgICAgICAgICAgICAgICAgICAgICAgICAgICAgICAgICAgICAgICAgICAgICAgICAgICAgICAgICAgICAgICAgICAgICAgICAgICAgICAgICAgICAgICAgICAgICAgICAgICAKICAgICAgICAgICAgICAgICAgICAgICAgICAgICAgICAgICAgICAgICAgICAgICAgICAgICAgICAgICAgICAgICAgICAgICAgICAgICAgICAgICAgICAgICAgICAgICAgICAgIAogICAgICAgICAgICAgICAgICAgICAgICAgICAgICAgICAgICAgICAgICAgICAgICAgICAgICAgICAgICAgICAgICAgICAgICAgICAgICAgICAgICAgICAgICAgICAgICAgICAgCiAgICAgICAgICAgICAgICAgICAgICAgICAgICAgICAgICAgICAgICAgICAgICAgICAgICAgICAgICAgICAgICAgICAgICAgICAgICAgICAgICAgICAgICAgICAgICAgICAgICAKICAgICAgICAgICAgICAgICAgICAgICAgICAgICAgICAgICAgICAgICAgICAgICAgICAgICAgICAgICAgICAgICAgICAgICAgICAgICAgICAgICAgICAgICAgICAgICAgICAgIAogICAgICAgICAgICAgICAgICAgICAgICAgICAgICAgICAgICAgICAgICAgICAgICAgICAgICAgICAgICAgICAgICAgICAgICAgICAgICAgICAgICAgICAgICAgICAgICAgICAgCiAgICAgICAgICAgICAgICAgICAgICAgICAgICAgICAgICAgICAgICAgICAgICAgICAgICAgICAgICAgICAgICAgICAgICAgICAgICAgICAgICAgICAgICAgICAgICAgICAgICAKICAgICAgICAgICAgICAgICAgICAgICAgICAgICAgICAgICAgICAgICAgICAgICAgICAgICAgICAgICAgICAgICAgICAgICAgICAgICAgICAgICAgICAgICAgICAgICAgICAgIAogICAgICAgICAgICAgICAgICAgICAgICAgICAgICAgICAgICAgICAgICAgICAgICAgICAgICAgICAgICAgICAgICAgICAgICAgICAgICAgICAgICAgICAgICAgICAgICAgICAgCiAgICAgICAgICAgICAgICAgICAgICAgICAgICAgICAgICAgICAgICAgICAgICAgICAgICAgICAgICAgICAgICAgICAgICAgICAgICAgICAgICAgICAgICAgICAgICAgICAgICAKICAgICAgICAgICAgICAgICAgICAgICAgICAgICAgICAgICAgICAgICAgICAgICAgICAgICAgICAgICAgICAgICAgICAgICAgICAgICAgICAgICAgICAgICAgICAgICAgICAgIAogICAgICAgICAgICAgICAgICAgICAgICAgICAgICAgICAgICAgICAgICAgICAgICAgICAgICAgICAgICAgICAgICAgICAgICAgICAgICAgICAgICAgICAgICAgICAgICAgICAgCiAgICAgICAgICAgICAgICAgICAgICAgICAgICAgICAgICAgICAgICAgICAgICAgICAgICAgICAgICAgICAgICAgICAgICAgICAgICAgICAgICAgICAgICAgICAgICAgICAgICAKICAgICAgICAgICAgICAgICAgICAgICAgICAgICAgICAgICAgICAgICAgICAgICAgICAgICAgICAgICAgICAgICAgICAgICAgICAgICAgICAgICAgICAgICAgICAgICAgICAgIAogICAgICAgICAgICAgICAgICAgICAgICAgICAgPD94cGFja2V0IGVuZD0ndyc/Pv/bAEMABwUFBgUEBwYFBggHBwgKEQsKCQkKFQ8QDBEYFRoZGBUYFxseJyEbHSUdFxgiLiIlKCkrLCsaIC8zLyoyJyorKv/bAEMBBwgICgkKFAsLFCocGBwqKioqKioqKioqKioqKioqKioqKioqKioqKioqKioqKioqKioqKioqKioqKioqKioqKv/AABEIASwDMQMBIgACEQEDEQH/xAAfAAABBQEBAQEBAQAAAAAAAAAAAQIDBAUGBwgJCgv/xAC1EAACAQMDAgQDBQUEBAAAAX0BAgMABBEFEiExQQYTUWEHInEUMoGRoQgjQrHBFVLR8CQzYnKCCQoWFxgZGiUmJygpKjQ1Njc4OTpDREVGR0hJSlNUVVZXWFlaY2RlZmdoaWpzdHV2d3h5eoOEhYaHiImKkpOUlZaXmJmaoqOkpaanqKmqsrO0tba3uLm6wsPExcbHyMnK0tPU1dbX2Nna4eLj5OXm5+jp6vHy8/T19vf4+fr/xAAfAQADAQEBAQEBAQEBAAAAAAAAAQIDBAUGBwgJCgv/xAC1EQACAQIEBAMEBwUEBAABAncAAQIDEQQFITEGEkFRB2FxEyIygQgUQpGhscEJIzNS8BVictEKFiQ04SXxFxgZGiYnKCkqNTY3ODk6Q0RFRkdISUpTVFVWV1hZWmNkZWZnaGlqc3R1dnd4eXqCg4SFhoeIiYqSk5SVlpeYmZqio6Slpqeoqaqys7S1tre4ubrCw8TFxsfIycrS09TV1tfY2dri4+Tl5ufo6ery8/T19vf4+fr/2gAMAwEAAhEDEQA/APpGiiigAooooAKKKKACiiigAooooAKKKKACiiigAooooAKKKKACiiigAooooAKKKKACiiigAooooAKKKKACiiigAooooAKKKKACiiigAooooAKKKKACiiigAooooAKKKKACiiigAooooAKKKKACiiigAooooAKKKKACiiigAooooAKKKKACiiigAooooAKKKKACiiigAooooAKKKKACiiigAooooAKKKKACiiigAooooAKKKKACiiigAooooAKKKKACiiigAooooAKKKKACiiigAooooAKKKKACiiigAooooAKKa7rGjPIwVVGSxOABXFan8YvA2kXjWt9rsKyrwQis2PxAoA7eisHw7418P+Ko92hanDdcZ2g4b8jzW9QAUUVieJ/F+i+DtPS98Q3f2W3dtquVLZP4UAbdFUdH1iy17SodR0ubzrWdd0b4IyPxq9QAUUUZoAKKKKACijNc54p8e+HfBjQL4ivxaG4/1QKM27t2FAHR0VDaXUV7aR3Ns2+KVdyNjqKwvF3jfSvBlvbyas7brmTy4oowSzn2A+tAHR0VBZXQvbKK5VGQSqGCuOQDU9ABRRRQAUUUUAFFcv8A8LG8Mf8ACWL4a/tEf2qzbBB5bdevXGK6igAooooAKKKKACiiigAooooAKKp6tqtnomlz6jqUvk2sC7pHwTgfhVLw14s0fxfpn9oeH7sXVtu27wpXn6GgDZooooAKK5q2+IHhy78WP4bgv92qR53QeW3GPfGK6WgAorL8Q+I9M8LaRJqet3H2a0jIDybScZOBwKdoWv6d4k0qPUdHn8+1k+7JtIz+dAGlRRmigAooooAKKKKACiiigAopk0yW8DzSnakalmPoBXAS/HP4fwzPFJrih0YqwMT8EfhQB6FRXn0Pxy+H80yxJr0e5zgZjYf0ru7S7gvrWO5tJVlhkUMrqcgigCaiiigAooooAKKKKACikJCqSegGTXOaF8QPDfiTWLnS9H1D7ReWv+tj8tht/EigDpKKKKACiikZgilj0AyaAFormvD/AMQPDnijVbnTtEv/ALRdWpImTYw24OD1FdLQAUUUUAFFFFABRRWP4l8VaR4R0z+0Nfuvsttu279pbn8KANiiqOjazY6/pMOpaVN59rMN0b4IyPxqn4r8U6d4P0GXVtXl8u3jOOOpPoBQBtUVl+Hdci8RaLDqdtFJFDONyCQYJHritSgAooooAKKKKACiiigAooooAKKKKACiiigAooooAKKKKACiiigAooooAKKKKACiiigAooooAKKKKAPN/jvq17pPwrv5NOLrJJ+7Z06qp615T8HPh38PvFHhCO98R3Cy6pJI3mRPcBSvJxwfUc19A+LZ/D8egyweLJ4YbC4/dsZjgEmvHJP2ePDmuWr6n4J8RTwwzEmIxOSmR79aAIW+COteFfiXZ6x8P5QumKwaRWm5xzke4xXqPjz4naL8P7OI6s5kvJh+7touWY14BqM/jr4KeNdPjutYkvrO6dVw7Fldc4I56VX8caxe6v8AHu1vYNLOqvHHHJBYseG70AetaL+0Vod9rENjq2m3WlCf7ks6kL+oFZv7UciTfDzTJYmDI11kEHgjArkPiPF408faTb2o+HTabLBIGWaIAHjt1qf4t2+pWn7Pfhi31yOSO+il2yLJ1BxQB618LtRtNI+C+l31/MsNtBah3djgABRXKXX7S+ipdTCw0a9u7SFsG5RTt+vSuZ8X3s1p+yppMUBZVmWNXIPbA4/Wq3gbXvEul+AYNP034apqFpLGf9KYZMue9AHvHgzx3ovjnSPt+iXG9V4kjbhoz7iuM8YfH/w/4Y1ttKtbebU7mMkSCDkKfTjNecfCPw34s8Jap4iu7/SrjTbKexkZVc/KGwSO9Wf2Z9KstW1TXdV1SKK7u94wZVDbck5PNAHqHgH4z6B46vm0+FZLLUByLebgt9Km+IXxf0D4fSJbXxa5vpBuW3i5OPU+lV7n4T+Gh8RoPE9vciyvUYN5ERCqxA9M149pNrF4o/aqu01vbNHbzvsikGQQF4H65oA9I8NftE+H9b1qHTtQs7jTHnYLG0w4JPTsKh+Oer+DrG40c+LdJm1JpAWtzDLt2jP0Oa6Px98KfDPi6WynvXTTJrVso8ACbun09K8n/act1sv+EVto5DIsMWxXPVgD1oA9+g1vS9I8Fw6pcOLSwjgDDe33R2H1rxPXPjn4K1bxFb6lN4evNQOnMfImOdi8/exj2o+PV7cW/wAHfDdvDMY4rlgsoH8QABr0b4Z+EdBX4W6bB9gtp1urUGWQxglyV5OetAG34H+IGh+PdMN1ocxJjwJInGGQ+mK5DVfj5oeieL9Q0PUrWSI2RIMufvkDoBivLPgo7aN8fNV0uwZhZsZUKA/LgMMVY03R7LWP2rNQi1KFZ4o52cIwyCcelAHbab+0x4fu9YhtLzTbmzimcIJpOgyeCeK9pgmjubeOaFg0cihlYdwa+bv2pdIsLK20W4s7SG3kLOpMSBcjj0r3D4eO8nw90VpGLMbVMk/SgDfubmGztZLi5kWOKJSzsxwABXjWoftL+G7TWpbS1sbm7gifa1xGOMZ5IGK6D4+XtzY/CLU5LSRomYopZfQsAawv2ffCeif8KyjvJbO3up7xj5ryIGP056daAPLvD2t2XiL9qCw1XTH329zOrLkYI+XkGvf/AIgfFbQvh8I4tQLXF7Lgx20XLGvANB0610j9quGz09FW3jvMqq9FyuaTxJqOoz/tI31xb6MdcmtpSIrNzxgCgD1zw9+0LoWq63Fpuq2F1pMkxAja4UgEnp1Ar1xHWRFdCGVhkEdxXyz8Srfxt4/tLaNfh42mT27bhPCMN9K+h/Akd9D4H0uLVkZLuOALIH6gigDP+I3j6P4e6JFqdzYyXcLybG2H7vueKveG/GVj4k8FJ4ktgVtmiMjLnlcDJFQ/Ebw7H4o8B6npsiBmaEsn+8Of6V87+CPG76B8DvFWiXMrR3do7RRj+6X3Dj8RQB7d4D+LVl471HUYLSxkt4LDd5k8jfKcH6VzGsftKeH7LVprPS9PudSWE4MsQ4P6GmfBnw1Z6J8Fry814mGLUlaa5kzghMnv+Vcd4R8Safa3d/a/CzwE2pwOxV7u6G7HvyTxQB678O/i/onxCmltLNJLa+iG5reTqR6iszVvjrouieObrw7qVu8P2XmS4LcdAf615V8HBfL+0Ne/2pbx2t0Y5TJDEMKp9BUWp6DZeI/2q7qw1JPMtzKrMn97CrxQB6qnxQ0Hx18PdfvptPmk020+SVC20yDI6ccdavfBjU/Dlx4FluvDVi+m6fHIxdJpNxBHU5wKm+JGi6bonwj1yLSbOK1QwjIjXGeRXF/Ag2P/AAozUv7Xcx2OZfPYHBCc55oA0NX/AGk9BstXuLPTdNutRSAlXliBxkdex4rqfh58XdD+IcktrYrJbXsQ3NBJ1x6ivI/CPie0tbm+tPhb4C/tO2dyJLu6G/n15J4qn8Fzer8fNS/tGCO3uyrebFCMKpx0FAEDeJbDwn+0nqmrau+y3hWTp1Y9gPc16JpX7S/hy91mKzvrK4sYpWws8nT2J4rzxNEsde/amntdUCtAsxk2N0Yg8Cu6/aQ8LaND8P4tRt7KC3ureZUjaJAvGDxxQBu/tBzR3HwXvZoXEkbtEyspyCN4qx8DrmGy+DVjc3MixwxIWd2OAoAHNee67qNxqn7IUE15nzE8uMMf4gHHP61BLf3Fh+yOjWrsjSssbMv909RQB2GpftIaJBqFxDpOlXmpQW5w88SnaPyBrvPAvxD0Xx9prXWkSFZI/wDWwycMleA/CrXvEei+B0h0b4fprNtOWLXbLnzDk8fh0/CtX4P+FvFWnfFC+vtR0S40nT7+NwyZ+VCQcDr60Ad34q+P+geH9fk0ews7jVbqFisogGQpHUcA5q34G+OOg+MtY/sl4JtO1BjhIZxjd+eK8fvvBfjj4Y/EC/8AEOlaRHrFvLJI+4qHG1iTznoea0vDHjnwh4k+I9lc+J/Dj6NrgcLFJDlU3e4yP5UAfTleb+OvjDZeA/E9rpWp6dKyXO3bOp4wcZ7ds16QPujHNeLftK+FzqngePWLaPM+nPuJA52nqf0oA9J8T+MLLwv4Nl8RXQL26RLIqDq2RkCq3w/8ap488Pf2vBZSWkJcqgc53e/Svn3xz43k8S/Bfwpo1pIxvL1xHIvchSy/0FfRngfQY/DXgzTdLiXb5MIDe5oA0tZ/5Ad9/wBcH/ka+Ufgt4F0Hxv4y1238RW7TpCzsgV9uDvr6u1n/kB33/XB/wCRr43+HHgrWfGfi3WIND1htLeF3Z3Vyu4bunFAHpfxf+Dfgzwx4CuNT0mJ7O6iI2Fpc7+Rxiup+AWsSWfwaF5rkxitbR3KyyHog+vtXj/xQ+GnivwbpNtqOt62+r6eJgHjaVjg5Hau58ceI7fUP2YLS40O2+x28zJDJHHxtIGGoA3L39pXRY7yddN0a9vrWFsNcop2/XpXpHgvx3ovjvSPt+iT7gvEkbcMh9xXgvw91zxLpPgGCw0r4bpqNrMhJumGTLnvUnwk8OeK/C/iLxDf32jz6XZT2crKhPyq2CRjmgD0Txp8fNA8J642lQ28uo3EfEnk9FPpmsyb9pXw7usUtLKaWW5O10JwYjnGCMVxv7N+k2mu+Jde1XWEjvLkPwJlDYJJycGsv4+aDp2jfFjSJdNhjtzdhXkjjGBkEDOKAPdfH/xPtPAVtps13aPcC/YKgU425rob7xFFY+DZfEDws0Udr9pMYPONucV4j+0n/wAgjwv/ANdl5/AV6b4gIHwLuzn/AJg5/wDRdAEfw6+KFl8SbHUJLGzktha/K285zkfSvJvgNj/hcfiT1yf5mrf7Kv8AyBfEHP8Ay0H/AKDVT4Df8lk8S+g3fzNAHpHjr45aD4M1oaSsMuo3w+/HCM7fbjPNUvCn7QegeItfi0m7tJ9NnmO2PzhwT6dBiuK1jXfCuj/FS6Pg3wxL4i8QmRvOMjFkViecAnt9K5HxjPrl38W9AufEOjW+jySSqYreFcEDPfigD6A+IXxXsPh9qWn2l/avN9tIw6tgKM4z0qt4f+Muh+KvGEnh7SoZZSsTO0+flyByK8z/AGlrcXXiLwxA/wB2XahP1OK9q8L+DdD8PaBbtpthFFMtsAZgPmY7eTmgDgfhRqvg+98eazD4Z0ieyvUZ/tEsku4OQ3OBjjmn6r+0FBpWrXVi/hrUJTbyFDIinDY79K439n4f8XX8S/8AXST/ANDrsvjf8QdP8J6W2kaNa2s2t3w2gCJS0YPGenXrQBN4Q/aB03xb4qttDg0meCadsbnb7v14q742+O+g+EdcOkRW82o3acSJBztPpxmsP4E/ChvD9oPE/iBM6pdrujRh/qlPOfqc1y9z4h8M6V8T70eBfCkviHWyzCdpSWQcjJAJ9eOlAHoHg74+eH/FOuJpNxbzaddyHEazD7x9O1dV48+Imi/D/TBdaxITJJ/qoU5Z6+YvEs+sT/G/RbjXdLh0m5kliZbeAY2ruPX3611PxXX+2/2kdJ0vUZN1mjQ4jb7pyeR+OKAO0039pjQLnUIYdQ026sYJTgTuDj+VdF8XtY8M/wDCvIr/AMQWb6npkrqUWGTbnOMHODWn41+GXhrxb4disL6GGxjhIKTRIqEYGMZ4rzv43aJb+HfgTaaXZXDXMFvMqpIxzkZFAHpvgDUtH/4VzZX2mQmw0xYdyLK+digdz9K8r8cfGvwRrt6NNu9Gu9Yt7KbzAYyQhYccjByOaj1W+ubH9ke2ktJGjd0jjYr/AHSORXQfs8+G9I/4VnFeSWlvcz3LsZJHjDHqeOaAOp+HXxU8N+OoPsukf6LcwrzaOMFR7VS8YfGnSPBfjOPQdUtpBuRXacNwoP4V5DdWcPhL9qe2h0NPKimky0SHj5g2Rj8KtfFawt9U/aV0q0vYxJC6w7lPQ0AddL+094fi1HyTpd0LYvtE5GMj1xivZNJ1S01vSrfUdPlEttcIHRh3FeP/ALQvh/SbX4WLJbafbwyQSKEeOMKRwe4roPgAzP8AB/TdzE4LAZPQUAemUUgpaACiiigAooooAKKKKACiiigAooooAKKKKACiiigAooooAKKKKACiiigAooooAKKKKAOW+IngyDx34PutHmYI7DdC5/hcdDXgWhWfxg+F0cmlabpxvrAOfKBYMo9xzxX1NRQB8x6f8O/iB8TvGlrq/jxTZWVqysqFgRgHO0AE4rpfir8L9dh8VWHjDwEge8tFVXgyASFxjr+Ne70UAfOVzdfGX4hT2unyWQ0G3jcedcxMBkep5Oa6j4zeAde1z4aaTo2hxyapd2koMju6hm465OK9looA8qg+G9zrnwJtvCmrJ9mvo4F25IOxwOOnvXnuiX3xh8DaOfC9noKXkSbkguCwOBnqDu4r6XxRQB5T8KvA3iixsL688e6lNc3F/GY/sjOGWIHr078mvOT4M8f/AAk8aX+oeDbBdR067YkJkYwScAjIPGa+nKKAPnjwF8PfF/if4kDxl49RrRY2DxW+/OSAAMAE4FP+J/wx8T6b8QovG3gGDzpi2+WJWAIbv1PII4r6ExRQB8yXPhz4l/FzxHp58UWX9k6baOC+1sAjIzxnOeK6P47fDjX/ABLH4eg8M2JvI7CPy3PmKuPzNe8UgFAHnXjL4c/8Jp8LbbRbnEN/bxKYmPO1x2/SvJNMuPjL4N0GTwtZ6P50QBjhudwJQdBtOa+ocUnOaAPFfgf8J9T8J3t14i8UEf2ndqQseclATkkn1yKr6F4C8R2n7Q2oeI7iwKaXM7FJ9685HpnNe50UAeL/ALQvgjxB4z0/S4/DlgbxoGYuA6rjOPUivS/BVhc6X4K0qxvo/LuILdUkTOcEVu0UAYXjPw1B4u8I3+jXIG24jwpPZhyD+dfOvhnTPi78NpLjQNH077TazORHIWBVc/xDnivqeigD5h8C/Crx3pvxksNe16zMsIm864uvNU9R6Zzx0roviZ8OPFGlfERPHXgOMXM7HM9vuAOe55IyDXvlFAHznO3xh+JN/a21xbf8I7ZxsPNmiYDI78ZJr6B0uybTtKtrR5mnaGMK0j9XOOTVuigBrgMpVhkEYI9a+WPG3wO8U3vxJun0ay3aNfXKySSLIoCgtzkZycZr6pooA5jV/Cou/hrP4asysJezECnsDgf1FeAeBtJ+LHgCS88P6Pokbx3Dn9/IQVTPG4c19TYooA+c/hn8PPGvhj4wvrPiCxNzBcBxLdrIuNzd8ZzWpB4A8SR/tIy+Jm00/wBkswIuPMX+6B0zntXu4z3ox70Acx8R9JvNc+H2q6dpsXnXU8W2NMgZOR61598Ofh5rdp8FNW8M6zbfYr27WRUDMGxuBx0Ne0YxSmgD5a8Daf8AFjwGbvw7o2ixvFO5xcSEYT/aHNbPwv8Ah3418LfFubVdfsDcQTbhJeLIuCSOuM5r6MoxQB8weLPhf4/n+LN/4j8O2flrHIZ7eYyL85HOMZzzUGuaJ8V/ipqFnpPiHT/sFlCw81gw28fxHnk19TUUAeWfETwFeyfBEeFfDVubqeFY1RNwXdhgScnFM8L/AA5ur74GDwn4hg+y3LRkYJDbGxweK9WooA+ZPDo+LPwutbjw9peiR6jZmQmCYkHbnuOeOtd98LvB/jRJr/WPHOqTrPeRssNoHBERI+9+v6V67j0ooA+bns/i/wDDvxNeyWEbeINPmY+X5zhl25OOMg5xVXR/Afjb4h/Euy8SeKtKi0m2t3Vn2YG4D0GTX03RQAgGFA9BWb4i0iLXvDd9pk6hluYWjwfUjitOuO+Itl4uv9DWDwNPDBdMSJHlbbge1AHzH8I/CUurfGOPTrnMtrpEzuynJUANjH619mAYGB07V5j8HvhfdeBIL6+1u4W51W/fdIy8hfXmvT6AKmqxST6RdxQrukeFlUepIrxT4FeAPEnhPxbrV5r+nG1hud3lMZFbdls9jXu1FAHm3xz8K6t4u+H7WGg232m6EqsI9wXIBHc1z3hP4balqnwFl8H+IrRtPvFd3jLOrDd/CeK9qxRQB8z6FffGDwDpR8NWehJeQoSsFwxBwM9Rzx+NegfCrwR4rsYb7UvH+qS3E19GUFmzgrGD1Jx9TXrFMmiE8EkTEgOpUkdRkUAfL0vg7x58L/Ht9feBrVNQsLpyyrG4IwScAjOeM1x3xAtfFX/Cd6Tf+NnQX96yslupz5SggY6mvYp/hv8AEjwv4tuNS8E66t3azsT5F9JkID2wTUek/BvxR4j8dxeJviTfwSNbsDHbwYKnHbrwKANv41fD7U/G/grT20MBr2xxIIycbxgcA157bQfGTxF4Pk8MNpwt7WOAxPLIwDOoGNvXvX06qhVAXgAYFLQB4n+z74G8QeDNO1iHxFYG1e4YGP51bcMY7Gq3wk+H/iPw78Std1LWdPNvZ3YYRSb1O7JPYGvdaKAPl+78IfEH4d/FW/1zwxpi6lDeyuyEkbSGJOCM9s03Xvh/8Ttc8baX4o1nTku3Dq7QRSKogAPTk19Q0DNAHiHxn8DeI/F2ueG7vRdOaaO1ZGn/AHijZg5PU17LawumjxQsMOIQpHvirdBGaAPCPhF4C8TeF/HfiDUdV08wQ3JkMDmRTuy2R0Nee3/wy+Jv/Cf3HiEaH9sm88yRtLOhB9P4q+uaKAPD/DGo/GW48Q2sPiDSY7fTGO2ZxIp2r+DVxcfhT4i/DX4kX+o+G9KXUo712KsSNpDHPPIr6kooA+VNT+GvxM1P4iaf4n1nTRdyPLHNKsUqgQAN9zk9utd58afhhrHiPUbDxV4Uj/4mtqFZ4sgMcYI59sV7fRQB8u6za/Fz4l21noOqaX/Z9rC482dWA3Y4yeefwrvfiT8NtTf4MWPhfw1A19PasuQXALYIycmvZSM0UAebeH/AM1/8EYfCuvxG3na32MuQdjbcA8V5Nodh8V/hQbvRtF0v+0bF3JhckEDPcDPFfUVFAHz/APCn4WeJZ/Hb+NvHwKXYJaKJmBYsRjJx25q9418BeItV+PmmeILHTzJpkAjDzeYoxjrxnNe5UUAedfGzw1qvin4dyadodqbm6MgYRhgOMHuatfBvQNS8NfDWx03WrY213GSWjLA4/Ku7NAoASloooAKKKKACiiigAooooAKKKKACiiigAooooAKKKKACiiigAooooAKKKKACiiigAooooAKKQkDknA9TTPPi/wCeqf8AfQoAkoqPz4f+eqf99CnhgwypBHqKAFooooAKKKKAA0UUUAFFFFABRRRQAUUUUAFFFFABRRRQAUUUUAFFFFABRRRQAUUUUAFFFFABRRRQAUUUUAFFFFABRRRQAUUUUAFFFFABRRRQAUUUUAFFFFABRRRQAUUUUAFFFFABSUtFAAKKKKACiiigBKWiigAooooAKKKKACiiigAooooAKKKKACiiigAooooAKKKKACiiigAooooAKKKKACiiigAooooAKKKKACiiigAooooAKKKKACiiigAooooAKKKKACiiigCrqdiNS0y4s2keITRlN6HDLkdQa+Z9Dsbjw78Vbjwx4/1nVRb3TH7DcC8dVOTx/OvqKvNvjP4CtvF3hKS9jdbbUtPHm29wTjGOxNAEupfCSwuNNlWx1rWIZih8uT7a5wccVpfC2w1LS/BYsdanmubm3uZY/NmJLOoPB5qj8GNb1rXfh1aT+IYWWdDsSVhgyqP4q7/AHQY+lAHL+N/Gsfguyt7q4sZbmKaQR5j/AISfXitz+0Cuim/ki27YjKU3dsZ61x/xm097/wCGGo+U21oAJQw7YP8A9eootRl8S6Do2j6bM37+BJLuZf4UHb8SMfjQB0Xh7xSmtaDJq9xbNY2ybjulPVR3+lWNG1ebV7WW+ihxbEnyB3kA7/pXK/FmY6N8Nxa6eBFHLLHa4HGEbiu00WJYNBsI0AAW3QcD/ZFAHPeE/H9v4q13VNLhs5LebTG2zCQ9/wAq0dK8SnVdeu9Phs3EVqcNc5ypPPHTrxXlt/DqGkftC3Nl4cKn+3LQPeNniHlsn68V6yIoPDHh9zbW8k4hXcyxjLynuee5oA16Kjt5fPtYptrJ5iBtrdRkdDSzf6l8MU+U/MO3vQBz2reJp4dafR9HtRdXscBmkDNtCjGQPxouPFL6boFtdata+RfXL+VHaK2Sz84A/AVx3w30261LxRruuy6jcOouzAjMijzFRiMU/wAQ3Dah8fNCsJc+TZ2zTqueC2Rz+tAHaa1rtz4e8Mvql1ZPdNCm+WOHqo/LmqumeOLXUvA//CTLD5dsYzIEZ+TxnH19q39QWB9NuUvCqwPGyyFugBGDXhXwvjW98Yan4VvZ5DpNhcNc2MDcCUEkg+4GBxQB7N4b1yXX9JS+lsJbFZPuLLkEj1ximahrT6Rq0Md+oFlcnZHMP4G9DV6/vl02OAC2klV3EYWID5BjqfbisD4kwiTwFfSfxw7JEPcEMKAL+sa5JoWo273qg6dcOIvOz/q3PAz7GtxWDqGU5BGQfWuB8QSHV/gbNd3PzSjTPP3H++Ezn863vAd/JqXgXSrqYku8ABJ9uP6UAdAx2qSegGTVTTdVs9WikksJllSKQxuR2YcEVymv/EWLR9QubB9C1S4MYI82GJSh47HNcJ8OviPDpWj6kp0HVbgyahPLmKJTjLZweetAHuVVdRnltrGSW2hM0wHyJ/ePak0u/Gp6bDdiGSASrny5Rhl+tUvFHiK28MaFPqF0clRiKPvI54AH44oAj8K63d61p0r6laC0u4ZWjkiV9wGD603xB4v03w/NFbTs099P/qbWEbpH/DrisX4bX99d+ErvVtYg8i5muJZWi7oM5x9a5L4NIfE/ibxH4r1X97dLdm3t9xyI0HHHp92gDtNc8c3WgaHHqd7oNyYmZVZUyWTJAGRj3q9L4pWa4sLGwjL317EJvLP/ACyTAOT+dbtxbQ3lu0F1GskbYyrdD3rzjwDKb74leKriQf8AHqyW0S/3VUsBigDsvEXiFPD9lAWTzrq5kEMEQP33I/8ArVS/tbxFHFey3GmIgtWyoV8+cnGSOOo5/KuR8QWFxrfxo0+wXULgw2kJuioRcQsCAMfg1eoxxYtxFI5kwu0s38VAEGlanb6vpsV5aHKSLnB6qe4PvVyvP/hrcNHqviTS9xMVrfMYx/dyzZ/lXoFABRRRQAUUUUAFFFFABRRRQAUUUUAFFFFABRRRQAUUUUAFFFFABRRRQAUUUUAFFFFABRRRQAUUUUAFFFFABRRRQAUUUUAFFFFABRRRQAUUUUAFFFFABRRRQAUUUUAFFFFABRRRQAUUUUAFFFFABRRRQAUUUUAFFFFABRRRQAUUUUAFFFFABRRRQAUUUUAFFFFABXm2u3h+IHiQ+HdOuAmkWThtQmVv9af+eY/P9K7bxDY3upaFc2mmXX2S4mUqs2M7c14rb/s9a5ZmU2XjK+t/OcvIIXZQzevDUAe6Qi0sLNYYWihghXAAIAUCqeha5Dr0M89rhoIpmiWQHIYqcHFeOP8AATxJJGySeO9TZWGGUzOQR/31Xq3gbwsng3wnbaNHKZvJJLSHqxPU0AaHiLShrfhy+01sYuYinNYnw58GL4L8KwWMsnnXeP30p7n0HtXW0UAcv8RdAfxH4JvLOFd06jzYR/tryKu+GtR+2+FrR4kzPFCsckTHkMowc/lW3VW30+3tbqSe3Ty2l++B0J9aAPPPCXg7XbH4pa14o1yKJ1vlCW4RhmJc9Ov1re8eX08T6RY2dw9vPd3iDep42hhkH65rrxVO80qz1CaCW7gWV7dt0bMPun/IoA5nx7feJ9LsbO48MG3fy3AnjlHzSD0XkVtazqiWvhu9neRUnS2JKZ5ViMDj61qS28MzIZY1cxncu4Zwaxrvwjp95q8l/OZWaUASR7/kYA5HH1oAz/hnpk2meBrUXIInumNzID/efk1keNdMm0/4g6B4piBNtEfs93gZKqed36CvQ0VUQIgCqowAOwpk8EdzC0M6K8bjDKwyDQByevadrXiHWrW22ougKQ82xxumPYdenSsTxT4M1n/hYmi+IPC1vbxJZoYrgE48yPjjr2ANei2trHZ26ww7tijCgnOKmoA4q/1G5ufiTpOnJNJb+XbtcTxqw2tyBtP51N8RZZbjw9/ZNivm3V9IkYQdQu4En8s10baTZNqn9omBTdhdgkxzinDTrcagbzZunIwGbnA9qAOQ8Zw/2b8OF8O2f725uoFsY0XqcjaW+grpPDWl/wBieGrDTs5NvCqsffHNWjpls2o/bnTfOF2qzc7R7elW6AI5U3QyAAElSBx7VyXw50e90jSdRi1ODynl1GaVAcHKM2Qa7HFJQAuMdK4fUfCupeJPHsV3rhQaLpw3WsC/8tJORub9PyruKKAOT8MaTren6hqMGpmH+zmuJJIAnVw5zg89qwPD/g3XvAniDUT4eFvd6TqU3ntFJw0TfXI969Kx60tAGNYQ6vc3K3GqOkCIflgi7/U81y2lWa+F/itqXnER2utRrJCxOBvXJYfUlhXoVYniTwpp/ihLYagZla1k8yJ4ZChB47/hQBzPgyCTU/H/AIi16Rt0Qdba3I6FQBn9VruL68i0/T5rq4cIkSFiT/Km6bpttpVmltZRiONeeO57k06+0+31GNY7tPMjVt2wngn3oA5T4c6XLBaahrFypWTVblplUjBCEkr/ADrtKRVCKFQAKBgAdqWgAooooAKKKKACiiigAooooAKKKKACiiigAooooAKKKKACiiigAooooAKKKKACiiigAooooAKKKKACiiigAooooAKKKKACiiigAooooAKKKKACiiigAooooAKKKKACiiigAooooAKKKKACiiigAooooAKKKKACiiigAooooAKKKKACiiigAooooAKKKKACiiigBO9LRRQAUUUUAFFFFABRiiigAooooAKKKKACiiigAooooAKDRRQAUUUUAFJ3paKACiiigAooooAKKKKACiiigAooooAKKKKACiiigAooooAKKKKACiiigAooooAKKKKACiiigAooooAKKKKACiiigAooooAKKKKACiiigAooooAKKKKACiiigAooooAKKKKACiiigAooooAKKKKACiiigAooooAKKKKACiiigAooooAKKKKACiiigAooooAKKKKACiiigAooooAKKKKACiiigAooooAa8iRrukdUXuWOBUX260/5+Yf+/grjPi/KIvh/OZJWhjMqB3VipC9+RXJaZp/wqeC0A1aVp2VCR9sm5bH19aAPZwQRkciiuG1X4gJo/iVPDWmaVc3919lWeIRchlyR1J9q1fCPi4eJRdwz2Uthe2b7JreXqvXB/SgDpKK5DxX49j8M69Y6SthPeXV9GXhWEZyQcYqLVvHsunNaWVvpE91q88QlkskxuiXnk8+1AHaUVxmmfEexudJ1K41O3lsLnTV3XFtJjcBzjHPfBrKl+KtzYw20+reHLyzt7yQJbSuBh88g9fSgD0iiuGuPiMw8aTeG7DSLm7uodrO0YG1VJ6nmnat8QprfVJ7LQ9GuNVNrxcPDjEZ9OvXg0AdvSFgoJY4A5JPauJn+J+nL4ZtdTtLea4nup/s0VqoG7zeflPP+yafp/i+bVrPVLXWtFutNlt7dpGSTA3pg9CDQB2SyK6b0ZWXsQcihJEkGY3Vx3KnNebz+LbS38EaZp2i2l3NdanARb20R3SKmBk5J7ZHep/CHi2zstJv9Mk0+6sb/AEuIzS21ycu46lup9aAPQ6CcCvNIvi5JLptrqw8O339kzMFa7wMIScetd9dTpc6HNPA2UkgLow7jGRQBZFxCdoEqEtwuGHP0qSvIfCWpWiWXhaPUEmnuprycQSeYcKRI/XnnpWqnxXnu7W5udM8O3t3b2cxjuZEAwmOp6+9AHpNFcdqXxDsrbR9NurC3kvbnU13W1rHjcw4z37ZFL4f8erqeoXGnatp82l38MRmEEuMug7jB9xQB2FN8xN+zcu7Gduea88f4o3cWy8m8NX0ekvKIxeMABycA9fU0rXkknxythFI7QPpjOEDcHgEcUAeiUVnaNf3Oo2rS3lk9m6uyhH6kA8GtGgAooooAKKKKACiiigAooooAKKKKACiiigAooooAKKKKACiiigAooooAKKKKACiiigAooooAKKKKACiiigAooooAKKKKACiiigAooooAKKKKACiiigAooooAKKKKACiiigAooooAKKKKACiiigAooooAKKKKACiiigAooooAKKKKACiiigAooooAKKKKACiiigAooooAKKKKACiiigAooooA4f4toZPAsmInmCzIzIiliQDzwKytP8f+C47W1jNhcLIkaKf+JfJwcAf3a9LZFb7ygj0IpvkQ/wDPJP8AvkUAcJpsLzfGe6vkhYW8mlR7JCpA++3FWfC0UieP/EjPEyqxj2sVwG5bpXabFByFAPTOKNoBJUAH19aAOJ1q1eX4waJN5DPHHYyAybchTvHeua8YWdvpHxS/trXrW6m0u6tFhWW3QuY3DE8gAnuK9bwM5xz60FQ3DKCPcUAeODT113w1rl/oGjy20KsrRyTfK90E3cYODj8O9VfGnjW11/wvpOn2NjciaO4iWYywsgiwpBwSOfwr2HVdOXU9JnsfNeASoVDxHaV9xiuPtfh9qc15ZN4g177faWT744Fh2byOm45OeKAIvClpKnxZ8SXEkDLFJbxhJCuA3PY1yjR6b4V8V66niazv3N5MZ7WS3jZ1kBJO3gHHUda9tCgdAB+FIyI5+dFbHTIzQB5FqMFha+A7GTUvDU0NjLd+YRAMyW4+bEmBk5/DvTPD+pX13f6tb6VcX1/of9nPzeRFWjfDfKuQD6V7CVDLtYAj0IpBGighUUA9QB1oA8X0pp/C7eF/EN/ZzvYpZGCXZGWaJiqgfKOanR5vFfirX/ElhaTxaeumG1jaWMqZmJU5Cnnsa9hMa7Nu1dvpjihY1VdqqoX0AoA8zlsZx8ArS1Fu/nCGPMe3nPmeldrYoy+CYEKkOLEArjnOytfYu3aVG30xTscY7UAeIaBaXJ/4Q0m2lHlX1wXyhG0eZJ1rqfBdpNF8NdYjkhZJHafClcE/JXogjQdEXjpx0pQqgYCgD0AoA8Il0mSx0vwhrWqWVxLp9pC8NysSkvGWCgHHXse1dJ4euLPUNZ1DUfC2jT7La0ZY726QqzscHaAcHH4dq9S2Lt27Rt9McUqoqDCAKPQDFAHgGo3w1bwXD/aL6peawkqvJbiJgkWHGR93kYGetdhpRe5+LOmX8UMv2YaPguUIAOwcc969NEUYJIRRnr8vWlEaL91FHbgUAUdG1i31m0ae1WRUVyhEiFTkHHf6VoUioqfdUD6CloAKKKKACiiigAooooAKKKKACiiigAooooAKKKKACiiigAooooAKKKKACiiigAooooAKKKKACiiigAooooAKKKKACiiigAooooAKKKKACiiigAooooAKKKKACiiigAooooAKKKKACiiigAooooAKKKKACiiigAooooAKKKKACiiigAooooAKKKKACiiigAooooAKKKKACiiigAooooAKKKKACiiigAooooAMUYoooAMUUUUAFFFFABRRRQAUUUUABooooAKKKKACiiigAooooAKKKKACiiigAooooAKKKKACiiigAooooAKKKKACiiigAooooAKKKKACiiigAooooAKKKKACiiigAooooAKKKKACiiigAooooAKKKKACiiigAooooAKKKKACiiigAooooAKKKKACiiigAooooAKKKKACiiigAooooAKKKKACiiigAooooAKKKKACiiigAooooAKKKKACiiigAooooAKKKKACiiigApCwBwSM/WqWrata6Lps17fyiOGJC5J9hXB+DoR430g6pfX0yXTXTSosbEBUBIUY9CMGgD0h3VF3OwUepNOzkcVxWnaq3inxtfWitjT9HbyyAf8AWS/4cisf4vS61oVnY69o1/PFbW9yovYEUHfESM9enGaAPTaQnAJPArg5tUn8YyWNp4ZvZIYERZbm8jGQAR9znvzXcRQiK3WFnL4XGWPLUASKyuoKkMD0IOaWuOi1FvDnjaPSJ5GNlqKs9uW/gcdV/HIrsTQAUVUfVbCNyr3cKsOCC44pBq+nE4F7D/32KALlFIrB1DIwYHoRWN4t11PDvhy4vj/rBhIh6sxwP50AbG9d23cM+madXmGux3b+HNHgtrqSXXru6hmcoxBVcguMegzXpcOUgjWRsuFAPucUASUUUUAFFcz4f8RXOqeJ9b06eNVjsJFWNh1YFQefzrpqACmmRQwDMAT2JrN8Sa3F4d8O3uq3HKW0TOF/vEDIFef3b3N18OxcyXMj67qTb7YBsFCTlRgf7NAHqlFV7BZYtPt0umzMEAc+pxTru3+02skIkaMupAdeq+9AE1FePeD/ABZeaBrfiLSfF9/NdXdnJm03KAZUIyAoHU8iu58I6dqqpJqWs3cxe5O+O0cD9wvp9aAOooooBB6HNABRXMeLvEs+gX2jQwRq41C5MLk/wgDNdPQAUUUUAFFFFABTVkV87WU464Nch401+WDU9M0Cwl8u51CT944/gjAyT+OCKpW8LSfFC2XRZXNjaWrrd/OSpYgbfx4NAHfUZ5xiiuN+JttrH/CIXV94dvJLa9tQJMIM71ByRg+2aAOyorzC08Uz+K/Bel2Ph25k/tW8iUzzf8+3A3Fvfnp7V6FpNhJp2mxW89y91KqgPK/Vj3NAF2ignHWigAooooAKKKKACiiigAooooAKKKKACiiigAooooAKKKKACiiigAooooAKKKKACiiigAooooAKKKKACiiigAooooAKKKKACiiigAooooAKKKKACiiigAooooAKKKKACiiigAooooAKKKKACiiigAooooAKKKKACiiigAooooAKKKZK/lxO4UsVUnA70Acd8WL02fw7vlQjzLkCBBjqW4xW34W01NL8J6faooBW3XPGOSMmuS1n7T4+u9ItIrKa2tba78+6MylcGNgVAz1zzXogUKqqvCqMAUAeY/CCN7fUPFEFwCsy6ixYH6LW74vuU8SQ3HhPTgk81xGRcP1WFSO/v1/Kp5dFl0jxVcanZIz2uojZdRpwyt/fH6VoaH4S0zw/NdT6d5/mXbb5XklLFj/k0AcP8DrsWWiah4XuQqXukXDIwzy6kkg/kRXWNqVtffENNNAuUuLG384lWHluGJXB4607T/AOi6Z4kn12zFyl9cf61/OOH+o/CmaLoeoaf4u1rVb5keC6b9xg5YIO386AMX4hZfxp4SSI/vRcsxA9MpXoR9D6Vy1hpFxqni5te1OIRx26mKziPUDux+vFdUeaAPF9euPBa69eLeeCb+5nEhEkyRthz6iqC3XgUMNngHUt2eP3bV7vRQBT0ryjpNsbeFoIjGCsbdUHoa4T4kyHVfE/hvw7G3E9z58wA6Ko3D9Vr0Y9683sNIm8R/FjVdSv47qG1sYRb2zglNxyc4PcYNAFPxNJ5vxX0iHw/CAbJHuNQmi6BRghSenODT1u9SvfAep+JFumF9FM7wc/KqqxXGPpXf6ZoGnaTFMtnAAZ/wDWyNy0n1PeuUbwfqkPhu+8P27p9lu5iyz7uUQncRj60Adhol+dT0O0vSMGaMMRWD4k8OeItV1QT6R4lm0y3CgeTGO/r0rpLC0Sw0+C1h+5CgUVYxQB4d4Y8JeKZvGPiKKDxfcRSxyoJJAOZDtHPSvXPD2nahpelrb6rqT6jODzO/U1FpPhqDSdb1LUYpGZ9QdWdSeFwAOPyraoA83+L032610fw5Hy2p3qB1HXYGG7+dZvjy3Q+JvDOieHYx/aSTIZpYuscSrj5j0Har93pc/ib40LLcxXMdhpFt+6lAKBncc4Pf7ort9M8PadpNzLc2sJNxN9+eQ7nPtnrQBgeLJru28WeHfJupEjmlZJIgflbCmuo1LU7XSbGS7vZVjijGSSevsPU1z3ifRtT1PxLot1ZQxtb2MjPKzPg8gjgVpa94V07xIYf7TM7LC4kVElKruHIyO9AHkXjSO40/xtoXxDvbYRWnniF4z1EZzhm/IfnXseszGfwveXFncNGTbPJHLGeR8pIqt4h8IaV4p0ddL1dZpLRcYRZCOlObQhp/hW40rSjJIDA0UQnlyRkY6mgDF8G61NH8LYNV1B5LmSOAySMT8zYGTVm0sbnVvA6jQtRubCa6YypPLy6ZJ46Vm2nhTWYfhUPD7CNL7Zs+WTgjHrXZ6VbyWmk2tvNtEkUSo23pkCgDxPx54W8T2mqeHUvPFtxcvLeFYmYf6s7eo4r0nw94a8RaXqn2jVvE82pW+0jyZBxn16VpeIPC9t4hu9NnuZGRtPmMse3ucYrbZQykHoaAK9lqNnqKO1jcRziNijFGztI7Us+oWlrPFDcXEccsxxGjMAWPtVHQfDWmeG47hNJhMS3Ehlkyc5Y9/1pmreFdL1rVrHUb+JnuLBi0BDYAJGOlAGvJIkUbSSMFRRliegFRWl7bX9uJ7OZJoiSAyNkcU66to7y0lt5xujlUow9QayLXSrHwh4Zmg0mB1ghV5FRfmYkkn+ZoA43Smi8QfGLWdQuHVrPSbYW4Lfd3ZOf0aq/gi5k/4S7xVrdnCY9ChG2FVGBIybtxGasfDfwg134XuL/XkuYLvVLhp5ot5TPQYI/Ct7xu1t4f8AAUtnYRrbrOVtYUj+XDPwKACw+Ilpevp2+wuIIdRkMUUrkY3AkYx17Gr3ifXI7aMaTaRi6v75TGkI52gjBZvQYzWfYeFJ7u+0e61ALHb6ZEphhQ53SY+8fzNa9n4T06x8QTazCZ2vZl2s8kpYY9AKAPNPhJAfBfjbW/B2obPPkIuoZBwHBySB7DivRdc8WRaJrFlpr2c1xNe58vyyOMetQ3ngHRb7xQniGYXA1KNdqypMRgen0rG3z6r8TL6WwjEr6Za/Z1d34Vm2tn3NAFm+8cWV54ZkmntrqDdcrayRIw8xGJHf8RXZWsIt7SKEMzBECgseT9a4aXwLeW8OkJbSLO0N01xeO7Y3kjHTv0Fd8OlABRRRQAUUUUAFFFFABRRRQAUUUUAFFFFABRRRQAUUUUAFFFFABRRRQAUUUUAFFFFABRRRQAUUUUAFFFFABRRRQAUUUUAFFFFABRRRQAUUUUAFFFFABRRRQAUUUUAFFFFABRRRQAUUUUAFFFFABRRRQAUUUUAFFFFABRRRQAUUUUANCqp+VQPXAp2KKKADFFFFABRRRQAlLRRQAUUUUAFIABnAAz1paKAAikxS0UAFFFFABRRRQAgABJAAJ68UtFFABRRRQAUUUUAGKKKKACiiigAooooAKQgMMMMj0paKAAAAYAwPaqeoaTZ6qsa38ImETh0BPRh0NXKKAEVQqhV6AYFLRRQAYqlZ6PZWFzPcWsOyW4O6Vsn5jV2igAooooAKKKKACiiigAooooAKKKKACiiigAooooAKKKKACiiigAooooAKKKKACiiigAooooAKKKKACiiigAooooAKKKKACiiigAooooAKKKKACiiigAooooAKKKKACiiigAooooAKKKKACiiigAooooAKKKKACiiigAooooAKKKKACiiigAoqnqrXo0u4/svYbsITEH6FscV4n4S+KPjfxT4ovfD8kenafqFoSPKmJBfB7cUAe8UV51fy/E6z0+a4hTTLiSNSwiVjlsD/AHa2vhz4i1HxR4Pi1DWbZba9854pYl6KVOKAOroqC8vYLC3ae6kCIvc1Tu/EOm6ZpqX2q3KWUD9GmOKANOiqCa3psml/2kl5GbLbu8/Py49al07U7PVrNbrTbhLiBsgSJ0NAFqiiigAooooAKKpajq1ppUaPey7N52oo6sfaotL1/T9X0972znDQRsVdm42kdc0AaVFZi+INPOmvqMs4is1P+ufgH3pdM8RaRrNq9xpV/DdQp954zkCgDSorN0vxFpOszSxaXfw3TwnEgjOdpqW51a2s76G1uX8t5v8AVs3Rj6fWgC7RVK81W3sLiCK6Jj887Uc/dz6VT17T9S1RFt9O1FtOTGWnjUM2fYHigDZork/Al5q81vf2etTfazZ3Biiu8AecuBzgcd66ygAooJAGScD3ooAKKKydT8TaXpGpWtjf3IinujiJSOtAGtRmjOa8p+MPj7xT8P8A7Pf6VZQXOmSHZI75zG3vxQB6tRXmujal4+17RrbUtPudJkt7hA6kMfy+7UCeJfHmk+O9H0vX7OzbTr9mU3EBJwQpOOg9KAPUaKKo3+rWmnyJHPJ+9cZWNeWIoAvUVjWfivSL7T5r2G7XyoJPKlz1R+OD78ioY/GmjS6rHpq3B+2yYKwEfNg9/pQBv0UUUAFFFFABRRRQAUUUUAFFFFABRRRQAUUUUAFFFFABRRRQAUUUUAFFFFABRRRQAUUUUAFFFFABRRRQAUUUUAFFFFABRRRQAUUUUAFFFFABRRRQAUUUUAFFFFABRRRQAUUUUAFFFFABRRRQAUUUUAFFFFABRRRQAUUUUAFFFFABRRRQAUUUUAFFFFABjmvEvjZ4FvLa7g8eeElZNU09g8yp/wAtFHf+Ve21w3j3XrieWPwpoBD6pqC4dsZEEfdj+n50AXvh34zt/HXg+31SEFZCNk6EdG710dnY29hG6WkYjWSRpGA7seSazfCvhiw8JaBBpemxqiRr8zAY3t3JrTgu4LlpFgkDmNtr4PQ0AcLrWp/2v8W9O8PEk21pAbqVezPkYz+DVvePNDi8ReB9T0+SMOWgLIPQjkfyrmbuyfTvjxa38pHkX9kY0J4+cFRj68Gum8d64NC8IX88aSSztCyRRxIWYsRgcD60AcD8PdUk8YeAbPw1EjRizX7Nfy44AUAbR7nmvU7C3sNIt4NMs/LhVE/dxA4JHriuM+DGlnS/h3b/AGhdt5dO1xcArtYM3OCPbmtq0vxqXjy5t2so3Swiwl2DkgnB2+3WgDpgajNzArYaaMH0LipPauRv/hro+o38t3PdamskrFmEd4yqPoKAOq+1W56Tx/8AfYqTORxXFp8K9DjkVxeasSpyAb5q7LiCDuVjXufSgDzGS91TWvjOsAt0e30iHLIWGCX6Hr1G2rXxHvxZNo3h6xVbc6xeBZtnGVwSf1qX4axG+1XxFrjx7Rc3rQxsepCM3+NU/itZGHxB4W10qxisr0LKccKpB5J7UAehyabbS6W2ntEptzGY9pHGMYrxTwZc3/hvxBrfw80wIsz3DTQTZ4iiYnP4gYr1PxL4lGlpDbWaNLeXZ2xFRlUz/ET2rzbxxo0vg/xN4f8AFGnCe7v/ADtl+YkLGRGK5PHYc0Aeo6HoWl+EtJ8qARwj700zHG9jyST9TTPGFimo+FbtlwXhjM8T+hX5uPyqh4l12GXT9LgjtYrxNUmWMwSsAcEE9D6YrX8Rzx2HhPUHYbVW2dAB6lcAfmaAOf025bxr8Kknn4uXtiQ/dZAvDfnWXpPjHWdS+H9lPpumS39z5jW8xidVKhGK55+lX/BcZ8PfCKOW+Ux7bVpmB7Armn/CTTJ9N8CRfaVKvcTyzAEfwtIxH6GgDW8J3d1PZMlxo0ulpGcBZXVi59eK6B3WOMvIwVVGSxOABTqjngjubd4JlDxyKVZT3BoA4j4k+JNPj8AambDVrcXAQbPLmUtnIre0TxBpcuk2SHU7V5niX5fOUkn864v4leA/Ddj4B1O5tNIt451TKukYyDkVv+H/AAD4Zi02wu49It0nWNWDhBkH1oA7KuJ+IGo6bafYrOZVe/vp1SEAZbvz7dK6rVtSj0jSbi+lR5FgjLlI1yzYHQCvLIbe6ks38c+JbWeSd7gG2tljLNbxcjgepwDQB66nEa/QVn+INCs/Emh3WlalGHt7mMo2R0yOoqzp92b6xiufKaISLuCt1A96W/v7fTbCa8vZBFBAhd2J6AUAeAfDvWdQ+E/xDl8Ca95j6XeSE6fMecZ7D8zXv1zY297JBJOgZoG3xn0OMV574d0lvHHi0eMdZtgLS2zHpkMic4z9859wfzr0W5u4LSNWuJFjVmCjccZNAExIAJJwBXmHh3XZbvU9d8UT2sk8ccht7baR8iLw36rXYeONWXRPBOqXpbayQOE5x8xBxXCWkl3p3wog0jw7bm41fUkJ4HCFyW3MfxoAi0Xw7Lf6VYazYS/2hbX2ove3sMZwM7QABn0Kg10OkaNqL/FK813UdMVElgWKCbI+RQDxjPU8VueBPDC+EPB1lpAfzHhT94/qx610VABRRRQAUUUUAFFFFABRRRQAUUUUAFFFFABRRRQAUUUUAFFFFABRRRQAUUUUAFFFFABRRRQAUUUUAFFFFABRRRQAUUUUAFFFFABRRRQAUUUUAFFFFABRRRQAUUUUAFFFFABRRRQAUUUUAFFFFABRRRQAUUUUAFFFFABRRRQAUUUUAFFFFABRRRQAUUUUAZniG/utM0O5utPtXu7pEPlQp1ZscV87aNq3xd0XVb/UI/Cpubm9kLGWZcsq9lHoOlfTmPWjA9KAPnyfx58bJYJETwosZZSA4QZX3r1H4W6dqun+B4D4i3f2ncSNNPvGDlucV2WB6UmKAMzXNDg1q3jEnyTwNvhlHVG9at28TPaRrehJZFGCcZzVk0CgBqRpGMRoqj0UYrC0Lw2dG1rVL43LSf2hIHKHouBit+igAooooAKwNctNeub4Lpk8K2UkRjlRzhgTkZHHvW/RQBl6BosWgaLDYQMW2cu56u3c1Z1PTbbV9Olsr2MPDKMMD2q3RQBm6Tp0llZJb3jJcNF8scjKMle2avNDHJ9+NG/3lBqSigDn9X8MjU9c0zUEmEIsG3BAvWp9Z0R9cmghuZStjGQ7xr1kI5APt0rZooAx9Z0P+2I4LOR/LsFIMkScb8dF+lasUSQQpFEoVEUKqjsBT6KACiiigCO4t4rqForiNZI26qwyDTkRY0CoNqgYAHanUUAIyh1w4DA9QRmkMaFNpRSv90jinUUAAAAwBgV4r8arzxtqd1baT4U0aeeyicS3EgHyy4/h+nWvaqMD0oA+e4PHPxmtreOGHwfEkcahVUJ0Aq94cvfid4s8eaV/wluk/wBn6TaszyqFADnacfrivdsD0oxQBy/jnw7e+J9Ps7C1eJLdbqOa43k5ZVOcD6810Vvaw28UaRRIuxQoKqBwKmooAKKKKACiiigAooooAKKKKACiiigAooooAKKKKACiiigAooooAKKKKACiiigAooooAKKKKACiiigAooooAKKKKACiiigAooooAKKKKACiiigAooooAKKKKACiiigAooooAKKKKACiiigAooooAKKKKACiiigAooooAKKKKACiiigAooooAKKKKACiiigAooooAKKKKACiiigAooooAKKKKACiiigAooooAKKKKACiiigAooooAKKKKACiiigAooooAKKKKACiiigAooooAKKKKACiiigAooooAKKKKACiiigAooooAKKKKACiiigAooooAKKKKACiiigAooooAKKKKACiiigAooooAKKKKACiiigAooooAKKKKACiiigAooooAKKKKACiiigAooooAKKKKACiiigAooooAKKKKACiiigAooooAKKKKACiiigAooooAKKKKACiiigAooooAKKKKACiiigAooooAKKKKACiiigAooooAKKKKACiiigAooooAKKKKACiiigAooooAKKKKACiiigAooooAKKKKACiiigAooooAKKKKACiiigAooooAKKKKACiiigAooooAKKKKACiiigAooooAKKKKACiiigAooooAKKKKACiiigAooooAKKKKACiiigAooooAKKKKACiiigAooooAKKKKACiiigAooooAKKKKACiiigAooooAKKKKACiiigAooooAKKKKAP/2Q==)\n",
        "\n",
        "La primera consecuencia de esta elección de penalización es que la función de error ya no puede optimizarse (minimizarse) de manera analítica. Hay que recurrir, entonces, a diferentes algoritmos iterativos.\n",
        "\n",
        "En sklearn, existen al menos dos implementaciones:\n",
        "\n",
        "linear_model.Lasso, que usa coordinate descent para encontrar el mínimo.\n",
        "\n",
        "\n",
        "linear_model.LassoLars, que usa LARS (least angle regression), que es similar a forward stepwise regression (es decir, se empieza con los coeficientes en cero, , y se van aumentando prograsivamente."
      ],
      "metadata": {
        "id": "A30R-kr2rOby"
      }
    },
    {
      "cell_type": "code",
      "source": [
        "from sklearn.linear_model import Lasso,  LassoLars"
      ],
      "metadata": {
        "id": "vXEKSI9NspwK"
      },
      "execution_count": 21,
      "outputs": []
    },
    {
      "cell_type": "code",
      "source": [
        "\n",
        "modelo_Lars= Pipeline([ ('scaler', StandardScaler()),\n",
        "                    ('features', PolynomialFeatures(degree=1)),\n",
        "                     ('model',LassoLars(alpha=1e-07))\n",
        "])"
      ],
      "metadata": {
        "id": "Q-N4liD3sQKP"
      },
      "execution_count": 87,
      "outputs": []
    },
    {
      "cell_type": "code",
      "source": [
        "modelo_Lars.fit(x_train,y_train)"
      ],
      "metadata": {
        "colab": {
          "base_uri": "https://localhost:8080/"
        },
        "id": "_nEw9E4WtoPq",
        "outputId": "87ccc510-f7ff-4c11-c5e2-eacecb396706"
      },
      "execution_count": 88,
      "outputs": [
        {
          "output_type": "stream",
          "name": "stderr",
          "text": [
            "/usr/local/lib/python3.7/dist-packages/sklearn/linear_model/_base.py:138: FutureWarning: The default of 'normalize' will be set to False in version 1.2 and deprecated in version 1.4.\n",
            "If you wish to scale the data, use Pipeline with a StandardScaler in a preprocessing stage. To reproduce the previous behavior:\n",
            "\n",
            "from sklearn.pipeline import make_pipeline\n",
            "\n",
            "model = make_pipeline(StandardScaler(with_mean=False), LassoLars())\n",
            "\n",
            "If you wish to pass a sample_weight parameter, you need to pass it as a fit parameter to each step of the pipeline as follows:\n",
            "\n",
            "kwargs = {s[0] + '__sample_weight': sample_weight for s in model.steps}\n",
            "model.fit(X, y, **kwargs)\n",
            "\n",
            "Set parameter alpha to: original_alpha * np.sqrt(n_samples). \n",
            "  FutureWarning,\n"
          ]
        },
        {
          "output_type": "execute_result",
          "data": {
            "text/plain": [
              "Pipeline(steps=[('scaler', StandardScaler()),\n",
              "                ('features', PolynomialFeatures(degree=1)),\n",
              "                ('model', LassoLars(alpha=1e-07))])"
            ]
          },
          "metadata": {},
          "execution_count": 88
        }
      ]
    },
    {
      "cell_type": "code",
      "source": [
        "y_pred_lasso_train = modelo_Lars.predict(x_train)\n",
        "print('Precisión del modelo usando el (MSE):')\n",
        "score_train = mse(y_train,y_pred_lasso_train)\n",
        "\n",
        "print (score_train)"
      ],
      "metadata": {
        "colab": {
          "base_uri": "https://localhost:8080/"
        },
        "id": "k7p_MRD3tzo1",
        "outputId": "2c9ebaad-a9bd-4ebd-e7a8-83c4e9bbf1b5"
      },
      "execution_count": 89,
      "outputs": [
        {
          "output_type": "stream",
          "name": "stdout",
          "text": [
            "Precisión del modelo usando el (MSE):\n",
            "0.6251280521513793\n"
          ]
        }
      ]
    },
    {
      "cell_type": "code",
      "source": [
        "y_pred_lasso_test = modelo_Lars.predict(x_test)\n",
        "print('Precisión del modelo usando el (MSE):')\n",
        "score_train = mse(y_test,y_pred_lasso_test)\n",
        "\n",
        "print (score_train)"
      ],
      "metadata": {
        "colab": {
          "base_uri": "https://localhost:8080/"
        },
        "id": "6omDKRCmuPP7",
        "outputId": "956fa36e-de90-4fb5-b127-8370ec60f785"
      },
      "execution_count": 90,
      "outputs": [
        {
          "output_type": "stream",
          "name": "stdout",
          "text": [
            "Precisión del modelo usando el (MSE):\n",
            "0.6779307335533024\n"
          ]
        }
      ]
    },
    {
      "cell_type": "code",
      "source": [
        "print(modelo_Lars['model'].coef_)\n"
      ],
      "metadata": {
        "id": "y_BK_6YZSt1Q",
        "outputId": "e82e9844-577c-42c1-9b2d-c182b70127e3",
        "colab": {
          "base_uri": "https://localhost:8080/"
        }
      },
      "execution_count": 91,
      "outputs": [
        {
          "output_type": "stream",
          "name": "stdout",
          "text": [
            "[ 0.          2.06210134  0.2911924   0.67776441 -0.41617909  0.77392234\n",
            "  0.40298214  2.14755702 -0.40743924]\n"
          ]
        }
      ]
    },
    {
      "cell_type": "markdown",
      "source": [
        "# Regresión Ridge"
      ],
      "metadata": {
        "id": "iTymYyrlVwAS"
      }
    },
    {
      "cell_type": "code",
      "source": [
        "from sklearn.linear_model import Ridge"
      ],
      "metadata": {
        "id": "L7FPCI5CV0Qr"
      },
      "execution_count": 92,
      "outputs": []
    },
    {
      "cell_type": "code",
      "source": [
        "modelo_Ridge= Pipeline([ ('scaler', StandardScaler()),\n",
        "                    ('features', PolynomialFeatures(degree=1)),\n",
        "                     ('model',Ridge(alpha=1e-07))\n",
        "])"
      ],
      "metadata": {
        "id": "1ipMSauLV3yn"
      },
      "execution_count": 93,
      "outputs": []
    },
    {
      "cell_type": "code",
      "source": [
        "modelo_Ridge.fit(x_train,y_train)"
      ],
      "metadata": {
        "id": "StPlY7E3V8ln",
        "outputId": "004bddc8-cdee-4444-8951-390ca7e01cf3",
        "colab": {
          "base_uri": "https://localhost:8080/"
        }
      },
      "execution_count": 94,
      "outputs": [
        {
          "output_type": "execute_result",
          "data": {
            "text/plain": [
              "Pipeline(steps=[('scaler', StandardScaler()),\n",
              "                ('features', PolynomialFeatures(degree=1)),\n",
              "                ('model', Ridge(alpha=1e-07))])"
            ]
          },
          "metadata": {},
          "execution_count": 94
        }
      ]
    },
    {
      "cell_type": "code",
      "source": [
        "y_pred_Ridge_train = modelo_Ridge.predict(x_train)\n",
        "print('Precisión del modelo usando el (MSE):')\n",
        "score_train = mse(y_train,y_pred_Ridge_train)\n",
        "\n",
        "print (score_train)"
      ],
      "metadata": {
        "id": "p0_pAJWRV-3C",
        "outputId": "ad57c4d0-5c73-4cb9-9fbc-385722fa96af",
        "colab": {
          "base_uri": "https://localhost:8080/"
        }
      },
      "execution_count": 95,
      "outputs": [
        {
          "output_type": "stream",
          "name": "stdout",
          "text": [
            "Precisión del modelo usando el (MSE):\n",
            "0.6251280521513793\n"
          ]
        }
      ]
    },
    {
      "cell_type": "code",
      "source": [
        "y_pred_Ridge_test = modelo_Ridge.predict(x_test)\n",
        "print('Precisión del modelo usando el (MSE):')\n",
        "score_train = mse(y_test,y_pred_Ridge_test)\n",
        "\n",
        "print (score_train)"
      ],
      "metadata": {
        "id": "vIZJAEjAWiPI",
        "outputId": "c537776b-3196-4369-f371-2981ae5cf12b",
        "colab": {
          "base_uri": "https://localhost:8080/"
        }
      },
      "execution_count": 96,
      "outputs": [
        {
          "output_type": "stream",
          "name": "stdout",
          "text": [
            "Precisión del modelo usando el (MSE):\n",
            "0.6779307335471713\n"
          ]
        }
      ]
    },
    {
      "cell_type": "code",
      "source": [
        "print(modelo_Ridge['model'].coef_)"
      ],
      "metadata": {
        "id": "vausJbGfW0SI",
        "outputId": "27e74ce4-b4d1-4fea-d189-06093cd7fb8c",
        "colab": {
          "base_uri": "https://localhost:8080/"
        }
      },
      "execution_count": 97,
      "outputs": [
        {
          "output_type": "stream",
          "name": "stdout",
          "text": [
            "[ 0.          2.06210133  0.2911924   0.67776442 -0.41617909  0.77392234\n",
            "  0.40298214  2.14755702 -0.40743924]\n"
          ]
        }
      ]
    }
  ]
}