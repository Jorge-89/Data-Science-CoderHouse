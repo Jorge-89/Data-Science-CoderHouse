{
  "nbformat": 4,
  "nbformat_minor": 0,
  "metadata": {
    "colab": {
      "name": "Untitled42.ipynb",
      "provenance": [],
      "toc_visible": true,
      "authorship_tag": "ABX9TyNio5icdUA9OvvJnXTjlyyL",
      "include_colab_link": true
    },
    "kernelspec": {
      "name": "python3",
      "display_name": "Python 3"
    },
    "language_info": {
      "name": "python"
    }
  },
  "cells": [
    {
      "cell_type": "markdown",
      "metadata": {
        "id": "view-in-github",
        "colab_type": "text"
      },
      "source": [
        "<a href=\"https://colab.research.google.com/github/Jorge-89/Data-Science-CoderHouse/blob/main/AED%20y%20Regresi%C3%B3n%20Lineal.ipynb\" target=\"_parent\"><img src=\"https://colab.research.google.com/assets/colab-badge.svg\" alt=\"Open In Colab\"/></a>"
      ]
    },
    {
      "cell_type": "markdown",
      "source": [
        "# Análisis Exploratorio de Datos"
      ],
      "metadata": {
        "id": "GnmWuxMRK9Lc"
      }
    },
    {
      "cell_type": "markdown",
      "source": [
        "Uno de los primeros pasos a la hora de realizar un proyecto que involucre el análisis de datos es explorar y visualizar los datos. El objetivo principal es obtener información sobre el contenido de los datos, ayudar a enmarcar las preguntas que haremos y detectar posibles vías para avanzar en las respuestas a estas preguntas."
      ],
      "metadata": {
        "id": "qv8F0CviLJlJ"
      }
    },
    {
      "cell_type": "code",
      "source": [
        "#se importan las librerias necesarias\n",
        "import pandas as pd\n",
        "import numpy as np\n",
        "import sklearn as sk\n",
        "import seaborn as sns\n",
        "import matplotlib.pyplot as plt"
      ],
      "metadata": {
        "id": "Tt6VawRRLQ1L"
      },
      "execution_count": 1,
      "outputs": []
    },
    {
      "cell_type": "code",
      "source": [
        "#se importa el set de datos\n",
        "url = 'https://raw.githubusercontent.com/Jorge-89/Data-Science-CoderHouse/main/base_datos_estaciones_met_V3.csv'\n",
        "df = pd.read_csv(url, sep=\";\")"
      ],
      "metadata": {
        "id": "pwcWtsGpLoa7"
      },
      "execution_count": 2,
      "outputs": []
    },
    {
      "cell_type": "code",
      "source": [
        "#se visualiza las primeras 5 filas\n",
        "df.head()"
      ],
      "metadata": {
        "colab": {
          "base_uri": "https://localhost:8080/",
          "height": 340
        },
        "id": "1oa_Na_fMmAq",
        "outputId": "da7bc067-b609-4e53-9bd4-ecdff7e85898"
      },
      "execution_count": 3,
      "outputs": [
        {
          "output_type": "execute_result",
          "data": {
            "text/html": [
              "\n",
              "  <div id=\"df-b25dae60-d954-496a-8558-d247582e3b20\">\n",
              "    <div class=\"colab-df-container\">\n",
              "      <div>\n",
              "<style scoped>\n",
              "    .dataframe tbody tr th:only-of-type {\n",
              "        vertical-align: middle;\n",
              "    }\n",
              "\n",
              "    .dataframe tbody tr th {\n",
              "        vertical-align: top;\n",
              "    }\n",
              "\n",
              "    .dataframe thead th {\n",
              "        text-align: right;\n",
              "    }\n",
              "</style>\n",
              "<table border=\"1\" class=\"dataframe\">\n",
              "  <thead>\n",
              "    <tr style=\"text-align: right;\">\n",
              "      <th></th>\n",
              "      <th>fecha_completa</th>\n",
              "      <th>Fecha</th>\n",
              "      <th>Hora</th>\n",
              "      <th>Temp_Alicia AgriculturaCba</th>\n",
              "      <th>Humedad_Alicia AgriculturaCba</th>\n",
              "      <th>PP_Alicia AgriculturaCba</th>\n",
              "      <th>Temp_Las Varas AgriculturaCba</th>\n",
              "      <th>Humedad_Las Varas AgriculturaCba</th>\n",
              "      <th>PP_Las Varas AgriculturaCba</th>\n",
              "      <th>Temp_San Miguel - Establecimiento Don Luis</th>\n",
              "      <th>Humedad_San Miguel - Establecimiento Don Luis</th>\n",
              "      <th>PP_San Miguel - Establecimiento Don Luis</th>\n",
              "      <th>Temp_San Miguel - Listello</th>\n",
              "      <th>Humedad_San Miguel - Listello</th>\n",
              "      <th>PP_San Miguel - Listello</th>\n",
              "      <th>Temp_ San Miguel - Las Varillas</th>\n",
              "      <th>Humedad_ San Miguel - Las Varillas</th>\n",
              "      <th>PP_ San Miguel - Las Varillas</th>\n",
              "    </tr>\n",
              "  </thead>\n",
              "  <tbody>\n",
              "    <tr>\n",
              "      <th>0</th>\n",
              "      <td>1/1/2021 0:00</td>\n",
              "      <td>1/1/2021</td>\n",
              "      <td>0:00</td>\n",
              "      <td>16.8</td>\n",
              "      <td>77.8</td>\n",
              "      <td>0.0</td>\n",
              "      <td>17.0</td>\n",
              "      <td>77.8</td>\n",
              "      <td>0.0</td>\n",
              "      <td>15.6</td>\n",
              "      <td>83.3</td>\n",
              "      <td>0.0</td>\n",
              "      <td>15.6</td>\n",
              "      <td>85.4</td>\n",
              "      <td>0.0</td>\n",
              "      <td>15.3</td>\n",
              "      <td>87.2</td>\n",
              "      <td>0.0</td>\n",
              "    </tr>\n",
              "    <tr>\n",
              "      <th>1</th>\n",
              "      <td>1/1/2021 0:10</td>\n",
              "      <td>1/1/2021</td>\n",
              "      <td>0:10</td>\n",
              "      <td>16.7</td>\n",
              "      <td>80.0</td>\n",
              "      <td>0.0</td>\n",
              "      <td>16.8</td>\n",
              "      <td>80.4</td>\n",
              "      <td>0.0</td>\n",
              "      <td>15.7</td>\n",
              "      <td>84.6</td>\n",
              "      <td>0.0</td>\n",
              "      <td>15.5</td>\n",
              "      <td>86.6</td>\n",
              "      <td>0.0</td>\n",
              "      <td>15.2</td>\n",
              "      <td>86.7</td>\n",
              "      <td>0.0</td>\n",
              "    </tr>\n",
              "    <tr>\n",
              "      <th>2</th>\n",
              "      <td>1/1/2021 0:20</td>\n",
              "      <td>1/1/2021</td>\n",
              "      <td>0:20</td>\n",
              "      <td>16.5</td>\n",
              "      <td>81.7</td>\n",
              "      <td>0.0</td>\n",
              "      <td>16.5</td>\n",
              "      <td>81.8</td>\n",
              "      <td>0.0</td>\n",
              "      <td>15.7</td>\n",
              "      <td>84.4</td>\n",
              "      <td>0.0</td>\n",
              "      <td>15.2</td>\n",
              "      <td>87.4</td>\n",
              "      <td>0.0</td>\n",
              "      <td>15.1</td>\n",
              "      <td>86.9</td>\n",
              "      <td>0.0</td>\n",
              "    </tr>\n",
              "    <tr>\n",
              "      <th>3</th>\n",
              "      <td>1/1/2021 0:30</td>\n",
              "      <td>1/1/2021</td>\n",
              "      <td>0:30</td>\n",
              "      <td>16.2</td>\n",
              "      <td>83.0</td>\n",
              "      <td>0.0</td>\n",
              "      <td>16.4</td>\n",
              "      <td>80.7</td>\n",
              "      <td>0.0</td>\n",
              "      <td>15.5</td>\n",
              "      <td>84.4</td>\n",
              "      <td>0.0</td>\n",
              "      <td>15.0</td>\n",
              "      <td>88.5</td>\n",
              "      <td>0.0</td>\n",
              "      <td>15.0</td>\n",
              "      <td>87.5</td>\n",
              "      <td>0.0</td>\n",
              "    </tr>\n",
              "    <tr>\n",
              "      <th>4</th>\n",
              "      <td>1/1/2021 0:40</td>\n",
              "      <td>1/1/2021</td>\n",
              "      <td>0:40</td>\n",
              "      <td>16.1</td>\n",
              "      <td>82.9</td>\n",
              "      <td>0.0</td>\n",
              "      <td>16.3</td>\n",
              "      <td>81.3</td>\n",
              "      <td>0.0</td>\n",
              "      <td>15.2</td>\n",
              "      <td>85.3</td>\n",
              "      <td>0.0</td>\n",
              "      <td>14.9</td>\n",
              "      <td>87.9</td>\n",
              "      <td>0.0</td>\n",
              "      <td>14.8</td>\n",
              "      <td>87.9</td>\n",
              "      <td>0.0</td>\n",
              "    </tr>\n",
              "  </tbody>\n",
              "</table>\n",
              "</div>\n",
              "      <button class=\"colab-df-convert\" onclick=\"convertToInteractive('df-b25dae60-d954-496a-8558-d247582e3b20')\"\n",
              "              title=\"Convert this dataframe to an interactive table.\"\n",
              "              style=\"display:none;\">\n",
              "        \n",
              "  <svg xmlns=\"http://www.w3.org/2000/svg\" height=\"24px\"viewBox=\"0 0 24 24\"\n",
              "       width=\"24px\">\n",
              "    <path d=\"M0 0h24v24H0V0z\" fill=\"none\"/>\n",
              "    <path d=\"M18.56 5.44l.94 2.06.94-2.06 2.06-.94-2.06-.94-.94-2.06-.94 2.06-2.06.94zm-11 1L8.5 8.5l.94-2.06 2.06-.94-2.06-.94L8.5 2.5l-.94 2.06-2.06.94zm10 10l.94 2.06.94-2.06 2.06-.94-2.06-.94-.94-2.06-.94 2.06-2.06.94z\"/><path d=\"M17.41 7.96l-1.37-1.37c-.4-.4-.92-.59-1.43-.59-.52 0-1.04.2-1.43.59L10.3 9.45l-7.72 7.72c-.78.78-.78 2.05 0 2.83L4 21.41c.39.39.9.59 1.41.59.51 0 1.02-.2 1.41-.59l7.78-7.78 2.81-2.81c.8-.78.8-2.07 0-2.86zM5.41 20L4 18.59l7.72-7.72 1.47 1.35L5.41 20z\"/>\n",
              "  </svg>\n",
              "      </button>\n",
              "      \n",
              "  <style>\n",
              "    .colab-df-container {\n",
              "      display:flex;\n",
              "      flex-wrap:wrap;\n",
              "      gap: 12px;\n",
              "    }\n",
              "\n",
              "    .colab-df-convert {\n",
              "      background-color: #E8F0FE;\n",
              "      border: none;\n",
              "      border-radius: 50%;\n",
              "      cursor: pointer;\n",
              "      display: none;\n",
              "      fill: #1967D2;\n",
              "      height: 32px;\n",
              "      padding: 0 0 0 0;\n",
              "      width: 32px;\n",
              "    }\n",
              "\n",
              "    .colab-df-convert:hover {\n",
              "      background-color: #E2EBFA;\n",
              "      box-shadow: 0px 1px 2px rgba(60, 64, 67, 0.3), 0px 1px 3px 1px rgba(60, 64, 67, 0.15);\n",
              "      fill: #174EA6;\n",
              "    }\n",
              "\n",
              "    [theme=dark] .colab-df-convert {\n",
              "      background-color: #3B4455;\n",
              "      fill: #D2E3FC;\n",
              "    }\n",
              "\n",
              "    [theme=dark] .colab-df-convert:hover {\n",
              "      background-color: #434B5C;\n",
              "      box-shadow: 0px 1px 3px 1px rgba(0, 0, 0, 0.15);\n",
              "      filter: drop-shadow(0px 1px 2px rgba(0, 0, 0, 0.3));\n",
              "      fill: #FFFFFF;\n",
              "    }\n",
              "  </style>\n",
              "\n",
              "      <script>\n",
              "        const buttonEl =\n",
              "          document.querySelector('#df-b25dae60-d954-496a-8558-d247582e3b20 button.colab-df-convert');\n",
              "        buttonEl.style.display =\n",
              "          google.colab.kernel.accessAllowed ? 'block' : 'none';\n",
              "\n",
              "        async function convertToInteractive(key) {\n",
              "          const element = document.querySelector('#df-b25dae60-d954-496a-8558-d247582e3b20');\n",
              "          const dataTable =\n",
              "            await google.colab.kernel.invokeFunction('convertToInteractive',\n",
              "                                                     [key], {});\n",
              "          if (!dataTable) return;\n",
              "\n",
              "          const docLinkHtml = 'Like what you see? Visit the ' +\n",
              "            '<a target=\"_blank\" href=https://colab.research.google.com/notebooks/data_table.ipynb>data table notebook</a>'\n",
              "            + ' to learn more about interactive tables.';\n",
              "          element.innerHTML = '';\n",
              "          dataTable['output_type'] = 'display_data';\n",
              "          await google.colab.output.renderOutput(dataTable, element);\n",
              "          const docLink = document.createElement('div');\n",
              "          docLink.innerHTML = docLinkHtml;\n",
              "          element.appendChild(docLink);\n",
              "        }\n",
              "      </script>\n",
              "    </div>\n",
              "  </div>\n",
              "  "
            ],
            "text/plain": [
              "  fecha_completa  ... PP_ San Miguel - Las Varillas\n",
              "0  1/1/2021 0:00  ...                           0.0\n",
              "1  1/1/2021 0:10  ...                           0.0\n",
              "2  1/1/2021 0:20  ...                           0.0\n",
              "3  1/1/2021 0:30  ...                           0.0\n",
              "4  1/1/2021 0:40  ...                           0.0\n",
              "\n",
              "[5 rows x 18 columns]"
            ]
          },
          "metadata": {},
          "execution_count": 3
        }
      ]
    },
    {
      "cell_type": "code",
      "source": [
        "#observamos como cada columna tiene 12960 datos sin  faltantes.\n",
        "df.info()"
      ],
      "metadata": {
        "colab": {
          "base_uri": "https://localhost:8080/"
        },
        "id": "WEbReKM0MjxT",
        "outputId": "c48a3a9c-1417-4646-d2b0-2e24550a005b"
      },
      "execution_count": 4,
      "outputs": [
        {
          "output_type": "stream",
          "name": "stdout",
          "text": [
            "<class 'pandas.core.frame.DataFrame'>\n",
            "RangeIndex: 12960 entries, 0 to 12959\n",
            "Data columns (total 18 columns):\n",
            " #   Column                                         Non-Null Count  Dtype  \n",
            "---  ------                                         --------------  -----  \n",
            " 0   fecha_completa                                 12960 non-null  object \n",
            " 1   Fecha                                          12960 non-null  object \n",
            " 2   Hora                                           12960 non-null  object \n",
            " 3   Temp_Alicia AgriculturaCba                     12960 non-null  float64\n",
            " 4   Humedad_Alicia AgriculturaCba                  12960 non-null  float64\n",
            " 5   PP_Alicia AgriculturaCba                       12960 non-null  float64\n",
            " 6   Temp_Las Varas AgriculturaCba                  12960 non-null  float64\n",
            " 7   Humedad_Las Varas AgriculturaCba               12960 non-null  float64\n",
            " 8   PP_Las Varas AgriculturaCba                    12960 non-null  float64\n",
            " 9   Temp_San Miguel - Establecimiento Don Luis     12960 non-null  float64\n",
            " 10  Humedad_San Miguel - Establecimiento Don Luis  12960 non-null  float64\n",
            " 11  PP_San Miguel - Establecimiento Don Luis       12960 non-null  float64\n",
            " 12  Temp_San Miguel - Listello                     12960 non-null  float64\n",
            " 13  Humedad_San Miguel - Listello                  12960 non-null  float64\n",
            " 14  PP_San Miguel - Listello                       12960 non-null  float64\n",
            " 15  Temp_ San Miguel - Las Varillas                12960 non-null  float64\n",
            " 16  Humedad_ San Miguel - Las Varillas             12960 non-null  float64\n",
            " 17  PP_ San Miguel - Las Varillas                  12960 non-null  float64\n",
            "dtypes: float64(15), object(3)\n",
            "memory usage: 1.8+ MB\n"
          ]
        }
      ]
    },
    {
      "cell_type": "code",
      "source": [
        "df.columns\n",
        "\n",
        "#se muestra una lista con todos los nombres de las columnas"
      ],
      "metadata": {
        "colab": {
          "base_uri": "https://localhost:8080/"
        },
        "id": "dNya7Be3qA39",
        "outputId": "61e1450e-17fb-47c8-a013-6efed4e7d3ae"
      },
      "execution_count": 5,
      "outputs": [
        {
          "output_type": "execute_result",
          "data": {
            "text/plain": [
              "Index(['fecha_completa', 'Fecha', 'Hora', 'Temp_Alicia AgriculturaCba',\n",
              "       'Humedad_Alicia AgriculturaCba', 'PP_Alicia AgriculturaCba',\n",
              "       'Temp_Las Varas AgriculturaCba', 'Humedad_Las Varas AgriculturaCba',\n",
              "       'PP_Las Varas AgriculturaCba',\n",
              "       'Temp_San Miguel - Establecimiento Don Luis',\n",
              "       'Humedad_San Miguel - Establecimiento Don Luis',\n",
              "       'PP_San Miguel - Establecimiento Don Luis',\n",
              "       'Temp_San Miguel - Listello', 'Humedad_San Miguel - Listello',\n",
              "       'PP_San Miguel - Listello', 'Temp_ San Miguel - Las Varillas',\n",
              "       'Humedad_ San Miguel - Las Varillas', 'PP_ San Miguel - Las Varillas'],\n",
              "      dtype='object')"
            ]
          },
          "metadata": {},
          "execution_count": 5
        }
      ]
    },
    {
      "cell_type": "code",
      "source": [
        "df.describe()\n",
        "#muestra los estadísticos básicos \n",
        "\n",
        "# Se comprueba que no hay en la base de datos, valores fisicamente imposibles:\n",
        "# Humedad relativa mayor al 100% o menor al 0%\n",
        "# Precipitación negativa\n",
        "# Valores de temperaturas menores a 0° que seria imposible para la epoca analizada o valores máximos que superen los 45°C "
      ],
      "metadata": {
        "colab": {
          "base_uri": "https://localhost:8080/",
          "height": 416
        },
        "id": "SbEzFhSnqGw0",
        "outputId": "aab62601-cbe9-4b6f-b62a-f14252f00996"
      },
      "execution_count": 6,
      "outputs": [
        {
          "output_type": "execute_result",
          "data": {
            "text/html": [
              "\n",
              "  <div id=\"df-75740bd1-249b-4933-83c0-37cc142269da\">\n",
              "    <div class=\"colab-df-container\">\n",
              "      <div>\n",
              "<style scoped>\n",
              "    .dataframe tbody tr th:only-of-type {\n",
              "        vertical-align: middle;\n",
              "    }\n",
              "\n",
              "    .dataframe tbody tr th {\n",
              "        vertical-align: top;\n",
              "    }\n",
              "\n",
              "    .dataframe thead th {\n",
              "        text-align: right;\n",
              "    }\n",
              "</style>\n",
              "<table border=\"1\" class=\"dataframe\">\n",
              "  <thead>\n",
              "    <tr style=\"text-align: right;\">\n",
              "      <th></th>\n",
              "      <th>Temp_Alicia AgriculturaCba</th>\n",
              "      <th>Humedad_Alicia AgriculturaCba</th>\n",
              "      <th>PP_Alicia AgriculturaCba</th>\n",
              "      <th>Temp_Las Varas AgriculturaCba</th>\n",
              "      <th>Humedad_Las Varas AgriculturaCba</th>\n",
              "      <th>PP_Las Varas AgriculturaCba</th>\n",
              "      <th>Temp_San Miguel - Establecimiento Don Luis</th>\n",
              "      <th>Humedad_San Miguel - Establecimiento Don Luis</th>\n",
              "      <th>PP_San Miguel - Establecimiento Don Luis</th>\n",
              "      <th>Temp_San Miguel - Listello</th>\n",
              "      <th>Humedad_San Miguel - Listello</th>\n",
              "      <th>PP_San Miguel - Listello</th>\n",
              "      <th>Temp_ San Miguel - Las Varillas</th>\n",
              "      <th>Humedad_ San Miguel - Las Varillas</th>\n",
              "      <th>PP_ San Miguel - Las Varillas</th>\n",
              "    </tr>\n",
              "  </thead>\n",
              "  <tbody>\n",
              "    <tr>\n",
              "      <th>count</th>\n",
              "      <td>12960.000000</td>\n",
              "      <td>12960.000000</td>\n",
              "      <td>12960.00000</td>\n",
              "      <td>12960.000000</td>\n",
              "      <td>12960.000000</td>\n",
              "      <td>12960.000000</td>\n",
              "      <td>12960.000000</td>\n",
              "      <td>12960.000000</td>\n",
              "      <td>12960.000000</td>\n",
              "      <td>12960.000000</td>\n",
              "      <td>12960.000000</td>\n",
              "      <td>12960.000000</td>\n",
              "      <td>12960.000000</td>\n",
              "      <td>12960.000000</td>\n",
              "      <td>12960.000000</td>\n",
              "    </tr>\n",
              "    <tr>\n",
              "      <th>mean</th>\n",
              "      <td>22.227585</td>\n",
              "      <td>72.410764</td>\n",
              "      <td>0.01929</td>\n",
              "      <td>22.179522</td>\n",
              "      <td>72.188804</td>\n",
              "      <td>0.018812</td>\n",
              "      <td>21.288519</td>\n",
              "      <td>74.960463</td>\n",
              "      <td>0.028164</td>\n",
              "      <td>21.464213</td>\n",
              "      <td>74.708287</td>\n",
              "      <td>0.006512</td>\n",
              "      <td>21.711065</td>\n",
              "      <td>73.923634</td>\n",
              "      <td>0.015386</td>\n",
              "    </tr>\n",
              "    <tr>\n",
              "      <th>std</th>\n",
              "      <td>5.827893</td>\n",
              "      <td>21.586566</td>\n",
              "      <td>0.21620</td>\n",
              "      <td>5.814185</td>\n",
              "      <td>20.072673</td>\n",
              "      <td>0.193260</td>\n",
              "      <td>5.932179</td>\n",
              "      <td>20.639414</td>\n",
              "      <td>0.330379</td>\n",
              "      <td>6.130940</td>\n",
              "      <td>21.712248</td>\n",
              "      <td>0.053873</td>\n",
              "      <td>6.148653</td>\n",
              "      <td>21.907371</td>\n",
              "      <td>0.160468</td>\n",
              "    </tr>\n",
              "    <tr>\n",
              "      <th>min</th>\n",
              "      <td>9.300000</td>\n",
              "      <td>13.500000</td>\n",
              "      <td>0.00000</td>\n",
              "      <td>9.600000</td>\n",
              "      <td>14.600000</td>\n",
              "      <td>0.000000</td>\n",
              "      <td>8.700000</td>\n",
              "      <td>12.400000</td>\n",
              "      <td>0.000000</td>\n",
              "      <td>8.600000</td>\n",
              "      <td>12.700000</td>\n",
              "      <td>0.000000</td>\n",
              "      <td>7.900000</td>\n",
              "      <td>13.100000</td>\n",
              "      <td>0.000000</td>\n",
              "    </tr>\n",
              "    <tr>\n",
              "      <th>25%</th>\n",
              "      <td>17.900000</td>\n",
              "      <td>54.300000</td>\n",
              "      <td>0.00000</td>\n",
              "      <td>17.800000</td>\n",
              "      <td>55.800000</td>\n",
              "      <td>0.000000</td>\n",
              "      <td>16.800000</td>\n",
              "      <td>58.800000</td>\n",
              "      <td>0.000000</td>\n",
              "      <td>16.900000</td>\n",
              "      <td>56.375000</td>\n",
              "      <td>0.000000</td>\n",
              "      <td>17.200000</td>\n",
              "      <td>54.600000</td>\n",
              "      <td>0.000000</td>\n",
              "    </tr>\n",
              "    <tr>\n",
              "      <th>50%</th>\n",
              "      <td>21.300000</td>\n",
              "      <td>77.000000</td>\n",
              "      <td>0.00000</td>\n",
              "      <td>21.100000</td>\n",
              "      <td>77.500000</td>\n",
              "      <td>0.000000</td>\n",
              "      <td>20.300000</td>\n",
              "      <td>81.500000</td>\n",
              "      <td>0.000000</td>\n",
              "      <td>20.400000</td>\n",
              "      <td>81.800000</td>\n",
              "      <td>0.000000</td>\n",
              "      <td>20.700000</td>\n",
              "      <td>80.500000</td>\n",
              "      <td>0.000000</td>\n",
              "    </tr>\n",
              "    <tr>\n",
              "      <th>75%</th>\n",
              "      <td>26.600000</td>\n",
              "      <td>91.800000</td>\n",
              "      <td>0.00000</td>\n",
              "      <td>26.700000</td>\n",
              "      <td>89.800000</td>\n",
              "      <td>0.000000</td>\n",
              "      <td>26.000000</td>\n",
              "      <td>92.725000</td>\n",
              "      <td>0.000000</td>\n",
              "      <td>26.000000</td>\n",
              "      <td>94.100000</td>\n",
              "      <td>0.000000</td>\n",
              "      <td>26.500000</td>\n",
              "      <td>93.700000</td>\n",
              "      <td>0.000000</td>\n",
              "    </tr>\n",
              "    <tr>\n",
              "      <th>max</th>\n",
              "      <td>36.800000</td>\n",
              "      <td>100.000000</td>\n",
              "      <td>8.80000</td>\n",
              "      <td>36.500000</td>\n",
              "      <td>100.000000</td>\n",
              "      <td>7.200000</td>\n",
              "      <td>36.200000</td>\n",
              "      <td>100.000000</td>\n",
              "      <td>12.600000</td>\n",
              "      <td>37.300000</td>\n",
              "      <td>100.000000</td>\n",
              "      <td>1.600000</td>\n",
              "      <td>36.900000</td>\n",
              "      <td>100.000000</td>\n",
              "      <td>5.600000</td>\n",
              "    </tr>\n",
              "  </tbody>\n",
              "</table>\n",
              "</div>\n",
              "      <button class=\"colab-df-convert\" onclick=\"convertToInteractive('df-75740bd1-249b-4933-83c0-37cc142269da')\"\n",
              "              title=\"Convert this dataframe to an interactive table.\"\n",
              "              style=\"display:none;\">\n",
              "        \n",
              "  <svg xmlns=\"http://www.w3.org/2000/svg\" height=\"24px\"viewBox=\"0 0 24 24\"\n",
              "       width=\"24px\">\n",
              "    <path d=\"M0 0h24v24H0V0z\" fill=\"none\"/>\n",
              "    <path d=\"M18.56 5.44l.94 2.06.94-2.06 2.06-.94-2.06-.94-.94-2.06-.94 2.06-2.06.94zm-11 1L8.5 8.5l.94-2.06 2.06-.94-2.06-.94L8.5 2.5l-.94 2.06-2.06.94zm10 10l.94 2.06.94-2.06 2.06-.94-2.06-.94-.94-2.06-.94 2.06-2.06.94z\"/><path d=\"M17.41 7.96l-1.37-1.37c-.4-.4-.92-.59-1.43-.59-.52 0-1.04.2-1.43.59L10.3 9.45l-7.72 7.72c-.78.78-.78 2.05 0 2.83L4 21.41c.39.39.9.59 1.41.59.51 0 1.02-.2 1.41-.59l7.78-7.78 2.81-2.81c.8-.78.8-2.07 0-2.86zM5.41 20L4 18.59l7.72-7.72 1.47 1.35L5.41 20z\"/>\n",
              "  </svg>\n",
              "      </button>\n",
              "      \n",
              "  <style>\n",
              "    .colab-df-container {\n",
              "      display:flex;\n",
              "      flex-wrap:wrap;\n",
              "      gap: 12px;\n",
              "    }\n",
              "\n",
              "    .colab-df-convert {\n",
              "      background-color: #E8F0FE;\n",
              "      border: none;\n",
              "      border-radius: 50%;\n",
              "      cursor: pointer;\n",
              "      display: none;\n",
              "      fill: #1967D2;\n",
              "      height: 32px;\n",
              "      padding: 0 0 0 0;\n",
              "      width: 32px;\n",
              "    }\n",
              "\n",
              "    .colab-df-convert:hover {\n",
              "      background-color: #E2EBFA;\n",
              "      box-shadow: 0px 1px 2px rgba(60, 64, 67, 0.3), 0px 1px 3px 1px rgba(60, 64, 67, 0.15);\n",
              "      fill: #174EA6;\n",
              "    }\n",
              "\n",
              "    [theme=dark] .colab-df-convert {\n",
              "      background-color: #3B4455;\n",
              "      fill: #D2E3FC;\n",
              "    }\n",
              "\n",
              "    [theme=dark] .colab-df-convert:hover {\n",
              "      background-color: #434B5C;\n",
              "      box-shadow: 0px 1px 3px 1px rgba(0, 0, 0, 0.15);\n",
              "      filter: drop-shadow(0px 1px 2px rgba(0, 0, 0, 0.3));\n",
              "      fill: #FFFFFF;\n",
              "    }\n",
              "  </style>\n",
              "\n",
              "      <script>\n",
              "        const buttonEl =\n",
              "          document.querySelector('#df-75740bd1-249b-4933-83c0-37cc142269da button.colab-df-convert');\n",
              "        buttonEl.style.display =\n",
              "          google.colab.kernel.accessAllowed ? 'block' : 'none';\n",
              "\n",
              "        async function convertToInteractive(key) {\n",
              "          const element = document.querySelector('#df-75740bd1-249b-4933-83c0-37cc142269da');\n",
              "          const dataTable =\n",
              "            await google.colab.kernel.invokeFunction('convertToInteractive',\n",
              "                                                     [key], {});\n",
              "          if (!dataTable) return;\n",
              "\n",
              "          const docLinkHtml = 'Like what you see? Visit the ' +\n",
              "            '<a target=\"_blank\" href=https://colab.research.google.com/notebooks/data_table.ipynb>data table notebook</a>'\n",
              "            + ' to learn more about interactive tables.';\n",
              "          element.innerHTML = '';\n",
              "          dataTable['output_type'] = 'display_data';\n",
              "          await google.colab.output.renderOutput(dataTable, element);\n",
              "          const docLink = document.createElement('div');\n",
              "          docLink.innerHTML = docLinkHtml;\n",
              "          element.appendChild(docLink);\n",
              "        }\n",
              "      </script>\n",
              "    </div>\n",
              "  </div>\n",
              "  "
            ],
            "text/plain": [
              "       Temp_Alicia AgriculturaCba  ...  PP_ San Miguel - Las Varillas\n",
              "count                12960.000000  ...                   12960.000000\n",
              "mean                    22.227585  ...                       0.015386\n",
              "std                      5.827893  ...                       0.160468\n",
              "min                      9.300000  ...                       0.000000\n",
              "25%                     17.900000  ...                       0.000000\n",
              "50%                     21.300000  ...                       0.000000\n",
              "75%                     26.600000  ...                       0.000000\n",
              "max                     36.800000  ...                       5.600000\n",
              "\n",
              "[8 rows x 15 columns]"
            ]
          },
          "metadata": {},
          "execution_count": 6
        }
      ]
    },
    {
      "cell_type": "code",
      "source": [
        "variables= df.columns\n",
        "#histograma de las temperaturas en las distintas estaciones\n",
        "for i in range(3,18,3):\n",
        "    plt.hist(df[variables[i]],color='#F2AB6D', rwidth=0.85,)\n",
        "    plt.title('Histograma de temperaturas')\n",
        "    plt.xlabel(variables[i])\n",
        "    plt.ylabel('Frecuencia')\n",
        "    plt.show() #dibujamos el histograma\n",
        "\n",
        "# A simple vista se observa que la temperatura tiene una distribución muy similar a la normal."
      ],
      "metadata": {
        "colab": {
          "base_uri": "https://localhost:8080/",
          "height": 1000
        },
        "id": "k2JB9ZOHqXoy",
        "outputId": "93f5d15d-7890-43ea-fcff-e823ed5d21bf"
      },
      "execution_count": 7,
      "outputs": [
        {
          "output_type": "display_data",
          "data": {
            "image/png": "[encoded data removed]",
            "text/plain": [
              "<Figure size 432x288 with 1 Axes>"
            ]
          },
          "metadata": {
            "needs_background": "light"
          }
        },
        {
          "output_type": "display_data",
          "data": {
            "image/png": "[encoded data removed]",
            "text/plain": [
              "<Figure size 432x288 with 1 Axes>"
            ]
          },
          "metadata": {
            "needs_background": "light"
          }
        },
        {
          "output_type": "display_data",
          "data": {
            "image/png": "[encoded data removed]",
            "text/plain": [
              "<Figure size 432x288 with 1 Axes>"
            ]
          },
          "metadata": {
            "needs_background": "light"
          }
        },
        {
          "output_type": "display_data",
          "data": {
            "image/png": "[encoded data removed]",
            "text/plain": [
              "<Figure size 432x288 with 1 Axes>"
            ]
          },
          "metadata": {
            "needs_background": "light"
          }
        },
        {
          "output_type": "display_data",
          "data": {
            "image/png": "[encoded data removed]",
            "text/plain": [
              "<Figure size 432x288 with 1 Axes>"
            ]
          },
          "metadata": {
            "needs_background": "light"
          }
        }
      ]
    },
    {
      "cell_type": "code",
      "source": [
        "# Box-Plots, no se aprecia en los datos ningun valor extremo, al menos con este procedimiento en la variable temperatura para las distintas estaciones.\n",
        "\n",
        "ax = sns.boxplot(data=df[[variables[3], variables[6], variables[9],variables[12], variables[15]]], orient=\"h\", palette=\"Set2\")"
      ],
      "metadata": {
        "colab": {
          "base_uri": "https://localhost:8080/",
          "height": 265
        },
        "id": "_s5td4Zuspda",
        "outputId": "fb159b87-863d-4198-b55e-3f628392bebf"
      },
      "execution_count": 8,
      "outputs": [
        {
          "output_type": "display_data",
          "data": {
            "image/png": "[encoded data removed]",
            "text/plain": [
              "<Figure size 432x288 with 1 Axes>"
            ]
          },
          "metadata": {
            "needs_background": "light"
          }
        }
      ]
    },
    {
      "cell_type": "markdown",
      "source": [
        "# Regresión Lineal"
      ],
      "metadata": {
        "id": "UA-neWFV-VlK"
      }
    },
    {
      "cell_type": "code",
      "source": [
        "# importo librerias necesarias\n",
        "import pandas as pd\n",
        "import numpy as np\n",
        "from sklearn.metrics import mean_squared_error as mse\n",
        "from sklearn.preprocessing  import PolynomialFeatures\n",
        "from sklearn.linear_model import LinearRegression\n",
        "from sklearn.preprocessing import StandardScaler\n",
        "from sklearn.model_selection import train_test_split\n",
        "from sklearn.pipeline import Pipeline\n",
        "from sklearn.preprocessing import StandardScaler\n"
      ],
      "metadata": {
        "id": "VNNlgjaDtCP5"
      },
      "execution_count": 9,
      "outputs": []
    },
    {
      "cell_type": "code",
      "source": [
        "x= df[[ 'Temp_Las Varas AgriculturaCba', 'Humedad_Las Varas AgriculturaCba',\n",
        "        'Temp_San Miguel - Establecimiento Don Luis', 'Humedad_San Miguel - Establecimiento Don Luis',\n",
        "       'Temp_San Miguel - Listello', 'Humedad_San Miguel - Listello',\n",
        "       'Temp_ San Miguel - Las Varillas', 'Humedad_ San Miguel - Las Varillas']]\n",
        "y= df[\"Temp_Alicia AgriculturaCba\"]"
      ],
      "metadata": {
        "id": "UgYJGqxez7qo"
      },
      "execution_count": 10,
      "outputs": []
    },
    {
      "cell_type": "code",
      "source": [
        "#Separo los datos de \"train\" en entrenamiento y prueba \"test\" para probar los algoritmos\n",
        "x_train, x_test, y_train, y_test = train_test_split(x, y, test_size=0.2, random_state=42)"
      ],
      "metadata": {
        "id": "VMUiGNLH0BRV"
      },
      "execution_count": 11,
      "outputs": []
    },
    {
      "cell_type": "code",
      "source": [
        "#Defino el algoritmo a utilizar\n",
        "lr = LinearRegression()\n",
        "\n",
        "\n",
        "#Entreno el modelo\n",
        "lr.fit(x_train, y_train)\n",
        "\n",
        "\n"
      ],
      "metadata": {
        "colab": {
          "base_uri": "https://localhost:8080/"
        },
        "id": "SdFH7ta0zHKE",
        "outputId": "d30627e1-e384-4871-e934-fb36dd47091e"
      },
      "execution_count": 12,
      "outputs": [
        {
          "output_type": "execute_result",
          "data": {
            "text/plain": [
              "LinearRegression()"
            ]
          },
          "metadata": {},
          "execution_count": 12
        }
      ]
    },
    {
      "cell_type": "code",
      "source": [
        "y_pred_lineal_train = lr.predict(x_train)\n",
        "print('Precisión del modelo usando el (MSE):')\n",
        "score_train = mse(y_train,y_pred_lineal_train)\n",
        "\n",
        "print (score_train)"
      ],
      "metadata": {
        "colab": {
          "base_uri": "https://localhost:8080/"
        },
        "id": "AptrGNEwokhc",
        "outputId": "4393b083-e25c-4914-c496-ec27866f0067"
      },
      "execution_count": 13,
      "outputs": [
        {
          "output_type": "stream",
          "name": "stdout",
          "text": [
            "Precisión del modelo usando el (MSE):\n",
            "0.6251280521513793\n"
          ]
        }
      ]
    },
    {
      "cell_type": "code",
      "source": [
        "#Realizo una predicción\n",
        "y_pred_lineal_testeo = lr.predict(x_test)\n",
        "y_pred_lineal_testeo"
      ],
      "metadata": {
        "colab": {
          "base_uri": "https://localhost:8080/"
        },
        "id": "H8xUCNKB1ncr",
        "outputId": "30be77e1-26d9-4f07-941e-03716bbb7e48"
      },
      "execution_count": 14,
      "outputs": [
        {
          "output_type": "execute_result",
          "data": {
            "text/plain": [
              "array([27.89609183, 30.52593271, 19.94795126, ..., 24.20684952,\n",
              "       15.62503972, 22.51753457])"
            ]
          },
          "metadata": {},
          "execution_count": 14
        }
      ]
    },
    {
      "cell_type": "code",
      "source": [
        "\n",
        "print('Precisión del modelo usando el (MSE):')\n",
        "score_testeo = mse(y_test,y_pred_lineal_testeo)\n",
        "\n",
        "print (score_testeo)"
      ],
      "metadata": {
        "colab": {
          "base_uri": "https://localhost:8080/"
        },
        "id": "VH-ykeJvo5RX",
        "outputId": "3401a6c8-16dc-460f-f3fe-b447d79191f3"
      },
      "execution_count": 15,
      "outputs": [
        {
          "output_type": "stream",
          "name": "stdout",
          "text": [
            "Precisión del modelo usando el (MSE):\n",
            "0.6779307335532956\n"
          ]
        }
      ]
    },
    {
      "cell_type": "code",
      "source": [
        "print('DATOS DEL MODELO REGRESIÓN LINEAL SIMPLE')\n",
        "print()\n",
        "print('Valor de los coeficientes de cada variale regresora usada en el modelo:')\n",
        "print(lr.coef_)\n",
        "print()\n",
        "print('Valor de la intersección:')\n",
        "print(lr.intercept_)\n"
      ],
      "metadata": {
        "colab": {
          "base_uri": "https://localhost:8080/"
        },
        "id": "A8NaHVu3mq8d",
        "outputId": "3bd542b5-6771-486c-b3f0-c83fe2fb57eb"
      },
      "execution_count": 16,
      "outputs": [
        {
          "output_type": "stream",
          "name": "stdout",
          "text": [
            "DATOS DEL MODELO REGRESIÓN LINEAL SIMPLE\n",
            "\n",
            "Valor de los coeficientes de cada variale regresora usada en el modelo:\n",
            "[ 0.35626866  0.01451763  0.11463117 -0.02017878  0.12672709  0.01855433\n",
            "  0.35065603 -0.01862197]\n",
            "\n",
            "Valor de la intersección:\n",
            "2.0056630571544893\n"
          ]
        }
      ]
    },
    {
      "cell_type": "code",
      "source": [
        "#ahora le agregamos grados al polinomio y estandarizamos las features\n",
        "modelo = Pipeline([('scaler', StandardScaler()),('features', PolynomialFeatures(degree=1)),\n",
        "                    ('regression', LinearRegression()),\n",
        "                    ])\n"
      ],
      "metadata": {
        "id": "rAR6RpmO1usN"
      },
      "execution_count": 17,
      "outputs": []
    },
    {
      "cell_type": "code",
      "source": [
        "modelo.fit(x_train,y_train)"
      ],
      "metadata": {
        "colab": {
          "base_uri": "https://localhost:8080/"
        },
        "id": "9MaHbIrQ3cEQ",
        "outputId": "ac9bdc42-947f-43bc-f13f-9fdebfd527fe"
      },
      "execution_count": 18,
      "outputs": [
        {
          "output_type": "execute_result",
          "data": {
            "text/plain": [
              "Pipeline(steps=[('scaler', StandardScaler()),\n",
              "                ('features', PolynomialFeatures(degree=1)),\n",
              "                ('regression', LinearRegression())])"
            ]
          },
          "metadata": {},
          "execution_count": 18
        }
      ]
    },
    {
      "cell_type": "code",
      "source": [
        "y_pred_polinomica_train = modelo.predict(x_train)\n",
        "print('Precisión del modelo usando el (MSE):')\n",
        "score_train = mse(y_train,y_pred_polinomica_train)\n",
        "\n",
        "print (score_train)"
      ],
      "metadata": {
        "colab": {
          "base_uri": "https://localhost:8080/"
        },
        "id": "UpSDFUxopTMR",
        "outputId": "bab8c15f-a22f-4749-8405-cc752b183298"
      },
      "execution_count": 19,
      "outputs": [
        {
          "output_type": "stream",
          "name": "stdout",
          "text": [
            "Precisión del modelo usando el (MSE):\n",
            "0.6251280521513793\n"
          ]
        }
      ]
    },
    {
      "cell_type": "code",
      "source": [
        "#Realizo una predicción\n",
        "y_pred_polinomica_testeo = modelo.predict(x_test)\n",
        "y_pred_polinomica_testeo\n",
        "print('Precisión del modelo usando el (MSE):')\n",
        "score_testeo = mse(y_test,y_pred_polinomica_testeo)\n",
        "\n",
        "print (score_testeo)"
      ],
      "metadata": {
        "colab": {
          "base_uri": "https://localhost:8080/"
        },
        "id": "P7q2qtik3kXg",
        "outputId": "5f6b647e-3278-4a88-bb14-840ffb378383"
      },
      "execution_count": 20,
      "outputs": [
        {
          "output_type": "stream",
          "name": "stdout",
          "text": [
            "Precisión del modelo usando el (MSE):\n",
            "0.6779307335532957\n"
          ]
        }
      ]
    },
    {
      "cell_type": "code",
      "source": [
        "print(modelo['regression'].coef_)\n"
      ],
      "metadata": {
        "id": "Woek2kABaFXZ",
        "outputId": "fee172c7-1d1b-48ed-882f-699a503c31b9",
        "colab": {
          "base_uri": "https://localhost:8080/"
        }
      },
      "execution_count": 21,
      "outputs": [
        {
          "output_type": "stream",
          "name": "stdout",
          "text": [
            "[ 0.          2.06210134  0.2911924   0.67776441 -0.41617909  0.77392234\n",
            "  0.40298214  2.14755702 -0.40743924]\n"
          ]
        }
      ]
    },
    {
      "cell_type": "markdown",
      "source": [
        "# Regresión Lasso"
      ],
      "metadata": {
        "id": "ozSFHG02qcxA"
      }
    },
    {
      "cell_type": "markdown",
      "source": [
        "Una regresión regularizada diferente que se usa a menudo es la regresión LASSO, que naturalmente selecciona las variables más relevantes y produce modelos más parsimoniosos.\n",
        "\n",
        "LASSO usa la norma , que es simplemente la suma de los valores absolutos de los parámetros del modelo.\n",
        "![Captura.JPG](data:image/jpeg;base64,/9j/4AAQSkZJRgABAQEAYABgAAD/4RDcRXhpZgAATU0AKgAAAAgABAE7AAIAAAAGAAAISodpAAQAAAABAAAIUJydAAEAAAAMAAAQyOocAAcAAAgMAAAAPgAAAAAc6gAAAAgAAAAAAAAAAAAAAAAAAAAAAAAAAAAAAAAAAAAAAAAAAAAAAAAAAAAAAAAAAAAAAAAAAAAAAAAAAAAAAAAAAAAAAAAAAAAAAAAAAAAAAAAAAAAAAAAAAAAAAAAAAAAAAAAAAAAAAAAAAAAAAAAAAAAAAAAAAAAAAAAAAAAAAAAAAAAAAAAAAAAAAAAAAAAAAAAAAAAAAAAAAAAAAAAAAAAAAAAAAAAAAAAAAAAAAAAAAAAAAAAAAAAAAAAAAAAAAAAAAAAAAAAAAAAAAAAAAAAAAAAAAAAAAAAAAAAAAAAAAAAAAAAAAAAAAAAAAAAAAAAAAAAAAAAAAAAAAAAAAAAAAAAAAAAAAAAAAAAAAAAAAAAAAAAAAAAAAAAAAAAAAAAAAAAAAAAAAAAAAAAAAAAAAAAAAAAAAAAAAAAAAAAAAAAAAAAAAAAAAAAAAAAAAAAAAAAAAAAAAAAAAAAAAAAAAAAAAAAAAAAAAAAAAAAAAAAAAAAAAAAAAAAAAAAAAAAAAAAAAAAAAAAAAAAAAAAAAAAAAAAAAAAAAAAAAAAAAAAAAAAAAAAAAAAAAAAAAAAAAAAAAAAAAAAAAAAAAAAAAAAAAAAAAAAAAAAAAAAAAAAAAAAAAAAAAAAAAAAAAAAAAAAAAAAAAAAAAAAAAAAAAAAAAAAAAAAAAAAAAAAAAAAAAAAAAAAAAAAAAAAAAAAAAAAAAAAAAAAAAAAAAAAAAAAAAAAAAAAAAAAAAAAAAAAAAAAAAAAAAAAAAAAAAAAAAAAAAAAAAAAAAAAAAAAAAAAAAAAAAAAAAAAAAAAAAAAAAAAAAAAAAAAAAAAAAAAAAAAAAAAAAAAAAAAAAAAAAAAAAAAAAAAAAAAAAAAAAAAAAAAAAAAAAAAAAAAAAAAAAAAAAAAAAAAAAAAAAAAAAAAAAAAAAAAAAAAAAAAAAAAAAAAAAAAAAAAAAAAAAAAAAAAAAAAAAAAAAAAAAAAAAAAAAAAAAAAAAAAAAAAAAAAAAAAAAAAAAAAAAAAAAAAAAAAAAAAAAAAAAAAAAAAAAAAAAAAAAAAAAAAAAAAAAAAAAAAAAAAAAAAAAAAAAAAAAAAAAAAAAAAAAAAAAAAAAAAAAAAAAAAAAAAAAAAAAAAAAAAAAAAAAAAAAAAAAAAAAAAAAAAAAAAAAAAAAAAAAAAAAAAAAAAAAAAAAAAAAAAAAAAAAAAAAAAAAAAAAAAAAAAAAAAAAAAAAAAAAAAAAAAAAAAAAAAAAAAAAAAAAAAAAAAAAAAAAAAAAAAAAAAAAAAAAAAAAAAAAAAAAAAAAAAAAAAAAAAAAAAAAAAAAAAAAAAAAAAAAAAAAAAAAAAAAAAAAAAAAAAAAAAAAAAAAAAAAAAAAAAAAAAAAAAAAAAAAAAAAAAAAAAAAAAAAAAAAAAAAAAAAAAAAAAAAAAAAAAAAAAAAAAAAAAAAAAAAAAAAAAAAAAAAAAAAAAAAAAAAAAAAAAAAAAAAAAAAAAAAAAAAAAAAAAAAAAAAAAAAAAAAAAAAAAAAAAAAAAAAAAAAAAAAAAAAAAAAAAAAAAAAAAAAAAAAAAAAAAAAAAAAAAAAAAAAAAAAAAAAAAAAAAAAAAAAAAAAAAAAAAAAAAAAAAAAAAAAAAAAAAAAAAAAAAAAAAAAAAAAAAAAAAAAAAAAAAAAAAAAAAAAAAAAAAAAAAAAAAAAAAAAAAAAAAAAAAAAAAAAAAAAAAAAAAAAAAAAAAAAAAAAAAAAAAAAAAAAAAAAAAAAAAAAAAAAAAAAAAAAAAAAAAAAAAAAAAAAAAAAAAAAAAAAAAAAAAAAAAAAAAAAAAAAAAAAAAAAAAAAAAAAAAAAAAAAAAAAAAAAAAAAAAAAAAAAAAAAAAAAAAAAAAAAAAAAAAAAAAAAAAAAAAAAAAAAAAAAAAAAAAAAAAAAAAAAAAAAAAAAAAAAAAAAAAAAAAAAAAAAAAAAAAAAAAAAAAAAAAAAAAAAAAAAAAAAAAAAAAAAAAAAAAAAAAAAAAAAAAAAAAAAAAAAAAAAAAAAAAAAAAAAAAAAAAAAAAAAAAAAAAAAAAAAAAAAAAAAAAAAAAAAAAAAAAAAAAAAAAAAAAAAAAAAAAAAAAAAAAAAAAAAAAAAAAAAAAAAAAAAAAAAAAAAAAAAAAAAAAAAAAAAAAAAAAAAAAAAAAAAAAAAAAAAAAAAAAAAAAAAAAAAAAAAAAAAAAAAAAAAAAAAAAAAAAAAAAAAAAAAAAAAAAAAAAAAAAAAAAAAAAAAAAAAAAAAAAAAAAAAAAAAAAAAAAAAAAAAAAAAAAAAAAAAAAAAAAAAAAAAAAAAAAAAAAAAAAAAAAAAAAAAAAAAAAAAAAAAAAAAAAAAAAAAAAAAAAAAAAAAAAAAAAAAAAAAAAAAAAAAAAAAAAAAAAAAAAAAAAAAAAAAAAAAAAAAAAAAAAAAAAAAAAAAAAAAAAAAAAAAAAAAAAAAAAAAAAAAAAAAAAAAAAAAAAAAAAAAAAAAAAAAAAAAAAAAAAAAAAAAAAAAAAAAAAAAAAAAAAAAAAAAAAAAAAAAAAAAAAAAAAAAAAAAAAAAAAAAAAAAAAAAAAAAAAAAAAAAAAAAAAAAAAAAAAAAAAAAAAAAAAAAAAAAAAAAAAAAAAAAAAAAAAAAAAAAAAAAAAAAAAAAAAAAAAAAAAAAAAAAAAAAAAAAAAAAAAAAAAAAAAAAAAAAAAAAAAAAAAAAAAAAAAAAAAAAAAAAAAAAAAAAGpvcmdlAAAFkAMAAgAAABQAABCekAQAAgAAABQAABCykpEAAgAAAAMwMwAAkpIAAgAAAAMwMwAA6hwABwAACAwAAAiSAAAAABzqAAAACAAAAAAAAAAAAAAAAAAAAAAAAAAAAAAAAAAAAAAAAAAAAAAAAAAAAAAAAAAAAAAAAAAAAAAAAAAAAAAAAAAAAAAAAAAAAAAAAAAAAAAAAAAAAAAAAAAAAAAAAAAAAAAAAAAAAAAAAAAAAAAAAAAAAAAAAAAAAAAAAAAAAAAAAAAAAAAAAAAAAAAAAAAAAAAAAAAAAAAAAAAAAAAAAAAAAAAAAAAAAAAAAAAAAAAAAAAAAAAAAAAAAAAAAAAAAAAAAAAAAAAAAAAAAAAAAAAAAAAAAAAAAAAAAAAAAAAAAAAAAAAAAAAAAAAAAAAAAAAAAAAAAAAAAAAAAAAAAAAAAAAAAAAAAAAAAAAAAAAAAAAAAAAAAAAAAAAAAAAAAAAAAAAAAAAAAAAAAAAAAAAAAAAAAAAAAAAAAAAAAAAAAAAAAAAAAAAAAAAAAAAAAAAAAAAAAAAAAAAAAAAAAAAAAAAAAAAAAAAAAAAAAAAAAAAAAAAAAAAAAAAAAAAAAAAAAAAAAAAAAAAAAAAAAAAAAAAAAAAAAAAAAAAAAAAAAAAAAAAAAAAAAAAAAAAAAAAAAAAAAAAAAAAAAAAAAAAAAAAAAAAAAAAAAAAAAAAAAAAAAAAAAAAAAAAAAAAAAAAAAAAAAAAAAAAAAAAAAAAAAAAAAAAAAAAAAAAAAAAAAAAAAAAAAAAAAAAAAAAAAAAAAAAAAAAAAAAAAAAAAAAAAAAAAAAAAAAAAAAAAAAAAAAAAAAAAAAAAAAAAAAAAAAAAAAAAAAAAAAAAAAAAAAAAAAAAAAAAAAAAAAAAAAAAAAAAAAAAAAAAAAAAAAAAAAAAAAAAAAAAAAAAAAAAAAAAAAAAAAAAAAAAAAAAAAAAAAAAAAAAAAAAAAAAAAAAAAAAAAAAAAAAAAAAAAAAAAAAAAAAAAAAAAAAAAAAAAAAAAAAAAAAAAAAAAAAAAAAAAAAAAAAAAAAAAAAAAAAAAAAAAAAAAAAAAAAAAAAAAAAAAAAAAAAAAAAAAAAAAAAAAAAAAAAAAAAAAAAAAAAAAAAAAAAAAAAAAAAAAAAAAAAAAAAAAAAAAAAAAAAAAAAAAAAAAAAAAAAAAAAAAAAAAAAAAAAAAAAAAAAAAAAAAAAAAAAAAAAAAAAAAAAAAAAAAAAAAAAAAAAAAAAAAAAAAAAAAAAAAAAAAAAAAAAAAAAAAAAAAAAAAAAAAAAAAAAAAAAAAAAAAAAAAAAAAAAAAAAAAAAAAAAAAAAAAAAAAAAAAAAAAAAAAAAAAAAAAAAAAAAAAAAAAAAAAAAAAAAAAAAAAAAAAAAAAAAAAAAAAAAAAAAAAAAAAAAAAAAAAAAAAAAAAAAAAAAAAAAAAAAAAAAAAAAAAAAAAAAAAAAAAAAAAAAAAAAAAAAAAAAAAAAAAAAAAAAAAAAAAAAAAAAAAAAAAAAAAAAAAAAAAAAAAAAAAAAAAAAAAAAAAAAAAAAAAAAAAAAAAAAAAAAAAAAAAAAAAAAAAAAAAAAAAAAAAAAAAAAAAAAAAAAAAAAAAAAAAAAAAAAAAAAAAAAAAAAAAAAAAAAAAAAAAAAAAAAAAAAAAAAAAAAAAAAAAAAAAAAAAAAAAAAAAAAAAAAAAAAAAAAAAAAAAAAAAAAAAAAAAAAAAAAAAAAAAAAAAAAAAAAAAAAAAAAAAAAAAAAAAAAAAAAAAAAAAAAAAAAAAAAAAAAAAAAAAAAAAAAAAAAAAAAAAAAAAAAAAAAAAAAAAAAAAAAAAAAAAAAAAAAAAAAAAAAAAAAAAAAAAAAAAAAAAAAAAAAAAAAAAAAAAAAAAAAAAAAAAAAAAAAAAAAAAAAAAAAAAAAAAAAAAAAAAAAAAAAAAAAAAAAAAAAAAAAAAAAAAAAAAAAAAAAAAAAAAAAAAAAAAAAAAAAAAAAAAAAAAAAAAAAAAAAAAAAAAAAAAAAAAAAAAAAAAAAAAAAAAAAAAAAAAAAAAAAAAAAAAAAAAAAAAAAAAAAAAAAAAAAAAAAAAAAAAAAAAAAAAAAAAAAAAAAAAAAAAAAAAAAAAAAAAAAAAAAAAAAAAAAAAAAAAAAAAAAAAAAAAAAAAAAAAAAAAAAAAAAAAAAAAAAAAAAAAAAAAAAAAAAAAAAAAAAAAAAAAAAAAAAAAAAAAAAAAAAAAAAAAAAAAAAAAAAAAAAAAAAAAAAAAAAAAAAAAAAAAAAAAAAAAAAAAAAAAAAAAAAAAAAAAAAAAAAAAAAAAAAAAAAAAAAAAAAAAAAAAAAAAAAAAAAAAAAAAAAAAAAAAAAAAAAAAAAAAAAAAAAAAAAAAAAAAAAAAAAAAAAAAAAAAAAAAAAAAAAAAAAAAAAAAAAAAAAAAAAAAAAAAAAAAAAAAAAAAAAAAAAAAAAAAAAAAAAAAAAAAAAAAAAAAAAAAAAAAAAAAAAAAAAAAAAAAAAAAAAAAAAAAAAAAAAAAAAAAAAAAAAAAAAAAAAAAAAAAAAAAAAAAAAAAAAAAAAAAAAAAAAAAAAAAAAAAAAAAAAAAAAAAAAAAAAAAAAAAAAAAAAAAAAAAAAAAAAAAAAAAAAAAAAAAAAAAAAAAAAAAAAAAAAAAAAAAAAAAAAAAAAAAAAAAAAAAAAAAAAAAAAAAAAAAAAAAAAAAAAAAAAAAAAAAAAAAAAAAAAAAAAAAAAAAAAAAAAAAAAAAAAAAAAAAAAAAAAAAAAAAAAAAAAAAAAAAAAAAAAAAAAAAAAAAAAAAAAAAAAAAAAAAAAAAAMjAyMjowMToxNCAxMDoxODoxOQAyMDIyOjAxOjE0IDEwOjE4OjE5AAAAagBvAHIAZwBlAAAA/+ELGGh0dHA6Ly9ucy5hZG9iZS5jb20veGFwLzEuMC8APD94cGFja2V0IGJlZ2luPSfvu78nIGlkPSdXNU0wTXBDZWhpSHpyZVN6TlRjemtjOWQnPz4NCjx4OnhtcG1ldGEgeG1sbnM6eD0iYWRvYmU6bnM6bWV0YS8iPjxyZGY6UkRGIHhtbG5zOnJkZj0iaHR0cDovL3d3dy53My5vcmcvMTk5OS8wMi8yMi1yZGYtc3ludGF4LW5zIyI+PHJkZjpEZXNjcmlwdGlvbiByZGY6YWJvdXQ9InV1aWQ6ZmFmNWJkZDUtYmEzZC0xMWRhLWFkMzEtZDMzZDc1MTgyZjFiIiB4bWxuczpkYz0iaHR0cDovL3B1cmwub3JnL2RjL2VsZW1lbnRzLzEuMS8iLz48cmRmOkRlc2NyaXB0aW9uIHJkZjphYm91dD0idXVpZDpmYWY1YmRkNS1iYTNkLTExZGEtYWQzMS1kMzNkNzUxODJmMWIiIHhtbG5zOnhtcD0iaHR0cDovL25zLmFkb2JlLmNvbS94YXAvMS4wLyI+PHhtcDpDcmVhdGVEYXRlPjIwMjItMDEtMTRUMTA6MTg6MTkuMDMyPC94bXA6Q3JlYXRlRGF0ZT48L3JkZjpEZXNjcmlwdGlvbj48cmRmOkRlc2NyaXB0aW9uIHJkZjphYm91dD0idXVpZDpmYWY1YmRkNS1iYTNkLTExZGEtYWQzMS1kMzNkNzUxODJmMWIiIHhtbG5zOmRjPSJodHRwOi8vcHVybC5vcmcvZGMvZWxlbWVudHMvMS4xLyI+PGRjOmNyZWF0b3I+PHJkZjpTZXEgeG1sbnM6cmRmPSJodHRwOi8vd3d3LnczLm9yZy8xOTk5LzAyLzIyLXJkZi1zeW50YXgtbnMjIj48cmRmOmxpPmpvcmdlPC9yZGY6bGk+PC9yZGY6U2VxPg0KCQkJPC9kYzpjcmVhdG9yPjwvcmRmOkRlc2NyaXB0aW9uPjwvcmRmOlJERj48L3g6eG1wbWV0YT4NCiAgICAgICAgICAgICAgICAgICAgICAgICAgICAgICAgICAgICAgICAgICAgICAgICAgICAgICAgICAgICAgICAgICAgICAgICAgICAgICAgICAgICAgICAgICAgICAgICAgICAKICAgICAgICAgICAgICAgICAgICAgICAgICAgICAgICAgICAgICAgICAgICAgICAgICAgICAgICAgICAgICAgICAgICAgICAgICAgICAgICAgICAgICAgICAgICAgICAgICAgIAogICAgICAgICAgICAgICAgICAgICAgICAgICAgICAgICAgICAgICAgICAgICAgICAgICAgICAgICAgICAgICAgICAgICAgICAgICAgICAgICAgICAgICAgICAgICAgICAgICAgCiAgICAgICAgICAgICAgICAgICAgICAgICAgICAgICAgICAgICAgICAgICAgICAgICAgICAgICAgICAgICAgICAgICAgICAgICAgICAgICAgICAgICAgICAgICAgICAgICAgICAKICAgICAgICAgICAgICAgICAgICAgICAgICAgICAgICAgICAgICAgICAgICAgICAgICAgICAgICAgICAgICAgICAgICAgICAgICAgICAgICAgICAgICAgICAgICAgICAgICAgIAogICAgICAgICAgICAgICAgICAgICAgICAgICAgICAgICAgICAgICAgICAgICAgICAgICAgICAgICAgICAgICAgICAgICAgICAgICAgICAgICAgICAgICAgICAgICAgICAgICAgCiAgICAgICAgICAgICAgICAgICAgICAgICAgICAgICAgICAgICAgICAgICAgICAgICAgICAgICAgICAgICAgICAgICAgICAgICAgICAgICAgICAgICAgICAgICAgICAgICAgICAKICAgICAgICAgICAgICAgICAgICAgICAgICAgICAgICAgICAgICAgICAgICAgICAgICAgICAgICAgICAgICAgICAgICAgICAgICAgICAgICAgICAgICAgICAgICAgICAgICAgIAogICAgICAgICAgICAgICAgICAgICAgICAgICAgICAgICAgICAgICAgICAgICAgICAgICAgICAgICAgICAgICAgICAgICAgICAgICAgICAgICAgICAgICAgICAgICAgICAgICAgCiAgICAgICAgICAgICAgICAgICAgICAgICAgICAgICAgICAgICAgICAgICAgICAgICAgICAgICAgICAgICAgICAgICAgICAgICAgICAgICAgICAgICAgICAgICAgICAgICAgICAKICAgICAgICAgICAgICAgICAgICAgICAgICAgICAgICAgICAgICAgICAgICAgICAgICAgICAgICAgICAgICAgICAgICAgICAgICAgICAgICAgICAgICAgICAgICAgICAgICAgIAogICAgICAgICAgICAgICAgICAgICAgICAgICAgICAgICAgICAgICAgICAgICAgICAgICAgICAgICAgICAgICAgICAgICAgICAgICAgICAgICAgICAgICAgICAgICAgICAgICAgCiAgICAgICAgICAgICAgICAgICAgICAgICAgICAgICAgICAgICAgICAgICAgICAgICAgICAgICAgICAgICAgICAgICAgICAgICAgICAgICAgICAgICAgICAgICAgICAgICAgICAKICAgICAgICAgICAgICAgICAgICAgICAgICAgICAgICAgICAgICAgICAgICAgICAgICAgICAgICAgICAgICAgICAgICAgICAgICAgICAgICAgICAgICAgICAgICAgICAgICAgIAogICAgICAgICAgICAgICAgICAgICAgICAgICAgICAgICAgICAgICAgICAgICAgICAgICAgICAgICAgICAgICAgICAgICAgICAgICAgICAgICAgICAgICAgICAgICAgICAgICAgCiAgICAgICAgICAgICAgICAgICAgICAgICAgICAgICAgICAgICAgICAgICAgICAgICAgICAgICAgICAgICAgICAgICAgICAgICAgICAgICAgICAgICAgICAgICAgICAgICAgICAKICAgICAgICAgICAgICAgICAgICAgICAgICAgICAgICAgICAgICAgICAgICAgICAgICAgICAgICAgICAgICAgICAgICAgICAgICAgICAgICAgICAgICAgICAgICAgICAgICAgIAogICAgICAgICAgICAgICAgICAgICAgICAgICAgICAgICAgICAgICAgICAgICAgICAgICAgICAgICAgICAgICAgICAgICAgICAgICAgICAgICAgICAgICAgICAgICAgICAgICAgCiAgICAgICAgICAgICAgICAgICAgICAgICAgICAgICAgICAgICAgICAgICAgICAgICAgICAgICAgICAgICAgICAgICAgICAgICAgICAgICAgICAgICAgICAgICAgICAgICAgICAKICAgICAgICAgICAgICAgICAgICAgICAgICAgICAgICAgICAgICAgICAgICAgICAgICAgICAgICAgICAgICAgICAgICAgICAgICAgICAgICAgICAgICAgICAgICAgICAgICAgIAogICAgICAgICAgICAgICAgICAgICAgICAgICAgPD94cGFja2V0IGVuZD0ndyc/Pv/bAEMABwUFBgUEBwYFBggHBwgKEQsKCQkKFQ8QDBEYFRoZGBUYFxseJyEbHSUdFxgiLiIlKCkrLCsaIC8zLyoyJyorKv/bAEMBBwgICgkKFAsLFCocGBwqKioqKioqKioqKioqKioqKioqKioqKioqKioqKioqKioqKioqKioqKioqKioqKioqKv/AABEIASwDMQMBIgACEQEDEQH/xAAfAAABBQEBAQEBAQAAAAAAAAAAAQIDBAUGBwgJCgv/xAC1EAACAQMDAgQDBQUEBAAAAX0BAgMABBEFEiExQQYTUWEHInEUMoGRoQgjQrHBFVLR8CQzYnKCCQoWFxgZGiUmJygpKjQ1Njc4OTpDREVGR0hJSlNUVVZXWFlaY2RlZmdoaWpzdHV2d3h5eoOEhYaHiImKkpOUlZaXmJmaoqOkpaanqKmqsrO0tba3uLm6wsPExcbHyMnK0tPU1dbX2Nna4eLj5OXm5+jp6vHy8/T19vf4+fr/xAAfAQADAQEBAQEBAQEBAAAAAAAAAQIDBAUGBwgJCgv/xAC1EQACAQIEBAMEBwUEBAABAncAAQIDEQQFITEGEkFRB2FxEyIygQgUQpGhscEJIzNS8BVictEKFiQ04SXxFxgZGiYnKCkqNTY3ODk6Q0RFRkdISUpTVFVWV1hZWmNkZWZnaGlqc3R1dnd4eXqCg4SFhoeIiYqSk5SVlpeYmZqio6Slpqeoqaqys7S1tre4ubrCw8TFxsfIycrS09TV1tfY2dri4+Tl5ufo6ery8/T19vf4+fr/2gAMAwEAAhEDEQA/APpGiiigAooooAKKKKACiiigAooooAKKKKACiiigAooooAKKKKACiiigAooooAKKKKACiiigAooooAKKKKACiiigAooooAKKKKACiiigAooooAKKKKACiiigAooooAKKKKACiiigAooooAKKKKACiiigAooooAKKKKACiiigAooooAKKKKACiiigAooooAKKKKACiiigAooooAKKKKACiiigAooooAKKKKACiiigAooooAKKKKACiiigAooooAKKKKACiiigAooooAKKKKACiiigAooooAKKKKACiiigAooooAKKa7rGjPIwVVGSxOABXFan8YvA2kXjWt9rsKyrwQis2PxAoA7eisHw7418P+Ko92hanDdcZ2g4b8jzW9QAUUVieJ/F+i+DtPS98Q3f2W3dtquVLZP4UAbdFUdH1iy17SodR0ubzrWdd0b4IyPxq9QAUUUZoAKKKKACijNc54p8e+HfBjQL4ivxaG4/1QKM27t2FAHR0VDaXUV7aR3Ns2+KVdyNjqKwvF3jfSvBlvbyas7brmTy4oowSzn2A+tAHR0VBZXQvbKK5VGQSqGCuOQDU9ABRRRQAUUUUAFFcv8A8LG8Mf8ACWL4a/tEf2qzbBB5bdevXGK6igAooooAKKKKACiiigAooooAKKp6tqtnomlz6jqUvk2sC7pHwTgfhVLw14s0fxfpn9oeH7sXVtu27wpXn6GgDZooooAKK5q2+IHhy78WP4bgv92qR53QeW3GPfGK6WgAorL8Q+I9M8LaRJqet3H2a0jIDybScZOBwKdoWv6d4k0qPUdHn8+1k+7JtIz+dAGlRRmigAooooAKKKKACiiigAopk0yW8DzSnakalmPoBXAS/HP4fwzPFJrih0YqwMT8EfhQB6FRXn0Pxy+H80yxJr0e5zgZjYf0ru7S7gvrWO5tJVlhkUMrqcgigCaiiigAooooAKKKKACikJCqSegGTXOaF8QPDfiTWLnS9H1D7ReWv+tj8tht/EigDpKKKKACiikZgilj0AyaAFormvD/AMQPDnijVbnTtEv/ALRdWpImTYw24OD1FdLQAUUUUAFFFFABRRWP4l8VaR4R0z+0Nfuvsttu279pbn8KANiiqOjazY6/pMOpaVN59rMN0b4IyPxqn4r8U6d4P0GXVtXl8u3jOOOpPoBQBtUVl+Hdci8RaLDqdtFJFDONyCQYJHritSgAooooAKKKKACiiigAooooAKKKKACiiigAooooAKKKKACiiigAooooAKKKKACiiigAooooAKKKKAPN/jvq17pPwrv5NOLrJJ+7Z06qp615T8HPh38PvFHhCO98R3Cy6pJI3mRPcBSvJxwfUc19A+LZ/D8egyweLJ4YbC4/dsZjgEmvHJP2ePDmuWr6n4J8RTwwzEmIxOSmR79aAIW+COteFfiXZ6x8P5QumKwaRWm5xzke4xXqPjz4naL8P7OI6s5kvJh+7touWY14BqM/jr4KeNdPjutYkvrO6dVw7Fldc4I56VX8caxe6v8AHu1vYNLOqvHHHJBYseG70AetaL+0Vod9rENjq2m3WlCf7ks6kL+oFZv7UciTfDzTJYmDI11kEHgjArkPiPF408faTb2o+HTabLBIGWaIAHjt1qf4t2+pWn7Pfhi31yOSO+il2yLJ1BxQB618LtRtNI+C+l31/MsNtBah3djgABRXKXX7S+ipdTCw0a9u7SFsG5RTt+vSuZ8X3s1p+yppMUBZVmWNXIPbA4/Wq3gbXvEul+AYNP034apqFpLGf9KYZMue9AHvHgzx3ovjnSPt+iXG9V4kjbhoz7iuM8YfH/w/4Y1ttKtbebU7mMkSCDkKfTjNecfCPw34s8Jap4iu7/SrjTbKexkZVc/KGwSO9Wf2Z9KstW1TXdV1SKK7u94wZVDbck5PNAHqHgH4z6B46vm0+FZLLUByLebgt9Km+IXxf0D4fSJbXxa5vpBuW3i5OPU+lV7n4T+Gh8RoPE9vciyvUYN5ERCqxA9M149pNrF4o/aqu01vbNHbzvsikGQQF4H65oA9I8NftE+H9b1qHTtQs7jTHnYLG0w4JPTsKh+Oer+DrG40c+LdJm1JpAWtzDLt2jP0Oa6Px98KfDPi6WynvXTTJrVso8ACbun09K8n/act1sv+EVto5DIsMWxXPVgD1oA9+g1vS9I8Fw6pcOLSwjgDDe33R2H1rxPXPjn4K1bxFb6lN4evNQOnMfImOdi8/exj2o+PV7cW/wAHfDdvDMY4rlgsoH8QABr0b4Z+EdBX4W6bB9gtp1urUGWQxglyV5OetAG34H+IGh+PdMN1ocxJjwJInGGQ+mK5DVfj5oeieL9Q0PUrWSI2RIMufvkDoBivLPgo7aN8fNV0uwZhZsZUKA/LgMMVY03R7LWP2rNQi1KFZ4o52cIwyCcelAHbab+0x4fu9YhtLzTbmzimcIJpOgyeCeK9pgmjubeOaFg0cihlYdwa+bv2pdIsLK20W4s7SG3kLOpMSBcjj0r3D4eO8nw90VpGLMbVMk/SgDfubmGztZLi5kWOKJSzsxwABXjWoftL+G7TWpbS1sbm7gifa1xGOMZ5IGK6D4+XtzY/CLU5LSRomYopZfQsAawv2ffCeif8KyjvJbO3up7xj5ryIGP056daAPLvD2t2XiL9qCw1XTH329zOrLkYI+XkGvf/AIgfFbQvh8I4tQLXF7Lgx20XLGvANB0610j9quGz09FW3jvMqq9FyuaTxJqOoz/tI31xb6MdcmtpSIrNzxgCgD1zw9+0LoWq63Fpuq2F1pMkxAja4UgEnp1Ar1xHWRFdCGVhkEdxXyz8Srfxt4/tLaNfh42mT27bhPCMN9K+h/Akd9D4H0uLVkZLuOALIH6gigDP+I3j6P4e6JFqdzYyXcLybG2H7vueKveG/GVj4k8FJ4ktgVtmiMjLnlcDJFQ/Ebw7H4o8B6npsiBmaEsn+8Of6V87+CPG76B8DvFWiXMrR3do7RRj+6X3Dj8RQB7d4D+LVl471HUYLSxkt4LDd5k8jfKcH6VzGsftKeH7LVprPS9PudSWE4MsQ4P6GmfBnw1Z6J8Fry814mGLUlaa5kzghMnv+Vcd4R8Safa3d/a/CzwE2pwOxV7u6G7HvyTxQB678O/i/onxCmltLNJLa+iG5reTqR6iszVvjrouieObrw7qVu8P2XmS4LcdAf615V8HBfL+0Ne/2pbx2t0Y5TJDEMKp9BUWp6DZeI/2q7qw1JPMtzKrMn97CrxQB6qnxQ0Hx18PdfvptPmk020+SVC20yDI6ccdavfBjU/Dlx4FluvDVi+m6fHIxdJpNxBHU5wKm+JGi6bonwj1yLSbOK1QwjIjXGeRXF/Ag2P/AAozUv7Xcx2OZfPYHBCc55oA0NX/AGk9BstXuLPTdNutRSAlXliBxkdex4rqfh58XdD+IcktrYrJbXsQ3NBJ1x6ivI/CPie0tbm+tPhb4C/tO2dyJLu6G/n15J4qn8Fzer8fNS/tGCO3uyrebFCMKpx0FAEDeJbDwn+0nqmrau+y3hWTp1Y9gPc16JpX7S/hy91mKzvrK4sYpWws8nT2J4rzxNEsde/amntdUCtAsxk2N0Yg8Cu6/aQ8LaND8P4tRt7KC3ureZUjaJAvGDxxQBu/tBzR3HwXvZoXEkbtEyspyCN4qx8DrmGy+DVjc3MixwxIWd2OAoAHNee67qNxqn7IUE15nzE8uMMf4gHHP61BLf3Fh+yOjWrsjSssbMv909RQB2GpftIaJBqFxDpOlXmpQW5w88SnaPyBrvPAvxD0Xx9prXWkSFZI/wDWwycMleA/CrXvEei+B0h0b4fprNtOWLXbLnzDk8fh0/CtX4P+FvFWnfFC+vtR0S40nT7+NwyZ+VCQcDr60Ad34q+P+geH9fk0ews7jVbqFisogGQpHUcA5q34G+OOg+MtY/sl4JtO1BjhIZxjd+eK8fvvBfjj4Y/EC/8AEOlaRHrFvLJI+4qHG1iTznoea0vDHjnwh4k+I9lc+J/Dj6NrgcLFJDlU3e4yP5UAfTleb+OvjDZeA/E9rpWp6dKyXO3bOp4wcZ7ds16QPujHNeLftK+FzqngePWLaPM+nPuJA52nqf0oA9J8T+MLLwv4Nl8RXQL26RLIqDq2RkCq3w/8ap488Pf2vBZSWkJcqgc53e/Svn3xz43k8S/Bfwpo1pIxvL1xHIvchSy/0FfRngfQY/DXgzTdLiXb5MIDe5oA0tZ/5Ad9/wBcH/ka+Ufgt4F0Hxv4y1238RW7TpCzsgV9uDvr6u1n/kB33/XB/wCRr43+HHgrWfGfi3WIND1htLeF3Z3Vyu4bunFAHpfxf+Dfgzwx4CuNT0mJ7O6iI2Fpc7+Rxiup+AWsSWfwaF5rkxitbR3KyyHog+vtXj/xQ+GnivwbpNtqOt62+r6eJgHjaVjg5Hau58ceI7fUP2YLS40O2+x28zJDJHHxtIGGoA3L39pXRY7yddN0a9vrWFsNcop2/XpXpHgvx3ovjvSPt+iT7gvEkbcMh9xXgvw91zxLpPgGCw0r4bpqNrMhJumGTLnvUnwk8OeK/C/iLxDf32jz6XZT2crKhPyq2CRjmgD0Txp8fNA8J642lQ28uo3EfEnk9FPpmsyb9pXw7usUtLKaWW5O10JwYjnGCMVxv7N+k2mu+Jde1XWEjvLkPwJlDYJJycGsv4+aDp2jfFjSJdNhjtzdhXkjjGBkEDOKAPdfH/xPtPAVtps13aPcC/YKgU425rob7xFFY+DZfEDws0Udr9pMYPONucV4j+0n/wAgjwv/ANdl5/AV6b4gIHwLuzn/AJg5/wDRdAEfw6+KFl8SbHUJLGzktha/K285zkfSvJvgNj/hcfiT1yf5mrf7Kv8AyBfEHP8Ay0H/AKDVT4Df8lk8S+g3fzNAHpHjr45aD4M1oaSsMuo3w+/HCM7fbjPNUvCn7QegeItfi0m7tJ9NnmO2PzhwT6dBiuK1jXfCuj/FS6Pg3wxL4i8QmRvOMjFkViecAnt9K5HxjPrl38W9AufEOjW+jySSqYreFcEDPfigD6A+IXxXsPh9qWn2l/avN9tIw6tgKM4z0qt4f+Muh+KvGEnh7SoZZSsTO0+flyByK8z/AGlrcXXiLwxA/wB2XahP1OK9q8L+DdD8PaBbtpthFFMtsAZgPmY7eTmgDgfhRqvg+98eazD4Z0ieyvUZ/tEsku4OQ3OBjjmn6r+0FBpWrXVi/hrUJTbyFDIinDY79K439n4f8XX8S/8AXST/ANDrsvjf8QdP8J6W2kaNa2s2t3w2gCJS0YPGenXrQBN4Q/aB03xb4qttDg0meCadsbnb7v14q742+O+g+EdcOkRW82o3acSJBztPpxmsP4E/ChvD9oPE/iBM6pdrujRh/qlPOfqc1y9z4h8M6V8T70eBfCkviHWyzCdpSWQcjJAJ9eOlAHoHg74+eH/FOuJpNxbzaddyHEazD7x9O1dV48+Imi/D/TBdaxITJJ/qoU5Z6+YvEs+sT/G/RbjXdLh0m5kliZbeAY2ruPX3611PxXX+2/2kdJ0vUZN1mjQ4jb7pyeR+OKAO0039pjQLnUIYdQ026sYJTgTuDj+VdF8XtY8M/wDCvIr/AMQWb6npkrqUWGTbnOMHODWn41+GXhrxb4disL6GGxjhIKTRIqEYGMZ4rzv43aJb+HfgTaaXZXDXMFvMqpIxzkZFAHpvgDUtH/4VzZX2mQmw0xYdyLK+digdz9K8r8cfGvwRrt6NNu9Gu9Yt7KbzAYyQhYccjByOaj1W+ubH9ke2ktJGjd0jjYr/AHSORXQfs8+G9I/4VnFeSWlvcz3LsZJHjDHqeOaAOp+HXxU8N+OoPsukf6LcwrzaOMFR7VS8YfGnSPBfjOPQdUtpBuRXacNwoP4V5DdWcPhL9qe2h0NPKimky0SHj5g2Rj8KtfFawt9U/aV0q0vYxJC6w7lPQ0AddL+094fi1HyTpd0LYvtE5GMj1xivZNJ1S01vSrfUdPlEttcIHRh3FeP/ALQvh/SbX4WLJbafbwyQSKEeOMKRwe4roPgAzP8AB/TdzE4LAZPQUAemUUgpaACiiigAooooAKKKKACiiigAooooAKKKKACiiigAooooAKKKKACiiigAooooAKKKKAOW+IngyDx34PutHmYI7DdC5/hcdDXgWhWfxg+F0cmlabpxvrAOfKBYMo9xzxX1NRQB8x6f8O/iB8TvGlrq/jxTZWVqysqFgRgHO0AE4rpfir8L9dh8VWHjDwEge8tFVXgyASFxjr+Ne70UAfOVzdfGX4hT2unyWQ0G3jcedcxMBkep5Oa6j4zeAde1z4aaTo2hxyapd2koMju6hm465OK9looA8qg+G9zrnwJtvCmrJ9mvo4F25IOxwOOnvXnuiX3xh8DaOfC9noKXkSbkguCwOBnqDu4r6XxRQB5T8KvA3iixsL688e6lNc3F/GY/sjOGWIHr078mvOT4M8f/AAk8aX+oeDbBdR067YkJkYwScAjIPGa+nKKAPnjwF8PfF/if4kDxl49RrRY2DxW+/OSAAMAE4FP+J/wx8T6b8QovG3gGDzpi2+WJWAIbv1PII4r6ExRQB8yXPhz4l/FzxHp58UWX9k6baOC+1sAjIzxnOeK6P47fDjX/ABLH4eg8M2JvI7CPy3PmKuPzNe8UgFAHnXjL4c/8Jp8LbbRbnEN/bxKYmPO1x2/SvJNMuPjL4N0GTwtZ6P50QBjhudwJQdBtOa+ocUnOaAPFfgf8J9T8J3t14i8UEf2ndqQseclATkkn1yKr6F4C8R2n7Q2oeI7iwKaXM7FJ9685HpnNe50UAeL/ALQvgjxB4z0/S4/DlgbxoGYuA6rjOPUivS/BVhc6X4K0qxvo/LuILdUkTOcEVu0UAYXjPw1B4u8I3+jXIG24jwpPZhyD+dfOvhnTPi78NpLjQNH077TazORHIWBVc/xDnivqeigD5h8C/Crx3pvxksNe16zMsIm864uvNU9R6Zzx0roviZ8OPFGlfERPHXgOMXM7HM9vuAOe55IyDXvlFAHznO3xh+JN/a21xbf8I7ZxsPNmiYDI78ZJr6B0uybTtKtrR5mnaGMK0j9XOOTVuigBrgMpVhkEYI9a+WPG3wO8U3vxJun0ay3aNfXKySSLIoCgtzkZycZr6pooA5jV/Cou/hrP4asysJezECnsDgf1FeAeBtJ+LHgCS88P6Pokbx3Dn9/IQVTPG4c19TYooA+c/hn8PPGvhj4wvrPiCxNzBcBxLdrIuNzd8ZzWpB4A8SR/tIy+Jm00/wBkswIuPMX+6B0zntXu4z3ox70Acx8R9JvNc+H2q6dpsXnXU8W2NMgZOR61598Ofh5rdp8FNW8M6zbfYr27WRUDMGxuBx0Ne0YxSmgD5a8Daf8AFjwGbvw7o2ixvFO5xcSEYT/aHNbPwv8Ah3418LfFubVdfsDcQTbhJeLIuCSOuM5r6MoxQB8weLPhf4/n+LN/4j8O2flrHIZ7eYyL85HOMZzzUGuaJ8V/ipqFnpPiHT/sFlCw81gw28fxHnk19TUUAeWfETwFeyfBEeFfDVubqeFY1RNwXdhgScnFM8L/AA5ur74GDwn4hg+y3LRkYJDbGxweK9WooA+ZPDo+LPwutbjw9peiR6jZmQmCYkHbnuOeOtd98LvB/jRJr/WPHOqTrPeRssNoHBERI+9+v6V67j0ooA+bns/i/wDDvxNeyWEbeINPmY+X5zhl25OOMg5xVXR/Afjb4h/Euy8SeKtKi0m2t3Vn2YG4D0GTX03RQAgGFA9BWb4i0iLXvDd9pk6hluYWjwfUjitOuO+Itl4uv9DWDwNPDBdMSJHlbbge1AHzH8I/CUurfGOPTrnMtrpEzuynJUANjH619mAYGB07V5j8HvhfdeBIL6+1u4W51W/fdIy8hfXmvT6AKmqxST6RdxQrukeFlUepIrxT4FeAPEnhPxbrV5r+nG1hud3lMZFbdls9jXu1FAHm3xz8K6t4u+H7WGg232m6EqsI9wXIBHc1z3hP4balqnwFl8H+IrRtPvFd3jLOrDd/CeK9qxRQB8z6FffGDwDpR8NWehJeQoSsFwxBwM9Rzx+NegfCrwR4rsYb7UvH+qS3E19GUFmzgrGD1Jx9TXrFMmiE8EkTEgOpUkdRkUAfL0vg7x58L/Ht9feBrVNQsLpyyrG4IwScAjOeM1x3xAtfFX/Cd6Tf+NnQX96yslupz5SggY6mvYp/hv8AEjwv4tuNS8E66t3azsT5F9JkID2wTUek/BvxR4j8dxeJviTfwSNbsDHbwYKnHbrwKANv41fD7U/G/grT20MBr2xxIIycbxgcA157bQfGTxF4Pk8MNpwt7WOAxPLIwDOoGNvXvX06qhVAXgAYFLQB4n+z74G8QeDNO1iHxFYG1e4YGP51bcMY7Gq3wk+H/iPw78Std1LWdPNvZ3YYRSb1O7JPYGvdaKAPl+78IfEH4d/FW/1zwxpi6lDeyuyEkbSGJOCM9s03Xvh/8Ttc8baX4o1nTku3Dq7QRSKogAPTk19Q0DNAHiHxn8DeI/F2ueG7vRdOaaO1ZGn/AHijZg5PU17LawumjxQsMOIQpHvirdBGaAPCPhF4C8TeF/HfiDUdV08wQ3JkMDmRTuy2R0Nee3/wy+Jv/Cf3HiEaH9sm88yRtLOhB9P4q+uaKAPD/DGo/GW48Q2sPiDSY7fTGO2ZxIp2r+DVxcfhT4i/DX4kX+o+G9KXUo712KsSNpDHPPIr6kooA+VNT+GvxM1P4iaf4n1nTRdyPLHNKsUqgQAN9zk9utd58afhhrHiPUbDxV4Uj/4mtqFZ4sgMcYI59sV7fRQB8u6za/Fz4l21noOqaX/Z9rC482dWA3Y4yeefwrvfiT8NtTf4MWPhfw1A19PasuQXALYIycmvZSM0UAebeH/AM1/8EYfCuvxG3na32MuQdjbcA8V5Nodh8V/hQbvRtF0v+0bF3JhckEDPcDPFfUVFAHz/APCn4WeJZ/Hb+NvHwKXYJaKJmBYsRjJx25q9418BeItV+PmmeILHTzJpkAjDzeYoxjrxnNe5UUAedfGzw1qvin4dyadodqbm6MgYRhgOMHuatfBvQNS8NfDWx03WrY213GSWjLA4/Ku7NAoASloooAKKKKACiiigAooooAKKKKACiiigAooooAKKKKACiiigAooooAKKKKACiiigAooooAKKQkDknA9TTPPi/wCeqf8AfQoAkoqPz4f+eqf99CnhgwypBHqKAFooooAKKKKAA0UUUAFFFFABRRRQAUUUUAFFFFABRRRQAUUUUAFFFFABRRRQAUUUUAFFFFABRRRQAUUUUAFFFFABRRRQAUUUUAFFFFABRRRQAUUUUAFFFFABRRRQAUUUUAFFFFABSUtFAAKKKKACiiigBKWiigAooooAKKKKACiiigAooooAKKKKACiiigAooooAKKKKACiiigAooooAKKKKACiiigAooooAKKKKACiiigAooooAKKKKACiiigAooooAKKKKACiiigCrqdiNS0y4s2keITRlN6HDLkdQa+Z9Dsbjw78Vbjwx4/1nVRb3TH7DcC8dVOTx/OvqKvNvjP4CtvF3hKS9jdbbUtPHm29wTjGOxNAEupfCSwuNNlWx1rWIZih8uT7a5wccVpfC2w1LS/BYsdanmubm3uZY/NmJLOoPB5qj8GNb1rXfh1aT+IYWWdDsSVhgyqP4q7/AHQY+lAHL+N/Gsfguyt7q4sZbmKaQR5j/AISfXitz+0Cuim/ki27YjKU3dsZ61x/xm097/wCGGo+U21oAJQw7YP8A9eootRl8S6Do2j6bM37+BJLuZf4UHb8SMfjQB0Xh7xSmtaDJq9xbNY2ybjulPVR3+lWNG1ebV7WW+ihxbEnyB3kA7/pXK/FmY6N8Nxa6eBFHLLHa4HGEbiu00WJYNBsI0AAW3QcD/ZFAHPeE/H9v4q13VNLhs5LebTG2zCQ9/wAq0dK8SnVdeu9Phs3EVqcNc5ypPPHTrxXlt/DqGkftC3Nl4cKn+3LQPeNniHlsn68V6yIoPDHh9zbW8k4hXcyxjLynuee5oA16Kjt5fPtYptrJ5iBtrdRkdDSzf6l8MU+U/MO3vQBz2reJp4dafR9HtRdXscBmkDNtCjGQPxouPFL6boFtdata+RfXL+VHaK2Sz84A/AVx3w30261LxRruuy6jcOouzAjMijzFRiMU/wAQ3Dah8fNCsJc+TZ2zTqueC2Rz+tAHaa1rtz4e8Mvql1ZPdNCm+WOHqo/LmqumeOLXUvA//CTLD5dsYzIEZ+TxnH19q39QWB9NuUvCqwPGyyFugBGDXhXwvjW98Yan4VvZ5DpNhcNc2MDcCUEkg+4GBxQB7N4b1yXX9JS+lsJbFZPuLLkEj1ximahrT6Rq0Md+oFlcnZHMP4G9DV6/vl02OAC2klV3EYWID5BjqfbisD4kwiTwFfSfxw7JEPcEMKAL+sa5JoWo273qg6dcOIvOz/q3PAz7GtxWDqGU5BGQfWuB8QSHV/gbNd3PzSjTPP3H++Ezn863vAd/JqXgXSrqYku8ABJ9uP6UAdAx2qSegGTVTTdVs9WikksJllSKQxuR2YcEVymv/EWLR9QubB9C1S4MYI82GJSh47HNcJ8OviPDpWj6kp0HVbgyahPLmKJTjLZweetAHuVVdRnltrGSW2hM0wHyJ/ePak0u/Gp6bDdiGSASrny5Rhl+tUvFHiK28MaFPqF0clRiKPvI54AH44oAj8K63d61p0r6laC0u4ZWjkiV9wGD603xB4v03w/NFbTs099P/qbWEbpH/DrisX4bX99d+ErvVtYg8i5muJZWi7oM5x9a5L4NIfE/ibxH4r1X97dLdm3t9xyI0HHHp92gDtNc8c3WgaHHqd7oNyYmZVZUyWTJAGRj3q9L4pWa4sLGwjL317EJvLP/ACyTAOT+dbtxbQ3lu0F1GskbYyrdD3rzjwDKb74leKriQf8AHqyW0S/3VUsBigDsvEXiFPD9lAWTzrq5kEMEQP33I/8ArVS/tbxFHFey3GmIgtWyoV8+cnGSOOo5/KuR8QWFxrfxo0+wXULgw2kJuioRcQsCAMfg1eoxxYtxFI5kwu0s38VAEGlanb6vpsV5aHKSLnB6qe4PvVyvP/hrcNHqviTS9xMVrfMYx/dyzZ/lXoFABRRRQAUUUUAFFFFABRRRQAUUUUAFFFFABRRRQAUUUUAFFFFABRRRQAUUUUAFFFFABRRRQAUUUUAFFFFABRRRQAUUUUAFFFFABRRRQAUUUUAFFFFABRRRQAUUUUAFFFFABRRRQAUUUUAFFFFABRRRQAUUUUAFFFFABRRRQAUUUUAFFFFABRRRQAUUUUAFFFFABXm2u3h+IHiQ+HdOuAmkWThtQmVv9af+eY/P9K7bxDY3upaFc2mmXX2S4mUqs2M7c14rb/s9a5ZmU2XjK+t/OcvIIXZQzevDUAe6Qi0sLNYYWihghXAAIAUCqeha5Dr0M89rhoIpmiWQHIYqcHFeOP8AATxJJGySeO9TZWGGUzOQR/31Xq3gbwsng3wnbaNHKZvJJLSHqxPU0AaHiLShrfhy+01sYuYinNYnw58GL4L8KwWMsnnXeP30p7n0HtXW0UAcv8RdAfxH4JvLOFd06jzYR/tryKu+GtR+2+FrR4kzPFCsckTHkMowc/lW3VW30+3tbqSe3Ty2l++B0J9aAPPPCXg7XbH4pa14o1yKJ1vlCW4RhmJc9Ov1re8eX08T6RY2dw9vPd3iDep42hhkH65rrxVO80qz1CaCW7gWV7dt0bMPun/IoA5nx7feJ9LsbO48MG3fy3AnjlHzSD0XkVtazqiWvhu9neRUnS2JKZ5ViMDj61qS28MzIZY1cxncu4Zwaxrvwjp95q8l/OZWaUASR7/kYA5HH1oAz/hnpk2meBrUXIInumNzID/efk1keNdMm0/4g6B4piBNtEfs93gZKqed36CvQ0VUQIgCqowAOwpk8EdzC0M6K8bjDKwyDQByevadrXiHWrW22ougKQ82xxumPYdenSsTxT4M1n/hYmi+IPC1vbxJZoYrgE48yPjjr2ANei2trHZ26ww7tijCgnOKmoA4q/1G5ufiTpOnJNJb+XbtcTxqw2tyBtP51N8RZZbjw9/ZNivm3V9IkYQdQu4En8s10baTZNqn9omBTdhdgkxzinDTrcagbzZunIwGbnA9qAOQ8Zw/2b8OF8O2f725uoFsY0XqcjaW+grpPDWl/wBieGrDTs5NvCqsffHNWjpls2o/bnTfOF2qzc7R7elW6AI5U3QyAAElSBx7VyXw50e90jSdRi1ODynl1GaVAcHKM2Qa7HFJQAuMdK4fUfCupeJPHsV3rhQaLpw3WsC/8tJORub9PyruKKAOT8MaTren6hqMGpmH+zmuJJIAnVw5zg89qwPD/g3XvAniDUT4eFvd6TqU3ntFJw0TfXI969Kx60tAGNYQ6vc3K3GqOkCIflgi7/U81y2lWa+F/itqXnER2utRrJCxOBvXJYfUlhXoVYniTwpp/ihLYagZla1k8yJ4ZChB47/hQBzPgyCTU/H/AIi16Rt0Qdba3I6FQBn9VruL68i0/T5rq4cIkSFiT/Km6bpttpVmltZRiONeeO57k06+0+31GNY7tPMjVt2wngn3oA5T4c6XLBaahrFypWTVblplUjBCEkr/ADrtKRVCKFQAKBgAdqWgAooooAKKKKACiiigAooooAKKKKACiiigAooooAKKKKACiiigAooooAKKKKACiiigAooooAKKKKACiiigAooooAKKKKACiiigAooooAKKKKACiiigAooooAKKKKACiiigAooooAKKKKACiiigAooooAKKKKACiiigAooooAKKKKACiiigAooooAKKKKACiiigBO9LRRQAUUUUAFFFFABRiiigAooooAKKKKACiiigAooooAKDRRQAUUUUAFJ3paKACiiigAooooAKKKKACiiigAooooAKKKKACiiigAooooAKKKKACiiigAooooAKKKKACiiigAooooAKKKKACiiigAooooAKKKKACiiigAooooAKKKKACiiigAooooAKKKKACiiigAooooAKKKKACiiigAooooAKKKKACiiigAooooAKKKKACiiigAooooAKKKKACiiigAooooAKKKKACiiigAooooAa8iRrukdUXuWOBUX260/5+Yf+/grjPi/KIvh/OZJWhjMqB3VipC9+RXJaZp/wqeC0A1aVp2VCR9sm5bH19aAPZwQRkciiuG1X4gJo/iVPDWmaVc3919lWeIRchlyR1J9q1fCPi4eJRdwz2Uthe2b7JreXqvXB/SgDpKK5DxX49j8M69Y6SthPeXV9GXhWEZyQcYqLVvHsunNaWVvpE91q88QlkskxuiXnk8+1AHaUVxmmfEexudJ1K41O3lsLnTV3XFtJjcBzjHPfBrKl+KtzYw20+reHLyzt7yQJbSuBh88g9fSgD0iiuGuPiMw8aTeG7DSLm7uodrO0YG1VJ6nmnat8QprfVJ7LQ9GuNVNrxcPDjEZ9OvXg0AdvSFgoJY4A5JPauJn+J+nL4ZtdTtLea4nup/s0VqoG7zeflPP+yafp/i+bVrPVLXWtFutNlt7dpGSTA3pg9CDQB2SyK6b0ZWXsQcihJEkGY3Vx3KnNebz+LbS38EaZp2i2l3NdanARb20R3SKmBk5J7ZHep/CHi2zstJv9Mk0+6sb/AEuIzS21ycu46lup9aAPQ6CcCvNIvi5JLptrqw8O339kzMFa7wMIScetd9dTpc6HNPA2UkgLow7jGRQBZFxCdoEqEtwuGHP0qSvIfCWpWiWXhaPUEmnuprycQSeYcKRI/XnnpWqnxXnu7W5udM8O3t3b2cxjuZEAwmOp6+9AHpNFcdqXxDsrbR9NurC3kvbnU13W1rHjcw4z37ZFL4f8erqeoXGnatp82l38MRmEEuMug7jB9xQB2FN8xN+zcu7Gduea88f4o3cWy8m8NX0ekvKIxeMABycA9fU0rXkknxythFI7QPpjOEDcHgEcUAeiUVnaNf3Oo2rS3lk9m6uyhH6kA8GtGgAooooAKKKKACiiigAooooAKKKKACiiigAooooAKKKKACiiigAooooAKKKKACiiigAooooAKKKKACiiigAooooAKKKKACiiigAooooAKKKKACiiigAooooAKKKKACiiigAooooAKKKKACiiigAooooAKKKKACiiigAooooAKKKKACiiigAooooAKKKKACiiigAooooAKKKKACiiigAooooA4f4toZPAsmInmCzIzIiliQDzwKytP8f+C47W1jNhcLIkaKf+JfJwcAf3a9LZFb7ygj0IpvkQ/wDPJP8AvkUAcJpsLzfGe6vkhYW8mlR7JCpA++3FWfC0UieP/EjPEyqxj2sVwG5bpXabFByFAPTOKNoBJUAH19aAOJ1q1eX4waJN5DPHHYyAybchTvHeua8YWdvpHxS/trXrW6m0u6tFhWW3QuY3DE8gAnuK9bwM5xz60FQ3DKCPcUAeODT113w1rl/oGjy20KsrRyTfK90E3cYODj8O9VfGnjW11/wvpOn2NjciaO4iWYywsgiwpBwSOfwr2HVdOXU9JnsfNeASoVDxHaV9xiuPtfh9qc15ZN4g177faWT744Fh2byOm45OeKAIvClpKnxZ8SXEkDLFJbxhJCuA3PY1yjR6b4V8V66niazv3N5MZ7WS3jZ1kBJO3gHHUda9tCgdAB+FIyI5+dFbHTIzQB5FqMFha+A7GTUvDU0NjLd+YRAMyW4+bEmBk5/DvTPD+pX13f6tb6VcX1/of9nPzeRFWjfDfKuQD6V7CVDLtYAj0IpBGighUUA9QB1oA8X0pp/C7eF/EN/ZzvYpZGCXZGWaJiqgfKOanR5vFfirX/ElhaTxaeumG1jaWMqZmJU5Cnnsa9hMa7Nu1dvpjihY1VdqqoX0AoA8zlsZx8ArS1Fu/nCGPMe3nPmeldrYoy+CYEKkOLEArjnOytfYu3aVG30xTscY7UAeIaBaXJ/4Q0m2lHlX1wXyhG0eZJ1rqfBdpNF8NdYjkhZJHafClcE/JXogjQdEXjpx0pQqgYCgD0AoA8Il0mSx0vwhrWqWVxLp9pC8NysSkvGWCgHHXse1dJ4euLPUNZ1DUfC2jT7La0ZY726QqzscHaAcHH4dq9S2Lt27Rt9McUqoqDCAKPQDFAHgGo3w1bwXD/aL6peawkqvJbiJgkWHGR93kYGetdhpRe5+LOmX8UMv2YaPguUIAOwcc969NEUYJIRRnr8vWlEaL91FHbgUAUdG1i31m0ae1WRUVyhEiFTkHHf6VoUioqfdUD6CloAKKKKACiiigAooooAKKKKACiiigAooooAKKKKACiiigAooooAKKKKACiiigAooooAKKKKACiiigAooooAKKKKACiiigAooooAKKKKACiiigAooooAKKKKACiiigAooooAKKKKACiiigAooooAKKKKACiiigAooooAKKKKACiiigAooooAKKKKACiiigAooooAKKKKACiiigAooooAKKKKACiiigAooooAMUYoooAMUUUUAFFFFABRRRQAUUUUABooooAKKKKACiiigAooooAKKKKACiiigAooooAKKKKACiiigAooooAKKKKACiiigAooooAKKKKACiiigAooooAKKKKACiiigAooooAKKKKACiiigAooooAKKKKACiiigAooooAKKKKACiiigAooooAKKKKACiiigAooooAKKKKACiiigAooooAKKKKACiiigAooooAKKKKACiiigAooooAKKKKACiiigAooooAKKKKACiiigApCwBwSM/WqWrata6Lps17fyiOGJC5J9hXB+DoR430g6pfX0yXTXTSosbEBUBIUY9CMGgD0h3VF3OwUepNOzkcVxWnaq3inxtfWitjT9HbyyAf8AWS/4cisf4vS61oVnY69o1/PFbW9yovYEUHfESM9enGaAPTaQnAJPArg5tUn8YyWNp4ZvZIYERZbm8jGQAR9znvzXcRQiK3WFnL4XGWPLUASKyuoKkMD0IOaWuOi1FvDnjaPSJ5GNlqKs9uW/gcdV/HIrsTQAUVUfVbCNyr3cKsOCC44pBq+nE4F7D/32KALlFIrB1DIwYHoRWN4t11PDvhy4vj/rBhIh6sxwP50AbG9d23cM+madXmGux3b+HNHgtrqSXXru6hmcoxBVcguMegzXpcOUgjWRsuFAPucUASUUUUAFFcz4f8RXOqeJ9b06eNVjsJFWNh1YFQefzrpqACmmRQwDMAT2JrN8Sa3F4d8O3uq3HKW0TOF/vEDIFef3b3N18OxcyXMj67qTb7YBsFCTlRgf7NAHqlFV7BZYtPt0umzMEAc+pxTru3+02skIkaMupAdeq+9AE1FePeD/ABZeaBrfiLSfF9/NdXdnJm03KAZUIyAoHU8iu58I6dqqpJqWs3cxe5O+O0cD9wvp9aAOooooBB6HNABRXMeLvEs+gX2jQwRq41C5MLk/wgDNdPQAUUUUAFFFFABTVkV87WU464Nch401+WDU9M0Cwl8u51CT944/gjAyT+OCKpW8LSfFC2XRZXNjaWrrd/OSpYgbfx4NAHfUZ5xiiuN+JttrH/CIXV94dvJLa9tQJMIM71ByRg+2aAOyorzC08Uz+K/Bel2Ph25k/tW8iUzzf8+3A3Fvfnp7V6FpNhJp2mxW89y91KqgPK/Vj3NAF2ignHWigAooooAKKKKACiiigAooooAKKKKACiiigAooooAKKKKACiiigAooooAKKKKACiiigAooooAKKKKACiiigAooooAKKKKACiiigAooooAKKKKACiiigAooooAKKKKACiiigAooooAKKKKACiiigAooooAKKKKACiiigAooooAKKKZK/lxO4UsVUnA70Acd8WL02fw7vlQjzLkCBBjqW4xW34W01NL8J6faooBW3XPGOSMmuS1n7T4+u9ItIrKa2tba78+6MylcGNgVAz1zzXogUKqqvCqMAUAeY/CCN7fUPFEFwCsy6ixYH6LW74vuU8SQ3HhPTgk81xGRcP1WFSO/v1/Kp5dFl0jxVcanZIz2uojZdRpwyt/fH6VoaH4S0zw/NdT6d5/mXbb5XklLFj/k0AcP8DrsWWiah4XuQqXukXDIwzy6kkg/kRXWNqVtffENNNAuUuLG384lWHluGJXB4607T/AOi6Z4kn12zFyl9cf61/OOH+o/CmaLoeoaf4u1rVb5keC6b9xg5YIO386AMX4hZfxp4SSI/vRcsxA9MpXoR9D6Vy1hpFxqni5te1OIRx26mKziPUDux+vFdUeaAPF9euPBa69eLeeCb+5nEhEkyRthz6iqC3XgUMNngHUt2eP3bV7vRQBT0ryjpNsbeFoIjGCsbdUHoa4T4kyHVfE/hvw7G3E9z58wA6Ko3D9Vr0Y9683sNIm8R/FjVdSv47qG1sYRb2zglNxyc4PcYNAFPxNJ5vxX0iHw/CAbJHuNQmi6BRghSenODT1u9SvfAep+JFumF9FM7wc/KqqxXGPpXf6ZoGnaTFMtnAAZ/wDWyNy0n1PeuUbwfqkPhu+8P27p9lu5iyz7uUQncRj60Adhol+dT0O0vSMGaMMRWD4k8OeItV1QT6R4lm0y3CgeTGO/r0rpLC0Sw0+C1h+5CgUVYxQB4d4Y8JeKZvGPiKKDxfcRSxyoJJAOZDtHPSvXPD2nahpelrb6rqT6jODzO/U1FpPhqDSdb1LUYpGZ9QdWdSeFwAOPyraoA83+L032610fw5Hy2p3qB1HXYGG7+dZvjy3Q+JvDOieHYx/aSTIZpYuscSrj5j0Har93pc/ib40LLcxXMdhpFt+6lAKBncc4Pf7ort9M8PadpNzLc2sJNxN9+eQ7nPtnrQBgeLJru28WeHfJupEjmlZJIgflbCmuo1LU7XSbGS7vZVjijGSSevsPU1z3ifRtT1PxLot1ZQxtb2MjPKzPg8gjgVpa94V07xIYf7TM7LC4kVElKruHIyO9AHkXjSO40/xtoXxDvbYRWnniF4z1EZzhm/IfnXseszGfwveXFncNGTbPJHLGeR8pIqt4h8IaV4p0ddL1dZpLRcYRZCOlObQhp/hW40rSjJIDA0UQnlyRkY6mgDF8G61NH8LYNV1B5LmSOAySMT8zYGTVm0sbnVvA6jQtRubCa6YypPLy6ZJ46Vm2nhTWYfhUPD7CNL7Zs+WTgjHrXZ6VbyWmk2tvNtEkUSo23pkCgDxPx54W8T2mqeHUvPFtxcvLeFYmYf6s7eo4r0nw94a8RaXqn2jVvE82pW+0jyZBxn16VpeIPC9t4hu9NnuZGRtPmMse3ucYrbZQykHoaAK9lqNnqKO1jcRziNijFGztI7Us+oWlrPFDcXEccsxxGjMAWPtVHQfDWmeG47hNJhMS3Ehlkyc5Y9/1pmreFdL1rVrHUb+JnuLBi0BDYAJGOlAGvJIkUbSSMFRRliegFRWl7bX9uJ7OZJoiSAyNkcU66to7y0lt5xujlUow9QayLXSrHwh4Zmg0mB1ghV5FRfmYkkn+ZoA43Smi8QfGLWdQuHVrPSbYW4Lfd3ZOf0aq/gi5k/4S7xVrdnCY9ChG2FVGBIybtxGasfDfwg134XuL/XkuYLvVLhp5ot5TPQYI/Ct7xu1t4f8AAUtnYRrbrOVtYUj+XDPwKACw+Ilpevp2+wuIIdRkMUUrkY3AkYx17Gr3ifXI7aMaTaRi6v75TGkI52gjBZvQYzWfYeFJ7u+0e61ALHb6ZEphhQ53SY+8fzNa9n4T06x8QTazCZ2vZl2s8kpYY9AKAPNPhJAfBfjbW/B2obPPkIuoZBwHBySB7DivRdc8WRaJrFlpr2c1xNe58vyyOMetQ3ngHRb7xQniGYXA1KNdqypMRgen0rG3z6r8TL6WwjEr6Za/Z1d34Vm2tn3NAFm+8cWV54ZkmntrqDdcrayRIw8xGJHf8RXZWsIt7SKEMzBECgseT9a4aXwLeW8OkJbSLO0N01xeO7Y3kjHTv0Fd8OlABRRRQAUUUUAFFFFABRRRQAUUUUAFFFFABRRRQAUUUUAFFFFABRRRQAUUUUAFFFFABRRRQAUUUUAFFFFABRRRQAUUUUAFFFFABRRRQAUUUUAFFFFABRRRQAUUUUAFFFFABRRRQAUUUUAFFFFABRRRQAUUUUAFFFFABRRRQAUUUUANCqp+VQPXAp2KKKADFFFFABRRRQAlLRRQAUUUUAFIABnAAz1paKAAikxS0UAFFFFABRRRQAgABJAAJ68UtFFABRRRQAUUUUAGKKKKACiiigAooooAKQgMMMMj0paKAAAAYAwPaqeoaTZ6qsa38ImETh0BPRh0NXKKAEVQqhV6AYFLRRQAYqlZ6PZWFzPcWsOyW4O6Vsn5jV2igAooooAKKKKACiiigAooooAKKKKACiiigAooooAKKKKACiiigAooooAKKKKACiiigAooooAKKKKACiiigAooooAKKKKACiiigAooooAKKKKACiiigAooooAKKKKACiiigAooooAKKKKACiiigAooooAKKKKACiiigAooooAKKKKACiiigAoqnqrXo0u4/svYbsITEH6FscV4n4S+KPjfxT4ovfD8kenafqFoSPKmJBfB7cUAe8UV51fy/E6z0+a4hTTLiSNSwiVjlsD/AHa2vhz4i1HxR4Pi1DWbZba9854pYl6KVOKAOroqC8vYLC3ae6kCIvc1Tu/EOm6ZpqX2q3KWUD9GmOKANOiqCa3psml/2kl5GbLbu8/Py49al07U7PVrNbrTbhLiBsgSJ0NAFqiiigAooooAKKpajq1ppUaPey7N52oo6sfaotL1/T9X0972znDQRsVdm42kdc0AaVFZi+INPOmvqMs4is1P+ufgH3pdM8RaRrNq9xpV/DdQp954zkCgDSorN0vxFpOszSxaXfw3TwnEgjOdpqW51a2s76G1uX8t5v8AVs3Rj6fWgC7RVK81W3sLiCK6Jj887Uc/dz6VT17T9S1RFt9O1FtOTGWnjUM2fYHigDZork/Al5q81vf2etTfazZ3Biiu8AecuBzgcd66ygAooJAGScD3ooAKKKydT8TaXpGpWtjf3IinujiJSOtAGtRmjOa8p+MPj7xT8P8A7Pf6VZQXOmSHZI75zG3vxQB6tRXmujal4+17RrbUtPudJkt7hA6kMfy+7UCeJfHmk+O9H0vX7OzbTr9mU3EBJwQpOOg9KAPUaKKo3+rWmnyJHPJ+9cZWNeWIoAvUVjWfivSL7T5r2G7XyoJPKlz1R+OD78ioY/GmjS6rHpq3B+2yYKwEfNg9/pQBv0UUUAFFFFABRRRQAUUUUAFFFFABRRRQAUUUUAFFFFABRRRQAUUUUAFFFFABRRRQAUUUUAFFFFABRRRQAUUUUAFFFFABRRRQAUUUUAFFFFABRRRQAUUUUAFFFFABRRRQAUUUUAFFFFABRRRQAUUUUAFFFFABRRRQAUUUUAFFFFABRRRQAUUUUAFFFFABjmvEvjZ4FvLa7g8eeElZNU09g8yp/wAtFHf+Ve21w3j3XrieWPwpoBD6pqC4dsZEEfdj+n50AXvh34zt/HXg+31SEFZCNk6EdG710dnY29hG6WkYjWSRpGA7seSazfCvhiw8JaBBpemxqiRr8zAY3t3JrTgu4LlpFgkDmNtr4PQ0AcLrWp/2v8W9O8PEk21pAbqVezPkYz+DVvePNDi8ReB9T0+SMOWgLIPQjkfyrmbuyfTvjxa38pHkX9kY0J4+cFRj68Gum8d64NC8IX88aSSztCyRRxIWYsRgcD60AcD8PdUk8YeAbPw1EjRizX7Nfy44AUAbR7nmvU7C3sNIt4NMs/LhVE/dxA4JHriuM+DGlnS/h3b/AGhdt5dO1xcArtYM3OCPbmtq0vxqXjy5t2so3Swiwl2DkgnB2+3WgDpgajNzArYaaMH0LipPauRv/hro+o38t3PdamskrFmEd4yqPoKAOq+1W56Tx/8AfYqTORxXFp8K9DjkVxeasSpyAb5q7LiCDuVjXufSgDzGS91TWvjOsAt0e30iHLIWGCX6Hr1G2rXxHvxZNo3h6xVbc6xeBZtnGVwSf1qX4axG+1XxFrjx7Rc3rQxsepCM3+NU/itZGHxB4W10qxisr0LKccKpB5J7UAehyabbS6W2ntEptzGY9pHGMYrxTwZc3/hvxBrfw80wIsz3DTQTZ4iiYnP4gYr1PxL4lGlpDbWaNLeXZ2xFRlUz/ET2rzbxxo0vg/xN4f8AFGnCe7v/ADtl+YkLGRGK5PHYc0Aeo6HoWl+EtJ8qARwj700zHG9jyST9TTPGFimo+FbtlwXhjM8T+hX5uPyqh4l12GXT9LgjtYrxNUmWMwSsAcEE9D6YrX8Rzx2HhPUHYbVW2dAB6lcAfmaAOf025bxr8Kknn4uXtiQ/dZAvDfnWXpPjHWdS+H9lPpumS39z5jW8xidVKhGK55+lX/BcZ8PfCKOW+Ux7bVpmB7Armn/CTTJ9N8CRfaVKvcTyzAEfwtIxH6GgDW8J3d1PZMlxo0ulpGcBZXVi59eK6B3WOMvIwVVGSxOABTqjngjubd4JlDxyKVZT3BoA4j4k+JNPj8AambDVrcXAQbPLmUtnIre0TxBpcuk2SHU7V5niX5fOUkn864v4leA/Ddj4B1O5tNIt451TKukYyDkVv+H/AAD4Zi02wu49It0nWNWDhBkH1oA7KuJ+IGo6bafYrOZVe/vp1SEAZbvz7dK6rVtSj0jSbi+lR5FgjLlI1yzYHQCvLIbe6ks38c+JbWeSd7gG2tljLNbxcjgepwDQB66nEa/QVn+INCs/Emh3WlalGHt7mMo2R0yOoqzp92b6xiufKaISLuCt1A96W/v7fTbCa8vZBFBAhd2J6AUAeAfDvWdQ+E/xDl8Ca95j6XeSE6fMecZ7D8zXv1zY297JBJOgZoG3xn0OMV574d0lvHHi0eMdZtgLS2zHpkMic4z9859wfzr0W5u4LSNWuJFjVmCjccZNAExIAJJwBXmHh3XZbvU9d8UT2sk8ccht7baR8iLw36rXYeONWXRPBOqXpbayQOE5x8xBxXCWkl3p3wog0jw7bm41fUkJ4HCFyW3MfxoAi0Xw7Lf6VYazYS/2hbX2ove3sMZwM7QABn0Kg10OkaNqL/FK813UdMVElgWKCbI+RQDxjPU8VueBPDC+EPB1lpAfzHhT94/qx610VABRRRQAUUUUAFFFFABRRRQAUUUUAFFFFABRRRQAUUUUAFFFFABRRRQAUUUUAFFFFABRRRQAUUUUAFFFFABRRRQAUUUUAFFFFABRRRQAUUUUAFFFFABRRRQAUUUUAFFFFABRRRQAUUUUAFFFFABRRRQAUUUUAFFFFABRRRQAUUUUAFFFFABRRRQAUUUUAZniG/utM0O5utPtXu7pEPlQp1ZscV87aNq3xd0XVb/UI/Cpubm9kLGWZcsq9lHoOlfTmPWjA9KAPnyfx58bJYJETwosZZSA4QZX3r1H4W6dqun+B4D4i3f2ncSNNPvGDlucV2WB6UmKAMzXNDg1q3jEnyTwNvhlHVG9at28TPaRrehJZFGCcZzVk0CgBqRpGMRoqj0UYrC0Lw2dG1rVL43LSf2hIHKHouBit+igAooooAKwNctNeub4Lpk8K2UkRjlRzhgTkZHHvW/RQBl6BosWgaLDYQMW2cu56u3c1Z1PTbbV9Olsr2MPDKMMD2q3RQBm6Tp0llZJb3jJcNF8scjKMle2avNDHJ9+NG/3lBqSigDn9X8MjU9c0zUEmEIsG3BAvWp9Z0R9cmghuZStjGQ7xr1kI5APt0rZooAx9Z0P+2I4LOR/LsFIMkScb8dF+lasUSQQpFEoVEUKqjsBT6KACiiigCO4t4rqForiNZI26qwyDTkRY0CoNqgYAHanUUAIyh1w4DA9QRmkMaFNpRSv90jinUUAAAAwBgV4r8arzxtqd1baT4U0aeeyicS3EgHyy4/h+nWvaqMD0oA+e4PHPxmtreOGHwfEkcahVUJ0Aq94cvfid4s8eaV/wluk/wBn6TaszyqFADnacfrivdsD0oxQBy/jnw7e+J9Ps7C1eJLdbqOa43k5ZVOcD6810Vvaw28UaRRIuxQoKqBwKmooAKKKKACiiigAooooAKKKKACiiigAooooAKKKKACiiigAooooAKKKKACiiigAooooAKKKKACiiigAooooAKKKKACiiigAooooAKKKKACiiigAooooAKKKKACiiigAooooAKKKKACiiigAooooAKKKKACiiigAooooAKKKKACiiigAooooAKKKKACiiigAooooAKKKKACiiigAooooAKKKKACiiigAooooAKKKKACiiigAooooAKKKKACiiigAooooAKKKKACiiigAooooAKKKKACiiigAooooAKKKKACiiigAooooAKKKKACiiigAooooAKKKKACiiigAooooAKKKKACiiigAooooAKKKKACiiigAooooAKKKKACiiigAooooAKKKKACiiigAooooAKKKKACiiigAooooAKKKKACiiigAooooAKKKKACiiigAooooAKKKKACiiigAooooAKKKKACiiigAooooAKKKKACiiigAooooAKKKKACiiigAooooAKKKKACiiigAooooAKKKKACiiigAooooAKKKKACiiigAooooAKKKKACiiigAooooAKKKKACiiigAooooAKKKKACiiigAooooAKKKKACiiigAooooAKKKKACiiigAooooAKKKKACiiigAooooAKKKKACiiigAooooAKKKKACiiigAooooAKKKKACiiigAooooAKKKKACiiigAooooAKKKKAP/2Q==)\n",
        "\n",
        "![lasso.JPG](data:image/jpeg;base64,/9j/4AAQSkZJRgABAQEAYABgAAD/4RDcRXhpZgAATU0AKgAAAAgABAE7AAIAAAAGAAAISodpAAQAAAABAAAIUJydAAEAAAAMAAAQyOocAAcAAAgMAAAAPgAAAAAc6gAAAAgAAAAAAAAAAAAAAAAAAAAAAAAAAAAAAAAAAAAAAAAAAAAAAAAAAAAAAAAAAAAAAAAAAAAAAAAAAAAAAAAAAAAAAAAAAAAAAAAAAAAAAAAAAAAAAAAAAAAAAAAAAAAAAAAAAAAAAAAAAAAAAAAAAAAAAAAAAAAAAAAAAAAAAAAAAAAAAAAAAAAAAAAAAAAAAAAAAAAAAAAAAAAAAAAAAAAAAAAAAAAAAAAAAAAAAAAAAAAAAAAAAAAAAAAAAAAAAAAAAAAAAAAAAAAAAAAAAAAAAAAAAAAAAAAAAAAAAAAAAAAAAAAAAAAAAAAAAAAAAAAAAAAAAAAAAAAAAAAAAAAAAAAAAAAAAAAAAAAAAAAAAAAAAAAAAAAAAAAAAAAAAAAAAAAAAAAAAAAAAAAAAAAAAAAAAAAAAAAAAAAAAAAAAAAAAAAAAAAAAAAAAAAAAAAAAAAAAAAAAAAAAAAAAAAAAAAAAAAAAAAAAAAAAAAAAAAAAAAAAAAAAAAAAAAAAAAAAAAAAAAAAAAAAAAAAAAAAAAAAAAAAAAAAAAAAAAAAAAAAAAAAAAAAAAAAAAAAAAAAAAAAAAAAAAAAAAAAAAAAAAAAAAAAAAAAAAAAAAAAAAAAAAAAAAAAAAAAAAAAAAAAAAAAAAAAAAAAAAAAAAAAAAAAAAAAAAAAAAAAAAAAAAAAAAAAAAAAAAAAAAAAAAAAAAAAAAAAAAAAAAAAAAAAAAAAAAAAAAAAAAAAAAAAAAAAAAAAAAAAAAAAAAAAAAAAAAAAAAAAAAAAAAAAAAAAAAAAAAAAAAAAAAAAAAAAAAAAAAAAAAAAAAAAAAAAAAAAAAAAAAAAAAAAAAAAAAAAAAAAAAAAAAAAAAAAAAAAAAAAAAAAAAAAAAAAAAAAAAAAAAAAAAAAAAAAAAAAAAAAAAAAAAAAAAAAAAAAAAAAAAAAAAAAAAAAAAAAAAAAAAAAAAAAAAAAAAAAAAAAAAAAAAAAAAAAAAAAAAAAAAAAAAAAAAAAAAAAAAAAAAAAAAAAAAAAAAAAAAAAAAAAAAAAAAAAAAAAAAAAAAAAAAAAAAAAAAAAAAAAAAAAAAAAAAAAAAAAAAAAAAAAAAAAAAAAAAAAAAAAAAAAAAAAAAAAAAAAAAAAAAAAAAAAAAAAAAAAAAAAAAAAAAAAAAAAAAAAAAAAAAAAAAAAAAAAAAAAAAAAAAAAAAAAAAAAAAAAAAAAAAAAAAAAAAAAAAAAAAAAAAAAAAAAAAAAAAAAAAAAAAAAAAAAAAAAAAAAAAAAAAAAAAAAAAAAAAAAAAAAAAAAAAAAAAAAAAAAAAAAAAAAAAAAAAAAAAAAAAAAAAAAAAAAAAAAAAAAAAAAAAAAAAAAAAAAAAAAAAAAAAAAAAAAAAAAAAAAAAAAAAAAAAAAAAAAAAAAAAAAAAAAAAAAAAAAAAAAAAAAAAAAAAAAAAAAAAAAAAAAAAAAAAAAAAAAAAAAAAAAAAAAAAAAAAAAAAAAAAAAAAAAAAAAAAAAAAAAAAAAAAAAAAAAAAAAAAAAAAAAAAAAAAAAAAAAAAAAAAAAAAAAAAAAAAAAAAAAAAAAAAAAAAAAAAAAAAAAAAAAAAAAAAAAAAAAAAAAAAAAAAAAAAAAAAAAAAAAAAAAAAAAAAAAAAAAAAAAAAAAAAAAAAAAAAAAAAAAAAAAAAAAAAAAAAAAAAAAAAAAAAAAAAAAAAAAAAAAAAAAAAAAAAAAAAAAAAAAAAAAAAAAAAAAAAAAAAAAAAAAAAAAAAAAAAAAAAAAAAAAAAAAAAAAAAAAAAAAAAAAAAAAAAAAAAAAAAAAAAAAAAAAAAAAAAAAAAAAAAAAAAAAAAAAAAAAAAAAAAAAAAAAAAAAAAAAAAAAAAAAAAAAAAAAAAAAAAAAAAAAAAAAAAAAAAAAAAAAAAAAAAAAAAAAAAAAAAAAAAAAAAAAAAAAAAAAAAAAAAAAAAAAAAAAAAAAAAAAAAAAAAAAAAAAAAAAAAAAAAAAAAAAAAAAAAAAAAAAAAAAAAAAAAAAAAAAAAAAAAAAAAAAAAAAAAAAAAAAAAAAAAAAAAAAAAAAAAAAAAAAAAAAAAAAAAAAAAAAAAAAAAAAAAAAAAAAAAAAAAAAAAAAAAAAAAAAAAAAAAAAAAAAAAAAAAAAAAAAAAAAAAAAAAAAAAAAAAAAAAAAAAAAAAAAAAAAAAAAAAAAAAAAAAAAAAAAAAAAAAAAAAAAAAAAAAAAAAAAAAAAAAAAAAAAAAAAAAAAAAAAAAAAAAAAAAAAAAAAAAAAAAAAAAAAAAAAAAAAAAAAAAAAAAAAAAAAAAAAAAAAAAAAAAAAAAAAAAAAAAAAAAAAAAAAAAAAAAAAAAAAAAAAAAAAAAAAAAAAAAAAAAAAAAAAAAAAAAAAAAAAAAAAAAAAAAAAAAAAAAAAAAAAAAAAAAAAAAAAAAAAAAAAAAAAAAAAAAAAAAAAAAAAAAAAAAAAAAAAAAAAAAAAAAAAAAAAAAAAAAAAAAAAAAAAAAAAAAAAAAAAAAAAAAAAAAAAAAAAAAAAAAAAAAAAAAAAAAAAAAAAAAAAAAAAAAAAAAAAAAAAAAAAAAAAAAAAAAAAAAAAAAAAAAAAAAAAAAAAAAAAAAAAAAAAAAAAAAAAAAAAAAAAAAAAAAAAAAAAAAAAAAAAAAAAAAAAAAAAAAAAAAAAAAAAAAAAAAAAAAAAAAAAAAAAAAAAAAAAAAAAAAAAAAAAAAAAAAAAAAAAGpvcmdlAAAFkAMAAgAAABQAABCekAQAAgAAABQAABCykpEAAgAAAAMxNwAAkpIAAgAAAAMxNwAA6hwABwAACAwAAAiSAAAAABzqAAAACAAAAAAAAAAAAAAAAAAAAAAAAAAAAAAAAAAAAAAAAAAAAAAAAAAAAAAAAAAAAAAAAAAAAAAAAAAAAAAAAAAAAAAAAAAAAAAAAAAAAAAAAAAAAAAAAAAAAAAAAAAAAAAAAAAAAAAAAAAAAAAAAAAAAAAAAAAAAAAAAAAAAAAAAAAAAAAAAAAAAAAAAAAAAAAAAAAAAAAAAAAAAAAAAAAAAAAAAAAAAAAAAAAAAAAAAAAAAAAAAAAAAAAAAAAAAAAAAAAAAAAAAAAAAAAAAAAAAAAAAAAAAAAAAAAAAAAAAAAAAAAAAAAAAAAAAAAAAAAAAAAAAAAAAAAAAAAAAAAAAAAAAAAAAAAAAAAAAAAAAAAAAAAAAAAAAAAAAAAAAAAAAAAAAAAAAAAAAAAAAAAAAAAAAAAAAAAAAAAAAAAAAAAAAAAAAAAAAAAAAAAAAAAAAAAAAAAAAAAAAAAAAAAAAAAAAAAAAAAAAAAAAAAAAAAAAAAAAAAAAAAAAAAAAAAAAAAAAAAAAAAAAAAAAAAAAAAAAAAAAAAAAAAAAAAAAAAAAAAAAAAAAAAAAAAAAAAAAAAAAAAAAAAAAAAAAAAAAAAAAAAAAAAAAAAAAAAAAAAAAAAAAAAAAAAAAAAAAAAAAAAAAAAAAAAAAAAAAAAAAAAAAAAAAAAAAAAAAAAAAAAAAAAAAAAAAAAAAAAAAAAAAAAAAAAAAAAAAAAAAAAAAAAAAAAAAAAAAAAAAAAAAAAAAAAAAAAAAAAAAAAAAAAAAAAAAAAAAAAAAAAAAAAAAAAAAAAAAAAAAAAAAAAAAAAAAAAAAAAAAAAAAAAAAAAAAAAAAAAAAAAAAAAAAAAAAAAAAAAAAAAAAAAAAAAAAAAAAAAAAAAAAAAAAAAAAAAAAAAAAAAAAAAAAAAAAAAAAAAAAAAAAAAAAAAAAAAAAAAAAAAAAAAAAAAAAAAAAAAAAAAAAAAAAAAAAAAAAAAAAAAAAAAAAAAAAAAAAAAAAAAAAAAAAAAAAAAAAAAAAAAAAAAAAAAAAAAAAAAAAAAAAAAAAAAAAAAAAAAAAAAAAAAAAAAAAAAAAAAAAAAAAAAAAAAAAAAAAAAAAAAAAAAAAAAAAAAAAAAAAAAAAAAAAAAAAAAAAAAAAAAAAAAAAAAAAAAAAAAAAAAAAAAAAAAAAAAAAAAAAAAAAAAAAAAAAAAAAAAAAAAAAAAAAAAAAAAAAAAAAAAAAAAAAAAAAAAAAAAAAAAAAAAAAAAAAAAAAAAAAAAAAAAAAAAAAAAAAAAAAAAAAAAAAAAAAAAAAAAAAAAAAAAAAAAAAAAAAAAAAAAAAAAAAAAAAAAAAAAAAAAAAAAAAAAAAAAAAAAAAAAAAAAAAAAAAAAAAAAAAAAAAAAAAAAAAAAAAAAAAAAAAAAAAAAAAAAAAAAAAAAAAAAAAAAAAAAAAAAAAAAAAAAAAAAAAAAAAAAAAAAAAAAAAAAAAAAAAAAAAAAAAAAAAAAAAAAAAAAAAAAAAAAAAAAAAAAAAAAAAAAAAAAAAAAAAAAAAAAAAAAAAAAAAAAAAAAAAAAAAAAAAAAAAAAAAAAAAAAAAAAAAAAAAAAAAAAAAAAAAAAAAAAAAAAAAAAAAAAAAAAAAAAAAAAAAAAAAAAAAAAAAAAAAAAAAAAAAAAAAAAAAAAAAAAAAAAAAAAAAAAAAAAAAAAAAAAAAAAAAAAAAAAAAAAAAAAAAAAAAAAAAAAAAAAAAAAAAAAAAAAAAAAAAAAAAAAAAAAAAAAAAAAAAAAAAAAAAAAAAAAAAAAAAAAAAAAAAAAAAAAAAAAAAAAAAAAAAAAAAAAAAAAAAAAAAAAAAAAAAAAAAAAAAAAAAAAAAAAAAAAAAAAAAAAAAAAAAAAAAAAAAAAAAAAAAAAAAAAAAAAAAAAAAAAAAAAAAAAAAAAAAAAAAAAAAAAAAAAAAAAAAAAAAAAAAAAAAAAAAAAAAAAAAAAAAAAAAAAAAAAAAAAAAAAAAAAAAAAAAAAAAAAAAAAAAAAAAAAAAAAAAAAAAAAAAAAAAAAAAAAAAAAAAAAAAAAAAAAAAAAAAAAAAAAAAAAAAAAAAAAAAAAAAAAAAAAAAAAAAAAAAAAAAAAAAAAAAAAAAAAAAAAAAAAAAAAAAAAAAAAAAAAAAAAAAAAAAAAAAAAAAAAAAAAAAAAAAAAAAAAAAAAAAAAAAAAAAAAAAAAAAAAAAAAAAAAAAAAAAAAAAAAAAAAAAAAAAAAAAAAAAAAAAAAAAAAAAAAAAAAAAAAAAAAAAAAAAAAAAAAAAAAAAAAAAAAAAAAAAAAAAAAAAAAAAAAAAAAAAAAAAAAAAAAAAAAAAAAAAAAAAAAAAAAAAAAAAAAAAAAAAAAAAAAAAAAAAAAAAAAAAAAAAAAAAAAAAAAAAAAAAAAAAAAAAAAAAAAAAAAAAAAAAAAAAAAAAAAAAAAAAAAAAAAAAAAAAAAAAAAAAAAAAAAAAAAAAAAAAAAAAAAAAAAAAAAAAAAAAAAAAAAAAAAAAAAAAAAAAAAAAAAAAAAAAAAAAAAAAAAAAAAAAAAAAAAAAAAAAAAAAAAAAAAAAAAAAAAAAAAAAAAAAAAAAAAAAAAAAAAAAAAAAAAAAAAAAAAAAAAAAAAAAAAAAAAAAAAAAAAAAAAAAAAAAAAAAAAAAAAAAAAAAAAAAAAAAAAAAAAAAAAAAAAAAAAAAAAAAAAAAAAAAAAAAAAAAAAAAAAAAAAAAAAAAAAAAAAAMjAyMjowMToxNCAxMzo1NToxNgAyMDIyOjAxOjE0IDEzOjU1OjE2AAAAagBvAHIAZwBlAAAA/+ELGGh0dHA6Ly9ucy5hZG9iZS5jb20veGFwLzEuMC8APD94cGFja2V0IGJlZ2luPSfvu78nIGlkPSdXNU0wTXBDZWhpSHpyZVN6TlRjemtjOWQnPz4NCjx4OnhtcG1ldGEgeG1sbnM6eD0iYWRvYmU6bnM6bWV0YS8iPjxyZGY6UkRGIHhtbG5zOnJkZj0iaHR0cDovL3d3dy53My5vcmcvMTk5OS8wMi8yMi1yZGYtc3ludGF4LW5zIyI+PHJkZjpEZXNjcmlwdGlvbiByZGY6YWJvdXQ9InV1aWQ6ZmFmNWJkZDUtYmEzZC0xMWRhLWFkMzEtZDMzZDc1MTgyZjFiIiB4bWxuczpkYz0iaHR0cDovL3B1cmwub3JnL2RjL2VsZW1lbnRzLzEuMS8iLz48cmRmOkRlc2NyaXB0aW9uIHJkZjphYm91dD0idXVpZDpmYWY1YmRkNS1iYTNkLTExZGEtYWQzMS1kMzNkNzUxODJmMWIiIHhtbG5zOnhtcD0iaHR0cDovL25zLmFkb2JlLmNvbS94YXAvMS4wLyI+PHhtcDpDcmVhdGVEYXRlPjIwMjItMDEtMTRUMTM6NTU6MTYuMTY1PC94bXA6Q3JlYXRlRGF0ZT48L3JkZjpEZXNjcmlwdGlvbj48cmRmOkRlc2NyaXB0aW9uIHJkZjphYm91dD0idXVpZDpmYWY1YmRkNS1iYTNkLTExZGEtYWQzMS1kMzNkNzUxODJmMWIiIHhtbG5zOmRjPSJodHRwOi8vcHVybC5vcmcvZGMvZWxlbWVudHMvMS4xLyI+PGRjOmNyZWF0b3I+PHJkZjpTZXEgeG1sbnM6cmRmPSJodHRwOi8vd3d3LnczLm9yZy8xOTk5LzAyLzIyLXJkZi1zeW50YXgtbnMjIj48cmRmOmxpPmpvcmdlPC9yZGY6bGk+PC9yZGY6U2VxPg0KCQkJPC9kYzpjcmVhdG9yPjwvcmRmOkRlc2NyaXB0aW9uPjwvcmRmOlJERj48L3g6eG1wbWV0YT4NCiAgICAgICAgICAgICAgICAgICAgICAgICAgICAgICAgICAgICAgICAgICAgICAgICAgICAgICAgICAgICAgICAgICAgICAgICAgICAgICAgICAgICAgICAgICAgICAgICAgICAKICAgICAgICAgICAgICAgICAgICAgICAgICAgICAgICAgICAgICAgICAgICAgICAgICAgICAgICAgICAgICAgICAgICAgICAgICAgICAgICAgICAgICAgICAgICAgICAgICAgIAogICAgICAgICAgICAgICAgICAgICAgICAgICAgICAgICAgICAgICAgICAgICAgICAgICAgICAgICAgICAgICAgICAgICAgICAgICAgICAgICAgICAgICAgICAgICAgICAgICAgCiAgICAgICAgICAgICAgICAgICAgICAgICAgICAgICAgICAgICAgICAgICAgICAgICAgICAgICAgICAgICAgICAgICAgICAgICAgICAgICAgICAgICAgICAgICAgICAgICAgICAKICAgICAgICAgICAgICAgICAgICAgICAgICAgICAgICAgICAgICAgICAgICAgICAgICAgICAgICAgICAgICAgICAgICAgICAgICAgICAgICAgICAgICAgICAgICAgICAgICAgIAogICAgICAgICAgICAgICAgICAgICAgICAgICAgICAgICAgICAgICAgICAgICAgICAgICAgICAgICAgICAgICAgICAgICAgICAgICAgICAgICAgICAgICAgICAgICAgICAgICAgCiAgICAgICAgICAgICAgICAgICAgICAgICAgICAgICAgICAgICAgICAgICAgICAgICAgICAgICAgICAgICAgICAgICAgICAgICAgICAgICAgICAgICAgICAgICAgICAgICAgICAKICAgICAgICAgICAgICAgICAgICAgICAgICAgICAgICAgICAgICAgICAgICAgICAgICAgICAgICAgICAgICAgICAgICAgICAgICAgICAgICAgICAgICAgICAgICAgICAgICAgIAogICAgICAgICAgICAgICAgICAgICAgICAgICAgICAgICAgICAgICAgICAgICAgICAgICAgICAgICAgICAgICAgICAgICAgICAgICAgICAgICAgICAgICAgICAgICAgICAgICAgCiAgICAgICAgICAgICAgICAgICAgICAgICAgICAgICAgICAgICAgICAgICAgICAgICAgICAgICAgICAgICAgICAgICAgICAgICAgICAgICAgICAgICAgICAgICAgICAgICAgICAKICAgICAgICAgICAgICAgICAgICAgICAgICAgICAgICAgICAgICAgICAgICAgICAgICAgICAgICAgICAgICAgICAgICAgICAgICAgICAgICAgICAgICAgICAgICAgICAgICAgIAogICAgICAgICAgICAgICAgICAgICAgICAgICAgICAgICAgICAgICAgICAgICAgICAgICAgICAgICAgICAgICAgICAgICAgICAgICAgICAgICAgICAgICAgICAgICAgICAgICAgCiAgICAgICAgICAgICAgICAgICAgICAgICAgICAgICAgICAgICAgICAgICAgICAgICAgICAgICAgICAgICAgICAgICAgICAgICAgICAgICAgICAgICAgICAgICAgICAgICAgICAKICAgICAgICAgICAgICAgICAgICAgICAgICAgICAgICAgICAgICAgICAgICAgICAgICAgICAgICAgICAgICAgICAgICAgICAgICAgICAgICAgICAgICAgICAgICAgICAgICAgIAogICAgICAgICAgICAgICAgICAgICAgICAgICAgICAgICAgICAgICAgICAgICAgICAgICAgICAgICAgICAgICAgICAgICAgICAgICAgICAgICAgICAgICAgICAgICAgICAgICAgCiAgICAgICAgICAgICAgICAgICAgICAgICAgICAgICAgICAgICAgICAgICAgICAgICAgICAgICAgICAgICAgICAgICAgICAgICAgICAgICAgICAgICAgICAgICAgICAgICAgICAKICAgICAgICAgICAgICAgICAgICAgICAgICAgICAgICAgICAgICAgICAgICAgICAgICAgICAgICAgICAgICAgICAgICAgICAgICAgICAgICAgICAgICAgICAgICAgICAgICAgIAogICAgICAgICAgICAgICAgICAgICAgICAgICAgICAgICAgICAgICAgICAgICAgICAgICAgICAgICAgICAgICAgICAgICAgICAgICAgICAgICAgICAgICAgICAgICAgICAgICAgCiAgICAgICAgICAgICAgICAgICAgICAgICAgICAgICAgICAgICAgICAgICAgICAgICAgICAgICAgICAgICAgICAgICAgICAgICAgICAgICAgICAgICAgICAgICAgICAgICAgICAKICAgICAgICAgICAgICAgICAgICAgICAgICAgICAgICAgICAgICAgICAgICAgICAgICAgICAgICAgICAgICAgICAgICAgICAgICAgICAgICAgICAgICAgICAgICAgICAgICAgIAogICAgICAgICAgICAgICAgICAgICAgICAgICAgPD94cGFja2V0IGVuZD0ndyc/Pv/bAEMABwUFBgUEBwYFBggHBwgKEQsKCQkKFQ8QDBEYFRoZGBUYFxseJyEbHSUdFxgiLiIlKCkrLCsaIC8zLyoyJyorKv/bAEMBBwgICgkKFAsLFCocGBwqKioqKioqKioqKioqKioqKioqKioqKioqKioqKioqKioqKioqKioqKioqKioqKioqKv/AABEIAFACTAMBIgACEQEDEQH/xAAfAAABBQEBAQEBAQAAAAAAAAAAAQIDBAUGBwgJCgv/xAC1EAACAQMDAgQDBQUEBAAAAX0BAgMABBEFEiExQQYTUWEHInEUMoGRoQgjQrHBFVLR8CQzYnKCCQoWFxgZGiUmJygpKjQ1Njc4OTpDREVGR0hJSlNUVVZXWFlaY2RlZmdoaWpzdHV2d3h5eoOEhYaHiImKkpOUlZaXmJmaoqOkpaanqKmqsrO0tba3uLm6wsPExcbHyMnK0tPU1dbX2Nna4eLj5OXm5+jp6vHy8/T19vf4+fr/xAAfAQADAQEBAQEBAQEBAAAAAAAAAQIDBAUGBwgJCgv/xAC1EQACAQIEBAMEBwUEBAABAncAAQIDEQQFITEGEkFRB2FxEyIygQgUQpGhscEJIzNS8BVictEKFiQ04SXxFxgZGiYnKCkqNTY3ODk6Q0RFRkdISUpTVFVWV1hZWmNkZWZnaGlqc3R1dnd4eXqCg4SFhoeIiYqSk5SVlpeYmZqio6Slpqeoqaqys7S1tre4ubrCw8TFxsfIycrS09TV1tfY2dri4+Tl5ufo6ery8/T19vf4+fr/2gAMAwEAAhEDEQA/APpGiiigAooooAKKKKACiiigAooooAKKKKACiiigAooooAKKKKACiiigAooooAKRmVFLOQqqMkk4AFLXB+MC2ueP9A8KXTEaXcQzXt5EDj7SI8BY2/2cnJHfGKOqQdLnbWl5bX9qlzY3EVzBJnZLC4dWwcHBHB5FTUyKGO3hSKCNYo0G1URQAo9AB0rj9YvNWtfiZ4atG1LNheG7ZrWKLYDsiBXcckt972HTijrYOh2dFFFAHE+O9CfxHdRRWAVNR022a+tJsYZJwy+UM/3TtkBFS+HbvTvF+r2niBbOEyQaegDvGC8Ursd6Z6gqY8fia6G10n7NrN3qJvbmd7pEQxSCPZGqkkBcKG/iPUnrTNG8P6foLX502Ix/b7truYZ48xgAce3GfxNEdP66/wDDfkD1/r+uv5s06KKKACiiigAooooAKKKKACiiigAooooAKKKKACuSvPEGsR+JdR0+M2EFvZ2P2xpZYncou5goOHAO7YzdsAd88dbXKWnhJrrxBreoeIYoZUvpI1hjhupSphRQAkiYVW+bccHcPmI+q3Y9LG5oWoyav4e0/UZoDbSXdtHM0JOShZQcfrV+gAAAAYA6AUVTs3oSrpahRRRSGFFFFABRRRQAUUVBd3trYRCW+uYbaMnAeaQICfTJoAnoqO3uIbu3Se1mjnhkG5JI2DKw9QRwakoAKKKKACiiigArnPEGs6tYa7pNhpsdqU1CYw7plZiMI7s3DDAXavHfdjI610dc1qnh261fxpY3915Y06ytZY4/Ku5I5hLIVy3ygcYUj738Ro6oOjLnhrWJtYtb1rhY91pey2oliUqkuw43AEkjnI6nkGtmobOzt9Ps47WyiWGGMYVF6D/6/vU1ABRRRQAUUUUAQ3d5a6favc39zDbQJjdLNIEVcnAyTwOSBUqsHUMpDKRkEHgimywx3ELxTxrLG42sjrkMPQg9a4fwcW0Tx54g8KWzE6XbRQ3tlETn7MJMho1/2cjIHbOKFvYHtc7uiiigAooooAKKKKACueu5fsmurc3fiK3tpNwVbGWVVjMROPuk5Lk9G+gxjOdXV746Zot3equ9oIWdV/vMBwPxOBXDeMZdQ07QW0WTThFp2pyR2l7rjzoWUzbVZzH1JJbaOw47DFC3DS2pvLrM1l461iDUNQI0u20yG82yqgWAlpA53BQcYQHknvWpb+I9KuY7h0uvLFrCJ5hPG0RSMgkPhwDt4PPTg+lYd34b1oa1qlzpc1pbpcaTFY2sskjO6Ohc7mUpjB346npnB6VTfwlrq6rd3dqbELd6YbJ47y7muuQWIPzrypL4I4AA4Bzwf1+f/AHpe/p+l/1OoPiHTV8zzJZYjGqMwlt5EJDttTAKjcS3GBk5pW8QackcrvLInlSrCyPbyBy5AIVVK5YkHPANcqngS4t9PvLSzt7SOzuUiV9Nnvpri3YiQMxUuuY/lBA2jg4PGBUlt4HvLOS1ntJ9n2C9F1aWU97LcRgeU0bqZXG4Z3kjggEe5p6C/r8P8zrrLUrXUPNFrIxaFtskbxtG6HGRlWAIyORxzVqsTSdGuYPEGp6zftGs98kUIghcuiJHuwckDLEuc8DHA96v6nqlvpNus11HdyIzbQLWzluWz7rGrEDjrjFIC5RXP/8ACaaX/wA+uuf+CC+/+M1qaZqtvq0DTWsd3GqttIurOW2bPssqqSPcDFAFyisfVvEC6frWnaRBEkt9qAkaFZXaNMRgFssFbnkYGPWqkHiqa+8M6jf2FhG19psskNzZz3BRVkj+8BIEbIxyDt5yM47K6SuOzvY6OiuQ0fxxc6ho8OtX2hvZaPLprX7Xf2gP5e0AlCuAeRkgjqB2zgQv441Jho6w6NbrLrkDzWCyXp+Yqm8I+I/lYrjoSOvPAzVne39df8mJana0Vytr4q1W48X6h4eOi26z2kEdyswviY2jcsBu/dZVvl6AMOvPFVF+IE0nhG88Qpo2LXT2kS7R7nDBo32yeX8pDgYOCdufakHWx1019aW1xBb3F1DFNckrBG8gVpSBkhQeTgc8VPXJ69qkEPirwv5+i2l7HezNHa30kuJrVzGzEqhQ8FVxncD7cU+DxTqc/jLUfDy6NB5tpDHcRz/bT5bxuWA3fu8q3y/dG4deeKA8zqa4PVf+S7+H/wDsEXX/AKEtdL4Z19PEmiLfpAbdxLJBLEW3bJI3KMA2BkZXg4HHYVzduP8AhIfjGNTsP3lholhJaS3A5V7h2BManvtA59CcUL418/yYP4X8vzR3dee+Ktd0mD4q+Eln1SyjNuL0TB7hB5RMSgBsnjPbNehUUdbh0EVldA6MGVhkMDkEV45448S+KvBvxEtP7Y8Q3kHhLUn2xz2trbb7Vv7rF4myB155I9wa9krH8VeGbDxd4cutH1RMwzr8rgfNG4+649waT0d0NW2ZVj8P6jLGskfjbWnRgGVlisSCD3H+jVFdeGdfeMiy8datE+ODLZ2Ugz9BCtcP8KvE1/4c1yf4b+L323lln+zZ2PE8XUKCevHI9sjtXr9U0t1syVfZ7nFeF/8AhL9F8RTab4y1WLWbS7XdYX0dukBDry0bKoGCR8w6/dPNdPq2qx6VbxsyGWeeQQ28CnBlkPQewwCSewBPar1ck8p1D4upbsSYtJ0rzlXt5szlc/ULGR/wI0btL+u49k3/AF2OsXJUbgA2OQDnBpa57VfFY0zW7GwFmZku7xLLeJMMHKFyVXb8yquCTkYz3xVi08SW9zrms2DIIYdHWIz3UjgJl1Lke21cEnPel0uHkbNFNjkSaJZInV43UMrqchgehB7inUAFFFFAFe7v7OwVWvruC2VzhTNIEDH0GalgniuYEntpUmikG5JI2DKw9QR1rjbzWdWsdHn8QaVoQ1iadZZAxukh8qFWwijdyQVBcgdTn1FW/CNxpWh+C9ME2sW7pdxtdCeaQRCUyMZGKgngZfp24oWqB6HVUUAggEHIPQiigAqjrdtf3eiXcGjX32C/eM/Z7ny1cRv2JVgQR2PFXqKTV1Yadnc8c+HPiTxB4j1TUfD3ivxTquneIdPkbdBDBZqkqDuoaAnj68ggivQ/+Ec1T/oc9c/782P/AMjVxnxc8GXkj2/jfwmDFr2kYkcRjm4iHUY7kDPHcEj0rr/AfjOy8c+FoNVs8JL9y5gzkwyDqPp3B9DVL3l5rf8Az/rqJ6Pyf9WMvWPC/jg27N4f+IE6TAZVL3TbV1b2LLGMfXB+ldB4Vv76/wBAh/tqMRapb/uL1BjAlXqRjswww9mFbFFJAFFc34g8Xf2Fa3V79hNxY2UscNxIJdr7nZRiNdp343jOSPQZq7o2r3mo3eoW9/pM1h9jdFWV2LRzhlDZRiBnGcHGRnuaN1cDXoqK3u7e7tVubW4ingYZWWNwykeoI4qnf6vDD4cn1WykjuolgMsLROGWXj5cEcHJxQBNc6tp1lOIbzULW3lYAiOWZVY5OBwT61brzrxjLqGnaC2iyacItO1OSO0vdcedCymbarOY+pJLbR2HHYYrvPMtdOt7aCa4SJSVgh82QAyNjhRnqxx060+gEP8Aaqprn9mXMflSSRmW2fdkTKMbh7MpI49CD6gVNek0/Trmz1i/mlWa23w28KS7RO0gHy7SQCfl6ngck4GazPiLKdP0Oy1qPiXS9Rt5gf8AYZxG4/FJGre1TQtI1xYxrWlWWorESYxd26S7M9cbgcUul/6/rUfUyPAlgNP0e8U3MM8s9/NcypbtujgaQ7/LU9wARz6k101VtP02x0mzW10qyt7K2UkiG2iWNAT1O1QBVmmxBRWR4dup7u3vmuZGkMeoXEak9lWQgD8BWvS6XDq0QG+tBfixN1CLtkMgtzIPMK9N23rj3qeuI+J5GmaVp3iiMqs2hXqTnJwXhc7JU/FWzj2rtIZUnhSaFg8cihlYdCCMg0boHo/6/r/hzxmbxJ4q8P8AxU/4Rzxj4pvrfS7/AJ0y+trW0QHJ4V90Lf7p6YOD0Nek/wDCOap/0Oeuf9+bH/5Gqr8RPA9p488Ky6dNtju4/wB5Z3GOYpAOPwPQ/wD1q5z4R+OLvVILjwp4o3Q+IdHzG6yH5p4143e5HGT34PeiOq5eq/Ff8Act+bo/wf8AwTor7wx4lkiYab491KCTHym4sLOUA+4ES/zpvgubxPZXF5o/ja7iv7tG860voo1jW4hOARtUABlOMjH8Q5NdbRQtBPUikuoYrmG3kfEs+7y1wfmwMmnvIkUbPIyoijLMxwAPUmsrUf8AkZtG+k//AKAKr6tLLdau1tBa/bRY2wuTalwgmkZiIwSeONjnnvg9hSA1rPU7DUN32C9t7rYAW8iVX256ZweM1YZgilmOABkmuK8J3NzrXjfWtR1eD+ztQsYo7D+zhKJPLiP7wSFxwxbPA7YIrrGure6s7k208cwi3xyeW4bY4HKnHQj0ok7Rv5XGtXYltriK8tYrm2ffDMgkjbBG5SMg8+1cRpH/ACXXxF/2CrX/ANCauo8Mf8ilpH/XlD/6AK5iYf8ACPfGN9S1D93Ya5YR2sNweFS4jYkRsexYHj1IIq2rVLev5Mi94X9PzR3dFFFSUFFFFABRRRQBg+K/tM9rZWViqvNcXkbbXOAyRnzWBPbOwLn/AGhVHX9JvvGD2NhdWUun6ZDcx3V2Z5Iy8+w7ljUIzcbgCSSOmBnOR072sMl3FcumZolZEbJ4DYzx0/hFS0LT8wCiiigAooooAKp6nZXF/brHa6pd6a4bcZbVYmZh6HzEcY/DPHWrlFAHP/8ACOap/wBDnrn/AH5sf/katTTLG4sIGjutUu9TZmyJbpYlZR6DykQY+oz71cooA5bX7LWLnxVYP5Nxd6Clu/m21pOsTmfI2s+WXcm3I256nkHtiaPouvaNa+JrZdFzBqFzcXMCW8sXzCSNFRRl1wVIbdnA9Ca9EopW0a7pr79R31ucVpIm0b4Qx2Wv2LWMtnpq2skdyySLI+wIAPLZsgsQMdTnpWJpk0vh9dMv/EvhrXYLPSoPJt7i4ubWeOxVgFLERMHIAwu5gxAH1r0u6tYL21ktryFJ4JV2vHIuVYehFZ58N6ayoky3M8cZDCK4vJpUJByMqzEHB6ZHFXzNycn1/r9Sbe6kYNlb6rB8TNY1ZtEuzY3NjDBDMJYPnaMyE8eZkA7hjIHvisGPQ/EH/Cptf0I6Bdi/vZrswxme3wRNI7KSfNwMAjPfnjNdzqviS20m3u7iS3uJ7exQvdTQhNsIAyc7mGTjnC5P5itaN1kjV0OVYAg+oNT0/r1KvZ3/AK0VjhtZtNZvL7whPb6BeMumXPnXQM1uCg8p48f63k5IPGePfirNlbatb/EzWNWfRLv7FcWMMEUolg+dozITx5mQDuGMge+K7KinfW/r+JNtLen4O5x3gLSb618M32ma9pc1n515cybZJY2EkcsjMADG7YODz09qh8OzyeFfGP8AwhbN5unSWZu9LcgbolVtrwsf4sZBBPODyTXb1weq/wDJd/D/AP2CLr/0JaS+JL+tExv4W/61aO4uLeG7tpbe6ijmgmQxyRSKGV1IwVIPBBHGK4u9034a6dOY73w9osSrIInnOjKYY3PRWlEexTnAwWHUetdxXn3iLSpNC+Fuq6JdXkms3eptPDZR+SEd5JiSqADrtJLFj6EnFJuw0rnc2FhZ6ZYx2mmWkFnax58uG3jEaLkknCjgZJJ/GrHTrWb4csrrTfC+mWOoS+bdW1pFFM4OdzqoBP5ivP8Ax78SvD0Ov/8ACK32t/2dbKM6ncRRyO5X/nghRThm/ibsOByeKlZS5UxRu1dmlNolh8QfG1jrj2q/2doUhFtdjIa8mB7Ef8skI692zjgHPoFed23xp+GlnaxW1priQwQoEjjSwuAqqOAAPLpZfjt8PI4yya48pH8CWU4J/NAP1pbKyDVu7PQ64+2Q2vxmv9/AvtGheMnuYpWDD/yIv51meCfiE3xH8TXEmj2s9pomlplpJjh7mZshQQDgKBuOMnnaeMV1Wu6VLc3NjqmngG/052aNScCaNhh4ie2Rgg9mVe1PZpv+t1/wQ3TX9dzK12B38f6TqMca30el2lwZLWKaMSwtJtCylXZflIV1z7/XHLaZeatH4BuNdsWFtf8AiPVHlijdFct5jiOFTkEbAihj7DjGc16Dc+G9Kv7yW9ubNhcXESxzlZWTzUGcI4VsMOTwcir09hZ3VqLa6tYJoFxiKSMMox04PHFJaf10vdg9f68rD7aWOe0ilhdXjdAyMowGBHBHtVO48O6Jd3Dz3ej2E8znLyS2qMzH3JGTWiAFUBRgDgAdqKOodDNg8N6HazpPbaNp8MsZ3JJHaorKfUEDina9cyWmg3ksH+v8orD7yN8qj/voitCorm1hu41S4TeqyLIBkj5lYMp/AgGk1dWYLR3OXu7PWpvB48O2NgbWd7YWbXzSJ5MS7QrOoDFycZIBUc9SOtVPDmmRaJ4v1TS8H7HZ6NZQ2vmd4l80N+vX8K7iqt5plhqBU39lbXRQEL58SvtB64yPam7u/mC0Vv66f5GJ8OvtH/CudE+17vM+yrjd1287f/HcVqXXh/Rr24a4vdIsLiZ/vSS2yOzduSRmtEAKAAMAcADtRTk7u4GZF4Z0KCZJYNE06OSNgyOlogZSOhBA4NadFVtS1G00jTbjUNRnW3tbdDJLI54UCk3Zaha7K+u61baDpb3d0GkJIjhgjGXnkPCoo7kmsHwD4Kh8LQ39/JbxW+o6vN9ouYYGJjg5JWNfZcnnuSegwK4nSvi34I1HXW1/xJrnlTRFo9OsTaTuLROhckIQZG7kZwOB3z0v/C8vh1/0MP8A5JXH/wAboWmv9f1/XqPsegUV5dq/7QfgiwtmfTri61SbHyxwW7xgn3MgXA/Ouz8GXWo6j4Zt9U1lfKutR/0kwAkrAjD5EGfRQM+pJPemlfUHoY/ie31/xCkNkdCaK0tdXhmkdbuJvtVvGwYFQSMMWx8rY4U85wK1Nf1TUrDwrqGpOv2NoQXjjUK8u0Dhf4l3s3A6gA9zXRVHPbw3Vu8F1FHNDIMPHIoZWHoQetT9m39dP8h31uctqOo3+n/Dk37XscdzZWbtdSW8S/PMikFUUgqMyDHT2HtLrC6hL4f0awVIWvp5YGlQDYh8oCVxx0BKbfbcKs6n4Zl1OVbZ79YtGHkk6dHbKvMb7uHB4DEKCMHheMZNbT2sMl3FcumZolZEbJ4DYzx0/hFVfW/n+RO1l/X9I5jX9JvvGD2NhdWUun6ZDcx3V2Z5Iy8+w7ljUIzcbgCSSOmBnORLqd5qMXjjRrGO5RoblppXt/KUhYY48bskbg/mOvIOMcY6munPTjisPSfD9xa6r/aer6kdSvVt/s0cnkCIKm7cflBI3E4yeBhRx1yLf+v67Dexl/FBDc+CHsE5kvry1towO5adP6An8K7ADAxWNd6ZNqfiS0uLtNllppMsC7smaZlK7yB0CqSBnqST2Gdmktv68ge4Vlal4X8P6zdC51fQ9Nv5woQS3VpHKwUdBlgTjk1q0UAcN4a8EeFJ7a/M/hjR5Cuo3KKX0+I4USEADK9AO1dtDDFbW6QW8SRRRqESONQqqo4AAHAFPoo6WB7tnMW2iXevSXN34sgVEdZIbXTgwdYI2BUuxHDSMD16KDgdSTJ4EsdU0nwlb6XrcZWewZraOTeredCpxG/BOMrjg4OR0ro6KNgeoyaaK2gkmuJFjijUs7ucBQOSSa4XRPD1p4l8dDx7PZfZlji8jTuCrzryPPce4OFH93k9QBz3iX4o+D9U8UyaNrOtrb6Lp7g3CJBLJ9vlB+5lFI8tSOf7x46A53h8cfhyqgL4hwBwALG44/8AIdEf5v6/r+vRtP4T0CivObr48/D63hLxavLdMOkcVnKGP/fSgfrV34e+MLnx/Nfa5HbS2WkQt9ls4ZG+aVuC8jgcf3QBzj5ueaaVxPQ6LUf+Rm0b6T/+gCs/Trq/TVdXv00+S+t7ifZAbdkV1EQ8sq29l43BiCPU9O+7PYpPqFpds7BrbftUdDuGOaltraGzt1gtk2RrkgZJ6nJ5PuTSA5rRPDt9YNrOrXU8cGq6xOkszL8620SDaqLkYLBc8kY3HoRU/hK+utT8DxX966yPdCaVHCBS0ZdvLJAAGSm3JwKva5pd/qkYhstVNhA8ckU6C3VzIGAGQxIKsOcHkZPIOKuWthBZaXFp9qvl28MIhjUfwqBgfpSlrFr7v6+4a3TKnhj/AJFLSP8Aryh/9AFc34hnfxX4yPgsN5WmxWYu9UdQN0ys2EhU/wAIOCSRzgcEV2Gn2a6dplrZRsXS2hSJWbqQoAyfyri9I/5Lr4i/7BVr/wChNVyalU8tfyZKvGHnp+aR3MEMdtbxwQrtjiUIi5zgAYAp9FFSPYKKKKACiiigAooooAKKKKACiiigAooooAKKKKACiiigApsjrFG0jnCqCxPoBTqgvbVL6wntJWdUnjaNmQ4YAjBxQ9hrfU831RYNZ8MacdOu7ibV7idJf7LSchGZ5hI/nxf3VDNncMYA74r0+kACqAowAMAUtPyQvNhRRRSAK4PXv9E+Nfhe6uPkhuLG6tY3PQy/KwXPqQDj6V3lUNa0Sw8Qaa1jqsHmwlg6kMVaNhyGVhyrA9CKNmn/AFtYN00X64Gew+Iv9v3OoW9v4WkySlqbi5uC0EX90YjABOMk9/oBjtdPtGsNPitXu7i8MQx59yVMj/7xAAPpnFWaLah0K2mw3FvpVrDfS+dcxwqs0gJO9wPmPPvmn3N3FatCJt+Z5BEmyNn+Y5POAcDjqcCpq5DV7u4g+I2kwLe3CQNE8skKsQsg4jWMJnDfM5cnGQEHQU95eobI6+mSyxwQtLO6xxoMszHAArnLv+2Ptk3k/wDCReXvO3yf7O2Yz/Dv+bH159au6RLdwrcSaq+pRxooO/UjaBVHOSDD+u6l0AvaZqllrFn9q02cTweY8e8Aj5lYqw59CCKt1x/w1vLW58O3S21zDMy6neswjkDEA3MhB47EciuwpsOrQUUUUgCiiigAooooAKKKKACiiigAooooAgN5EL9bM7/OaMyj9223aCB97G0HJHGc/lU9clozXjeL9fiW+uri3tLaCEgybs3DBpGKqx2qdrRjAwOmaX/ief8AUz/+UygOp0WpanZaRZPd6lcJbwRglnc+gyeOp4BPFTwTR3NvHPC26ORQ6NjGQRkGuV8R3LW3wz1o6rNcRO9lcIp1BoFdiY2wP3XyfQda2/DtzBdeG9PktZo5k+zRjdGwYZCjIyKF1+X6g+nnf8Lf5mlRRRQAUUUUAFFFFABRRRQAUUUUAFFFFABRRRQBDc3cVoYRNvzNIIk2Rs/zHPXAOBx1OB71NXK6k10PiHo1tb31x+8We6uIg5EYhRAgQr0OXkDZIzx1wMVJd/2x9sm8n/hIvL3nb5P9nbMZ/h3/ADY+vPrR0A6OWWOCFpZ3WONBlmY4AFV9M1Sy1iz+1abOJ4PMePeAR8ysVYc+hBFUdIlu4VuJNVfUo40UHfqRtAqjnJBh/XdWR8Nby1ufDt0ttcwzMup3rMI5AxANzIQeOxHIp2Dpc7CiiikAUUUUAFcH4fP2v41eKbq3+eCCytbWSQdBL8zFc+oBGfSuz1Gza/0+W1S7uLMyjHn2zKJE5/hJBA9M4+lQ6Nolh4f01bHSoBDCCWbLFmkY9WZjyzHuTzQt7g9rf13L9FFFABRRRQAUUUUAFFFFABRRRQAUUUUAFFFFABRRRQAUUUUAFFFFABRRRQAUUUUAFFFFABRRRQAUUUUAFFFFABRRRQAUUUUAFFFFABRRRQAUUUUAFFFFABUVzbpd2zwSmRUcYJilaNh9GUgj8DUtFAFWy02009rhrSLy2upjPMxYsXcgDJJPoAPYCrVFFABRRRQAUUUUAFFFFABRRRQAUUUUAFFFFABRRRQAUdaKKAKNro1lZ3v2uFJGufIFv5s07yt5YYtjLk9z16nj0FXqKKACiiigAooooAKKKKACiiigAooooA//2Q==)\n",
        "\n",
        "\n",
        "La primera consecuencia de esta elección de penalización es que la función de error ya no puede optimizarse (minimizarse) de manera analítica. Hay que recurrir, entonces, a diferentes algoritmos iterativos.\n",
        "\n",
        "En sklearn, existen al menos dos implementaciones:\n",
        "\n",
        "linear_model.Lasso, que usa coordinate descent para encontrar el mínimo.\n",
        "\n",
        "\n",
        "linear_model.LassoLars, que usa LARS (least angle regression), que es similar a forward stepwise regression (es decir, se empieza con los coeficientes en cero, , y se van aumentando prograsivamente."
      ],
      "metadata": {
        "id": "A30R-kr2rOby"
      }
    },
    {
      "cell_type": "code",
      "source": [
        "from sklearn.linear_model import Lasso,  LassoLars"
      ],
      "metadata": {
        "id": "vXEKSI9NspwK"
      },
      "execution_count": 23,
      "outputs": []
    },
    {
      "cell_type": "code",
      "source": [
        "\n",
        "modelo_Lars= Pipeline([ ('scaler', StandardScaler()),\n",
        "                    ('features', PolynomialFeatures(degree=5)),\n",
        "                     ('model',LassoLars(alpha=1e-07))\n",
        "])"
      ],
      "metadata": {
        "id": "Q-N4liD3sQKP"
      },
      "execution_count": 24,
      "outputs": []
    },
    {
      "cell_type": "code",
      "source": [
        "modelo_Lars.fit(x_train,y_train)"
      ],
      "metadata": {
        "colab": {
          "base_uri": "https://localhost:8080/"
        },
        "id": "_nEw9E4WtoPq",
        "outputId": "b0a23072-bce8-4103-bb62-a5ebdb8f836d"
      },
      "execution_count": 25,
      "outputs": [
        {
          "output_type": "stream",
          "name": "stderr",
          "text": [
            "/usr/local/lib/python3.7/dist-packages/sklearn/linear_model/_base.py:138: FutureWarning: The default of 'normalize' will be set to False in version 1.2 and deprecated in version 1.4.\n",
            "If you wish to scale the data, use Pipeline with a StandardScaler in a preprocessing stage. To reproduce the previous behavior:\n",
            "\n",
            "from sklearn.pipeline import make_pipeline\n",
            "\n",
            "model = make_pipeline(StandardScaler(with_mean=False), LassoLars())\n",
            "\n",
            "If you wish to pass a sample_weight parameter, you need to pass it as a fit parameter to each step of the pipeline as follows:\n",
            "\n",
            "kwargs = {s[0] + '__sample_weight': sample_weight for s in model.steps}\n",
            "model.fit(X, y, **kwargs)\n",
            "\n",
            "Set parameter alpha to: original_alpha * np.sqrt(n_samples). \n",
            "  FutureWarning,\n"
          ]
        },
        {
          "output_type": "execute_result",
          "data": {
            "text/plain": [
              "Pipeline(steps=[('scaler', StandardScaler()),\n",
              "                ('features', PolynomialFeatures(degree=5)),\n",
              "                ('model', LassoLars(alpha=1e-07))])"
            ]
          },
          "metadata": {},
          "execution_count": 25
        }
      ]
    },
    {
      "cell_type": "code",
      "source": [
        "y_pred_lasso_train = modelo_Lars.predict(x_train)\n",
        "print('Precisión del modelo usando el (MSE):')\n",
        "score_train = mse(y_train,y_pred_lasso_train)\n",
        "\n",
        "print (score_train)"
      ],
      "metadata": {
        "colab": {
          "base_uri": "https://localhost:8080/"
        },
        "id": "k7p_MRD3tzo1",
        "outputId": "807e919f-a846-4ffa-bc1d-94de956e7cee"
      },
      "execution_count": 26,
      "outputs": [
        {
          "output_type": "stream",
          "name": "stdout",
          "text": [
            "Precisión del modelo usando el (MSE):\n",
            "0.4479309417349494\n"
          ]
        }
      ]
    },
    {
      "cell_type": "code",
      "source": [
        "y_pred_lasso_test = modelo_Lars.predict(x_test)\n",
        "print('Precisión del modelo usando el (MSE):')\n",
        "score_train = mse(y_test,y_pred_lasso_test)\n",
        "\n",
        "print (score_train)"
      ],
      "metadata": {
        "colab": {
          "base_uri": "https://localhost:8080/"
        },
        "id": "6omDKRCmuPP7",
        "outputId": "d0b0d2e8-37b7-4984-ad44-581616240ecf"
      },
      "execution_count": 27,
      "outputs": [
        {
          "output_type": "stream",
          "name": "stdout",
          "text": [
            "Precisión del modelo usando el (MSE):\n",
            "0.48652897734122325\n"
          ]
        }
      ]
    },
    {
      "cell_type": "code",
      "source": [
        "print(modelo_Lars['model'].coef_)\n"
      ],
      "metadata": {
        "colab": {
          "base_uri": "https://localhost:8080/"
        },
        "id": "y_BK_6YZSt1Q",
        "outputId": "1720ab96-3ec3-490b-c105-b34a4cdddad1"
      },
      "execution_count": 28,
      "outputs": [
        {
          "output_type": "stream",
          "name": "stdout",
          "text": [
            "[0.         2.37364051 0.53596539 ... 0.         0.03009442 0.        ]\n"
          ]
        }
      ]
    },
    {
      "cell_type": "markdown",
      "source": [
        "# Regresión Ridge\n",
        "\n",
        "\n"
      ],
      "metadata": {
        "id": "iTymYyrlVwAS"
      }
    },
    {
      "cell_type": "markdown",
      "source": [
        "En vistas de que los valores de los coeficientes aumentan dramáticamente cuando empezamos a sobreajustar, podemos pensar en incluir una penalización para valores muy grandes de los parámetros. Escribimos, entonces, una nueva función de error\n",
        "\n",
        "![ridge.JPG](data:image/jpeg;base64,/9j/4AAQSkZJRgABAQEAYABgAAD/4RDcRXhpZgAATU0AKgAAAAgABAE7AAIAAAAGAAAISodpAAQAAAABAAAIUJydAAEAAAAMAAAQyOocAAcAAAgMAAAAPgAAAAAc6gAAAAgAAAAAAAAAAAAAAAAAAAAAAAAAAAAAAAAAAAAAAAAAAAAAAAAAAAAAAAAAAAAAAAAAAAAAAAAAAAAAAAAAAAAAAAAAAAAAAAAAAAAAAAAAAAAAAAAAAAAAAAAAAAAAAAAAAAAAAAAAAAAAAAAAAAAAAAAAAAAAAAAAAAAAAAAAAAAAAAAAAAAAAAAAAAAAAAAAAAAAAAAAAAAAAAAAAAAAAAAAAAAAAAAAAAAAAAAAAAAAAAAAAAAAAAAAAAAAAAAAAAAAAAAAAAAAAAAAAAAAAAAAAAAAAAAAAAAAAAAAAAAAAAAAAAAAAAAAAAAAAAAAAAAAAAAAAAAAAAAAAAAAAAAAAAAAAAAAAAAAAAAAAAAAAAAAAAAAAAAAAAAAAAAAAAAAAAAAAAAAAAAAAAAAAAAAAAAAAAAAAAAAAAAAAAAAAAAAAAAAAAAAAAAAAAAAAAAAAAAAAAAAAAAAAAAAAAAAAAAAAAAAAAAAAAAAAAAAAAAAAAAAAAAAAAAAAAAAAAAAAAAAAAAAAAAAAAAAAAAAAAAAAAAAAAAAAAAAAAAAAAAAAAAAAAAAAAAAAAAAAAAAAAAAAAAAAAAAAAAAAAAAAAAAAAAAAAAAAAAAAAAAAAAAAAAAAAAAAAAAAAAAAAAAAAAAAAAAAAAAAAAAAAAAAAAAAAAAAAAAAAAAAAAAAAAAAAAAAAAAAAAAAAAAAAAAAAAAAAAAAAAAAAAAAAAAAAAAAAAAAAAAAAAAAAAAAAAAAAAAAAAAAAAAAAAAAAAAAAAAAAAAAAAAAAAAAAAAAAAAAAAAAAAAAAAAAAAAAAAAAAAAAAAAAAAAAAAAAAAAAAAAAAAAAAAAAAAAAAAAAAAAAAAAAAAAAAAAAAAAAAAAAAAAAAAAAAAAAAAAAAAAAAAAAAAAAAAAAAAAAAAAAAAAAAAAAAAAAAAAAAAAAAAAAAAAAAAAAAAAAAAAAAAAAAAAAAAAAAAAAAAAAAAAAAAAAAAAAAAAAAAAAAAAAAAAAAAAAAAAAAAAAAAAAAAAAAAAAAAAAAAAAAAAAAAAAAAAAAAAAAAAAAAAAAAAAAAAAAAAAAAAAAAAAAAAAAAAAAAAAAAAAAAAAAAAAAAAAAAAAAAAAAAAAAAAAAAAAAAAAAAAAAAAAAAAAAAAAAAAAAAAAAAAAAAAAAAAAAAAAAAAAAAAAAAAAAAAAAAAAAAAAAAAAAAAAAAAAAAAAAAAAAAAAAAAAAAAAAAAAAAAAAAAAAAAAAAAAAAAAAAAAAAAAAAAAAAAAAAAAAAAAAAAAAAAAAAAAAAAAAAAAAAAAAAAAAAAAAAAAAAAAAAAAAAAAAAAAAAAAAAAAAAAAAAAAAAAAAAAAAAAAAAAAAAAAAAAAAAAAAAAAAAAAAAAAAAAAAAAAAAAAAAAAAAAAAAAAAAAAAAAAAAAAAAAAAAAAAAAAAAAAAAAAAAAAAAAAAAAAAAAAAAAAAAAAAAAAAAAAAAAAAAAAAAAAAAAAAAAAAAAAAAAAAAAAAAAAAAAAAAAAAAAAAAAAAAAAAAAAAAAAAAAAAAAAAAAAAAAAAAAAAAAAAAAAAAAAAAAAAAAAAAAAAAAAAAAAAAAAAAAAAAAAAAAAAAAAAAAAAAAAAAAAAAAAAAAAAAAAAAAAAAAAAAAAAAAAAAAAAAAAAAAAAAAAAAAAAAAAAAAAAAAAAAAAAAAAAAAAAAAAAAAAAAAAAAAAAAAAAAAAAAAAAAAAAAAAAAAAAAAAAAAAAAAAAAAAAAAAAAAAAAAAAAAAAAAAAAAAAAAAAAAAAAAAAAAAAAAAAAAAAAAAAAAAAAAAAAAAAAAAAAAAAAAAAAAAAAAAAAAAAAAAAAAAAAAAAAAAAAAAAAAAAAAAAAAAAAAAAAAAAAAAAAAAAAAAAAAAAAAAAAAAAAAAAAAAAAAAAAAAAAAAAAAAAAAAAAAAAAAAAAAAAAAAAAAAAAAAAAAAAAAAAAAAAAAAAAAAAAAAAAAAAAAAAAAAAAAAAAAAAAAAAAAAAAAAAAAAAAAAAAAAAAAAAAAAAAAAAAAAAAAAAAAAAAAAAAAAAAAAAAAAAAAAAAAAAAAAAAAAAAAAAAAAAAAAAAAAAAAAAAAAAAAAAAAAAAAAAAAAAAAAAAAAAAAAAAAAAAAAAAAAAAAAAAAAAAAAAAAAAAAAAAAAAAAAAAAAAAAAAAAAAAAAAAAAAAAAAAAAAAAAAAAAAAAAAAAAAAAAAAAAAAAAAAAAAAAAAAAAAAAAAAAAAAAAAAAAAAAAAAAAAAAAAAAAAAAAAAAAAAAAAAAAAAAAAAAAAAAAAAAAAAAAAAAAAAAAAAAAAAAAAAAAAAAAAAAAAAAAAAAAAAAAAAAAAAAAAAAAAAAAAAAAAAAAAAAAAAAAAAAAAAAAAAAAAAAAAAAAAAAAAAAAAAAAAAAAAAAAAAAAAAAAAAAAAAAAAAAAAAAAAAAAAAAAAAAAAAAAAAAAAAAAAAAAAAAAAAAAAAAAAAAAAAAAAAAAAAAAAAAAAAAAAAAAAAAAAAAAAAAAAAAAAAAAAAAAAAAAAAAAAAAAAAAAAAAAAAAAAAAAAAAAAAAAAAAAAAAAAAAAAAAAAAAAAAAAAAAAAAAAAAAAAAAAAAAAAAAAAAAAAAAAAAAAAAAAAAAAAAAAAAAAAAAAAAAAAAAAAAAAAAAAAAAAAAAAAAAAAAAAAAAAAAAAAAAAAAAAAAAAAAAAAAAAAAAAAAAAAAAAAAAAAAAAAAAAGpvcmdlAAAFkAMAAgAAABQAABCekAQAAgAAABQAABCykpEAAgAAAAM3MwAAkpIAAgAAAAM3MwAA6hwABwAACAwAAAiSAAAAABzqAAAACAAAAAAAAAAAAAAAAAAAAAAAAAAAAAAAAAAAAAAAAAAAAAAAAAAAAAAAAAAAAAAAAAAAAAAAAAAAAAAAAAAAAAAAAAAAAAAAAAAAAAAAAAAAAAAAAAAAAAAAAAAAAAAAAAAAAAAAAAAAAAAAAAAAAAAAAAAAAAAAAAAAAAAAAAAAAAAAAAAAAAAAAAAAAAAAAAAAAAAAAAAAAAAAAAAAAAAAAAAAAAAAAAAAAAAAAAAAAAAAAAAAAAAAAAAAAAAAAAAAAAAAAAAAAAAAAAAAAAAAAAAAAAAAAAAAAAAAAAAAAAAAAAAAAAAAAAAAAAAAAAAAAAAAAAAAAAAAAAAAAAAAAAAAAAAAAAAAAAAAAAAAAAAAAAAAAAAAAAAAAAAAAAAAAAAAAAAAAAAAAAAAAAAAAAAAAAAAAAAAAAAAAAAAAAAAAAAAAAAAAAAAAAAAAAAAAAAAAAAAAAAAAAAAAAAAAAAAAAAAAAAAAAAAAAAAAAAAAAAAAAAAAAAAAAAAAAAAAAAAAAAAAAAAAAAAAAAAAAAAAAAAAAAAAAAAAAAAAAAAAAAAAAAAAAAAAAAAAAAAAAAAAAAAAAAAAAAAAAAAAAAAAAAAAAAAAAAAAAAAAAAAAAAAAAAAAAAAAAAAAAAAAAAAAAAAAAAAAAAAAAAAAAAAAAAAAAAAAAAAAAAAAAAAAAAAAAAAAAAAAAAAAAAAAAAAAAAAAAAAAAAAAAAAAAAAAAAAAAAAAAAAAAAAAAAAAAAAAAAAAAAAAAAAAAAAAAAAAAAAAAAAAAAAAAAAAAAAAAAAAAAAAAAAAAAAAAAAAAAAAAAAAAAAAAAAAAAAAAAAAAAAAAAAAAAAAAAAAAAAAAAAAAAAAAAAAAAAAAAAAAAAAAAAAAAAAAAAAAAAAAAAAAAAAAAAAAAAAAAAAAAAAAAAAAAAAAAAAAAAAAAAAAAAAAAAAAAAAAAAAAAAAAAAAAAAAAAAAAAAAAAAAAAAAAAAAAAAAAAAAAAAAAAAAAAAAAAAAAAAAAAAAAAAAAAAAAAAAAAAAAAAAAAAAAAAAAAAAAAAAAAAAAAAAAAAAAAAAAAAAAAAAAAAAAAAAAAAAAAAAAAAAAAAAAAAAAAAAAAAAAAAAAAAAAAAAAAAAAAAAAAAAAAAAAAAAAAAAAAAAAAAAAAAAAAAAAAAAAAAAAAAAAAAAAAAAAAAAAAAAAAAAAAAAAAAAAAAAAAAAAAAAAAAAAAAAAAAAAAAAAAAAAAAAAAAAAAAAAAAAAAAAAAAAAAAAAAAAAAAAAAAAAAAAAAAAAAAAAAAAAAAAAAAAAAAAAAAAAAAAAAAAAAAAAAAAAAAAAAAAAAAAAAAAAAAAAAAAAAAAAAAAAAAAAAAAAAAAAAAAAAAAAAAAAAAAAAAAAAAAAAAAAAAAAAAAAAAAAAAAAAAAAAAAAAAAAAAAAAAAAAAAAAAAAAAAAAAAAAAAAAAAAAAAAAAAAAAAAAAAAAAAAAAAAAAAAAAAAAAAAAAAAAAAAAAAAAAAAAAAAAAAAAAAAAAAAAAAAAAAAAAAAAAAAAAAAAAAAAAAAAAAAAAAAAAAAAAAAAAAAAAAAAAAAAAAAAAAAAAAAAAAAAAAAAAAAAAAAAAAAAAAAAAAAAAAAAAAAAAAAAAAAAAAAAAAAAAAAAAAAAAAAAAAAAAAAAAAAAAAAAAAAAAAAAAAAAAAAAAAAAAAAAAAAAAAAAAAAAAAAAAAAAAAAAAAAAAAAAAAAAAAAAAAAAAAAAAAAAAAAAAAAAAAAAAAAAAAAAAAAAAAAAAAAAAAAAAAAAAAAAAAAAAAAAAAAAAAAAAAAAAAAAAAAAAAAAAAAAAAAAAAAAAAAAAAAAAAAAAAAAAAAAAAAAAAAAAAAAAAAAAAAAAAAAAAAAAAAAAAAAAAAAAAAAAAAAAAAAAAAAAAAAAAAAAAAAAAAAAAAAAAAAAAAAAAAAAAAAAAAAAAAAAAAAAAAAAAAAAAAAAAAAAAAAAAAAAAAAAAAAAAAAAAAAAAAAAAAAAAAAAAAAAAAAAAAAAAAAAAAAAAAAAAAAAAAAAAAAAAAAAAAAAAAAAAAAAAAAAAAAAAAAAAAAAAAAAAAAAAAAAAAAAAAAAAAAAAAAAAAAAAAAAAAAAAAAAAAAAAAAAAAAAAAAAAAAAAAAAAAAAAAAAAAAAAAAAAAAAAAAAAAAAAAAAAAAAAAAAAAAAAAAAAAAAAAAAAAAAAAAAAAAAAAAAAAAAAAAAAAAAAAAAAAAAAAAAAAAAAAAAAAAAAAAAAAAAAAAAAAAAAAAAAAAAAAAAAAAAAAAAAAAAAAAAAAAAAAAAAAAAAAAAAAAAAAAAAAAAAAAAAAAAAAAAAAAAAAAAAAAAAAAAAAAAAAAAAAAAAAAAAAAAAAAAAAAAAAAAAAAAAAAAAAAAAAAAAAAAAAAAAAAAAAAAAAAAAAAAAAAAAAAAAAAAAAAAAAAAAAAAAAAAAAAAAAAAAAAAAAAAAAAAAAAAAAAAAAAAAAAAAAAAAAAAAAAAAAAAAAAAAAAAAAAAAAAAAAAAAAAAAAAAAAAAAAAAAAAAAAAAAAAAAAAAAAAAAAAAAAAAAAAAAAAAAAAAAAAAAAAAAAAAAAAAAAAAAAAAAAAAAAAAAAAAAAAAAAAAAAAAAAAAAAAAAAAAAAAAAAAAAAAAAAAAAAAAAAAAAAAAAAAAAAAAAAAAAAAAAAAAAAAAAAAAAAAAAAAAAAAAAAAAAAAAAAAAAAAAMjAyMjowMToxNCAxMzo1MjoyOAAyMDIyOjAxOjE0IDEzOjUyOjI4AAAAagBvAHIAZwBlAAAA/+ELGGh0dHA6Ly9ucy5hZG9iZS5jb20veGFwLzEuMC8APD94cGFja2V0IGJlZ2luPSfvu78nIGlkPSdXNU0wTXBDZWhpSHpyZVN6TlRjemtjOWQnPz4NCjx4OnhtcG1ldGEgeG1sbnM6eD0iYWRvYmU6bnM6bWV0YS8iPjxyZGY6UkRGIHhtbG5zOnJkZj0iaHR0cDovL3d3dy53My5vcmcvMTk5OS8wMi8yMi1yZGYtc3ludGF4LW5zIyI+PHJkZjpEZXNjcmlwdGlvbiByZGY6YWJvdXQ9InV1aWQ6ZmFmNWJkZDUtYmEzZC0xMWRhLWFkMzEtZDMzZDc1MTgyZjFiIiB4bWxuczpkYz0iaHR0cDovL3B1cmwub3JnL2RjL2VsZW1lbnRzLzEuMS8iLz48cmRmOkRlc2NyaXB0aW9uIHJkZjphYm91dD0idXVpZDpmYWY1YmRkNS1iYTNkLTExZGEtYWQzMS1kMzNkNzUxODJmMWIiIHhtbG5zOnhtcD0iaHR0cDovL25zLmFkb2JlLmNvbS94YXAvMS4wLyI+PHhtcDpDcmVhdGVEYXRlPjIwMjItMDEtMTRUMTM6NTI6MjguNzMyPC94bXA6Q3JlYXRlRGF0ZT48L3JkZjpEZXNjcmlwdGlvbj48cmRmOkRlc2NyaXB0aW9uIHJkZjphYm91dD0idXVpZDpmYWY1YmRkNS1iYTNkLTExZGEtYWQzMS1kMzNkNzUxODJmMWIiIHhtbG5zOmRjPSJodHRwOi8vcHVybC5vcmcvZGMvZWxlbWVudHMvMS4xLyI+PGRjOmNyZWF0b3I+PHJkZjpTZXEgeG1sbnM6cmRmPSJodHRwOi8vd3d3LnczLm9yZy8xOTk5LzAyLzIyLXJkZi1zeW50YXgtbnMjIj48cmRmOmxpPmpvcmdlPC9yZGY6bGk+PC9yZGY6U2VxPg0KCQkJPC9kYzpjcmVhdG9yPjwvcmRmOkRlc2NyaXB0aW9uPjwvcmRmOlJERj48L3g6eG1wbWV0YT4NCiAgICAgICAgICAgICAgICAgICAgICAgICAgICAgICAgICAgICAgICAgICAgICAgICAgICAgICAgICAgICAgICAgICAgICAgICAgICAgICAgICAgICAgICAgICAgICAgICAgICAKICAgICAgICAgICAgICAgICAgICAgICAgICAgICAgICAgICAgICAgICAgICAgICAgICAgICAgICAgICAgICAgICAgICAgICAgICAgICAgICAgICAgICAgICAgICAgICAgICAgIAogICAgICAgICAgICAgICAgICAgICAgICAgICAgICAgICAgICAgICAgICAgICAgICAgICAgICAgICAgICAgICAgICAgICAgICAgICAgICAgICAgICAgICAgICAgICAgICAgICAgCiAgICAgICAgICAgICAgICAgICAgICAgICAgICAgICAgICAgICAgICAgICAgICAgICAgICAgICAgICAgICAgICAgICAgICAgICAgICAgICAgICAgICAgICAgICAgICAgICAgICAKICAgICAgICAgICAgICAgICAgICAgICAgICAgICAgICAgICAgICAgICAgICAgICAgICAgICAgICAgICAgICAgICAgICAgICAgICAgICAgICAgICAgICAgICAgICAgICAgICAgIAogICAgICAgICAgICAgICAgICAgICAgICAgICAgICAgICAgICAgICAgICAgICAgICAgICAgICAgICAgICAgICAgICAgICAgICAgICAgICAgICAgICAgICAgICAgICAgICAgICAgCiAgICAgICAgICAgICAgICAgICAgICAgICAgICAgICAgICAgICAgICAgICAgICAgICAgICAgICAgICAgICAgICAgICAgICAgICAgICAgICAgICAgICAgICAgICAgICAgICAgICAKICAgICAgICAgICAgICAgICAgICAgICAgICAgICAgICAgICAgICAgICAgICAgICAgICAgICAgICAgICAgICAgICAgICAgICAgICAgICAgICAgICAgICAgICAgICAgICAgICAgIAogICAgICAgICAgICAgICAgICAgICAgICAgICAgICAgICAgICAgICAgICAgICAgICAgICAgICAgICAgICAgICAgICAgICAgICAgICAgICAgICAgICAgICAgICAgICAgICAgICAgCiAgICAgICAgICAgICAgICAgICAgICAgICAgICAgICAgICAgICAgICAgICAgICAgICAgICAgICAgICAgICAgICAgICAgICAgICAgICAgICAgICAgICAgICAgICAgICAgICAgICAKICAgICAgICAgICAgICAgICAgICAgICAgICAgICAgICAgICAgICAgICAgICAgICAgICAgICAgICAgICAgICAgICAgICAgICAgICAgICAgICAgICAgICAgICAgICAgICAgICAgIAogICAgICAgICAgICAgICAgICAgICAgICAgICAgICAgICAgICAgICAgICAgICAgICAgICAgICAgICAgICAgICAgICAgICAgICAgICAgICAgICAgICAgICAgICAgICAgICAgICAgCiAgICAgICAgICAgICAgICAgICAgICAgICAgICAgICAgICAgICAgICAgICAgICAgICAgICAgICAgICAgICAgICAgICAgICAgICAgICAgICAgICAgICAgICAgICAgICAgICAgICAKICAgICAgICAgICAgICAgICAgICAgICAgICAgICAgICAgICAgICAgICAgICAgICAgICAgICAgICAgICAgICAgICAgICAgICAgICAgICAgICAgICAgICAgICAgICAgICAgICAgIAogICAgICAgICAgICAgICAgICAgICAgICAgICAgICAgICAgICAgICAgICAgICAgICAgICAgICAgICAgICAgICAgICAgICAgICAgICAgICAgICAgICAgICAgICAgICAgICAgICAgCiAgICAgICAgICAgICAgICAgICAgICAgICAgICAgICAgICAgICAgICAgICAgICAgICAgICAgICAgICAgICAgICAgICAgICAgICAgICAgICAgICAgICAgICAgICAgICAgICAgICAKICAgICAgICAgICAgICAgICAgICAgICAgICAgICAgICAgICAgICAgICAgICAgICAgICAgICAgICAgICAgICAgICAgICAgICAgICAgICAgICAgICAgICAgICAgICAgICAgICAgIAogICAgICAgICAgICAgICAgICAgICAgICAgICAgICAgICAgICAgICAgICAgICAgICAgICAgICAgICAgICAgICAgICAgICAgICAgICAgICAgICAgICAgICAgICAgICAgICAgICAgCiAgICAgICAgICAgICAgICAgICAgICAgICAgICAgICAgICAgICAgICAgICAgICAgICAgICAgICAgICAgICAgICAgICAgICAgICAgICAgICAgICAgICAgICAgICAgICAgICAgICAKICAgICAgICAgICAgICAgICAgICAgICAgICAgICAgICAgICAgICAgICAgICAgICAgICAgICAgICAgICAgICAgICAgICAgICAgICAgICAgICAgICAgICAgICAgICAgICAgICAgIAogICAgICAgICAgICAgICAgICAgICAgICAgICAgPD94cGFja2V0IGVuZD0ndyc/Pv/bAEMABwUFBgUEBwYFBggHBwgKEQsKCQkKFQ8QDBEYFRoZGBUYFxseJyEbHSUdFxgiLiIlKCkrLCsaIC8zLyoyJyorKv/bAEMBBwgICgkKFAsLFCocGBwqKioqKioqKioqKioqKioqKioqKioqKioqKioqKioqKioqKioqKioqKioqKioqKioqKv/AABEIAGUCiQMBIgACEQEDEQH/xAAfAAABBQEBAQEBAQAAAAAAAAAAAQIDBAUGBwgJCgv/xAC1EAACAQMDAgQDBQUEBAAAAX0BAgMABBEFEiExQQYTUWEHInEUMoGRoQgjQrHBFVLR8CQzYnKCCQoWFxgZGiUmJygpKjQ1Njc4OTpDREVGR0hJSlNUVVZXWFlaY2RlZmdoaWpzdHV2d3h5eoOEhYaHiImKkpOUlZaXmJmaoqOkpaanqKmqsrO0tba3uLm6wsPExcbHyMnK0tPU1dbX2Nna4eLj5OXm5+jp6vHy8/T19vf4+fr/xAAfAQADAQEBAQEBAQEBAAAAAAAAAQIDBAUGBwgJCgv/xAC1EQACAQIEBAMEBwUEBAABAncAAQIDEQQFITEGEkFRB2FxEyIygQgUQpGhscEJIzNS8BVictEKFiQ04SXxFxgZGiYnKCkqNTY3ODk6Q0RFRkdISUpTVFVWV1hZWmNkZWZnaGlqc3R1dnd4eXqCg4SFhoeIiYqSk5SVlpeYmZqio6Slpqeoqaqys7S1tre4ubrCw8TFxsfIycrS09TV1tfY2dri4+Tl5ufo6ery8/T19vf4+fr/2gAMAwEAAhEDEQA/APpGiiigAooooAKKKKACiiigAooooAKKKKACiiigAooooAKKKKACiiigAooo6daACis/S9d03WnuV0q6W6Fq/lyyRqxj3egfG1iO+Ccd60KACivNtYjGi+Km8cW6hIIr3+z7/YMB7UhVLnHUpNk59M11fhixs0F/qltawxS6hdyu0kcaguqnYpyOoIQN+NC1V/66fowejt/X9aG9RRRQAUUUUAFFFFABRRRQAUUUUAFFFFABRRRQAUUjEhCVG4gcDPWuFXxhrcVjd3tzFYtHa6rFpyxRRvunLNGjbSWwCrOw6HO3tQtXb+uwdLnd0UUUAFFFFABRRRQAUUUUAFFFFABRRRQAUUUUAFFFFABRRXJXniDWI/Euo6fGbCC3s7H7Y0ssTuUXcwUHDgHdsZu2AO+eE3YaVzraKoaFqMmr+HtP1GaA20l3bRzNCTkoWUHH61fqmmnZkp3V0FFFFIYUUVnrr2mnXW0Y3SpqCp5ggkVkLrjOUJADgd9ucd8UAaFFFFABRRRQAUUUUAFFFFABRRRQAUUUUAFFFFABRRRQAUUUUAFFFc9dy/ZNdW5u/EVvbSbgq2MsqrGYicfdJyXJ6N9BjGcnUOh0NFYlx4v0W01aXTLi5lS8iaIPH9llOPMO1GyFwVJ43A4B4JFM0/xLbvb6rcX93AIrG+a2OyCWNk4XajBxlnO4fdBByMUf1/X3gb1FcnY+IJJvH2o2rXk402HTI7nyrq28kQtvYMQWRWxhQeSR1rTt/Fek3d5Da28lw0syCRQbSVQEIJDklQAp2n5ulHT+v66A9Hb+un+Zs0Vm2XiHTNRniitLhnaZWeFmidVmVepRiAHHI5UnjnpWlQAUUUUAFFFFABRRRQAUUUUAFFQ3d5bafavdX9xFbW8Yy8szhEUe5PAqVWDKGUggjII70ALXE/Fm8uLbwK0NrM8Bvru3s5JIzhhHJIA2D2yMj8a7auD+L/8AyKFl/wBhez/9Gilu0vNfmg2Ta7P8jtbGyttNsYbKxhSC2gQRxxoMBVHQCpZFLxsqu0ZIwHXGV9xnIptxCLm1lgZ5IxIhQvE5VlyMZBHIPuK8L0Nrvwv8TZ/CXxA1jW7u3viG0rUW1m6iDA9FOyQDnp7MPQinrKVu4WSjfsew2/hy2Tw7caNeTT39tciUStcbNzCQkt9xVHVj2q7penQaPpNpptmCLe0hWGMMcnaowM+/FZP/AAhel/8AP1rn/g/vv/j1Z+p/Dq3vYWWz8SeKNOc/deDW7h8fg7NkUXA7Ciub8FWWs6Ppcmj+ILyXUprN/wBzqEmSbmJslSxOfmHIIyegPetBtVebxGNKslVjBGJryRgSI1bIRB/tNgn2A9xT66AalFFFIAooooAKKKKACiqlzq2nWU4hvNQtbeVgCI5ZlVjk4HBPrVugAooooAKKK4z4n+Hta13wo7eF9VvtP1S0zLEtpcvELgY5jbaRnPbPQ/U0m7K40rux2MpkETmFVaTB2q7bQT2ycHH5GuY8KeEF0rTbZtYjjl1JJpbh2juZJIvNkYkuqtgA/MRnbn35Ncn8MLnR/HPhvddXWtw6vZERX1v/AG9fKQ/98DzuAcH6HI7V2jeCdMZSBea6pP8AENfvcj85aprlZKd0dDRXnmrfDzV7O6h1Twt4t177RayLL/Z9/qMk9vcAHJjO45GRxk5HtXf2832i1im2PH5iBtkilWXIzgg9DS6D6klFFFABRRRQAUVUTVtOkvfsceoWrXO4r5CzKXyBkjbnOcVboAKqXmq6dp7ol/f2tqz/AHVmmVC3OOMnnk4qtpmrNcaleaZeqsd7abXIThZYmzskXP0II7FT7VjeJ0s7ZtStoJVk1PW7UQ+Rcz4hjRQV8xgfuqN3OOWPApPRDW+p1tFZvhy2is/C+mW1vdNeRQ2saJcN1lAUAN+PWtKqas7IlXa1CiiikMKKgt760u5p4rW6hnkt32TJHIGMTdcMB0Psag1vTW1fRLuwjvLmxeeMqlzayGOSJuzKw54P50norjW5erlLTwk114g1vUPEMUMqX0kawxw3UpUwooASRMKrfNuODuHzEfXzj4ezyp4rv/BXxB1DWm1qFy9rc/23eRrdJ1wAsoHTkccjPcV6l/whel/8/Wuf+D++/wDj1V2aF3R0AAAAAwB0Aorh9Y+Gn263YaX4t8UaXPj5HTWJ5Vz7q7EkfQiug8K/2nFoENprxMmoWf7iafBxcbekgJ67hgn0OR2pbhsbFFNeRIo2eRlRFGWZjgAepNZd5r8B0i7udDaPV54EDC3tJVkYk9Oh/H3xQBrVxfxYtkPw9v8AUkzHe6WBeWdwn34pFYcg+4yD6g1o2eu38fjU+H9RFvcb7H7Yk9vE0fl4cKUdSzdScg57EY4zVT4q/wDJKfEP/Xm38xUzuo8y/q3/AASoays/6udNp9w13plrcOAGmhSQgepUGrFUdE/5AGn/APXrH/6CKvVpPSTRlDWKYUUUVJYUUUUAFFFFABRRRQAUUUUAFFFFABRRRQAUUUUAU9Xvjpmi3d6q72ghZ1X+8wHA/E4FcN4xl1DTtBbRZNOEWnanJHaXuuPOhZTNtVnMfUklto7DjsMV0/iv7TPa2VlYqrzXF5G21zgMkZ81gT2zsC5/2hVHX9JvvGD2NhdWUun6ZDcx3V2Z5Iy8+w7ljUIzcbgCSSOmBnOQLfXv+A722/plnTdDvrHxreaiVtzYTWNvaRnz2Mo8oyHJBTHO8fxdqzG8H6nONVeZ7SOWXWotVtAkrMrbFQbJPkGM7DyM4znnHPbUU7u9/wCt7/mhaWt/W1vyOJ1bTNWXVdY1nUbKzksZtGaza3t5nllJBdvulFDA7sdRjFZfh9nfUIbDUvst9JqFh9gW7sNVW6eCJUY/Mqwx7VJ/i+bkqM16VRU2VrP+t/8AMbb3/rp/kjmPD/hy60yHS7e8S2kXTIvLjuBPJIzgJsBCMMRkjrgn075rorq5SztZLiVZWSNdzCGJpXI9kUFmPsATUtRXUL3FrJFFcy2ruuFmhCl0PqNwZc/UEU5NvUSSRif8Jppf/Prrn/ggvv8A4zV3TPEFnq07Q2sOoxsq7ibrTLi2XHs0sagn2BzVL/hHNU/6HPXP+/Nj/wDI1XdM0q8sJ2kutf1HU1ZcCK6jt1VT6jyokOfqce1AB4i1238N6HNqd4CY42RMAHlmYKM4BIGSMnB4qtZ+IJZfEFxol9aR29+lqLuAJOXjmjJ2k7ioIIbgjHcHmmeMrfW7rQ0j8Ouyym4jNwsUgjleDd+8WNiQFcjocj6jrXP/ANh6rZePrbWtJ0Ro7b+zms3Es8bShvNRyz5c7gVDAHcTnrgULV6+f5f5je39d/8AIt6L421jWZpI4/DOfsmqNp168N8GWHb1kXci71HGeh5GM84S9+IXkaVeavbadHLpdpf/AGBrh7koxfeIy+wIfkDkDOc4ycdMyeBLTU9MfXV1bSbixS71S4vYpZZYWUo5GAdkjEHg9se9cxaw3F1b3MieGdY1LQrnUX1BRZXNqILn95uR1jcrLg4VtuQCRnkHlq2l+yv+F/1B9bd3+v8AwDqtS8Waxo9/otrfaHbudVne2BgviWjkAdlO0x4KlVBJ3ZGTwcc2bfxRfXHiS80AaVEL+1ijuC32smExPkA79mQ2QRt2++aydauLrxJfeEdZ0DS7q+sba6N3LKrxRlVMbpt2u6ncCeRj8asWVvq1v8TNY1aTRLv7FcWMMEUolg+dozITx5mQDuAGR9cUevn+Qn5eX5/5EGseK4dU+F19rU2g22oQW5lW9067nwv7pyr7W2Nu+ZcjIGfatDV/Fd1ot/oFtBo8c9tq7CCJkutrxSeWWA2bMbcD724Y54455iPQ/EH/AAqbX9COgXYv72a7MMZnt8ETSOyknzcDAIz354zWtrdprN3feEJ7fQLx10y48+6HnW4KDynjxzLyckHjjHfPFC3+7/gg/wDP/gHQaX4gkvPEWoaJe2iW13ZRRT5imMqSRyZAIJVSCCpGMenNc/4yx4w1XT/DWlfvltb+K61O4TlLZIzuEZbp5jHHy9QOTVvTbTVI/ilqupzaRcxWF1ZQW8dy0sJG6NpCSVEhbB3DHH1Aqp4y/wCKP1XT/Euk/uVur+K11O2XhLlJDtEhXp5inHzdSODSW8f61voD2l/XTX9Tu64/4leBLfx34Xe1G2LUbfMtjcdDHJ6E/wB09D+B7V2FZ+t61a6Dpb3t5uYAhI4kGXmkPCoo7sTxSlqhxdmcR8JPHdxr9hP4f8R7ofEWkfuriOThpVBxv+vY/ge9ej1y/hfwybXUbzxHrMEC67qYHneWoxbxgfLED3wAMt3PsAK6irk7779SVZbbBXIfD6T7Zba7qshy95rFzlj/AHIj5Sj8BHXX1yHw9jNlba5pb8SWWsXPH+zI3mqfxD1K3fp+qG9l6/oy7pfixdS8RT6W1mYhHZJerL5mcRsxCh12jaxA3AZPHXFT6B4ntda8OWmsS7bGC8kKQCeUDf8AOVTBOOWwCB15xXE65dXehWPjTVrK3/tCXVpkt7O7tp42VW2LCsRG7duWQtwAev1xsN9q8Oaj4X0C1uY0soLcedG0YYeXGmwsSQTuMjxBcEd+tOOq+7/N/crBLR/f+FvzZ3NFBGRg8isn/hFPDx66Dpn/AIBx/wCFIDWqnq98dM0W7vVXe0ELOq/3mA4H4nAptlomlabMZdO0yztJCu0vBbqjEemQOlZ/iv7TPa2VlYqrzXF5G21zgMkZ81gT2zsC5/2hQCOY8Yy6hp2gtosmnCLTtTkjtL3XHnQspm2qzmPqSS20dhx2GK7eC+023mj0xL+3+0RqI1gadTIcL6ZznHNYOv6TfeMGsbC5spdP0yG5jurozyRl59h3LGoRm43AEkkdMDOcjmm+1f8ACp5uv9p/26cdd3nf2hx75xj8Ka7Pv/kv8wf9fj/kj1GiispvC3h9mLNoWmFickmzj5/SkBq0VQs9C0nTp/P0/S7K1lxt8yC3RGx6ZAq/QB4x8RtEvvh94vi+I3hWEtbuwTWLROFdSeXx79z2bB7mvV9C1ux8RaHa6rpUwmtbpA6MOo9QfQg8EeorF8UXkus3D+E9I2NPcxf6fcModbOBuDkHguwyFU/U8Dnd0bR7HQNHttM0qBYLS2QJGi/zPqT1Joj8Nvu/X+vUJayv16/oXaCcDJ6UUyVnSF2iTzHCkqmcbj2Ge1J7AczceMZob7TIY9LEkers6WL/AGjDPtXduddvyqVBOQWOMcZOBp6Trv2zw4mravavoq/MZY71tnlAMRklsYBxkZA4Nc8Ydf1Hxdo+u6j4flt4rKxmQ2qXcMjJcSFMnO4ArtBGeuc8DvZ8V6jq1jbaRGlxbwz3dykcqCMMhAO+QncD8ixo/IwSccjpVdv66gdTc3VvZ25uLueKCFcZklcKoycDk8dSBVDXZ3ENrZRO0b39wsG5DghcFnwex2qwz2JrL8UX1/Bc6QLC6RUvr6CCOAxKwkUkvIW3DPEaHGMYPXPFTanJdv4vsjaW/wBqisLdpJ4VID5lO1GUsQMgI+QSOG/Ar/P8tQ/y/wCAYF3cXl/400HQdS0pdDsLeV72zaO4ST7W0IIEYC/cADBjnr09a7w3VuLxbQzxC5ZDIsJcbygIBYL1wCQM+9c4mi3eseNrTX9Uga0g0uGSKxtndWdnk4eRtpIHAAABPUk46U7RbzUZvGmq2l3cJcQWdrBuIjUeXM5diikAHaFCfeyeQaa2S9f6/IHu36f1+JW1+Q2PxM8LXKHH21Lqxl/2hsEq/kYz+ZrZ1Hwr4e1e7N1q2g6ZfXBUKZrmzjkfA6DLAnFY+vxm++Jfha3QZ+xJdX0p/ujYI1/MyH8q66l9lfP8/wDO4Pf+v62sMiijt4UhgjWKKNQqIigKoHAAA6CotQkaLTLqSM7XSF2UjsQDViub1rwZ4XubS/u7jw3pEty8ckjTPYxM7NgncWK5Jz3qKjfKyoW5kaugzyXPhzTZ53Lyy2kTux6sxQEmr9cl4Y8GeF00HSLtfDekLdC2hlE4sIg4faDu3bc5zzmul1Ca5t9OnmsbU3lyiExW4cJ5jdhuPA+tbVNJMyp6xRxuuTR+HfixompeYqQ67C2m3ClsZkX54mx36sufcV3VcPrngy/1fwbffap0n8STBLiKdflSGWNt8ccefuoCMe+ST1rsNPluZ9Ntpb63NtcvErTQlg3lvjlcgkHB9DUr4bdv11/O/wCBb3v3/T/gWOD+LPgObxNpcOs6BmHxFpJ821lj4aQA52Z9e49/qa0fhl49h8deGRNNiLVLQiK+t+hV/wC8B6HH4HI7VueIteXRLOMQwm61C6fyrK0U4aaT+ijqW7Cq3hLwrD4ctrmeQRSapqMpuL+5jjCCSQ84UdlGcAfieSaUdE10/X+twlrbv+n9bHQUUUUAYGrSy3WrtbQWv20WNsLk2pcIJpGYiMEnjjY5574PYVgaFdarrHifxDqT2kFlrdhAlhDpk9xujRT+8WR5EBzuz2HG0jvWvp11fpqur36afJfW9xPsgNuyK6iIeWVbey8bgxBHqendug6Ld6NJrOuXsQn1XV51keCJsrGqgJHHux2HJbHc0L9Pz/4F0N9v60/4IzwrpfiSy1GafxBFpS+dGTNPaXEkstxJkbc7412qo3YUcDPStTxboh8SeENU0dZBG95bPEjnorEcE+2cVH4U1Aarp93eCOWMvezxsr3DTLmNzGTGSBhPk6ADnPHepPFmtnw34R1PWFj81rO2eVEPRmA4B9s4pTty69gjfm07lTwZrYvtHh06+jNprFhCkV5ZScMhUbd4/vIcZDDg10dc34M0QWOjw6lfObvWNQhSW8vJOWcsN2wf3UXOAo4FdJVyvza7kRtbTYKKKKkoKKKKACiiigAooooAKKKKACiiigAooooAKKKKAIntYZLuK5dMzRKyI2TwGxnjp/CKloooAKKKKACiiigAooooAKKKKACiiigArJHhrTEjaOFLmCJjnyYLyaOMewRXCgewGK1qKAM5ri20lINPsLJ5GWP93a2qqvlxjjPJCqPx57ZxUmj6tb63pcd/ZhxFIWXa4AZWVirA4JHBBHBI9K5TVbzTL3+3TfapdWUscwiiWzuGhnmVI8BUx8z5dpB8vceorf8ACFrdWXg3SbbUYEt7qK0jWaKMABW28jjjPr701qr+n4g9HY2aKKKQBXB/F/8A5FCy/wCwvZ/+jRXeVxXxYs7i58CtNawvObG7t7ySOMZYpHIC2B7DJ/Cl1T81+aDdNLs/yOzlkEUTyMGIRSxCKWJx6Ack+wryOLxxc3PiuXV9c8D+MZxas0emQQ6OxjhU8GU7mBMjdOnyjgdTXq9je22pWMN7YzJPbToJI5EOQynoRQbhhfrbfZpihjLm4G3ywQQNp5zk5z0xgHmnZqQXTRw3/C1/+pB8cf8Agm/+zqrqHxb1CO3Y6X8OfF1xNj5VudOaJc/Vdx/SvSqo6xq0GiaVPqF2kzwwI0jiGMu2FBJPHTgHk4FJ7DWrsjB+Hz63qGiy634qt2tNS1GQn7I0ZT7NCpISPB5/vNzz81a7aS8PiQarYsim4jEN5GxIEirko4/2hkj3B9hWha3CXdnDcxhgk0ayKG6gEZ5qWqe5K1Rk2fhfR7CZJLSz2eXK0yR+Y5jSRiSzqhO0NyeQM8mr81la3FxFcT20Ms0OfKkeMFo89dpPI6DpU9FIYUUUUAFRPawyXcVy6ZmiVkRsngNjPHT+EVLRQAVV/svT/t3237Dbfas58/yV35xjO7GenFWqKACiiigArm/HPiO+8N+Hnn0fSb7Vb+U+XBFaWrzbD/fYKOAPQkZ6V0lFJq407M8r8P8AjqHQNNMCeBfHVxcTOZbq6k0b57iU9Xb5/wAAOgAAHStT/ha//Ug+OP8AwTf/AGddzb3DTvOGtpoBFIUVpduJRgHcuCeOcc4PB4qeq3EeTal8RvF+vXlvo/hrwTrekreSrFJqeo2br9nQnDMBjaCBk5Lfga9UtbaOzs4baAbY4UEaD0AGBVHVtetdGltI7qO4Y3dxHbo0cRKhnbaMt0HP4+1adC2B7hUF1ZWt6qC8tobgRtvQSxh9reoz0PPWp6KQGHF4fuZNeh1LVdTN6to8r2cIgEfleZxyQfm2rlQcDqc57a8dtDFcyzomJZtokbJOcdP5n86loo6WArajBdXOnTQ6fefYbl1xHceUJPLPrtPBqroujDSftksk32i7vrg3FxNs2hm2hQAuTgBVAAyeladFAGXpuktb6leapeskl7d4TKfdiiXOxFz9SSe5Y9sVqUUUAFFFFABRRRQAVW1K9Gm6bcXjQXFwIUL+TbRGSR/ZVHJJqzRSewHkGieObmLVbnW9e8DeM7jVJ8xxiLRyY7SHPEceWB56s2ASfYCt/wD4Wv8A9SD44/8ABN/9nXdC4Y35tvs02wRiT7RhfLJzjb1zu79MY71NT6B1PLtX+LmtJbN/YPw38UzzkfKb3T3iUH1O0MT9OK7PwZbajD4Zt7jXjnVb3/Sbwbdux2H3Mdgq7Vx/s1oaxq0GiaVPqF2kzwwI0jiGMu2FBJPHTgHk4FWbW4S7s4bmMMEmjWRQ3UAjPNNbMH0C2tobO3WC2TZGuSBknqcnk+5NUtZu9TtY4hpOmfbmk3q7eesfknadpIb7wLYBxyBzz0rSoqWrqwLQy/DWkHQfDNhpryCWS3hAlkA++55dvxYk1i/FX/klPiH/AK82/mK66uL+LFyg+Hl/pyZkvdUAs7O3Tl5pGI4A9hkn0ApVLyT8yoaSR02if8gDT/8Ar1j/APQRV6q+nW7Wml2tvIQXhhRGI9QoFWK0m7ybMoaRSCiiipLCiiigAooooAKKKKACiiigAooooAKKKKACiiigAooooAKKKKACiiigAooooAKKKKACiiigAooooAgsrSOxtRBEWZdzOSx5JZixJ/Emp6KKACiiigAo69aKKAM/S9B03RHuTpNqtqty/mSRxswj3eoTO1c99oGe9c1pGm3MXjHxFKLO5VZ0WCJ3d4lkULv3mQDks8pUEZKhO3ArtaKAOT/sPVP+fL/y6L7/AOIqTXoLi3+HOqWr2s73M1nPEkMEs18zMyNgbiu859xgdK6iik1dNDi+WSfYz9Ak8zw/Y/u5Y2SBEZJomjYEKAQVYA1oUUVUnd3JirKwUUUUhhRRRQAUUUUAFFFFABRRRQAVXvoYrixljuWZYSMyYOMqOSD7EDB9qsVn6roWna2YDqduZjAWMZEjJjcu1h8pGQQSCDxik9ho5rwnYz3Pw9t5baHJv55b2OEXkloI45JGdVDRgkAKV4AxVn+w9U/58v8Ay6L7/wCIrqo40iiWOJVREAVVUYCgdAKdVO19Ba9TkvGhkFlosSWt3M8Wp2ssgt4JbjYivliWVT09Tya6xHEkauu4BhkblIP4g8ilopdLed/y/wAhW1v/AF/WoUUUUDCiiigAooooAKKKKACiiigAooooAKCMqRnGe4oqrqWm2mr2D2WoRedbyFSybivIII5BBHIBoA5bw3Yo2ueKZbFG8lWjsIx5zR+a8ce53LrzuLSkF+T8tT/2Hqn/AD5f+XRff/EV0ljYWumWgtrGIRRBi2MkksTksSeSSSSSeTVigDl9eguLf4c6pavazvczWc8SQwSzXzMzI2BuK7zn3GB0rY0CTzPD9j+7ljZIERkmiaNgQoBBVgDWhRR38/6/UO3lf8bf5BRRRQAVnroOmjXW1k2qvqDJ5YnkZnKLjogJIQHvtAz3rQooAKKKKACiiigAooooAKKKKACiiigAooooAKKKKACiiigAooooAKKKKACiiigAooooAKKKKACiiigAooooAKKKKACiiigAooooAKKKKACiiigAooooAKKKKACiiigAooooAKKKKACiiigAooooAKKKKACiiigAooooAKKKKACiiigAooooAKKKKACiiigAooooAKKKKACiiigAooooAKKKKACiiigAooooAKKKKACiiigAooooAKKKKACiiigAooooAKKKKACiiigAooooAKKKKACiiigAooooAKKKKACiiigAooooAKKKKACiiigAooooAKKKKACiiigAooooAKKKKACiiigAooooAKKKKACiiigAooooAKKKKACiiigAooooAKKKKACiiigAooooAKKKKACiiigAooooAKKKKACiiigAooooAKKKKACiiigAooooAKKKKACiiigAooooAKKKKACiiigAooooA//Z)"
      ],
      "metadata": {
        "id": "MUdMeNJEgjaS"
      }
    },
    {
      "cell_type": "code",
      "source": [
        "from sklearn.linear_model import Ridge"
      ],
      "metadata": {
        "id": "L7FPCI5CV0Qr"
      },
      "execution_count": 29,
      "outputs": []
    },
    {
      "cell_type": "code",
      "source": [
        "modelo_Ridge= Pipeline([ ('scaler', StandardScaler()),\n",
        "                    ('features', PolynomialFeatures(degree=5)),\n",
        "                     ('model',Ridge(alpha=1e-07))\n",
        "])"
      ],
      "metadata": {
        "id": "1ipMSauLV3yn"
      },
      "execution_count": 30,
      "outputs": []
    },
    {
      "cell_type": "code",
      "source": [
        "modelo_Ridge.fit(x_train,y_train)"
      ],
      "metadata": {
        "colab": {
          "base_uri": "https://localhost:8080/"
        },
        "id": "StPlY7E3V8ln",
        "outputId": "53b495df-ead5-400a-b7c1-34a0581a56d0"
      },
      "execution_count": 31,
      "outputs": [
        {
          "output_type": "stream",
          "name": "stderr",
          "text": [
            "/usr/local/lib/python3.7/dist-packages/sklearn/linear_model/_ridge.py:157: LinAlgWarning: Ill-conditioned matrix (rcond=8.39883e-17): result may not be accurate.\n",
            "  return linalg.solve(A, Xy, sym_pos=True, overwrite_a=True).T\n"
          ]
        },
        {
          "output_type": "execute_result",
          "data": {
            "text/plain": [
              "Pipeline(steps=[('scaler', StandardScaler()),\n",
              "                ('features', PolynomialFeatures(degree=5)),\n",
              "                ('model', Ridge(alpha=1e-07))])"
            ]
          },
          "metadata": {},
          "execution_count": 31
        }
      ]
    },
    {
      "cell_type": "code",
      "source": [
        "y_pred_Ridge_train = modelo_Ridge.predict(x_train)\n",
        "print('Precisión del modelo usando el (MSE):')\n",
        "score_train = mse(y_train,y_pred_Ridge_train)\n",
        "\n",
        "print (score_train)"
      ],
      "metadata": {
        "colab": {
          "base_uri": "https://localhost:8080/"
        },
        "id": "p0_pAJWRV-3C",
        "outputId": "955a5447-ba22-4f01-f1a5-9cb38d943ba8"
      },
      "execution_count": 32,
      "outputs": [
        {
          "output_type": "stream",
          "name": "stdout",
          "text": [
            "Precisión del modelo usando el (MSE):\n",
            "0.2851232560221037\n"
          ]
        }
      ]
    },
    {
      "cell_type": "code",
      "source": [
        "y_pred_Ridge_test = modelo_Ridge.predict(x_test)\n",
        "print('Precisión del modelo usando el (MSE):')\n",
        "score_train = mse(y_test,y_pred_Ridge_test)\n",
        "\n",
        "print (score_train)"
      ],
      "metadata": {
        "colab": {
          "base_uri": "https://localhost:8080/"
        },
        "id": "vIZJAEjAWiPI",
        "outputId": "1ee17acc-1e69-4c30-89e0-66ff12784cf8"
      },
      "execution_count": 33,
      "outputs": [
        {
          "output_type": "stream",
          "name": "stdout",
          "text": [
            "Precisión del modelo usando el (MSE):\n",
            "3.977434579328673\n"
          ]
        }
      ]
    },
    {
      "cell_type": "code",
      "source": [
        "print(modelo_Ridge['model'].coef_)"
      ],
      "metadata": {
        "colab": {
          "base_uri": "https://localhost:8080/"
        },
        "id": "vausJbGfW0SI",
        "outputId": "591724f4-af74-46ce-ef74-f5a84c6f5adf"
      },
      "execution_count": 34,
      "outputs": [
        {
          "output_type": "stream",
          "name": "stdout",
          "text": [
            "[ 0.00000000e+00  3.18914247e+00  3.74226850e-01 ... -6.81201980e+02\n",
            " -1.97618113e+02 -3.70937478e+01]\n"
          ]
        }
      ]
    },
    {
      "cell_type": "code",
      "source": [
        "y_test = y_test.to_numpy()"
      ],
      "metadata": {
        "id": "U47hY9QfYvrc"
      },
      "execution_count": 67,
      "outputs": []
    },
    {
      "cell_type": "code",
      "source": [
        "y_test"
      ],
      "metadata": {
        "id": "VwppqJvNYyaL",
        "outputId": "6d4fd075-1253-4d05-8694-74eb624552e6",
        "colab": {
          "base_uri": "https://localhost:8080/"
        }
      },
      "execution_count": 68,
      "outputs": [
        {
          "output_type": "execute_result",
          "data": {
            "text/plain": [
              "array([28. , 30.6, 20.1, ..., 23. , 14.8, 22.1])"
            ]
          },
          "metadata": {},
          "execution_count": 68
        }
      ]
    },
    {
      "cell_type": "code",
      "source": [
        "from matplotlib import pyplot\n",
        "from matplotlib.pyplot import figure\n",
        "import matplotlib.pyplot as plt\n",
        "\n",
        "pyplot.style.use('ggplot')\n",
        "\n",
        "figure(figsize=(8, 6), dpi=80)\n",
        "\n",
        "\n",
        "pyplot.plot(y_pred_lasso_test[:50])\n",
        "pyplot.plot(y_test[:50])\n",
        "plt.legend(['Estimado','Real'])\n",
        "plt.xlabel('Eje de las x')\n",
        "plt.ylabel('Eje de las y')\n",
        "plt.show()"
      ],
      "metadata": {
        "id": "e79fca2uUzP6",
        "outputId": "03f7c545-7e44-4916-acce-25610ac7c961",
        "colab": {
          "base_uri": "https://localhost:8080/",
          "height": 433
        }
      },
      "execution_count": 70,
      "outputs": [
        {
          "output_type": "display_data",
          "data": {
            "image/png": "[encoded data removed]",
            "text/plain": [
              "<Figure size 640x480 with 1 Axes>"
            ]
          },
          "metadata": {}
        }
      ]
    }
  ]
}