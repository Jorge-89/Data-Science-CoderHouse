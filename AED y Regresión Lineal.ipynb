{
  "nbformat": 4,
  "nbformat_minor": 0,
  "metadata": {
    "colab": {
      "name": "Untitled42.ipynb",
      "provenance": [],
      "toc_visible": true,
      "authorship_tag": "ABX9TyPOB+HLIO1tLMO74GmICJ0P",
      "include_colab_link": true
    },
    "kernelspec": {
      "name": "python3",
      "display_name": "Python 3"
    },
    "language_info": {
      "name": "python"
    }
  },
  "cells": [
    {
      "cell_type": "markdown",
      "metadata": {
        "id": "view-in-github",
        "colab_type": "text"
      },
      "source": [
        "<a href=\"https://colab.research.google.com/github/Jorge-89/Data-Science-CoderHouse/blob/main/AED%20y%20Regresi%C3%B3n%20Lineal.ipynb\" target=\"_parent\"><img src=\"https://colab.research.google.com/assets/colab-badge.svg\" alt=\"Open In Colab\"/></a>"
      ]
    },
    {
      "cell_type": "markdown",
      "source": [
        "# Análisis Exploratorio de Datos"
      ],
      "metadata": {
        "id": "GnmWuxMRK9Lc"
      }
    },
    {
      "cell_type": "markdown",
      "source": [
        "Uno de los primeros pasos a la hora de realizar un proyecto que involucre el análisis de datos es explorar y visualizar los datos. El objetivo principal es obtener información sobre el contenido de los datos, ayudar a enmarcar las preguntas que haremos y detectar posibles vías para avanzar en las respuestas a estas preguntas."
      ],
      "metadata": {
        "id": "qv8F0CviLJlJ"
      }
    },
    {
      "cell_type": "code",
      "source": [
        "#se importan las librerias necesarias\n",
        "import pandas as pd\n",
        "import numpy as np\n",
        "import sklearn as sk\n",
        "import seaborn as sns\n",
        "import matplotlib.pyplot as plt"
      ],
      "metadata": {
        "id": "Tt6VawRRLQ1L"
      },
      "execution_count": 1,
      "outputs": []
    },
    {
      "cell_type": "code",
      "source": [
        "#se importa el set de datos\n",
        "url = 'https://raw.githubusercontent.com/Jorge-89/Data-Science-CoderHouse/main/base_datos_estaciones_met_V3.csv'\n",
        "df = pd.read_csv(url, sep=\";\")"
      ],
      "metadata": {
        "id": "pwcWtsGpLoa7"
      },
      "execution_count": 2,
      "outputs": []
    },
    {
      "cell_type": "code",
      "source": [
        "#se visualiza las primeras 5 filas\n",
        "df.head()"
      ],
      "metadata": {
        "colab": {
          "base_uri": "https://localhost:8080/",
          "height": 340
        },
        "id": "1oa_Na_fMmAq",
        "outputId": "6dd1b9b5-f396-4cce-ac13-3f967db924a4"
      },
      "execution_count": 3,
      "outputs": [
        {
          "output_type": "execute_result",
          "data": {
            "text/html": [
              "\n",
              "  <div id=\"df-9eb2dec0-ccfb-49fa-8433-2b74acc3a618\">\n",
              "    <div class=\"colab-df-container\">\n",
              "      <div>\n",
              "<style scoped>\n",
              "    .dataframe tbody tr th:only-of-type {\n",
              "        vertical-align: middle;\n",
              "    }\n",
              "\n",
              "    .dataframe tbody tr th {\n",
              "        vertical-align: top;\n",
              "    }\n",
              "\n",
              "    .dataframe thead th {\n",
              "        text-align: right;\n",
              "    }\n",
              "</style>\n",
              "<table border=\"1\" class=\"dataframe\">\n",
              "  <thead>\n",
              "    <tr style=\"text-align: right;\">\n",
              "      <th></th>\n",
              "      <th>fecha_completa</th>\n",
              "      <th>Fecha</th>\n",
              "      <th>Hora</th>\n",
              "      <th>Temp_Alicia AgriculturaCba</th>\n",
              "      <th>Humedad_Alicia AgriculturaCba</th>\n",
              "      <th>PP_Alicia AgriculturaCba</th>\n",
              "      <th>Temp_Las Varas AgriculturaCba</th>\n",
              "      <th>Humedad_Las Varas AgriculturaCba</th>\n",
              "      <th>PP_Las Varas AgriculturaCba</th>\n",
              "      <th>Temp_San Miguel - Establecimiento Don Luis</th>\n",
              "      <th>Humedad_San Miguel - Establecimiento Don Luis</th>\n",
              "      <th>PP_San Miguel - Establecimiento Don Luis</th>\n",
              "      <th>Temp_San Miguel - Listello</th>\n",
              "      <th>Humedad_San Miguel - Listello</th>\n",
              "      <th>PP_San Miguel - Listello</th>\n",
              "      <th>Temp_ San Miguel - Las Varillas</th>\n",
              "      <th>Humedad_ San Miguel - Las Varillas</th>\n",
              "      <th>PP_ San Miguel - Las Varillas</th>\n",
              "    </tr>\n",
              "  </thead>\n",
              "  <tbody>\n",
              "    <tr>\n",
              "      <th>0</th>\n",
              "      <td>1/1/2021 0:00</td>\n",
              "      <td>1/1/2021</td>\n",
              "      <td>0:00</td>\n",
              "      <td>16.8</td>\n",
              "      <td>77.8</td>\n",
              "      <td>0.0</td>\n",
              "      <td>17.0</td>\n",
              "      <td>77.8</td>\n",
              "      <td>0.0</td>\n",
              "      <td>15.6</td>\n",
              "      <td>83.3</td>\n",
              "      <td>0.0</td>\n",
              "      <td>15.6</td>\n",
              "      <td>85.4</td>\n",
              "      <td>0.0</td>\n",
              "      <td>15.3</td>\n",
              "      <td>87.2</td>\n",
              "      <td>0.0</td>\n",
              "    </tr>\n",
              "    <tr>\n",
              "      <th>1</th>\n",
              "      <td>1/1/2021 0:10</td>\n",
              "      <td>1/1/2021</td>\n",
              "      <td>0:10</td>\n",
              "      <td>16.7</td>\n",
              "      <td>80.0</td>\n",
              "      <td>0.0</td>\n",
              "      <td>16.8</td>\n",
              "      <td>80.4</td>\n",
              "      <td>0.0</td>\n",
              "      <td>15.7</td>\n",
              "      <td>84.6</td>\n",
              "      <td>0.0</td>\n",
              "      <td>15.5</td>\n",
              "      <td>86.6</td>\n",
              "      <td>0.0</td>\n",
              "      <td>15.2</td>\n",
              "      <td>86.7</td>\n",
              "      <td>0.0</td>\n",
              "    </tr>\n",
              "    <tr>\n",
              "      <th>2</th>\n",
              "      <td>1/1/2021 0:20</td>\n",
              "      <td>1/1/2021</td>\n",
              "      <td>0:20</td>\n",
              "      <td>16.5</td>\n",
              "      <td>81.7</td>\n",
              "      <td>0.0</td>\n",
              "      <td>16.5</td>\n",
              "      <td>81.8</td>\n",
              "      <td>0.0</td>\n",
              "      <td>15.7</td>\n",
              "      <td>84.4</td>\n",
              "      <td>0.0</td>\n",
              "      <td>15.2</td>\n",
              "      <td>87.4</td>\n",
              "      <td>0.0</td>\n",
              "      <td>15.1</td>\n",
              "      <td>86.9</td>\n",
              "      <td>0.0</td>\n",
              "    </tr>\n",
              "    <tr>\n",
              "      <th>3</th>\n",
              "      <td>1/1/2021 0:30</td>\n",
              "      <td>1/1/2021</td>\n",
              "      <td>0:30</td>\n",
              "      <td>16.2</td>\n",
              "      <td>83.0</td>\n",
              "      <td>0.0</td>\n",
              "      <td>16.4</td>\n",
              "      <td>80.7</td>\n",
              "      <td>0.0</td>\n",
              "      <td>15.5</td>\n",
              "      <td>84.4</td>\n",
              "      <td>0.0</td>\n",
              "      <td>15.0</td>\n",
              "      <td>88.5</td>\n",
              "      <td>0.0</td>\n",
              "      <td>15.0</td>\n",
              "      <td>87.5</td>\n",
              "      <td>0.0</td>\n",
              "    </tr>\n",
              "    <tr>\n",
              "      <th>4</th>\n",
              "      <td>1/1/2021 0:40</td>\n",
              "      <td>1/1/2021</td>\n",
              "      <td>0:40</td>\n",
              "      <td>16.1</td>\n",
              "      <td>82.9</td>\n",
              "      <td>0.0</td>\n",
              "      <td>16.3</td>\n",
              "      <td>81.3</td>\n",
              "      <td>0.0</td>\n",
              "      <td>15.2</td>\n",
              "      <td>85.3</td>\n",
              "      <td>0.0</td>\n",
              "      <td>14.9</td>\n",
              "      <td>87.9</td>\n",
              "      <td>0.0</td>\n",
              "      <td>14.8</td>\n",
              "      <td>87.9</td>\n",
              "      <td>0.0</td>\n",
              "    </tr>\n",
              "  </tbody>\n",
              "</table>\n",
              "</div>\n",
              "      <button class=\"colab-df-convert\" onclick=\"convertToInteractive('df-9eb2dec0-ccfb-49fa-8433-2b74acc3a618')\"\n",
              "              title=\"Convert this dataframe to an interactive table.\"\n",
              "              style=\"display:none;\">\n",
              "        \n",
              "  <svg xmlns=\"http://www.w3.org/2000/svg\" height=\"24px\"viewBox=\"0 0 24 24\"\n",
              "       width=\"24px\">\n",
              "    <path d=\"M0 0h24v24H0V0z\" fill=\"none\"/>\n",
              "    <path d=\"M18.56 5.44l.94 2.06.94-2.06 2.06-.94-2.06-.94-.94-2.06-.94 2.06-2.06.94zm-11 1L8.5 8.5l.94-2.06 2.06-.94-2.06-.94L8.5 2.5l-.94 2.06-2.06.94zm10 10l.94 2.06.94-2.06 2.06-.94-2.06-.94-.94-2.06-.94 2.06-2.06.94z\"/><path d=\"M17.41 7.96l-1.37-1.37c-.4-.4-.92-.59-1.43-.59-.52 0-1.04.2-1.43.59L10.3 9.45l-7.72 7.72c-.78.78-.78 2.05 0 2.83L4 21.41c.39.39.9.59 1.41.59.51 0 1.02-.2 1.41-.59l7.78-7.78 2.81-2.81c.8-.78.8-2.07 0-2.86zM5.41 20L4 18.59l7.72-7.72 1.47 1.35L5.41 20z\"/>\n",
              "  </svg>\n",
              "      </button>\n",
              "      \n",
              "  <style>\n",
              "    .colab-df-container {\n",
              "      display:flex;\n",
              "      flex-wrap:wrap;\n",
              "      gap: 12px;\n",
              "    }\n",
              "\n",
              "    .colab-df-convert {\n",
              "      background-color: #E8F0FE;\n",
              "      border: none;\n",
              "      border-radius: 50%;\n",
              "      cursor: pointer;\n",
              "      display: none;\n",
              "      fill: #1967D2;\n",
              "      height: 32px;\n",
              "      padding: 0 0 0 0;\n",
              "      width: 32px;\n",
              "    }\n",
              "\n",
              "    .colab-df-convert:hover {\n",
              "      background-color: #E2EBFA;\n",
              "      box-shadow: 0px 1px 2px rgba(60, 64, 67, 0.3), 0px 1px 3px 1px rgba(60, 64, 67, 0.15);\n",
              "      fill: #174EA6;\n",
              "    }\n",
              "\n",
              "    [theme=dark] .colab-df-convert {\n",
              "      background-color: #3B4455;\n",
              "      fill: #D2E3FC;\n",
              "    }\n",
              "\n",
              "    [theme=dark] .colab-df-convert:hover {\n",
              "      background-color: #434B5C;\n",
              "      box-shadow: 0px 1px 3px 1px rgba(0, 0, 0, 0.15);\n",
              "      filter: drop-shadow(0px 1px 2px rgba(0, 0, 0, 0.3));\n",
              "      fill: #FFFFFF;\n",
              "    }\n",
              "  </style>\n",
              "\n",
              "      <script>\n",
              "        const buttonEl =\n",
              "          document.querySelector('#df-9eb2dec0-ccfb-49fa-8433-2b74acc3a618 button.colab-df-convert');\n",
              "        buttonEl.style.display =\n",
              "          google.colab.kernel.accessAllowed ? 'block' : 'none';\n",
              "\n",
              "        async function convertToInteractive(key) {\n",
              "          const element = document.querySelector('#df-9eb2dec0-ccfb-49fa-8433-2b74acc3a618');\n",
              "          const dataTable =\n",
              "            await google.colab.kernel.invokeFunction('convertToInteractive',\n",
              "                                                     [key], {});\n",
              "          if (!dataTable) return;\n",
              "\n",
              "          const docLinkHtml = 'Like what you see? Visit the ' +\n",
              "            '<a target=\"_blank\" href=https://colab.research.google.com/notebooks/data_table.ipynb>data table notebook</a>'\n",
              "            + ' to learn more about interactive tables.';\n",
              "          element.innerHTML = '';\n",
              "          dataTable['output_type'] = 'display_data';\n",
              "          await google.colab.output.renderOutput(dataTable, element);\n",
              "          const docLink = document.createElement('div');\n",
              "          docLink.innerHTML = docLinkHtml;\n",
              "          element.appendChild(docLink);\n",
              "        }\n",
              "      </script>\n",
              "    </div>\n",
              "  </div>\n",
              "  "
            ],
            "text/plain": [
              "  fecha_completa  ... PP_ San Miguel - Las Varillas\n",
              "0  1/1/2021 0:00  ...                           0.0\n",
              "1  1/1/2021 0:10  ...                           0.0\n",
              "2  1/1/2021 0:20  ...                           0.0\n",
              "3  1/1/2021 0:30  ...                           0.0\n",
              "4  1/1/2021 0:40  ...                           0.0\n",
              "\n",
              "[5 rows x 18 columns]"
            ]
          },
          "metadata": {},
          "execution_count": 3
        }
      ]
    },
    {
      "cell_type": "code",
      "source": [
        "#observamos como cada columna tiene 12960 datos sin  faltantes.\n",
        "df.info()"
      ],
      "metadata": {
        "colab": {
          "base_uri": "https://localhost:8080/"
        },
        "id": "WEbReKM0MjxT",
        "outputId": "ca89d5ac-7d13-412e-9e13-867fb32667fe"
      },
      "execution_count": 4,
      "outputs": [
        {
          "output_type": "stream",
          "name": "stdout",
          "text": [
            "<class 'pandas.core.frame.DataFrame'>\n",
            "RangeIndex: 12960 entries, 0 to 12959\n",
            "Data columns (total 18 columns):\n",
            " #   Column                                         Non-Null Count  Dtype  \n",
            "---  ------                                         --------------  -----  \n",
            " 0   fecha_completa                                 12960 non-null  object \n",
            " 1   Fecha                                          12960 non-null  object \n",
            " 2   Hora                                           12960 non-null  object \n",
            " 3   Temp_Alicia AgriculturaCba                     12960 non-null  float64\n",
            " 4   Humedad_Alicia AgriculturaCba                  12960 non-null  float64\n",
            " 5   PP_Alicia AgriculturaCba                       12960 non-null  float64\n",
            " 6   Temp_Las Varas AgriculturaCba                  12960 non-null  float64\n",
            " 7   Humedad_Las Varas AgriculturaCba               12960 non-null  float64\n",
            " 8   PP_Las Varas AgriculturaCba                    12960 non-null  float64\n",
            " 9   Temp_San Miguel - Establecimiento Don Luis     12960 non-null  float64\n",
            " 10  Humedad_San Miguel - Establecimiento Don Luis  12960 non-null  float64\n",
            " 11  PP_San Miguel - Establecimiento Don Luis       12960 non-null  float64\n",
            " 12  Temp_San Miguel - Listello                     12960 non-null  float64\n",
            " 13  Humedad_San Miguel - Listello                  12960 non-null  float64\n",
            " 14  PP_San Miguel - Listello                       12960 non-null  float64\n",
            " 15  Temp_ San Miguel - Las Varillas                12960 non-null  float64\n",
            " 16  Humedad_ San Miguel - Las Varillas             12960 non-null  float64\n",
            " 17  PP_ San Miguel - Las Varillas                  12960 non-null  float64\n",
            "dtypes: float64(15), object(3)\n",
            "memory usage: 1.8+ MB\n"
          ]
        }
      ]
    },
    {
      "cell_type": "code",
      "source": [
        "df.columns\n",
        "\n",
        "#se muestra una lista con todos los nombres de las columnas"
      ],
      "metadata": {
        "colab": {
          "base_uri": "https://localhost:8080/"
        },
        "id": "dNya7Be3qA39",
        "outputId": "ea62a38c-8cc0-4241-cefc-71b28cdaa9e6"
      },
      "execution_count": 5,
      "outputs": [
        {
          "output_type": "execute_result",
          "data": {
            "text/plain": [
              "Index(['fecha_completa', 'Fecha', 'Hora', 'Temp_Alicia AgriculturaCba',\n",
              "       'Humedad_Alicia AgriculturaCba', 'PP_Alicia AgriculturaCba',\n",
              "       'Temp_Las Varas AgriculturaCba', 'Humedad_Las Varas AgriculturaCba',\n",
              "       'PP_Las Varas AgriculturaCba',\n",
              "       'Temp_San Miguel - Establecimiento Don Luis',\n",
              "       'Humedad_San Miguel - Establecimiento Don Luis',\n",
              "       'PP_San Miguel - Establecimiento Don Luis',\n",
              "       'Temp_San Miguel - Listello', 'Humedad_San Miguel - Listello',\n",
              "       'PP_San Miguel - Listello', 'Temp_ San Miguel - Las Varillas',\n",
              "       'Humedad_ San Miguel - Las Varillas', 'PP_ San Miguel - Las Varillas'],\n",
              "      dtype='object')"
            ]
          },
          "metadata": {},
          "execution_count": 5
        }
      ]
    },
    {
      "cell_type": "code",
      "source": [
        "df.describe()\n",
        "#muestra los estadísticos básicos \n",
        "\n",
        "# Se comprueba que no hay en la base de datos, valores fisicamente imposibles:\n",
        "# Humedad relativa mayor al 100% o menor al 0%\n",
        "# Precipitación negativa\n",
        "# Valores de temperaturas menores a 0° que seria imposible para la epoca analizada o valores máximos que superen los 45°C "
      ],
      "metadata": {
        "colab": {
          "base_uri": "https://localhost:8080/",
          "height": 416
        },
        "id": "SbEzFhSnqGw0",
        "outputId": "6232cc9f-82a7-4b05-fb17-5bfcf7fce869"
      },
      "execution_count": 6,
      "outputs": [
        {
          "output_type": "execute_result",
          "data": {
            "text/html": [
              "\n",
              "  <div id=\"df-4650cf32-a2ff-4abb-beab-f5cc1dd3d8b5\">\n",
              "    <div class=\"colab-df-container\">\n",
              "      <div>\n",
              "<style scoped>\n",
              "    .dataframe tbody tr th:only-of-type {\n",
              "        vertical-align: middle;\n",
              "    }\n",
              "\n",
              "    .dataframe tbody tr th {\n",
              "        vertical-align: top;\n",
              "    }\n",
              "\n",
              "    .dataframe thead th {\n",
              "        text-align: right;\n",
              "    }\n",
              "</style>\n",
              "<table border=\"1\" class=\"dataframe\">\n",
              "  <thead>\n",
              "    <tr style=\"text-align: right;\">\n",
              "      <th></th>\n",
              "      <th>Temp_Alicia AgriculturaCba</th>\n",
              "      <th>Humedad_Alicia AgriculturaCba</th>\n",
              "      <th>PP_Alicia AgriculturaCba</th>\n",
              "      <th>Temp_Las Varas AgriculturaCba</th>\n",
              "      <th>Humedad_Las Varas AgriculturaCba</th>\n",
              "      <th>PP_Las Varas AgriculturaCba</th>\n",
              "      <th>Temp_San Miguel - Establecimiento Don Luis</th>\n",
              "      <th>Humedad_San Miguel - Establecimiento Don Luis</th>\n",
              "      <th>PP_San Miguel - Establecimiento Don Luis</th>\n",
              "      <th>Temp_San Miguel - Listello</th>\n",
              "      <th>Humedad_San Miguel - Listello</th>\n",
              "      <th>PP_San Miguel - Listello</th>\n",
              "      <th>Temp_ San Miguel - Las Varillas</th>\n",
              "      <th>Humedad_ San Miguel - Las Varillas</th>\n",
              "      <th>PP_ San Miguel - Las Varillas</th>\n",
              "    </tr>\n",
              "  </thead>\n",
              "  <tbody>\n",
              "    <tr>\n",
              "      <th>count</th>\n",
              "      <td>12960.000000</td>\n",
              "      <td>12960.000000</td>\n",
              "      <td>12960.00000</td>\n",
              "      <td>12960.000000</td>\n",
              "      <td>12960.000000</td>\n",
              "      <td>12960.000000</td>\n",
              "      <td>12960.000000</td>\n",
              "      <td>12960.000000</td>\n",
              "      <td>12960.000000</td>\n",
              "      <td>12960.000000</td>\n",
              "      <td>12960.000000</td>\n",
              "      <td>12960.000000</td>\n",
              "      <td>12960.000000</td>\n",
              "      <td>12960.000000</td>\n",
              "      <td>12960.000000</td>\n",
              "    </tr>\n",
              "    <tr>\n",
              "      <th>mean</th>\n",
              "      <td>22.227585</td>\n",
              "      <td>72.410764</td>\n",
              "      <td>0.01929</td>\n",
              "      <td>22.179522</td>\n",
              "      <td>72.188804</td>\n",
              "      <td>0.018812</td>\n",
              "      <td>21.288519</td>\n",
              "      <td>74.960463</td>\n",
              "      <td>0.028164</td>\n",
              "      <td>21.464213</td>\n",
              "      <td>74.708287</td>\n",
              "      <td>0.006512</td>\n",
              "      <td>21.711065</td>\n",
              "      <td>73.923634</td>\n",
              "      <td>0.015386</td>\n",
              "    </tr>\n",
              "    <tr>\n",
              "      <th>std</th>\n",
              "      <td>5.827893</td>\n",
              "      <td>21.586566</td>\n",
              "      <td>0.21620</td>\n",
              "      <td>5.814185</td>\n",
              "      <td>20.072673</td>\n",
              "      <td>0.193260</td>\n",
              "      <td>5.932179</td>\n",
              "      <td>20.639414</td>\n",
              "      <td>0.330379</td>\n",
              "      <td>6.130940</td>\n",
              "      <td>21.712248</td>\n",
              "      <td>0.053873</td>\n",
              "      <td>6.148653</td>\n",
              "      <td>21.907371</td>\n",
              "      <td>0.160468</td>\n",
              "    </tr>\n",
              "    <tr>\n",
              "      <th>min</th>\n",
              "      <td>9.300000</td>\n",
              "      <td>13.500000</td>\n",
              "      <td>0.00000</td>\n",
              "      <td>9.600000</td>\n",
              "      <td>14.600000</td>\n",
              "      <td>0.000000</td>\n",
              "      <td>8.700000</td>\n",
              "      <td>12.400000</td>\n",
              "      <td>0.000000</td>\n",
              "      <td>8.600000</td>\n",
              "      <td>12.700000</td>\n",
              "      <td>0.000000</td>\n",
              "      <td>7.900000</td>\n",
              "      <td>13.100000</td>\n",
              "      <td>0.000000</td>\n",
              "    </tr>\n",
              "    <tr>\n",
              "      <th>25%</th>\n",
              "      <td>17.900000</td>\n",
              "      <td>54.300000</td>\n",
              "      <td>0.00000</td>\n",
              "      <td>17.800000</td>\n",
              "      <td>55.800000</td>\n",
              "      <td>0.000000</td>\n",
              "      <td>16.800000</td>\n",
              "      <td>58.800000</td>\n",
              "      <td>0.000000</td>\n",
              "      <td>16.900000</td>\n",
              "      <td>56.375000</td>\n",
              "      <td>0.000000</td>\n",
              "      <td>17.200000</td>\n",
              "      <td>54.600000</td>\n",
              "      <td>0.000000</td>\n",
              "    </tr>\n",
              "    <tr>\n",
              "      <th>50%</th>\n",
              "      <td>21.300000</td>\n",
              "      <td>77.000000</td>\n",
              "      <td>0.00000</td>\n",
              "      <td>21.100000</td>\n",
              "      <td>77.500000</td>\n",
              "      <td>0.000000</td>\n",
              "      <td>20.300000</td>\n",
              "      <td>81.500000</td>\n",
              "      <td>0.000000</td>\n",
              "      <td>20.400000</td>\n",
              "      <td>81.800000</td>\n",
              "      <td>0.000000</td>\n",
              "      <td>20.700000</td>\n",
              "      <td>80.500000</td>\n",
              "      <td>0.000000</td>\n",
              "    </tr>\n",
              "    <tr>\n",
              "      <th>75%</th>\n",
              "      <td>26.600000</td>\n",
              "      <td>91.800000</td>\n",
              "      <td>0.00000</td>\n",
              "      <td>26.700000</td>\n",
              "      <td>89.800000</td>\n",
              "      <td>0.000000</td>\n",
              "      <td>26.000000</td>\n",
              "      <td>92.725000</td>\n",
              "      <td>0.000000</td>\n",
              "      <td>26.000000</td>\n",
              "      <td>94.100000</td>\n",
              "      <td>0.000000</td>\n",
              "      <td>26.500000</td>\n",
              "      <td>93.700000</td>\n",
              "      <td>0.000000</td>\n",
              "    </tr>\n",
              "    <tr>\n",
              "      <th>max</th>\n",
              "      <td>36.800000</td>\n",
              "      <td>100.000000</td>\n",
              "      <td>8.80000</td>\n",
              "      <td>36.500000</td>\n",
              "      <td>100.000000</td>\n",
              "      <td>7.200000</td>\n",
              "      <td>36.200000</td>\n",
              "      <td>100.000000</td>\n",
              "      <td>12.600000</td>\n",
              "      <td>37.300000</td>\n",
              "      <td>100.000000</td>\n",
              "      <td>1.600000</td>\n",
              "      <td>36.900000</td>\n",
              "      <td>100.000000</td>\n",
              "      <td>5.600000</td>\n",
              "    </tr>\n",
              "  </tbody>\n",
              "</table>\n",
              "</div>\n",
              "      <button class=\"colab-df-convert\" onclick=\"convertToInteractive('df-4650cf32-a2ff-4abb-beab-f5cc1dd3d8b5')\"\n",
              "              title=\"Convert this dataframe to an interactive table.\"\n",
              "              style=\"display:none;\">\n",
              "        \n",
              "  <svg xmlns=\"http://www.w3.org/2000/svg\" height=\"24px\"viewBox=\"0 0 24 24\"\n",
              "       width=\"24px\">\n",
              "    <path d=\"M0 0h24v24H0V0z\" fill=\"none\"/>\n",
              "    <path d=\"M18.56 5.44l.94 2.06.94-2.06 2.06-.94-2.06-.94-.94-2.06-.94 2.06-2.06.94zm-11 1L8.5 8.5l.94-2.06 2.06-.94-2.06-.94L8.5 2.5l-.94 2.06-2.06.94zm10 10l.94 2.06.94-2.06 2.06-.94-2.06-.94-.94-2.06-.94 2.06-2.06.94z\"/><path d=\"M17.41 7.96l-1.37-1.37c-.4-.4-.92-.59-1.43-.59-.52 0-1.04.2-1.43.59L10.3 9.45l-7.72 7.72c-.78.78-.78 2.05 0 2.83L4 21.41c.39.39.9.59 1.41.59.51 0 1.02-.2 1.41-.59l7.78-7.78 2.81-2.81c.8-.78.8-2.07 0-2.86zM5.41 20L4 18.59l7.72-7.72 1.47 1.35L5.41 20z\"/>\n",
              "  </svg>\n",
              "      </button>\n",
              "      \n",
              "  <style>\n",
              "    .colab-df-container {\n",
              "      display:flex;\n",
              "      flex-wrap:wrap;\n",
              "      gap: 12px;\n",
              "    }\n",
              "\n",
              "    .colab-df-convert {\n",
              "      background-color: #E8F0FE;\n",
              "      border: none;\n",
              "      border-radius: 50%;\n",
              "      cursor: pointer;\n",
              "      display: none;\n",
              "      fill: #1967D2;\n",
              "      height: 32px;\n",
              "      padding: 0 0 0 0;\n",
              "      width: 32px;\n",
              "    }\n",
              "\n",
              "    .colab-df-convert:hover {\n",
              "      background-color: #E2EBFA;\n",
              "      box-shadow: 0px 1px 2px rgba(60, 64, 67, 0.3), 0px 1px 3px 1px rgba(60, 64, 67, 0.15);\n",
              "      fill: #174EA6;\n",
              "    }\n",
              "\n",
              "    [theme=dark] .colab-df-convert {\n",
              "      background-color: #3B4455;\n",
              "      fill: #D2E3FC;\n",
              "    }\n",
              "\n",
              "    [theme=dark] .colab-df-convert:hover {\n",
              "      background-color: #434B5C;\n",
              "      box-shadow: 0px 1px 3px 1px rgba(0, 0, 0, 0.15);\n",
              "      filter: drop-shadow(0px 1px 2px rgba(0, 0, 0, 0.3));\n",
              "      fill: #FFFFFF;\n",
              "    }\n",
              "  </style>\n",
              "\n",
              "      <script>\n",
              "        const buttonEl =\n",
              "          document.querySelector('#df-4650cf32-a2ff-4abb-beab-f5cc1dd3d8b5 button.colab-df-convert');\n",
              "        buttonEl.style.display =\n",
              "          google.colab.kernel.accessAllowed ? 'block' : 'none';\n",
              "\n",
              "        async function convertToInteractive(key) {\n",
              "          const element = document.querySelector('#df-4650cf32-a2ff-4abb-beab-f5cc1dd3d8b5');\n",
              "          const dataTable =\n",
              "            await google.colab.kernel.invokeFunction('convertToInteractive',\n",
              "                                                     [key], {});\n",
              "          if (!dataTable) return;\n",
              "\n",
              "          const docLinkHtml = 'Like what you see? Visit the ' +\n",
              "            '<a target=\"_blank\" href=https://colab.research.google.com/notebooks/data_table.ipynb>data table notebook</a>'\n",
              "            + ' to learn more about interactive tables.';\n",
              "          element.innerHTML = '';\n",
              "          dataTable['output_type'] = 'display_data';\n",
              "          await google.colab.output.renderOutput(dataTable, element);\n",
              "          const docLink = document.createElement('div');\n",
              "          docLink.innerHTML = docLinkHtml;\n",
              "          element.appendChild(docLink);\n",
              "        }\n",
              "      </script>\n",
              "    </div>\n",
              "  </div>\n",
              "  "
            ],
            "text/plain": [
              "       Temp_Alicia AgriculturaCba  ...  PP_ San Miguel - Las Varillas\n",
              "count                12960.000000  ...                   12960.000000\n",
              "mean                    22.227585  ...                       0.015386\n",
              "std                      5.827893  ...                       0.160468\n",
              "min                      9.300000  ...                       0.000000\n",
              "25%                     17.900000  ...                       0.000000\n",
              "50%                     21.300000  ...                       0.000000\n",
              "75%                     26.600000  ...                       0.000000\n",
              "max                     36.800000  ...                       5.600000\n",
              "\n",
              "[8 rows x 15 columns]"
            ]
          },
          "metadata": {},
          "execution_count": 6
        }
      ]
    },
    {
      "cell_type": "code",
      "source": [
        "variables= df.columns\n",
        "#histograma de las temperaturas en las distintas estaciones\n",
        "for i in range(3,18,3):\n",
        "    plt.hist(df[variables[i]],color='#F2AB6D', rwidth=0.85,)\n",
        "    plt.title('Histograma de temperaturas')\n",
        "    plt.xlabel(variables[i])\n",
        "    plt.ylabel('Frecuencia')\n",
        "    plt.show() #dibujamos el histograma\n",
        "\n",
        "# A simple vista se observa que la temperatura tiene una distribución muy similar a la normal."
      ],
      "metadata": {
        "colab": {
          "base_uri": "https://localhost:8080/",
          "height": 1000
        },
        "id": "k2JB9ZOHqXoy",
        "outputId": "be44dae2-8357-4323-c77a-860106f5f578"
      },
      "execution_count": 7,
      "outputs": [
        {
          "output_type": "display_data",
          "data": {
            "image/png": "[encoded data removed]",
            "text/plain": [
              "<Figure size 432x288 with 1 Axes>"
            ]
          },
          "metadata": {
            "needs_background": "light"
          }
        },
        {
          "output_type": "display_data",
          "data": {
            "image/png": "[encoded data removed]",
            "text/plain": [
              "<Figure size 432x288 with 1 Axes>"
            ]
          },
          "metadata": {
            "needs_background": "light"
          }
        },
        {
          "output_type": "display_data",
          "data": {
            "image/png": "[encoded data removed]",
            "text/plain": [
              "<Figure size 432x288 with 1 Axes>"
            ]
          },
          "metadata": {
            "needs_background": "light"
          }
        },
        {
          "output_type": "display_data",
          "data": {
            "image/png": "[encoded data removed]",
            "text/plain": [
              "<Figure size 432x288 with 1 Axes>"
            ]
          },
          "metadata": {
            "needs_background": "light"
          }
        },
        {
          "output_type": "display_data",
          "data": {
            "image/png": "[encoded data removed]",
            "text/plain": [
              "<Figure size 432x288 with 1 Axes>"
            ]
          },
          "metadata": {
            "needs_background": "light"
          }
        }
      ]
    },
    {
      "cell_type": "code",
      "source": [
        "# Box-Plots, no se aprecia en los datos ningun valor extremo, al menos con este procedimiento en la variable temperatura para las distintas estaciones.\n",
        "\n",
        "ax = sns.boxplot(data=df[[variables[3], variables[6], variables[9],variables[12], variables[15]]], orient=\"h\", palette=\"Set2\")"
      ],
      "metadata": {
        "colab": {
          "base_uri": "https://localhost:8080/",
          "height": 265
        },
        "id": "_s5td4Zuspda",
        "outputId": "847d123c-64f2-47ec-8eb2-d004386a509d"
      },
      "execution_count": 8,
      "outputs": [
        {
          "output_type": "display_data",
          "data": {
            "image/png": "[encoded data removed]",
            "text/plain": [
              "<Figure size 432x288 with 1 Axes>"
            ]
          },
          "metadata": {
            "needs_background": "light"
          }
        }
      ]
    },
    {
      "cell_type": "markdown",
      "source": [
        "# Regresión Lineal"
      ],
      "metadata": {
        "id": "UA-neWFV-VlK"
      }
    },
    {
      "cell_type": "code",
      "source": [
        "# importo librerias necesarias\n",
        "import pandas as pd\n",
        "import numpy as np\n",
        "from sklearn.metrics import mean_squared_error as mse\n",
        "from sklearn.preprocessing  import PolynomialFeatures\n",
        "from sklearn.linear_model import LinearRegression\n",
        "from sklearn.preprocessing import StandardScaler\n",
        "from sklearn.model_selection import train_test_split\n",
        "from sklearn.pipeline import Pipeline\n",
        "from sklearn.preprocessing import StandardScaler\n"
      ],
      "metadata": {
        "id": "VNNlgjaDtCP5"
      },
      "execution_count": 9,
      "outputs": []
    },
    {
      "cell_type": "code",
      "source": [
        "x= df[[ 'Temp_Las Varas AgriculturaCba', 'Humedad_Las Varas AgriculturaCba',\n",
        "        'Temp_San Miguel - Establecimiento Don Luis', 'Humedad_San Miguel - Establecimiento Don Luis',\n",
        "       'Temp_San Miguel - Listello', 'Humedad_San Miguel - Listello',\n",
        "       'Temp_ San Miguel - Las Varillas', 'Humedad_ San Miguel - Las Varillas']]\n",
        "y= df[\"Temp_Alicia AgriculturaCba\"]"
      ],
      "metadata": {
        "id": "UgYJGqxez7qo"
      },
      "execution_count": 10,
      "outputs": []
    },
    {
      "cell_type": "code",
      "source": [
        "#Separo los datos de \"train\" en entrenamiento y prueba \"test\" para probar los algoritmos\n",
        "x_train, x_test, y_train, y_test = train_test_split(x, y, test_size=0.2, random_state=42)"
      ],
      "metadata": {
        "id": "VMUiGNLH0BRV"
      },
      "execution_count": 11,
      "outputs": []
    },
    {
      "cell_type": "code",
      "source": [
        "#Defino el algoritmo a utilizar\n",
        "lr = LinearRegression()\n",
        "\n",
        "\n",
        "#Entreno el modelo\n",
        "lr.fit(x_train, y_train)\n",
        "\n",
        "\n"
      ],
      "metadata": {
        "colab": {
          "base_uri": "https://localhost:8080/"
        },
        "id": "SdFH7ta0zHKE",
        "outputId": "6f5ded75-87e3-49cb-d899-4938c424bc0d"
      },
      "execution_count": 12,
      "outputs": [
        {
          "output_type": "execute_result",
          "data": {
            "text/plain": [
              "LinearRegression()"
            ]
          },
          "metadata": {},
          "execution_count": 12
        }
      ]
    },
    {
      "cell_type": "code",
      "source": [
        "y_pred_lineal_train = lr.predict(x_train)\n",
        "print('Precisión del modelo usando el (MSE):')\n",
        "score_train = mse(y_train,y_pred_lineal_train)\n",
        "\n",
        "print (score_train)"
      ],
      "metadata": {
        "colab": {
          "base_uri": "https://localhost:8080/"
        },
        "id": "AptrGNEwokhc",
        "outputId": "9caac1d3-81c9-4c11-f7a8-c84ca00c414e"
      },
      "execution_count": 13,
      "outputs": [
        {
          "output_type": "stream",
          "name": "stdout",
          "text": [
            "Precisión del modelo usando el (MSE):\n",
            "0.6251280521513793\n"
          ]
        }
      ]
    },
    {
      "cell_type": "code",
      "source": [
        "#Realizo una predicción\n",
        "y_pred_lineal_testeo = lr.predict(x_test)\n",
        "y_pred_lineal_testeo"
      ],
      "metadata": {
        "colab": {
          "base_uri": "https://localhost:8080/"
        },
        "id": "H8xUCNKB1ncr",
        "outputId": "d4905a9a-dbe9-4634-8506-acbba4f47f02"
      },
      "execution_count": 14,
      "outputs": [
        {
          "output_type": "execute_result",
          "data": {
            "text/plain": [
              "array([27.89609183, 30.52593271, 19.94795126, ..., 24.20684952,\n",
              "       15.62503972, 22.51753457])"
            ]
          },
          "metadata": {},
          "execution_count": 14
        }
      ]
    },
    {
      "cell_type": "code",
      "source": [
        "\n",
        "print('Precisión del modelo usando el (MSE):')\n",
        "score_testeo = mse(y_test,y_pred_lineal_testeo)\n",
        "\n",
        "print (score_testeo)"
      ],
      "metadata": {
        "colab": {
          "base_uri": "https://localhost:8080/"
        },
        "id": "VH-ykeJvo5RX",
        "outputId": "fece48a2-866f-4b4b-c87e-1ff8dee50ca4"
      },
      "execution_count": 15,
      "outputs": [
        {
          "output_type": "stream",
          "name": "stdout",
          "text": [
            "Precisión del modelo usando el (MSE):\n",
            "0.6779307335532956\n"
          ]
        }
      ]
    },
    {
      "cell_type": "code",
      "source": [
        "print('DATOS DEL MODELO REGRESIÓN LINEAL SIMPLE')\n",
        "print()\n",
        "print('Valor de los coeficientes de cada variale regresora usada en el modelo:')\n",
        "print(lr.coef_)\n",
        "print()\n",
        "print('Valor de la intersección:')\n",
        "print(lr.intercept_)\n"
      ],
      "metadata": {
        "colab": {
          "base_uri": "https://localhost:8080/"
        },
        "id": "A8NaHVu3mq8d",
        "outputId": "a4208f07-001b-4bfe-8cd1-107b916f2de6"
      },
      "execution_count": 16,
      "outputs": [
        {
          "output_type": "stream",
          "name": "stdout",
          "text": [
            "DATOS DEL MODELO REGRESIÓN LINEAL SIMPLE\n",
            "\n",
            "Valor de los coeficientes de cada variale regresora usada en el modelo:\n",
            "[ 0.35626866  0.01451763  0.11463117 -0.02017878  0.12672709  0.01855433\n",
            "  0.35065603 -0.01862197]\n",
            "\n",
            "Valor de la intersección:\n",
            "2.0056630571544893\n"
          ]
        }
      ]
    },
    {
      "cell_type": "code",
      "source": [
        "#ahora le agregamos grados al polinomio y estandarizamos las features\n",
        "modelo = Pipeline([('scaler', StandardScaler()),('features', PolynomialFeatures()),\n",
        "                    ('regression', LinearRegression()),\n",
        "                    ])\n"
      ],
      "metadata": {
        "id": "rAR6RpmO1usN"
      },
      "execution_count": 17,
      "outputs": []
    },
    {
      "cell_type": "code",
      "source": [
        "modelo.fit(x_train,y_train)"
      ],
      "metadata": {
        "colab": {
          "base_uri": "https://localhost:8080/"
        },
        "id": "9MaHbIrQ3cEQ",
        "outputId": "d06c99fc-0971-4d7d-da78-0bd392cb6702"
      },
      "execution_count": 18,
      "outputs": [
        {
          "output_type": "execute_result",
          "data": {
            "text/plain": [
              "Pipeline(steps=[('scaler', StandardScaler()),\n",
              "                ('features', PolynomialFeatures()),\n",
              "                ('regression', LinearRegression())])"
            ]
          },
          "metadata": {},
          "execution_count": 18
        }
      ]
    },
    {
      "cell_type": "code",
      "source": [
        "y_pred_polinomica_train = modelo.predict(x_train)\n",
        "print('Precisión del modelo usando el (MSE):')\n",
        "score_train = mse(y_train,y_pred_polinomica_train)\n",
        "\n",
        "print (score_train)"
      ],
      "metadata": {
        "colab": {
          "base_uri": "https://localhost:8080/"
        },
        "id": "UpSDFUxopTMR",
        "outputId": "31d768d3-5d14-4136-a266-0265240e0c2c"
      },
      "execution_count": 19,
      "outputs": [
        {
          "output_type": "stream",
          "name": "stdout",
          "text": [
            "Precisión del modelo usando el (MSE):\n",
            "0.5643044020113102\n"
          ]
        }
      ]
    },
    {
      "cell_type": "code",
      "source": [
        "#Realizo una predicción\n",
        "y_pred_polinomica_testeo = modelo.predict(x_test)\n",
        "y_pred_polinomica_testeo\n",
        "print('Precisión del modelo usando el (MSE):')\n",
        "score_testeo = mse(y_test,y_pred_polinomica_testeo)\n",
        "\n",
        "print (score_testeo)"
      ],
      "metadata": {
        "colab": {
          "base_uri": "https://localhost:8080/"
        },
        "id": "P7q2qtik3kXg",
        "outputId": "d4b6d226-ddb0-45f8-fb98-7af1ceb995ca"
      },
      "execution_count": 20,
      "outputs": [
        {
          "output_type": "stream",
          "name": "stdout",
          "text": [
            "Precisión del modelo usando el (MSE):\n",
            "0.5994452990033148\n"
          ]
        }
      ]
    },
    {
      "cell_type": "markdown",
      "source": [
        "# Regresión Lasso"
      ],
      "metadata": {
        "id": "ozSFHG02qcxA"
      }
    },
    {
      "cell_type": "markdown",
      "source": [
        "Una regresión regularizada diferente que se usa a menudo es la regresión LASSO, que naturalmente selecciona las variables más relevantes y produce modelos más parsimoniosos.\n",
        "\n",
        "LASSO usa la norma , que es simplemente la suma de los valores absolutos de los parámetros del modelo.\n",
        "\n",
        "![Captura.JPG](data:image/jpeg;base64,/9j/4AAQSkZJRgABAQEAYABgAAD/4RDcRXhpZgAATU0AKgAAAAgABAE7AAIAAAAGAAAISodpAAQAAAABAAAIUJydAAEAAAAMAAAQyOocAAcAAAgMAAAAPgAAAAAc6gAAAAgAAAAAAAAAAAAAAAAAAAAAAAAAAAAAAAAAAAAAAAAAAAAAAAAAAAAAAAAAAAAAAAAAAAAAAAAAAAAAAAAAAAAAAAAAAAAAAAAAAAAAAAAAAAAAAAAAAAAAAAAAAAAAAAAAAAAAAAAAAAAAAAAAAAAAAAAAAAAAAAAAAAAAAAAAAAAAAAAAAAAAAAAAAAAAAAAAAAAAAAAAAAAAAAAAAAAAAAAAAAAAAAAAAAAAAAAAAAAAAAAAAAAAAAAAAAAAAAAAAAAAAAAAAAAAAAAAAAAAAAAAAAAAAAAAAAAAAAAAAAAAAAAAAAAAAAAAAAAAAAAAAAAAAAAAAAAAAAAAAAAAAAAAAAAAAAAAAAAAAAAAAAAAAAAAAAAAAAAAAAAAAAAAAAAAAAAAAAAAAAAAAAAAAAAAAAAAAAAAAAAAAAAAAAAAAAAAAAAAAAAAAAAAAAAAAAAAAAAAAAAAAAAAAAAAAAAAAAAAAAAAAAAAAAAAAAAAAAAAAAAAAAAAAAAAAAAAAAAAAAAAAAAAAAAAAAAAAAAAAAAAAAAAAAAAAAAAAAAAAAAAAAAAAAAAAAAAAAAAAAAAAAAAAAAAAAAAAAAAAAAAAAAAAAAAAAAAAAAAAAAAAAAAAAAAAAAAAAAAAAAAAAAAAAAAAAAAAAAAAAAAAAAAAAAAAAAAAAAAAAAAAAAAAAAAAAAAAAAAAAAAAAAAAAAAAAAAAAAAAAAAAAAAAAAAAAAAAAAAAAAAAAAAAAAAAAAAAAAAAAAAAAAAAAAAAAAAAAAAAAAAAAAAAAAAAAAAAAAAAAAAAAAAAAAAAAAAAAAAAAAAAAAAAAAAAAAAAAAAAAAAAAAAAAAAAAAAAAAAAAAAAAAAAAAAAAAAAAAAAAAAAAAAAAAAAAAAAAAAAAAAAAAAAAAAAAAAAAAAAAAAAAAAAAAAAAAAAAAAAAAAAAAAAAAAAAAAAAAAAAAAAAAAAAAAAAAAAAAAAAAAAAAAAAAAAAAAAAAAAAAAAAAAAAAAAAAAAAAAAAAAAAAAAAAAAAAAAAAAAAAAAAAAAAAAAAAAAAAAAAAAAAAAAAAAAAAAAAAAAAAAAAAAAAAAAAAAAAAAAAAAAAAAAAAAAAAAAAAAAAAAAAAAAAAAAAAAAAAAAAAAAAAAAAAAAAAAAAAAAAAAAAAAAAAAAAAAAAAAAAAAAAAAAAAAAAAAAAAAAAAAAAAAAAAAAAAAAAAAAAAAAAAAAAAAAAAAAAAAAAAAAAAAAAAAAAAAAAAAAAAAAAAAAAAAAAAAAAAAAAAAAAAAAAAAAAAAAAAAAAAAAAAAAAAAAAAAAAAAAAAAAAAAAAAAAAAAAAAAAAAAAAAAAAAAAAAAAAAAAAAAAAAAAAAAAAAAAAAAAAAAAAAAAAAAAAAAAAAAAAAAAAAAAAAAAAAAAAAAAAAAAAAAAAAAAAAAAAAAAAAAAAAAAAAAAAAAAAAAAAAAAAAAAAAAAAAAAAAAAAAAAAAAAAAAAAAAAAAAAAAAAAAAAAAAAAAAAAAAAAAAAAAAAAAAAAAAAAAAAAAAAAAAAAAAAAAAAAAAAAAAAAAAAAAAAAAAAAAAAAAAAAAAAAAAAAAAAAAAAAAAAAAAAAAAAAAAAAAAAAAAAAAAAAAAAAAAAAAAAAAAAAAAAAAAAAAAAAAAAAAAAAAAAAAAAAAAAAAAAAAAAAAAAAAAAAAAAAAAAAAAAAAAAAAAAAAAAAAAAAAAAAAAAAAAAAAAAAAAAAAAAAAAAAAAAAAAAAAAAAAAAAAAAAAAAAAAAAAAAAAAAAAAAAAAAAAAAAAAAAAAAAAAAAAAAAAAAAAAAAAAAAAAAAAAAAAAAAAAAAAAAAAAAAAAAAAAAAAAAAAAAAAAAAAAAAAAAAAAAAAAAAAAAAAAAAAAAAAAAAAAAAAAAAAAAAAAAAAAAAAAAAAAAAAAAAAAAAAAAAAAAAAAAAAAAAAAAAAAAAAAAAAAAAAAAAAAAAAAAAAAAAAAAAAAAAAAAAAAAAAAAAAAAAAAAAAAAAAAAAAAAAAAAAAAAAAAAAAAAAAAAAAAAAAAAAAAAAAAAAAAAAAAAAAAAAAAAAAAAAAAAAAAAAAAAAAAAAAAAAAAAAAAAAAAAAAAAAAAAAAAAAAAAAAAAAAAAAAAAAAAAAAAAAAAAAAAAAAAAAAAAAAAAAAAAAAAAAAAAAAAAAAAAAAAAAAAAAAAAAAAAAAAAAAAAAAAAAAAAAAAAAAAAAAAAAAAAAAAAAAAAAAAAAAAAAAAAAAAAAAAAAAAAAAAAAAAAAAAAAAAAAAAAAAAAAAAAAAAAAAAAAAAAAAAAAAAAAAAAAAAAAAAAAAAAAAAAAAAAAAAAAAAAAAAAAAAAAAAAAAAAAAAAAAAAAAAAAAAAAAAAAAAAAAAAAAAAAAAAAAAAAAAAAAAAAAAAAAAAAAAAAAAAAAAAAAAAAAAAAAAAAAAAAAAAAAAAAAAAAAAAAAAAAAAAAAAAAAAAAAAAAAAAAAAAAAAAAAAAAAAAAAAAAAAAAAAAAAAAAAAAAAAAAAAAAAAAAAAAAAAAAAAAAAAAAAAAAAAAAAAAAAAAAAAAAAAAAAAAAAAAAAAAAAAAAAAAAAAAAAAAAAAAAAAAAAAAAAAAAAAAAAAAAAAAAAAAAAAAAAAAAAAAAAAAAAAAAAAAAAAAAAAAAAAAAAAAAAAAAAAAAAAAAAAAAAAAAAAAAAAAAAAAAAAAAAAAAAAAAAAAAAAAAAAAAAAAAAAAGpvcmdlAAAFkAMAAgAAABQAABCekAQAAgAAABQAABCykpEAAgAAAAM3OQAAkpIAAgAAAAM3OQAA6hwABwAACAwAAAiSAAAAABzqAAAACAAAAAAAAAAAAAAAAAAAAAAAAAAAAAAAAAAAAAAAAAAAAAAAAAAAAAAAAAAAAAAAAAAAAAAAAAAAAAAAAAAAAAAAAAAAAAAAAAAAAAAAAAAAAAAAAAAAAAAAAAAAAAAAAAAAAAAAAAAAAAAAAAAAAAAAAAAAAAAAAAAAAAAAAAAAAAAAAAAAAAAAAAAAAAAAAAAAAAAAAAAAAAAAAAAAAAAAAAAAAAAAAAAAAAAAAAAAAAAAAAAAAAAAAAAAAAAAAAAAAAAAAAAAAAAAAAAAAAAAAAAAAAAAAAAAAAAAAAAAAAAAAAAAAAAAAAAAAAAAAAAAAAAAAAAAAAAAAAAAAAAAAAAAAAAAAAAAAAAAAAAAAAAAAAAAAAAAAAAAAAAAAAAAAAAAAAAAAAAAAAAAAAAAAAAAAAAAAAAAAAAAAAAAAAAAAAAAAAAAAAAAAAAAAAAAAAAAAAAAAAAAAAAAAAAAAAAAAAAAAAAAAAAAAAAAAAAAAAAAAAAAAAAAAAAAAAAAAAAAAAAAAAAAAAAAAAAAAAAAAAAAAAAAAAAAAAAAAAAAAAAAAAAAAAAAAAAAAAAAAAAAAAAAAAAAAAAAAAAAAAAAAAAAAAAAAAAAAAAAAAAAAAAAAAAAAAAAAAAAAAAAAAAAAAAAAAAAAAAAAAAAAAAAAAAAAAAAAAAAAAAAAAAAAAAAAAAAAAAAAAAAAAAAAAAAAAAAAAAAAAAAAAAAAAAAAAAAAAAAAAAAAAAAAAAAAAAAAAAAAAAAAAAAAAAAAAAAAAAAAAAAAAAAAAAAAAAAAAAAAAAAAAAAAAAAAAAAAAAAAAAAAAAAAAAAAAAAAAAAAAAAAAAAAAAAAAAAAAAAAAAAAAAAAAAAAAAAAAAAAAAAAAAAAAAAAAAAAAAAAAAAAAAAAAAAAAAAAAAAAAAAAAAAAAAAAAAAAAAAAAAAAAAAAAAAAAAAAAAAAAAAAAAAAAAAAAAAAAAAAAAAAAAAAAAAAAAAAAAAAAAAAAAAAAAAAAAAAAAAAAAAAAAAAAAAAAAAAAAAAAAAAAAAAAAAAAAAAAAAAAAAAAAAAAAAAAAAAAAAAAAAAAAAAAAAAAAAAAAAAAAAAAAAAAAAAAAAAAAAAAAAAAAAAAAAAAAAAAAAAAAAAAAAAAAAAAAAAAAAAAAAAAAAAAAAAAAAAAAAAAAAAAAAAAAAAAAAAAAAAAAAAAAAAAAAAAAAAAAAAAAAAAAAAAAAAAAAAAAAAAAAAAAAAAAAAAAAAAAAAAAAAAAAAAAAAAAAAAAAAAAAAAAAAAAAAAAAAAAAAAAAAAAAAAAAAAAAAAAAAAAAAAAAAAAAAAAAAAAAAAAAAAAAAAAAAAAAAAAAAAAAAAAAAAAAAAAAAAAAAAAAAAAAAAAAAAAAAAAAAAAAAAAAAAAAAAAAAAAAAAAAAAAAAAAAAAAAAAAAAAAAAAAAAAAAAAAAAAAAAAAAAAAAAAAAAAAAAAAAAAAAAAAAAAAAAAAAAAAAAAAAAAAAAAAAAAAAAAAAAAAAAAAAAAAAAAAAAAAAAAAAAAAAAAAAAAAAAAAAAAAAAAAAAAAAAAAAAAAAAAAAAAAAAAAAAAAAAAAAAAAAAAAAAAAAAAAAAAAAAAAAAAAAAAAAAAAAAAAAAAAAAAAAAAAAAAAAAAAAAAAAAAAAAAAAAAAAAAAAAAAAAAAAAAAAAAAAAAAAAAAAAAAAAAAAAAAAAAAAAAAAAAAAAAAAAAAAAAAAAAAAAAAAAAAAAAAAAAAAAAAAAAAAAAAAAAAAAAAAAAAAAAAAAAAAAAAAAAAAAAAAAAAAAAAAAAAAAAAAAAAAAAAAAAAAAAAAAAAAAAAAAAAAAAAAAAAAAAAAAAAAAAAAAAAAAAAAAAAAAAAAAAAAAAAAAAAAAAAAAAAAAAAAAAAAAAAAAAAAAAAAAAAAAAAAAAAAAAAAAAAAAAAAAAAAAAAAAAAAAAAAAAAAAAAAAAAAAAAAAAAAAAAAAAAAAAAAAAAAAAAAAAAAAAAAAAAAAAAAAAAAAAAAAAAAAAAAAAAAAAAAAAAAAAAAAAAAAAAAAAAAAAAAAAAAAAAAAAAAAAAAAAAAAAAAAAAAAAAAAAAAAAAAAAAAAAAAAAAAAAAAAAAAAAAAAAAAAAAAAAAAAAAAAAAAAAAAAAAAAAAAAAAAAAAAAAAAAAAAAAAAAAAAAAAAAAAAAAAAAAAAAAAAAAAAAAAAAAAAAAAAAAAAAAAAAAAAAAAAAAAAAAAAAAAAAAAAAAAAAAAAAAAAAAAAAAAAAAAAAAAAAAAAAAAAAAAAAAAAAAAAAAAAAAAAAAAAAAAAAAAAAAAAAAAAAAAAAAAAAAAAAAAAAAAAAAAAAAAAAAAAAAAAAAAAAAAAAAAAAAAAAAAAAAAAAAAAAAAAAAAAAAAAAAAAAAAAAAAAAAAAAAAAAAAAAAAAAAAAAAAAAAAAAAAAAAAAAAAAAAAAAAAAAAAAAAAAAAAAAAAAAAAAAAAAAAAAAAAAAAAAAAAAAAAAAAAAAAAAAAAAAAAAAAAAAAAAAAAAAAAAAAAAAAAAAAAAAAAAAAAAAAAAAAAAAAAAAAAAAAAAAAAAAAAAAAAAAAAAAAAAAAAAAAAAAAAAAAAAAAAAAAAAAAAAAAAAAAAAAAAAAAAAAAAAAAAAAAAAAAAAAAAAAAAAAAAAAAAAAAAAAAAAAAAAAAAAAAAAAAAAAAAAAAAAAAAAAAAAAAAAAAAAAAAAAAAAAAAAMjAyMjowMToxMyAyMDowNTozNgAyMDIyOjAxOjEzIDIwOjA1OjM2AAAAagBvAHIAZwBlAAAA/+ELGGh0dHA6Ly9ucy5hZG9iZS5jb20veGFwLzEuMC8APD94cGFja2V0IGJlZ2luPSfvu78nIGlkPSdXNU0wTXBDZWhpSHpyZVN6TlRjemtjOWQnPz4NCjx4OnhtcG1ldGEgeG1sbnM6eD0iYWRvYmU6bnM6bWV0YS8iPjxyZGY6UkRGIHhtbG5zOnJkZj0iaHR0cDovL3d3dy53My5vcmcvMTk5OS8wMi8yMi1yZGYtc3ludGF4LW5zIyI+PHJkZjpEZXNjcmlwdGlvbiByZGY6YWJvdXQ9InV1aWQ6ZmFmNWJkZDUtYmEzZC0xMWRhLWFkMzEtZDMzZDc1MTgyZjFiIiB4bWxuczpkYz0iaHR0cDovL3B1cmwub3JnL2RjL2VsZW1lbnRzLzEuMS8iLz48cmRmOkRlc2NyaXB0aW9uIHJkZjphYm91dD0idXVpZDpmYWY1YmRkNS1iYTNkLTExZGEtYWQzMS1kMzNkNzUxODJmMWIiIHhtbG5zOnhtcD0iaHR0cDovL25zLmFkb2JlLmNvbS94YXAvMS4wLyI+PHhtcDpDcmVhdGVEYXRlPjIwMjItMDEtMTNUMjA6MDU6MzYuNzg2PC94bXA6Q3JlYXRlRGF0ZT48L3JkZjpEZXNjcmlwdGlvbj48cmRmOkRlc2NyaXB0aW9uIHJkZjphYm91dD0idXVpZDpmYWY1YmRkNS1iYTNkLTExZGEtYWQzMS1kMzNkNzUxODJmMWIiIHhtbG5zOmRjPSJodHRwOi8vcHVybC5vcmcvZGMvZWxlbWVudHMvMS4xLyI+PGRjOmNyZWF0b3I+PHJkZjpTZXEgeG1sbnM6cmRmPSJodHRwOi8vd3d3LnczLm9yZy8xOTk5LzAyLzIyLXJkZi1zeW50YXgtbnMjIj48cmRmOmxpPmpvcmdlPC9yZGY6bGk+PC9yZGY6U2VxPg0KCQkJPC9kYzpjcmVhdG9yPjwvcmRmOkRlc2NyaXB0aW9uPjwvcmRmOlJERj48L3g6eG1wbWV0YT4NCiAgICAgICAgICAgICAgICAgICAgICAgICAgICAgICAgICAgICAgICAgICAgICAgICAgICAgICAgICAgICAgICAgICAgICAgICAgICAgICAgICAgICAgICAgICAgICAgICAgICAKICAgICAgICAgICAgICAgICAgICAgICAgICAgICAgICAgICAgICAgICAgICAgICAgICAgICAgICAgICAgICAgICAgICAgICAgICAgICAgICAgICAgICAgICAgICAgICAgICAgIAogICAgICAgICAgICAgICAgICAgICAgICAgICAgICAgICAgICAgICAgICAgICAgICAgICAgICAgICAgICAgICAgICAgICAgICAgICAgICAgICAgICAgICAgICAgICAgICAgICAgCiAgICAgICAgICAgICAgICAgICAgICAgICAgICAgICAgICAgICAgICAgICAgICAgICAgICAgICAgICAgICAgICAgICAgICAgICAgICAgICAgICAgICAgICAgICAgICAgICAgICAKICAgICAgICAgICAgICAgICAgICAgICAgICAgICAgICAgICAgICAgICAgICAgICAgICAgICAgICAgICAgICAgICAgICAgICAgICAgICAgICAgICAgICAgICAgICAgICAgICAgIAogICAgICAgICAgICAgICAgICAgICAgICAgICAgICAgICAgICAgICAgICAgICAgICAgICAgICAgICAgICAgICAgICAgICAgICAgICAgICAgICAgICAgICAgICAgICAgICAgICAgCiAgICAgICAgICAgICAgICAgICAgICAgICAgICAgICAgICAgICAgICAgICAgICAgICAgICAgICAgICAgICAgICAgICAgICAgICAgICAgICAgICAgICAgICAgICAgICAgICAgICAKICAgICAgICAgICAgICAgICAgICAgICAgICAgICAgICAgICAgICAgICAgICAgICAgICAgICAgICAgICAgICAgICAgICAgICAgICAgICAgICAgICAgICAgICAgICAgICAgICAgIAogICAgICAgICAgICAgICAgICAgICAgICAgICAgICAgICAgICAgICAgICAgICAgICAgICAgICAgICAgICAgICAgICAgICAgICAgICAgICAgICAgICAgICAgICAgICAgICAgICAgCiAgICAgICAgICAgICAgICAgICAgICAgICAgICAgICAgICAgICAgICAgICAgICAgICAgICAgICAgICAgICAgICAgICAgICAgICAgICAgICAgICAgICAgICAgICAgICAgICAgICAKICAgICAgICAgICAgICAgICAgICAgICAgICAgICAgICAgICAgICAgICAgICAgICAgICAgICAgICAgICAgICAgICAgICAgICAgICAgICAgICAgICAgICAgICAgICAgICAgICAgIAogICAgICAgICAgICAgICAgICAgICAgICAgICAgICAgICAgICAgICAgICAgICAgICAgICAgICAgICAgICAgICAgICAgICAgICAgICAgICAgICAgICAgICAgICAgICAgICAgICAgCiAgICAgICAgICAgICAgICAgICAgICAgICAgICAgICAgICAgICAgICAgICAgICAgICAgICAgICAgICAgICAgICAgICAgICAgICAgICAgICAgICAgICAgICAgICAgICAgICAgICAKICAgICAgICAgICAgICAgICAgICAgICAgICAgICAgICAgICAgICAgICAgICAgICAgICAgICAgICAgICAgICAgICAgICAgICAgICAgICAgICAgICAgICAgICAgICAgICAgICAgIAogICAgICAgICAgICAgICAgICAgICAgICAgICAgICAgICAgICAgICAgICAgICAgICAgICAgICAgICAgICAgICAgICAgICAgICAgICAgICAgICAgICAgICAgICAgICAgICAgICAgCiAgICAgICAgICAgICAgICAgICAgICAgICAgICAgICAgICAgICAgICAgICAgICAgICAgICAgICAgICAgICAgICAgICAgICAgICAgICAgICAgICAgICAgICAgICAgICAgICAgICAKICAgICAgICAgICAgICAgICAgICAgICAgICAgICAgICAgICAgICAgICAgICAgICAgICAgICAgICAgICAgICAgICAgICAgICAgICAgICAgICAgICAgICAgICAgICAgICAgICAgIAogICAgICAgICAgICAgICAgICAgICAgICAgICAgICAgICAgICAgICAgICAgICAgICAgICAgICAgICAgICAgICAgICAgICAgICAgICAgICAgICAgICAgICAgICAgICAgICAgICAgCiAgICAgICAgICAgICAgICAgICAgICAgICAgICAgICAgICAgICAgICAgICAgICAgICAgICAgICAgICAgICAgICAgICAgICAgICAgICAgICAgICAgICAgICAgICAgICAgICAgICAKICAgICAgICAgICAgICAgICAgICAgICAgICAgICAgICAgICAgICAgICAgICAgICAgICAgICAgICAgICAgICAgICAgICAgICAgICAgICAgICAgICAgICAgICAgICAgICAgICAgIAogICAgICAgICAgICAgICAgICAgICAgICAgICAgPD94cGFja2V0IGVuZD0ndyc/Pv/bAEMABwUFBgUEBwYFBggHBwgKEQsKCQkKFQ8QDBEYFRoZGBUYFxseJyEbHSUdFxgiLiIlKCkrLCsaIC8zLyoyJyorKv/bAEMBBwgICgkKFAsLFCocGBwqKioqKioqKioqKioqKioqKioqKioqKioqKioqKioqKioqKioqKioqKioqKioqKioqKv/AABEIAKcDpAMBIgACEQEDEQH/xAAfAAABBQEBAQEBAQAAAAAAAAAAAQIDBAUGBwgJCgv/xAC1EAACAQMDAgQDBQUEBAAAAX0BAgMABBEFEiExQQYTUWEHInEUMoGRoQgjQrHBFVLR8CQzYnKCCQoWFxgZGiUmJygpKjQ1Njc4OTpDREVGR0hJSlNUVVZXWFlaY2RlZmdoaWpzdHV2d3h5eoOEhYaHiImKkpOUlZaXmJmaoqOkpaanqKmqsrO0tba3uLm6wsPExcbHyMnK0tPU1dbX2Nna4eLj5OXm5+jp6vHy8/T19vf4+fr/xAAfAQADAQEBAQEBAQEBAAAAAAAAAQIDBAUGBwgJCgv/xAC1EQACAQIEBAMEBwUEBAABAncAAQIDEQQFITEGEkFRB2FxEyIygQgUQpGhscEJIzNS8BVictEKFiQ04SXxFxgZGiYnKCkqNTY3ODk6Q0RFRkdISUpTVFVWV1hZWmNkZWZnaGlqc3R1dnd4eXqCg4SFhoeIiYqSk5SVlpeYmZqio6Slpqeoqaqys7S1tre4ubrCw8TFxsfIycrS09TV1tfY2dri4+Tl5ufo6ery8/T19vf4+fr/2gAMAwEAAhEDEQA/APpGiiigAooooAKKKKACiiigAooooAKKKKACiiigAooooAKKKKACiiigAooooAKKKKACiiigAooooAKKKKACiiigAooooAKKKKACiiigAooooAKKKKACiiigAooooAKKKKACiiigAooooAKKKKACiiigAooooAKKKKACiiigAooooAKKKKACiiigAooooAKKKKACiiigAooooAKKKKACiiigAooooAKKKKACiiigAooooAKKKKACiiigAooooAKKKKACiiigAooooAKKKKACiiigAooooAKKKKACiiigAooooAKKKKACiiigAooooAKKKKACiiigAooooAKKKKACiiigAooooAKKKKACiiigAooooAKKKKACiiigAooooAKKKKACiiigAooooAKKKKACiiigAooooAKKKKACiiigAooooAKKKKACiiigAooooAKKKKACiiigAooooAKKKKACiiigAooooAKKKKAKV5qP2TUNPtfK3/bZWj3bsbNsbPnHf7uPxpdM1D+0YZ5PL8vyrmWDG7Odjlc/jjOKo6z/AMjB4e/6+pf/AEnkrjtW8Rw+HnsJNUubuz0p9avGuJ7ZHbc6yHy4m2AttZj077cHgmjRPX+tUJXafr+jZ6XWND4g86Czk+zY+038tljzPu7GkG7pzny+nv14rgtF8ZX3j7U9FitHv9M1Kw1B5dSsoY5I4o7YZCrMXUBmYbcKD3JwMcdHZ/8AHjo//Yfuv/Q7inbb1X6DfVev6/5HZ0VhWOr3s3jfVNHuPIa3tbS3uIWSMq/7xpQQxLEHHljkAdatax9s/dfYv7R77vsX2f2+9539PxpB1sadc7450C/8ReFri00bVbvS9RX95bT2tw8WXH8LFSMqent17Utr/av2uLzv7d2bxu877Dsxnvt+bH05roaTV0NOzPMvhpqNp4r0iay1iTVLbxBpb+RqFs2rXQO4cbwPM6HH4HPbFdTqfgiz1C2eOHVtfsZSuFmttauQy++GcqfxFc14u8Mzx/E/Qte8IzRwa1K/l6hCQdk1qPvO+OmMBR6nbjla9Jp/Er/1/X/DC+F2Ri2UmoaH4OZ9YkF7d6fbvvlDY+0BAdrE9mZQCeuCT1rXhk86COTGN6hsZ6ZFZ/iT/kVdW/68pv8A0A1xuoeOIdBvrxJLki7jls4RBMkjRQ2pVC85C8AfPIN/TKqD0xRe8nfyHayVvP8AQ9Fqna6h9p1K+tPL2/ZGQb92d+5d3TtXJwa4bP7XqdvPfS2+tanFDYNLE80ca4RCwQspVGbdjB6fMARmt/S/+Rm13/fg/wDRQpO+n9dLiNmio7i4itLWW4uG2RQoXdsZwoGSePao9Pv7bVNOt7+wl822uYxLFJtI3KRkHB5H40wLFFFFABRRRQAUUUUAFFFFABRRRQAUUUUAFFFFABRRRQAUUUUAFFFFABRRRQAUUUUAFFFFABRRRQAUUUUAFFFFABRRRQAUUUUAFFFFABRRRQAUUUUAFFFFABRRRQAUUUUAFFFFABRRRQAUUUUAFFFFABRRRQAUUUUAFFFFABRRRQAUUUUAFFFFABRRRQAUUUUAFFFFABRRRQAUUUUAFFFFABRRRQAUUUUAFFFFABRRRQAUUUUAFFFFABRRRQAUUUUAFFFFABRRRQAUUUUAUrzTvteoafdebs+xStJt2537o2TGe33s/hS6Zp/9nQzx+Z5nm3Ms+duMb3LY/DOM1cooAKxofD/kwWcf2nP2a/lvc+X97e0h29eMeZ19unNbNFAFCHRLGDW59XijkF7cRrFLIZ5CGVSSo2ltvBZu3er9FFABWV4l1qTQdElvbfT7vUZwQsVvaQPKzMemQgJCjqTjp6nArVopMaOD0TxLY6ZFJNd6b4iutRuiHu7n+wLob2A4VRs+VF6AfzJJM+qfEpLO1Z7Dwp4p1GbHyxx6NNGCfcuowPoDW/4o1d9C8M3upRQNO1vEWCK4Q/gSDz6DByccVe05/M0y2cytMWiUmRmVi/HUlQFP4AD0p7i2MrTYNT1jwT5eun7NfahbP5qBP+PfzAcJjjO0EDnk4rahj8mCOPOdihc464FPopvfQOmpR1PRrDWY4E1KDz1t5hNGN7LhwCM8EZGCRg8HNOtdP+zalfXfmbvtbIdm3Gzau3r3q5RSAKKKKACiiigAooooAKKKKACiiigAooooAKKKKACiiigAooooAKKKKACiiigAooooAKKKKACiiigAooooAKKKKACiiigAooooAKKKKACiiigAooooAKKKKACiiigAooooAKKKKACiiigAooooAKKKKACiiigAooooAKKKKACiiigAooooAKKKKACiiigAooooAKKKKACiiigAooooAKKKKACiiigAooooAKKKKACiiigAooooAKKKKACiiigAooooAKKKKACiiigAooooAKKKKACiiigAooooAKKKKACiiigCK5tYL22e3vII7iCQYeKVAysPcHg1IiLHGqRqERQAqqMAD0FLRQAUUUUAFFFFABRRRQAUUUUAFFFFABRRRQAUUUUAFFFFABRRRQAUUUUAFFFFABRRRQAUUUUAFFFFABRRRQAUUUUAFFFFABRRRQAUUUUAFFFFABRRRQAUUUUAFFFFABRRRQAUVy3j2KKfStPjudM/tWJtRhDWW2NvOHPGJCEP4kVn6bHqmkSppei2Nroo1O4luLa2uU82OxhREDDy4nC7mc52o4Ubi3JyCou9/L/gf5g97f11/wAjuaK5A+INcd7TTovsEeoNqMtjPcPC7RYWBpVkVN4PI25UtxkjdxmrPjiTVYdBtG0m+itJzqFokkjQswYNOi4wrqQCTyMnK5HfIpK7Xnb8QWrsdNRXF654rv8ASNZt4Y7i1uYlntre5hi0y4f5pHVWJuFYxwkbwwR8nGOfmFPfxFrscrXz/wBnf2bHq405oBE5mdWmEQkD7tqkFhldpyATkZwBatJf1t/mh2drnY0Vw9pquvafDrkk95aXsj6utnZo0EiLCz+WoLEyNlBuB2gDJB5G7jd0i91RdXutL1t7W4lihjuI7m0gaFGViy7SjO5BBTOd3IYcDFJapP8Ara/5E338v87fmbdFc/4l/wCQr4Z/7Cv/ALbT1Q0zxTe3PjCPTpJoLqyuVmaJ4dNuIQmwgridyY5gQTkpjkelBTVrf11f+R19FcT4ogvLjx5pRZ7CaztbG5vUt7qzMuJY2iw4O8AP83yttyvzdd3GrDr91ImiFo4f+Jhp8l1LhT8rKiMAvPTLnrntSbSjzP8Arf8AyYW95R7/ANfqdDRXGab4n1qO302/1tbCS01HTnuxFZxOskDJGrkbmYhwQW7KRwOetS3d5rK+HzqGsLpF1bztbvFaLaufJLSpgF2ciQgHIYKnKg47BvRtdt/6+RKd0n3Ouorib/UNSmnufESxae9ho1xLEltNA7zsEOyWRZN4VGI3ADY2QMbhvOJb3xDr0U+qXUH9nCw0y/jt3heKQyzxssRJD7gEYeYcfKwPHTrQtVf5/l/mDdnb+uv+R2NFZevajc2MFrDYCL7VfXC20LzKWjjJVmLMAQSAFPGRk4GRnNclJrWqaDea4919nur+S6tLZJbW0mkQbo87zAhZzgZOwMc4HzDOQr/nb+vwH/X9fceg0Vh+FtXvNWsrg6hE4kgm8tZjp89ks67QQwim+YYyVPJGVznnAxNO8Zajf6+iJaymykvJLXyBo92GjVWZBKbkjyiCVyVwMBvvEjl9bB0udvRXFQ+IPEc+kaNcq+lrLrF0IY1NvIVt18qVix/efOcoDj5e65/iqe81rxCF1W7sn077Nox2TQyW7mS7ZI1kk2t5gEQIbC5D9Mk9qFtf+v61HZppd/6/RnXUVhadqepaj4ivYka1i06zMY2mFjNJviV/vbgFwT6HPTjGTneIfEOuWF5rB0xLA22kWMd66To5ecHzC0YIYBOIxhsNj+6ewJa7HXUVycniPVtJ/tY6xHZ3JtbBb+BLVWixkuPKdmLZwVHzgDqTtFNu9f1zw4sra99h1ANYy3MX2KB7cI8e3KMWd8g7xhuMbTkHPAK6Ouorz7VX1a18Rb9dfS9QK6BfyKkVs8aMN0GUdGd9y++RkEjA71taFzJrmqajeRaTeWum+HVura0udPMnll1mDAMZMDJTDYXlcLxjJf8AX5/5Gijfb+tv8z0qiucTUNY1LVJrfR3sLS3sPKWf7TbvI0zMgcqm11CAKQAx35JPA2857eMLqDxfDZNLDdWNxNNCog024XyykbvkXJPlSH92QVUAgnH8JpPQhao7OiuCN7rF/qng/UdTl08Wl7dtPDBBG6yQBrSZgrOWIk4PJCp06c8XNC8V3l/4sXTZ5oLq1ubaW4hlg064t1TYyABZZCUnUh/vpgcA4wwxXK72DpdHY0Vx/iXxXf2GtvpumRsrwWyXDOdIur1ZixYCMeR/q/uH5mz1GFODU6eINSk8QWcdwsemWNzHGY4rqxlZ5mZclfODBInBO3Yyljt468TuD03OpooooAKKKKACiiigAooooAKKKKACiiigAooooAKKKKACiiigAooooAKKKKACiiigAooooAKKKKACiiigAooooAKKKKACiiigAooooAKKKKACiiigAooooAKKKKACiiigAooooAKKKKACiiigAooooAKKKKACiiigAooooAKKKKACiiigAooooAKKKKACiiigAooooAKKKKACiiigAooooAKKKKACiiigCC6soLzyftMe/wAiUTR/MRtcdDx9ag1XRrHWYY0v45CYX3xSwzPDJE2MZWRCGXIJBwRkEg8VeooAzrbQNNtI7RILfb9jkaWFjIzNvYMGdmJy7EM2S2SSc9an1HTrXVrF7O+jZ4XKsdrsjKVIZWVlIKkEAggggirVFAGHN4O0W4uvtE0Ny7b45GQ30/lu8e3Y7Jv2sw2L8xBJxyTV1tE097VrdrfMTXQuyu9uZRIJA3X+8AcdPbFX6KAMqbw1pVwb/wA63d11HabiMzybCwxh1XdhG4B3KA2QDnIFRw+FdLghEaJO/wC/jnd7i5knkkaM7kDPIWYqrcgZwD9TnZooWmwble6sba8ltpLmPe9rL50J3EbX2sueOvDMOfWs3T/CWj6XfR3dnBOJYQywiS7mkSFW6rGjMVRenCgDgegraooArSafazahFfSxBriKJ4Uck8I5UsMdDkov5Vm6f4Q0TTJ45rO1kDxRvDEZLmWQRRtjKIGYhE+UfKuAMcAVt0UAUYtGsIY7JI7cBbCIw2wLMdiFQuOTzwAOc1StvCGjWkMkMME/kPtxC95M8cQVgyrGjOVjUED5UAHAGMDFbdFHW4WsrGPN4V0e41Rr+W2k815FlkjW4kWGV1xh3hDeW7DC/Myk/KvoMWpNF0+WG7he3yl7KJpxvb53AUA9eOEXp6VeooDcqalplpq1mbW/iMke4OCrsjIwOQyspDKw7EEEVQTwjosdlc2wtZGW7ZHmke5laV3TGx/MLF94wMNncMDngVtUUAVNO02DSrU29s906bi2bq7luGz/AL0jM2PbOKqw+G9OttWbULYXUMzO0jRx3sywMzfeYwh/LJOSSdvJ5681q0UeYdLFCPRNPit7CBLfEenv5lsu9v3bbWXPXnh2HOetV73wrpF/qL3tzbyGWTb5yR3MscU+3gebGrBJOOPnB4AHQVr0UBuQQWVvb3NxcQx7ZbllaVsk7iFCjjtwB0qC50awu/t32iDf9vgFtc/Ow8yMBgF4PH325GDzV6ijYPMqS6VZTzzSz2yStPb/AGaUSfMrxZJ2lTwR8x7d6pWXhTR7GOaNLaS4SaIwOL25luv3R6xjzWbap7qMA4HpWxRQBh2/g3RLZ3dbe4lke3ktTJcXs0zeS+3cgZ3JC/KMAdOcYyc25tB024W5Wa23C6tBZTfvGG6EbsL14++3I5561o0UDu0ZV14Z0u8v472SKaOdFVC0F1LCJVU5VZAjASAZOA4I5Pqaig8I6NbajHexwTmWKZ54le8meOJ3DBikbOUXIduAAOfpW1RQIw7XwbodneQXMFpJvtnZ7dHupXjt8qykRxsxVFKsRtUAdOOBh+m+E9I0i8jurKG486GNoYjNeTTCKNtuUQO5Cr8i8AADFbNFAb7mZqnh7T9XuI7i6F1HPGhQS2l7NbOVznaWidSwzyAc45x1pG8Oaa+qrqDpcPOpVgr3crRblAAcxFthYAD5tueAc1qUUbbA9dwooooAKKKKACiiigAooooAKKKKACiiigAooooAKKKKACiiigAooooAKKKKACiiigAooooAKKKKACiiigAooooAKKKKACiiigAooooAKKKKACiiigAooooAKKKKACiiigAooooAKKKKACiiigAooooAKKKKACiiigAooooAKKKKACiiigAooooAKKKKACiiigAooooAKKKKACiiigAooooAKKKKACiiigAooooAKKKKACiiigAooooAKKKKACiiigAooooAKKKKACiiigAooooAKKKKACiiigAooooAKKKKACiiigAooooAKKKKACiiigAooooAKKKKACiiigAooooAKKKKACiiigAooooAKKKKACiiigAooooAKKKKACikd1jjZ5GCIoJZmOAB6mqWma3pmtCc6RfQXq28nlSvA4dVbAOMjg8EdKAL1FFc143udZh0qCLwxceRqUspMeUV1dURnKkMDw20LkcjcKTdtWNK50tFc14P1tvE0NxrMF3LJp8xRbaBlQCP92pfkKGyGYryT9010tU01uSncKKKKQwooooAKKKKACiiigAooooAKKKKACiiigAooooAKKpafrFjqk13DZT75bKbybiNkZGjfAOCGAPIIIPQ9qu0AFFcp8R9T1TSvB083h+5NtqWS0LCNXyEVpHGGBB+RG/HFVrTxDqGuePrK10668nSIrB7mfYiE3D7lVeSCQud44wSVb2oWrt/W1xvRXf9dDtKKKKBBRRRQAUUUUAFFFFABRRRQAUUUUAFFFFABRRRQAUUUUAFFFFABRRRQAUUUUAFFFFABRRRQAUUUUAFFFFABRRRQAUUUUAFFFFABRRRQAUUUUAFFFFABRRRQAUUUUAFFFFABRRRQAUUUUAFFFFABRRRQAUUUUAFFFFABRRRQAUUUUAFFFFABRRRQAUUUUAFFFFABRRRQAUUUUAFFFFABRXD/Fa7lt/C9pb2dze215fahBbQSWUsqSDc2XIEZy3yBuOfzqGG50+IjxFFeavZ6ZpFzMlz9rvLyTz41iIZjA+T8rnuONpNEdf69P8AMHp/X9djvqKAcgEdDRQAUVV1S+TS9HvL+XlLWB5mHsqk/wBKwdHv00Xw1pMuoLLc6jq8kZcRAF5ZpF3MeT91VB78KmB0AoWv4fiG39djqKKxNY8Wado32Iyia6S7vlsA9oglWGVjgCQg/LzgevPSr+l6j/almbg2V3ZYkePyruPY52sRuxk8HGQe4Io3/r+u4FyiuO0zUZdM+KWpaBdXsk8GoWiahZRyzFzCQSkqDJJCn5WA6fexV3RJ2svGOs6GCfs6xw31upPEYkLq6D0G6Mt/wM0LW39f11B6X8v6/VHSUVTu9Ut7KYRzR3bMRnMNnLKPzRSPwpttq9tdziGKO8ViCQZbKaNf++mQD9aAL1cX4C/5D3jT/sON/wCiY66PV9c0XR40TXtUsLFLgMEW9uEjEoGNwG4jPUZ+orD0jVPh1a6kv9g33heG9uWEa/YprdZJWYgBRtOSSccd6FpK/lb8U/0B7W/rqaXi3xRb+D9Ak1i9sr28toWAlFmiu0YP8RDMvGcfnWbZazBr/wBg8Q2Ph/V7lTCTbSx3cAQq3X5BcbSeO4yMV1M8EV1byQXEaywyqUdGGQykYIIryPQp5vhF47Hhq/d28K61KX0y4cki0lJ5iJPQHOPxB/vUR1lZ/L/L/IHtf7zsv7YPhbS3Sy8Ea4LRGeZktBbSkM7FmwonLHJJOAO9dDo2rW2u6La6nYFjBdRiRA4wy+qsOxByCPUVdquEtNNt5XAitodzSyMSFUEnLMewyeTR6gWKK4rwfOtvo+ra9fwSTTXGpXHkz+XmSeEy7YgpP8BGNvIXHPTmrU/xB0tdDh1CBJ2NxZXN5CjIOEgHzFiCRgnABGc5GKTdld9v0uNJuVl3sdXRXN6ZdDQfC9lJdRT3l7dR/aLgxBd0khXfIxLEKAOgyRgAAdhU+heLrDXrKa8hgu7S0igS4+0XkXlxvG6lgwbOMADJ9O9U1ZtdiU7pNdTdopsciSxLJEyujgMrKchgehBrOg8QWM95fQFjEljMkElxKVWJpWAOxSTyRlQeOpA5OcLrYfmadFclqOsQeJLPxDp2nx3dpqOhtuSaaLZiUKWR0OeVOMdsgkdDzvaRqsWp+HbLViVjiurVLgknAUMobr7ZoWqv6fjsHW39aF+iqP8Abmk/9BSy/wDAhP8AGnahqSWOjzaikT3UUUZl2wsmWUDJILMFxjnrSbsrsaV3YuUVzHgzXbu88F2GpeJWNrPdkMrXBjQP5jZjVdp9GVQDhiR0qpqqppPxO0e+AWzs7y0uIbqfhI5Zt0ZiDnoW+/tzz1AqrNSsyb6XRoT+LPs/iW20yawkSC5ums47ksQTKIvN+6VGUIyNwY8jGK6KsF9E1SXxbHqkuqWjWcWRFbGxJkjUrgqJDJgZOCTszgYyBWtc6hZ2bKt5dwQMwyolkC5/M0uiH1LFIzKilnIVVGSScACsXw54httW0m0klvrV7uZTmOOVck5PbPtU+u6toGn2otvEuoadawXisgiv50RZl43DDn5hyM/WluroDjbHWVj+K0OpWcLLo3iK3Nol0x+W4uYQWV1H90puUMfvbeOME93qt/8A2XpNzffZbi7FvGZDBbKGkcDqFBIBPtmsKXxb4CnS3SfxB4dkW2dZIFa9gIiZeAV+bgjsRXSW9xDd20VxayxzQTIHjljYMrqRkMCOCCOc03tZD+1dnDaX4m0n4habDq9hoGr3tvGZIgBdQx7CQVYMnnjkqe46HjrVu1ih8PTm+03wTrYkFsltthuYHCxJnaoQ3OMDJ6DPNcj4ggm+Efjr/hKNNjdvC2sShNVtowSLaUniVR9f6juMeuW88V1bR3FtIssMqB43Q5DKRkEH6ULVcy/r+v1E9HZmX4a8S2vijTHu7W3urR4pmgmtb2MRzQuvZlBOOCCOehFbFRJbQx3Es8carLMB5jgcvjpn6Vz3hvU4bbT7e0kDl5Zr2Vn42xIk75ZiTwMkD/6wNMV9bHTUVlDxBbNrkOnJHKyTWTXsd4pUwMgYAjdnOfmB6YwetVjcQ3fjDS7i1lSaCXTLh45I2DK6l4MEEdRQlr/Xn/kP+v6+83qKKKQBRRRQAUUUUAFFFFABRRRQAUUUUAFFFFABRRRQAUUUUAFFFFABRRRQAUUUUAFFFFABRRRQAUUUUAFFFFABRRRQAUUUUAFFFFABRRRQAUUUUAFFFFABRRRQAUUUUAFFFFABRRRQAUUUUAFFFFABRRRQAUUUUAFFFFABRRRQAUUUUAFFFFABRRRQAUUUUAFFFFABRRRQBy+v+F9S1nxLpWqQ6rawQ6VI8sFtJYtJudk27mYSrnGTjAHXvVDxF4X1i88P680k8GpXt1p8lrZW1pbC2SMvy5y8jZLHbkkj7vSu3ooWmw763POtatfGjalJNpdpfLBM00bRxX8YKo0ACuu59qkOM4C8EH5iDmlj0nxoLyPdLOVjnV9xuCI5V81Scr55ZCADxmRSOMDOK9Eoo21JtpY4rTNE8QXdvLZ65LJ9nuNJa1vfNm8wTXLEgyRjcdq4LcYHDKMccRLomoeJfC2i/Y9Xl0LXNFbypJUgWXZIE8uRSjcEMDkH0II613VFH9fi3+o/6/r7jgvDPwzl0C+X7V4iudR06G5a8hsXt44wLhuTI7ry/JJAOAOPQV0eirrL6JdLf3iyXhnnW2uJbXZhNxCFowRkD6jIAPetqijpYOtzkz4GRZ9IvoL5v7Usbs3NxfSx7nu9ylZFbBGARgAdF2qAOKs6LAb3xhrGuAH7O0UVjbt2kEZdnce25yv/AAE10dFAf1+v5lO70u3vZhJNJdqwGMQ3ksQ/JGA/Gm22kW1pOJopLxmAIAlvZpF/75ZyP0q9RQBX1G+i0zTLm/uQxhtYmmcIuW2qMnA7niue0fxp/aGuWWm3liLb+0rH7dYTRTGRZYxjKsCqlHG4HGCPeuluJ1trWWd1kdY0LlYkLscDOAo5J9hXEeGtQGs+Mv7Uu9I1WO9lt3jVrywmt4rKEEEIrOoDOxOWIPbjgUL4v68/6+QPb+vI7skAEk4A6muUa2h8cX0FxcwJLoVjOJrXegP2yZcgSDPSNcnH948/dxnY8Q6IviHRZtNkvruxjmwJJLNkV2XuuWVhg9+ORxWHZ+E7mW0Q23jHxNFEuUVHjtoioU4+61uCBxxx06cULcOh19V7O+tdRgaWylWaJZGjLqOCynawB74II4rhvEXhC3aGC11zxz4sWK8lW3QQyxorsxwFYxwADOf4jiuz0XSLXQdEs9K09WW2s4lij3HJIA6k+p6mhaq4dbHGaBP/AGb4V8TaY0NxLc299eFNPtMeeIXclDGhxwQ2QRx6VBoXg68vYdQg1A4sY9GXRtPZrU27FCp8xyhYkZO0ds7eBjBPpFFK2lvK34W/Vju7387/AI3/AEOMGm6l4q8IWVomrS6RJHbPZalbpArkuUCMMnBUjkqRwQwPIxUmr6BrVv4ImsNKvZpb1UhhgFkRaiNFwvy7mOCBluW5IA6cV19FU3dt9xLS3kYkX9r/APCVwbp2GnmwzPbGEFUm3DBEuAWJG4EdAADgZFcprfwsvtWurryPFtza2TX39pWtmbOORYLnOS5ZuXXJJ2cDmvRqKXW/9b3Dpb+uxyT6ZL4Y8I6gGvJtW1rUcq1xKoVrq4ZdiAKvCqABwOAoJ9TW/oumro+g2GmxnK2dvHAD67VA/pV6in3/AK2Dt/W4Vn6/pX9u+HdQ0r7Q1t9tt3gMyrkpuGM479a0KKT10Gm07o5O90bW7W40IWFzPcRwXebtYZRBEsQTAGwkkqMLxlu/c5EWoSLf/FnRYoWFxFY2N086qdywSMYwhb+6xG8DPOM12NFO+t/62sTbS39bhRRRSGUNDsJNM0S2s52RpIlIYoTg8k9/rVyaVYLeSaTOyNSzYGTgDNPpruI42dgxCgkhVLH8AOTS2Wg1uclpPj6PUdU0aCex8i216B59NuEmLl9g3MkilV2NtOeNw68119cBo+qDXfG1rqV3ourrcKJIbUXenTQRWMO0lnLugDSOVUcHgEAdCT3F7bNeWM1ulzNatKhQTwECSPPdcgjP1BqntdC62Of1hR4umn0CFQ2lIdmpz4zvIwfIT3P8TfwjgfMcr0kEEVtbxwW8axRRqFREGAoHQAVxul+CXtLZrLTvF3ia3htW8vayW6gnG4kFrf5855YE5Oec5qLX/DY0/SJbjV/HfiuG0Xh5LdogVz7xwbh9aWyDfc7KC/trm7uLWCZZJrUqJlX+AsMgE9M45x15HqK4m28L3muaRutNZk06GcXtndRpbrI0kbXEhyrE/Iw55weD06Guj8J+FbHwfon9m6bLcTo0rzST3Th5ZXY5LMwAye3TtW3Q0hK97nGXHhfWLPwrqAg1OW/1k2a29rJbotoEVPuqoDfLk8sdwz7ADGhbLOnibRVuwwmXSZxJvfe27fBnLDqfeujop31v/XX/ADC2lv66f5BWP4eGqBdRGrXL3K/bZPsryW4hYRcYXA6gNuAbuAD3rYopDCiiigAooooAKKKKACiiigAooooAKKKKACiiigAooooAKKKKACiiigAooooAKKKKACiiigAooooAKKKKACiiigAooooAKKKKACiiigAooooAKKKKACiiigAooooAKKKKACiiigAooooAKKKKACiiigAooooAKKKKACiiigAooooAKKKKACiiigAooooAKKKKACiiigAooooAKKKKACiiigAooooAKKKKACiiigAooooAralam90u6tlClpomRQ5IUkjjOOcetYuhaBqGmeG9O0+W7gWS0t1ify/NZSR3yHXP5D8BxXR0UAc3r2ianf2enxWr2sr22oRXbtNJJGCqMDtH3zk/UV0gzjnrRRQtFb+ui/QOtwooooAKKKKACiiigAooooAKKKKACiiigAooooAKKKKACgjIIPf0NFFAHLeHPDWoaPpUtpJcW0Za7mmXyjKw2u2VBO5eQOO/1JJJl8R6DqWqeE7/AEy1mt5Z7pQqtM8iKgBznJLnt2xXSUUdLAMi3+SnnKqvgbgrbgD7HAz+VPoooAKKKKACiiigAooooAKKKKACiiigAooooAKKKKACiiigAooooAKKKKACiiigAooooAKKKKACiiigAooooAKKKKACiiigAooooAKKKKACiiigAooooAKKKKACiiigAooooAKKKKACiiigAooooAKKKKACiiigAooooAKKKKACiiigAooooAKKKKACiiigAooooAKKKKACiiigAooooAKKKKACiiigAooooAKKKKACiiigAooooAKKKKACiiigAooooAKKKKACiiigAooooAKKKKACiiigAooooAKKKKACiiigAooooAKKKKACiiigAooooAKKKKACiiigAooooAKKKKACiiigAooooAKKKKACiiigAooooAKKKKACiiigAooooAKKKKACiiigD//Z)\n",
        "\n",
        "\n",
        "La primera consecuencia de esta elección de penalización es que la función de error ya no puede optimizarse (minimizarse) de manera analítica. Hay que recurrir, entonces, a diferentes algoritmos iterativos.\n",
        "\n",
        "En sklearn, existen al menos dos implementaciones:\n",
        "\n",
        "linear_model.Lasso, que usa coordinate descent para encontrar el mínimo.\n",
        "\n",
        "\n",
        "linear_model.LassoLars, que usa LARS (least angle regression), que es similar a forward stepwise regression (es decir, se empieza con los coeficientes en cero, , y se van aumentando prograsivamente."
      ],
      "metadata": {
        "id": "A30R-kr2rOby"
      }
    },
    {
      "cell_type": "code",
      "source": [
        "from sklearn.linear_model import Lasso,  LassoLars"
      ],
      "metadata": {
        "id": "vXEKSI9NspwK"
      },
      "execution_count": 21,
      "outputs": []
    },
    {
      "cell_type": "code",
      "source": [
        "\n",
        "modelo_Lars= Pipeline([ ('scaler', StandardScaler()),\n",
        "                    ('features', PolynomialFeatures(degree=5)),\n",
        "                     ('model',LassoLars(alpha=1e-07))\n",
        "])"
      ],
      "metadata": {
        "id": "Q-N4liD3sQKP"
      },
      "execution_count": 23,
      "outputs": []
    },
    {
      "cell_type": "code",
      "source": [
        "modelo_Lars.fit(x_train,y_train)"
      ],
      "metadata": {
        "colab": {
          "base_uri": "https://localhost:8080/"
        },
        "id": "_nEw9E4WtoPq",
        "outputId": "7eabd844-0c73-48b0-a843-314a0fff3ce7"
      },
      "execution_count": 24,
      "outputs": [
        {
          "output_type": "stream",
          "name": "stderr",
          "text": [
            "/usr/local/lib/python3.7/dist-packages/sklearn/linear_model/_base.py:138: FutureWarning: The default of 'normalize' will be set to False in version 1.2 and deprecated in version 1.4.\n",
            "If you wish to scale the data, use Pipeline with a StandardScaler in a preprocessing stage. To reproduce the previous behavior:\n",
            "\n",
            "from sklearn.pipeline import make_pipeline\n",
            "\n",
            "model = make_pipeline(StandardScaler(with_mean=False), LassoLars())\n",
            "\n",
            "If you wish to pass a sample_weight parameter, you need to pass it as a fit parameter to each step of the pipeline as follows:\n",
            "\n",
            "kwargs = {s[0] + '__sample_weight': sample_weight for s in model.steps}\n",
            "model.fit(X, y, **kwargs)\n",
            "\n",
            "Set parameter alpha to: original_alpha * np.sqrt(n_samples). \n",
            "  FutureWarning,\n"
          ]
        },
        {
          "output_type": "execute_result",
          "data": {
            "text/plain": [
              "Pipeline(steps=[('scaler', StandardScaler()),\n",
              "                ('features', PolynomialFeatures(degree=5)),\n",
              "                ('model', LassoLars(alpha=1e-07))])"
            ]
          },
          "metadata": {},
          "execution_count": 24
        }
      ]
    },
    {
      "cell_type": "code",
      "source": [
        "y_pred_lasso_train = modelo_Lars.predict(x_train)\n",
        "print('Precisión del modelo usando el (MSE):')\n",
        "score_train = mse(y_train,y_pred_lasso_train)\n",
        "\n",
        "print (score_train)"
      ],
      "metadata": {
        "colab": {
          "base_uri": "https://localhost:8080/"
        },
        "id": "k7p_MRD3tzo1",
        "outputId": "8ea5cacf-7c86-42ac-bb7d-11424a277ada"
      },
      "execution_count": 25,
      "outputs": [
        {
          "output_type": "stream",
          "name": "stdout",
          "text": [
            "Precisión del modelo usando el (MSE):\n",
            "0.4479309417349494\n"
          ]
        }
      ]
    },
    {
      "cell_type": "code",
      "source": [
        "y_pred_lasso_test = modelo_Lars.predict(x_test)\n",
        "print('Precisión del modelo usando el (MSE):')\n",
        "score_train = mse(y_test,y_pred_lasso_test)\n",
        "\n",
        "print (score_train)"
      ],
      "metadata": {
        "colab": {
          "base_uri": "https://localhost:8080/"
        },
        "id": "6omDKRCmuPP7",
        "outputId": "85197be4-8f7f-4ec4-dd26-953af50cf1f5"
      },
      "execution_count": 27,
      "outputs": [
        {
          "output_type": "stream",
          "name": "stdout",
          "text": [
            "Precisión del modelo usando el (MSE):\n",
            "0.48652897734122325\n"
          ]
        }
      ]
    }
  ]
}