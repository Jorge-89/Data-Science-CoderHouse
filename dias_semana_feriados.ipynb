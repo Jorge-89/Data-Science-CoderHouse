{
  "nbformat": 4,
  "nbformat_minor": 0,
  "metadata": {
    "colab": {
      "name": "Untitled66.ipynb",
      "provenance": [],
      "authorship_tag": "ABX9TyOlMbLWYQBdLJ1HQzMue/Pg",
      "include_colab_link": true
    },
    "kernelspec": {
      "name": "python3",
      "display_name": "Python 3"
    },
    "language_info": {
      "name": "python"
    }
  },
  "cells": [
    {
      "cell_type": "markdown",
      "metadata": {
        "id": "view-in-github",
        "colab_type": "text"
      },
      "source": [
        "<a href=\"https://colab.research.google.com/github/Jorge-89/Data-Science-CoderHouse/blob/main/dias_semana_feriados.ipynb\" target=\"_parent\"><img src=\"https://colab.research.google.com/assets/colab-badge.svg\" alt=\"Open In Colab\"/></a>"
      ]
    },
    {
      "cell_type": "code",
      "execution_count": 3,
      "metadata": {
        "colab": {
          "base_uri": "https://localhost:8080/"
        },
        "id": "StUk4LffFfIG",
        "outputId": "ffa69bc7-aad9-4e10-f057-b63e9eb8d970"
      },
      "outputs": [
        {
          "output_type": "stream",
          "name": "stdout",
          "text": [
            "Collecting workalendar\n",
            "  Downloading workalendar-16.3.0-py3-none-any.whl (208 kB)\n",
            "\u001b[K     |████████████████████████████████| 208 kB 17.3 MB/s \n",
            "\u001b[?25hRequirement already satisfied: importlib-metadata in /usr/local/lib/python3.7/dist-packages (from workalendar) (4.11.2)\n",
            "Collecting backports.zoneinfo\n",
            "  Downloading backports.zoneinfo-0.2.1-cp37-cp37m-manylinux1_x86_64.whl (70 kB)\n",
            "\u001b[K     |████████████████████████████████| 70 kB 7.8 MB/s \n",
            "\u001b[?25hCollecting lunardate\n",
            "  Downloading lunardate-0.2.0-py3-none-any.whl (5.6 kB)\n",
            "Requirement already satisfied: python-dateutil in /usr/local/lib/python3.7/dist-packages (from workalendar) (2.8.2)\n",
            "Requirement already satisfied: convertdate in /usr/local/lib/python3.7/dist-packages (from workalendar) (2.4.0)\n",
            "Collecting pyluach\n",
            "  Downloading pyluach-1.4.0-py3-none-any.whl (18 kB)\n",
            "Requirement already satisfied: pymeeus<=1,>=0.3.13 in /usr/local/lib/python3.7/dist-packages (from convertdate->workalendar) (0.5.11)\n",
            "Requirement already satisfied: zipp>=0.5 in /usr/local/lib/python3.7/dist-packages (from importlib-metadata->workalendar) (3.7.0)\n",
            "Requirement already satisfied: typing-extensions>=3.6.4 in /usr/local/lib/python3.7/dist-packages (from importlib-metadata->workalendar) (3.10.0.2)\n",
            "Requirement already satisfied: six>=1.5 in /usr/local/lib/python3.7/dist-packages (from python-dateutil->workalendar) (1.15.0)\n",
            "Installing collected packages: pyluach, lunardate, backports.zoneinfo, workalendar\n",
            "Successfully installed backports.zoneinfo-0.2.1 lunardate-0.2.0 pyluach-1.4.0 workalendar-16.3.0\n"
          ]
        }
      ],
      "source": [
        "pip install workalendar"
      ]
    },
    {
      "cell_type": "code",
      "source": [
        "from workalendar.america import Argentina\n",
        "from collections import Counter\n",
        "import calendar"
      ],
      "metadata": {
        "id": "0wLdFVmXFojz"
      },
      "execution_count": 1,
      "outputs": []
    },
    {
      "cell_type": "code",
      "source": [
        "cal = Argentina()\n",
        "\n"
      ],
      "metadata": {
        "id": "LgfVr_tpFocy"
      },
      "execution_count": 2,
      "outputs": []
    },
    {
      "cell_type": "code",
      "source": [
        "lista=[]\n",
        "for i in range(len(cal.holidays(2022))):\n",
        "    curr_date = cal.holidays(2022)[i][0]\n",
        "    lista.append((calendar.day_name[curr_date.weekday()]))\n",
        "\n",
        "\n",
        "dias= Counter(lista)\n",
        "print(dias)\n",
        "\n"
      ],
      "metadata": {
        "colab": {
          "base_uri": "https://localhost:8080/"
        },
        "id": "BzyLoUtwHzZ7",
        "outputId": "577a6464-4fb9-461e-c3dd-5e15562f85f7"
      },
      "execution_count": 3,
      "outputs": [
        {
          "output_type": "stream",
          "name": "stdout",
          "text": [
            "Counter({'Monday': 5, 'Saturday': 4, 'Sunday': 3, 'Thursday': 2, 'Friday': 2, 'Tuesday': 1, 'Wednesday': 1})\n"
          ]
        }
      ]
    }
  ]
}