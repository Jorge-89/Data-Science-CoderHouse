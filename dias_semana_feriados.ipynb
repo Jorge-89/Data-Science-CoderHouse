{
  "nbformat": 4,
  "nbformat_minor": 0,
  "metadata": {
    "colab": {
      "name": "Untitled66.ipynb",
      "provenance": [],
      "authorship_tag": "ABX9TyMgsH6RL+5eGKud6Ne+DgK9",
      "include_colab_link": true
    },
    "kernelspec": {
      "name": "python3",
      "display_name": "Python 3"
    },
    "language_info": {
      "name": "python"
    }
  },
  "cells": [
    {
      "cell_type": "markdown",
      "metadata": {
        "id": "view-in-github",
        "colab_type": "text"
      },
      "source": [
        "<a href=\"https://colab.research.google.com/github/Jorge-89/Data-Science-CoderHouse/blob/main/dias_semana_feriados.ipynb\" target=\"_parent\"><img src=\"https://colab.research.google.com/assets/colab-badge.svg\" alt=\"Open In Colab\"/></a>"
      ]
    },
    {
      "cell_type": "code",
      "execution_count": 1,
      "metadata": {
        "colab": {
          "base_uri": "https://localhost:8080/"
        },
        "id": "StUk4LffFfIG",
        "outputId": "1c244ad0-a2e7-4d7b-b812-81c24bf95a09"
      },
      "outputs": [
        {
          "output_type": "stream",
          "name": "stdout",
          "text": [
            "Collecting workalendar\n",
            "  Downloading workalendar-16.3.0-py3-none-any.whl (208 kB)\n",
            "\u001b[?25l\r\u001b[K     |█▋                              | 10 kB 24.0 MB/s eta 0:00:01\r\u001b[K     |███▏                            | 20 kB 28.0 MB/s eta 0:00:01\r\u001b[K     |████▊                           | 30 kB 33.3 MB/s eta 0:00:01\r\u001b[K     |██████▎                         | 40 kB 29.1 MB/s eta 0:00:01\r\u001b[K     |███████▉                        | 51 kB 24.0 MB/s eta 0:00:01\r\u001b[K     |█████████▍                      | 61 kB 27.0 MB/s eta 0:00:01\r\u001b[K     |███████████                     | 71 kB 25.5 MB/s eta 0:00:01\r\u001b[K     |████████████▋                   | 81 kB 26.8 MB/s eta 0:00:01\r\u001b[K     |██████████████▏                 | 92 kB 28.9 MB/s eta 0:00:01\r\u001b[K     |███████████████▊                | 102 kB 27.1 MB/s eta 0:00:01\r\u001b[K     |█████████████████▎              | 112 kB 27.1 MB/s eta 0:00:01\r\u001b[K     |██████████████████▉             | 122 kB 27.1 MB/s eta 0:00:01\r\u001b[K     |████████████████████▍           | 133 kB 27.1 MB/s eta 0:00:01\r\u001b[K     |██████████████████████          | 143 kB 27.1 MB/s eta 0:00:01\r\u001b[K     |███████████████████████▌        | 153 kB 27.1 MB/s eta 0:00:01\r\u001b[K     |█████████████████████████▏      | 163 kB 27.1 MB/s eta 0:00:01\r\u001b[K     |██████████████████████████▊     | 174 kB 27.1 MB/s eta 0:00:01\r\u001b[K     |████████████████████████████▎   | 184 kB 27.1 MB/s eta 0:00:01\r\u001b[K     |█████████████████████████████▉  | 194 kB 27.1 MB/s eta 0:00:01\r\u001b[K     |███████████████████████████████▍| 204 kB 27.1 MB/s eta 0:00:01\r\u001b[K     |████████████████████████████████| 208 kB 27.1 MB/s \n",
            "\u001b[?25hRequirement already satisfied: python-dateutil in /usr/local/lib/python3.7/dist-packages (from workalendar) (2.8.2)\n",
            "Collecting lunardate\n",
            "  Downloading lunardate-0.2.0-py3-none-any.whl (5.6 kB)\n",
            "Requirement already satisfied: convertdate in /usr/local/lib/python3.7/dist-packages (from workalendar) (2.4.0)\n",
            "Requirement already satisfied: importlib-metadata in /usr/local/lib/python3.7/dist-packages (from workalendar) (4.11.2)\n",
            "Collecting pyluach\n",
            "  Downloading pyluach-1.4.0-py3-none-any.whl (18 kB)\n",
            "Collecting backports.zoneinfo\n",
            "  Downloading backports.zoneinfo-0.2.1-cp37-cp37m-manylinux1_x86_64.whl (70 kB)\n",
            "\u001b[K     |████████████████████████████████| 70 kB 7.9 MB/s \n",
            "\u001b[?25hRequirement already satisfied: pymeeus<=1,>=0.3.13 in /usr/local/lib/python3.7/dist-packages (from convertdate->workalendar) (0.5.11)\n",
            "Requirement already satisfied: typing-extensions>=3.6.4 in /usr/local/lib/python3.7/dist-packages (from importlib-metadata->workalendar) (3.10.0.2)\n",
            "Requirement already satisfied: zipp>=0.5 in /usr/local/lib/python3.7/dist-packages (from importlib-metadata->workalendar) (3.7.0)\n",
            "Requirement already satisfied: six>=1.5 in /usr/local/lib/python3.7/dist-packages (from python-dateutil->workalendar) (1.15.0)\n",
            "Installing collected packages: pyluach, lunardate, backports.zoneinfo, workalendar\n",
            "Successfully installed backports.zoneinfo-0.2.1 lunardate-0.2.0 pyluach-1.4.0 workalendar-16.3.0\n"
          ]
        }
      ],
      "source": [
        "pip install workalendar"
      ]
    },
    {
      "cell_type": "code",
      "source": [
        "from workalendar.america import Argentina\n",
        "from collections import Counter"
      ],
      "metadata": {
        "id": "0wLdFVmXFojz"
      },
      "execution_count": 2,
      "outputs": []
    },
    {
      "cell_type": "code",
      "source": [
        "cal = Argentina()\n",
        "cal.holidays(2022)[1][0]\n"
      ],
      "metadata": {
        "colab": {
          "base_uri": "https://localhost:8080/"
        },
        "id": "LgfVr_tpFocy",
        "outputId": "de4e6ccb-2e3e-4934-d617-c3516c19e8d4"
      },
      "execution_count": 17,
      "outputs": [
        {
          "output_type": "execute_result",
          "data": {
            "text/plain": [
              "datetime.date(2022, 2, 28)"
            ]
          },
          "metadata": {},
          "execution_count": 17
        }
      ]
    },
    {
      "cell_type": "code",
      "source": [
        "lista=[]\n",
        "for i in range(len(cal.holidays(2022))):\n",
        "    curr_date = cal.holidays(2022)[i][0]\n",
        "    lista.append((calendar.day_name[curr_date.weekday()]))\n",
        "\n",
        "\n",
        "dias= Counter(lista)\n",
        "print(dias)\n",
        "\n"
      ],
      "metadata": {
        "colab": {
          "base_uri": "https://localhost:8080/"
        },
        "id": "BzyLoUtwHzZ7",
        "outputId": "8f6a0e60-906d-4d01-c13a-23a911d029fe"
      },
      "execution_count": 24,
      "outputs": [
        {
          "output_type": "stream",
          "name": "stdout",
          "text": [
            "Counter({'Monday': 5, 'Saturday': 4, 'Sunday': 3, 'Thursday': 2, 'Friday': 2, 'Tuesday': 1, 'Wednesday': 1})\n"
          ]
        }
      ]
    }
  ]
}