{
  "nbformat": 4,
  "nbformat_minor": 0,
  "metadata": {
    "colab": {
      "name": "Untitled49.ipynb",
      "provenance": [],
      "authorship_tag": "ABX9TyNSPFvwIeHyrqPE7WuYM51X",
      "include_colab_link": true
    },
    "kernelspec": {
      "name": "python3",
      "display_name": "Python 3"
    },
    "language_info": {
      "name": "python"
    }
  },
  "cells": [
    {
      "cell_type": "markdown",
      "metadata": {
        "id": "view-in-github",
        "colab_type": "text"
      },
      "source": [
        "<a href=\"https://colab.research.google.com/github/Jorge-89/Data-Science-CoderHouse/blob/main/request.ipynb\" target=\"_parent\"><img src=\"https://colab.research.google.com/assets/colab-badge.svg\" alt=\"Open In Colab\"/></a>"
      ]
    },
    {
      "cell_type": "code",
      "source": [
        "import requests\n",
        "\n",
        "# URL\n",
        "url = 'http://localhost:5000/predict_api'\n",
        "\n",
        "# Change the value of experience that you want to test\n",
        "payload = {'exp':1.8,'b':10,'c':12,'d':45,'e':4,'f':12,'xx':36,'YY':11}\n",
        "\n",
        "r = requests.post(url,json=payload)\n",
        "\n",
        "print(r.json())"
      ],
      "metadata": {
        "id": "GNsU2FsjtLyh"
      },
      "execution_count": null,
      "outputs": []
    }
  ]
}