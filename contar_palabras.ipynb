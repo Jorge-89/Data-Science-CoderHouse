{
  "nbformat": 4,
  "nbformat_minor": 0,
  "metadata": {
    "colab": {
      "name": "Untitled68.ipynb",
      "provenance": [],
      "authorship_tag": "ABX9TyOT2M3vTNMFYSBa/GOpr1br",
      "include_colab_link": true
    },
    "kernelspec": {
      "name": "python3",
      "display_name": "Python 3"
    },
    "language_info": {
      "name": "python"
    }
  },
  "cells": [
    {
      "cell_type": "markdown",
      "metadata": {
        "id": "view-in-github",
        "colab_type": "text"
      },
      "source": [
        "<a href=\"https://colab.research.google.com/github/Jorge-89/Data-Science-CoderHouse/blob/main/contar_palabras.ipynb\" target=\"_parent\"><img src=\"https://colab.research.google.com/assets/colab-badge.svg\" alt=\"Open In Colab\"/></a>"
      ]
    },
    {
      "cell_type": "code",
      "execution_count": 5,
      "metadata": {
        "id": "v3XhuPh0xO0-"
      },
      "outputs": [],
      "source": [
        "cadena= \"Hola, como estas, hola. Amigo estas bien\""
      ]
    },
    {
      "cell_type": "code",
      "source": [
        "output=cadena.split(' ')\n",
        "output"
      ],
      "metadata": {
        "colab": {
          "base_uri": "https://localhost:8080/"
        },
        "id": "ES8DwjoLxQ1Z",
        "outputId": "8e57bada-6939-41a2-9527-81e64ffa92bb"
      },
      "execution_count": 6,
      "outputs": [
        {
          "output_type": "execute_result",
          "data": {
            "text/plain": [
              "['Hola,', 'como', 'estas,', 'hola.', 'Amigo', 'estas', 'bien']"
            ]
          },
          "metadata": {},
          "execution_count": 6
        }
      ]
    },
    {
      "cell_type": "code",
      "source": [
        "def contar(lista):\n",
        "\n",
        "    dic={}\n",
        "\n",
        "    for i in lista:\n",
        "        i=i.lower()\n",
        "        if i[-1]==\",\" or i[-1]==\".\":\n",
        "            i=i.replace(i,i[:-1])\n",
        "        if i in dic:\n",
        "            dic[i]+=1\n",
        "        else:\n",
        "            dic[i]=1\n",
        "    return dic"
      ],
      "metadata": {
        "id": "gM5KcjHqxTnc"
      },
      "execution_count": 7,
      "outputs": []
    },
    {
      "cell_type": "code",
      "source": [
        "contar(output)"
      ],
      "metadata": {
        "colab": {
          "base_uri": "https://localhost:8080/"
        },
        "id": "VwfSSTaDxUVk",
        "outputId": "16c1ed6f-51e4-4d4d-caa4-c3815a52c376"
      },
      "execution_count": 8,
      "outputs": [
        {
          "output_type": "execute_result",
          "data": {
            "text/plain": [
              "{'amigo': 1, 'bien': 1, 'como': 1, 'estas': 2, 'hola': 2}"
            ]
          },
          "metadata": {},
          "execution_count": 8
        }
      ]
    }
  ]
}