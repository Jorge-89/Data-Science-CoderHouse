{
  "nbformat": 4,
  "nbformat_minor": 0,
  "metadata": {
    "colab": {
      "name": "Untitled37.ipynb",
      "provenance": [],
      "authorship_tag": "ABX9TyMePaOtYn2nGcpFXVA4xQ1e",
      "include_colab_link": true
    },
    "kernelspec": {
      "name": "python3",
      "display_name": "Python 3"
    },
    "language_info": {
      "name": "python"
    }
  },
  "cells": [
    {
      "cell_type": "markdown",
      "metadata": {
        "id": "view-in-github",
        "colab_type": "text"
      },
      "source": [
        "<a href=\"https://colab.research.google.com/github/Jorge-89/Data-Science-CoderHouse/blob/main/After_python_basico2.ipynb\" target=\"_parent\"><img src=\"https://colab.research.google.com/assets/colab-badge.svg\" alt=\"Open In Colab\"/></a>"
      ]
    },
    {
      "cell_type": "markdown",
      "metadata": {
        "id": "EGwlI059Uj5b"
      },
      "source": [
        "Ejercicio 1) Construir una función que permita calcular el volumen de un cilindro, el programa debe permitir que el usuario pueda ingresar la altura y el radio, si uno de estos valores es negativo debe ser notificado por pantalla del error cometido\n",
        "."
      ]
    },
    {
      "cell_type": "code",
      "metadata": {
        "colab": {
          "base_uri": "https://localhost:8080/"
        },
        "id": "8i9Q9THU2Xjp",
        "outputId": "7d0b2742-aca4-4379-de62-321110b0a7f8"
      },
      "source": [
        "def volumen():\n",
        "    h=float(input(\"ingrese el valor de la altura: \"))\n",
        "    r= float(input(\"ingrese el valor del radio: \"))\n",
        "    if r <0 or h <0:\n",
        "        print(\"ha ingresado uno o dos valores negativo, revise los datos nuevamente\")\n",
        "    else:\n",
        "        print(\"El volumen de la esfera es: \", r**2*h*3.14)\n",
        "\n",
        "\n",
        "volumen()"
      ],
      "execution_count": 112,
      "outputs": [
        {
          "output_type": "stream",
          "name": "stdout",
          "text": [
            "ingrese el valor de la altura: -5\n",
            "ingrese el valor del radio: -2\n",
            "ha ingresado uno o dos valores negativo, revise los datos nuevamente\n"
          ]
        }
      ]
    },
    {
      "cell_type": "markdown",
      "source": [
        "Ejercicio 2) Construir una función que permita convertir de °F a °C"
      ],
      "metadata": {
        "id": "vmvvDZ7ksoWi"
      }
    },
    {
      "cell_type": "code",
      "source": [
        "def fahrenheit_a_celsius(fahrenheit):\n",
        "    celsius = (fahrenheit - 32) * 5/9\n",
        "    return celsius"
      ],
      "metadata": {
        "id": "1lRI8grQs3qV"
      },
      "execution_count": 116,
      "outputs": []
    },
    {
      "cell_type": "code",
      "source": [
        "# Convertir 88°F a °C\n",
        "celsius = fahrenheit_a_celsius(88)\n",
        "print(celsius)"
      ],
      "metadata": {
        "id": "zAKNDubMtGbF",
        "outputId": "385e7b9e-dfff-4927-e750-1e5105bf2d47",
        "colab": {
          "base_uri": "https://localhost:8080/"
        }
      },
      "execution_count": 117,
      "outputs": [
        {
          "output_type": "stream",
          "name": "stdout",
          "text": [
            "31.11111111111111\n"
          ]
        }
      ]
    },
    {
      "cell_type": "code",
      "metadata": {
        "colab": {
          "base_uri": "https://localhost:8080/"
        },
        "id": "qioYfr92Yq6O",
        "outputId": "5f6e3a15-a1b3-49ea-cd21-922c5a0fccaf"
      },
      "source": [
        "#ejercicio 3\n",
        "#Escribir una función para calcular la suma de una serie comenzando por un número cualquiera y \n",
        "#terminando en otro número que debe ser mayor al primero.\n",
        "def suma():\n",
        "    x = int(input(\"ingrese el menor valor de la serie: \"))\n",
        "    y=  int(input(\"ingrese el mayor valor de la serie: \"))\n",
        "    contador=0\n",
        "    \n",
        "    while x>y:\n",
        "        x = int(input(\"ingrese el menor valor de la serie: \"))\n",
        "        y=  int(input(\"ingrese el mayor valor de la serie: \"))\n",
        "    \n",
        "    for i in range(x,y+1):\n",
        "        contador+=i\n",
        "    print(\"La sumatoria es: \", contador)\n",
        "    \n",
        "suma()"
      ],
      "execution_count": 100,
      "outputs": [
        {
          "output_type": "stream",
          "name": "stdout",
          "text": [
            "ingrese el menor valor de la serie: 2\n",
            "ingrese el mayor valor de la serie: 1\n",
            "ingrese el menor valor de la serie: 5\n",
            "ingrese el mayor valor de la serie: 10\n",
            "La sumatoria es:  45\n"
          ]
        }
      ]
    },
    {
      "cell_type": "code",
      "metadata": {
        "id": "CERw4SoiAW4i"
      },
      "source": [
        "# ejercicio 4\n",
        "#Escribir una función para calcular el factorial de un número cualquiera.\n",
        "def factorial_while(n):\n",
        "    fact=1\n",
        "    while n>0:\n",
        "        fact*=n\n",
        "        n-=1\n",
        "    return fact\n",
        "\n",
        "       \n",
        "   \n",
        "def factorial_for(n):\n",
        "    fact=1\n",
        "    for i in range(1, n+1):\n",
        "        fact*=i\n",
        "    return fact\n",
        "\n",
        "\n"
      ],
      "execution_count": 101,
      "outputs": []
    },
    {
      "cell_type": "code",
      "metadata": {
        "colab": {
          "base_uri": "https://localhost:8080/"
        },
        "id": "jcUp4nTPAh_4",
        "outputId": "003f6783-d17b-4500-9e66-2ee0778591f2"
      },
      "source": [
        "factorial_while(10)"
      ],
      "execution_count": 104,
      "outputs": [
        {
          "output_type": "execute_result",
          "data": {
            "text/plain": [
              "3628800"
            ]
          },
          "metadata": {},
          "execution_count": 104
        }
      ]
    },
    {
      "cell_type": "markdown",
      "metadata": {
        "id": "m-LYrb9T2YI9"
      },
      "source": [
        "\n",
        "\n",
        "Ejercicio 5) Una pelota de goma cada vez que es arrojada desde una altura entre 10 y 1000 metros cuando toca el piso salta 3/5 de la altura desde la que cayó. Escribí un programa  que imprima  las alturas que alcanza en cada uno de sus rebotes con 1 decimal y guardelo en una lista. El usuario debe poder ingresar los rebotes y la altura."
      ]
    },
    {
      "cell_type": "code",
      "metadata": {
        "id": "KD84exzq5Xxq"
      },
      "source": [
        "def pelota(rebotes,altura):\n",
        "    lista= []\n",
        "    \n",
        "    for i in range(rebotes):\n",
        "        nueva_altura=round(altura*3/5,1)\n",
        "        altura=altura*3/5\n",
        "        lista.append(nueva_altura)\n",
        "    return lista\n",
        "\n",
        "  "
      ],
      "execution_count": 113,
      "outputs": []
    }
  ]
}