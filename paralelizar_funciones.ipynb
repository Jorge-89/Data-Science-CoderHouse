{
 "cells": [
  {
   "cell_type": "code",
   "execution_count": 1,
   "id": "b9bcb91c",
   "metadata": {},
   "outputs": [],
   "source": [
    "from joblib import Parallel, delayed\n",
    "import time\n",
    "import numpy\n",
    "import random\n",
    "import requests\n"
   ]
  },
  {
   "cell_type": "code",
   "execution_count": 2,
   "id": "1782c117",
   "metadata": {},
   "outputs": [],
   "source": [
    "def consultar_api():\n",
    "    \n",
    "    pokemon_name = \"pikachu\"\n",
    "    url = f\"https://pokeapi.co/api/v2/pokemon/{pokemon_name}\"\n",
    "\n",
    "    response = requests.get(url)\n",
    "    data = response.json()\n",
    "        \n",
    "        # Extraer información del Pokémon Pikachu\n",
    "    name = data[\"name\"]\n",
    "\n",
    "   \n",
    "    \n",
    "    return name"
   ]
  },
  {
   "cell_type": "code",
   "execution_count": 3,
   "id": "5b058e39",
   "metadata": {},
   "outputs": [],
   "source": [
    "\n",
    "# Without using parallel\n",
    "num_iterations =50\n",
    "results_sequential = []\n",
    "\n",
    "start = time.time()\n",
    "for _ in range(num_iterations):\n",
    "    result = consultar_api()\n",
    "    results_sequential.append(result)\n",
    "    \n",
    "results_sequential\n",
    "end = time.time()\n",
    "time_sequential= end - start\n",
    " \n",
    "# Using parallel\n",
    "start = time.time()\n",
    "results_parallel = Parallel(n_jobs=-1)(delayed(consultar_api)() for _ in range(num_iterations))\n",
    "end = time.time()\n",
    "time_parallel = end - start"
   ]
  },
  {
   "cell_type": "code",
   "execution_count": 4,
   "id": "b851376b",
   "metadata": {},
   "outputs": [
    {
     "data": {
      "text/plain": [
       "34.83599376678467"
      ]
     },
     "execution_count": 4,
     "metadata": {},
     "output_type": "execute_result"
    }
   ],
   "source": [
    "time_sequential"
   ]
  },
  {
   "cell_type": "code",
   "execution_count": 5,
   "id": "607761d7",
   "metadata": {},
   "outputs": [
    {
     "data": {
      "text/plain": [
       "9.204481601715088"
      ]
     },
     "execution_count": 5,
     "metadata": {},
     "output_type": "execute_result"
    }
   ],
   "source": [
    "time_parallel"
   ]
  },
  {
   "cell_type": "code",
   "execution_count": 6,
   "id": "d98d39ef",
   "metadata": {},
   "outputs": [
    {
     "data": {
      "text/plain": [
       "True"
      ]
     },
     "execution_count": 6,
     "metadata": {},
     "output_type": "execute_result"
    }
   ],
   "source": [
    "len(results_sequential)==len(results_parallel )"
   ]
  },
  {
   "cell_type": "code",
   "execution_count": 7,
   "id": "d5c235c5",
   "metadata": {},
   "outputs": [
    {
     "data": {
      "text/plain": [
       "'Paralelizar las consultas de las API es una excelente idea, en este caso el tiempo se redujo en 73.6%'"
      ]
     },
     "execution_count": 7,
     "metadata": {},
     "output_type": "execute_result"
    }
   ],
   "source": [
    "f\"Paralelizar las consultas de las API es una excelente idea, en este caso el tiempo se redujo en {round(100-time_parallel*100/time_sequential,1) }%\""
   ]
  },
  {
   "cell_type": "code",
   "execution_count": null,
   "id": "338187a2",
   "metadata": {},
   "outputs": [],
   "source": []
  }
 ],
 "metadata": {
  "kernelspec": {
   "display_name": "Python 3 (ipykernel)",
   "language": "python",
   "name": "python3"
  },
  "language_info": {
   "codemirror_mode": {
    "name": "ipython",
    "version": 3
   },
   "file_extension": ".py",
   "mimetype": "text/x-python",
   "name": "python",
   "nbconvert_exporter": "python",
   "pygments_lexer": "ipython3",
   "version": "3.9.12"
  }
 },
 "nbformat": 4,
 "nbformat_minor": 5
}
